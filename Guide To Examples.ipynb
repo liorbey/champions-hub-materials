{
 "cells": [
  {
   "cell_type": "markdown",
   "id": "30ac4d10",
   "metadata": {},
   "source": [
    "# Guide to Examples\n",
    "\n",
    "We have assembled a handful of notebooks that demonstrate just a fraction of the possibilities of the Lumin Workspaces. Within these files are examples for how to request data from Lumin, how to import data from elsewhere on the web, plus a few ways to analyze and display data that mirror some of the visuals available in Lumin.  \n",
    "\n",
    "The examples are in both R and Python.  \n",
    "\n",
    "### R Notebooks:  \n",
    "| File Name | Topics covered |  \n",
    "| :--- | :--- |  \n",
    "| starter_R.ipynb | Requesting data from Lumin: request parameters and options |  \n",
    "| CCLE_heatmap_in_R.ipynb | Importing data from the Broad Institute's depmap portal, hierarchical clustering |  \n",
    "| dge_pathways_R.ipynb | Requesting data from Lumin, Gene set enrichment analysis, ggplot2 |  \n",
    "| dge_cancer_types_R.ipynb | Requesting data from Lumin, Boxplots |  \n",
    "| GSVA_KEGG_Pathways_in_R.ipynb | Importing pathways from MSigDB, requesting big data sets from Lumin, GSVA analysis, DGE with limma |  \n",
    "| omics_correlation_gene-gene_R.ipynb | gene:gene correlation and plotting |  \n",
    "| Sensitivity_Profiles_With_Achilles_Data_in_R.ipynb | Importing data from the Broad Institute's depmap portal, static plotting |  \n",
    "| t-SNE_R.ipynb | Requesting data from Lumin, t-SNE analysis |  \n",
    "\n",
    "### Python Notebooks \n",
    "| File Name | Topics covered |  \n",
    "| :--- | :--- |  \n",
    "| workspaces_101.ipynb | Installing python dependencies |  \n",
    "| starter_Python.ipynb | Requesting data from Lumin |  \n",
    "| Interactive_Heatmap_in_Python.ipynb | Enabling interactive widgets,  requesting data from Lumin, creating clustered heatmaps |  \n"
   ]
  }
 ],
 "metadata": {
  "kernelspec": {
   "display_name": "Python 3 (ipykernel)",
   "language": "python",
   "name": "python3"
  },
  "language_info": {
   "codemirror_mode": {
    "name": "ipython",
    "version": 3
   },
   "file_extension": ".py",
   "mimetype": "text/x-python",
   "name": "python",
   "nbconvert_exporter": "python",
   "pygments_lexer": "ipython3",
   "version": "3.8.12"
  }
 },
 "nbformat": 4,
 "nbformat_minor": 5
}
