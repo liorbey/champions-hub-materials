{
 "cells": [
  {
   "cell_type": "markdown",
   "id": "1720c511",
   "metadata": {},
   "source": [
    "# WGCNA\n",
    "\n",
    "+ Author: Margaret Paiva\n",
    "+ Date: 2021-12-11"
   ]
  },
  {
   "cell_type": "code",
   "execution_count": 5,
   "id": "fa657ddf",
   "metadata": {},
   "outputs": [],
   "source": [
    "suppressWarnings(require('pkgmaker',quietly = T))\n",
    "require('plyr',quietly = T)\n",
    "l_ply(c('dplyr',\n",
    "        'data.table',\n",
    "        'tidyr',  \n",
    "        'tibble',\n",
    "        'jsonlite', \n",
    "        'rjson',\n",
    "        'httr',\n",
    "        'WGCNA', \n",
    "        'cluster'), function(pkg) {\n",
    "          invisible(capture.output(irequire(pkg, quiet = T, autoinstall = T)))\n",
    "        })"
   ]
  },
  {
   "cell_type": "code",
   "execution_count": 31,
   "id": "008c94dd",
   "metadata": {},
   "outputs": [
    {
     "name": "stdout",
     "output_type": "stream",
     "text": [
      "Allowing multi-threading with up to 8 threads.\n"
     ]
    }
   ],
   "source": [
    "allowWGCNAThreads()   \n",
    "options(stringsAsFactors = FALSE)"
   ]
  },
  {
   "cell_type": "markdown",
   "id": "8f6e074b",
   "metadata": {},
   "source": [
    "## Expression data\n",
    "\n",
    "Uncomment the following code to download a set of data."
   ]
  },
  {
   "cell_type": "code",
   "execution_count": null,
   "id": "9fc1512d",
   "metadata": {},
   "outputs": [],
   "source": [
    "# # In \"gene_list.csv\", define a list of genes of interest\n",
    "# gene_list  <- as.list(read.csv(\"gene_list.csv\")$x)\n",
    "\n",
    "# # Define the data to query from API\n",
    "# data  <- list(\"request_data_type\" = \"expression\",\n",
    "#               # If only pathway enrichment analysis is needed, you may request only one cancer type\n",
    "#               # to see what pathways are enriched for a specific cancer type\n",
    "#   \"request_cancer_type\" = c(\"Renal cell carcinoma\", \"Prostate\", \"Adenoid cystic carcinoma\", \"Breast\", \n",
    "#                             \"Thyroid\", \"Testicular\", \"Hepatocellular carcinoma\", \"Melanoma\"),\n",
    "# #   \"request_genes\" = c(\"ATM\", \"BRCA1\", \"BRCA2\", \"BRIP1\", \"CDK12\", \"FANCA\", \"HDAC2\", \"KRAS\", \n",
    "# #                       \"PALB2\", \"SRY\", \"TP53\", \"NOTCH1\", \"CCND1\", \"BARD1\", \"FBLN2\", \"CDKN1B\", \n",
    "# #                       \"RB1\", \"CHEK2\", \"APOBEC3B\", \"PALB2\"),  # to define a list of genes here\n",
    "#   \"request_genes\" = gene_list,  # if a list of genes is defined in a file\n",
    "#   \"request_dataset\" = \"PDX\",\n",
    "#   \"request_key\" = \"---\",  # enter your token here\n",
    "#   \"request_client\" = 99,\n",
    "#   \"request_user\" = 1234,  # enter your user id here\n",
    "#   \"request_workspace_id\" = \"1234-99\",  # enter your user id \"XXXX-99\"\n",
    "#   \"request_mode\" = 'true')\n",
    "\n",
    "# # Request data from API - this may take some time\n",
    "# request  <-  POST(url = 'https://lumin-fast-api.championsoncology.com/WS', \n",
    "#                   body = data, encode = 'json')\n",
    "# request\n",
    "# # A successful request will give \"Status: 200\""
   ]
  },
  {
   "cell_type": "code",
   "execution_count": null,
   "id": "1f05757f",
   "metadata": {},
   "outputs": [],
   "source": [
    "# # This will save the data file as a .json file in your root directory\n",
    "# response <- content(request)\n",
    "# response"
   ]
  },
  {
   "cell_type": "code",
   "execution_count": 3,
   "id": "68cfd397",
   "metadata": {},
   "outputs": [],
   "source": [
    "# After downloading the data, use the following to read them in.\n",
    "# Enter the file name of the .json file in your root directory below\n",
    "lt  <-  fromJSON(file = \"./data/requested_data---19-10-2021---20_44_20.json\")"
   ]
  },
  {
   "cell_type": "code",
   "execution_count": 16,
   "id": "3fe99cf6",
   "metadata": {},
   "outputs": [
    {
     "data": {
      "text/html": [
       "<table>\n",
       "<thead><tr><th scope=col>v1</th><th scope=col>gene_id</th><th scope=col>log.rsem.rpkm</th><th scope=col>log.tpm</th><th scope=col>z</th><th scope=col>fold</th><th scope=col>trans</th><th scope=col>model</th><th scope=col>sort_key</th><th scope=col>gene</th><th scope=col>model_name</th><th scope=col>tumor_type</th></tr></thead>\n",
       "<tbody>\n",
       "\t<tr><td>19463231                                                                                   </td><td>ENSG00000005187                                                                            </td><td>2.03154538924124                                                                           </td><td>2.7411490                                                                                  </td><td>-0.169317194943646                                                                         </td><td>0.876569685689051                                                                          </td><td>ENST00000440284:49.26% ENST00000567387:17.78% ENST00000501740:11.52% ENST00000289416:10.09%</td><td>CTG-3501                                                                                   </td><td>CTG-3501_Expression_1                                                                      </td><td>ACSM3                                                                                      </td><td>CTG-3501                                                                                   </td><td>Breast                                                                                     </td></tr>\n",
       "\t<tr><td>19463234                                    </td><td>ENSG00000005243                             </td><td>0.43494348437293                            </td><td>0.7995996                                   </td><td>-0.994615041230675                          </td><td>0.185174375597962                           </td><td>ENST00000006101:78.76% ENST00000579263:20.8%</td><td>CTG-3501                                    </td><td>CTG-3501_Expression_1                       </td><td>COPZ2                                       </td><td>CTG-3501                                    </td><td>Breast                                      </td></tr>\n",
       "</tbody>\n",
       "</table>\n"
      ],
      "text/latex": [
       "\\begin{tabular}{r|llllllllllll}\n",
       " v1 & gene\\_id & log.rsem.rpkm & log.tpm & z & fold & trans & model & sort\\_key & gene & model\\_name & tumor\\_type\\\\\n",
       "\\hline\n",
       "\t 19463231                                                                                            & ENSG00000005187                                                                                     & 2.03154538924124                                                                                    & 2.7411490                                                                                           & -0.169317194943646                                                                                  & 0.876569685689051                                                                                   & ENST00000440284:49.26\\% ENST00000567387:17.78\\% ENST00000501740:11.52\\% ENST00000289416:10.09\\% & CTG-3501                                                                                            & CTG-3501\\_Expression\\_1                                                                           & ACSM3                                                                                               & CTG-3501                                                                                            & Breast                                                                                             \\\\\n",
       "\t 19463234                                         & ENSG00000005243                                  & 0.43494348437293                                 & 0.7995996                                        & -0.994615041230675                               & 0.185174375597962                                & ENST00000006101:78.76\\% ENST00000579263:20.8\\% & CTG-3501                                         & CTG-3501\\_Expression\\_1                        & COPZ2                                            & CTG-3501                                         & Breast                                          \\\\\n",
       "\\end{tabular}\n"
      ],
      "text/markdown": [
       "\n",
       "| v1 | gene_id | log.rsem.rpkm | log.tpm | z | fold | trans | model | sort_key | gene | model_name | tumor_type |\n",
       "|---|---|---|---|---|---|---|---|---|---|---|---|\n",
       "| 19463231                                                                                    | ENSG00000005187                                                                             | 2.03154538924124                                                                            | 2.7411490                                                                                   | -0.169317194943646                                                                          | 0.876569685689051                                                                           | ENST00000440284:49.26% ENST00000567387:17.78% ENST00000501740:11.52% ENST00000289416:10.09% | CTG-3501                                                                                    | CTG-3501_Expression_1                                                                       | ACSM3                                                                                       | CTG-3501                                                                                    | Breast                                                                                      |\n",
       "| 19463234                                     | ENSG00000005243                              | 0.43494348437293                             | 0.7995996                                    | -0.994615041230675                           | 0.185174375597962                            | ENST00000006101:78.76% ENST00000579263:20.8% | CTG-3501                                     | CTG-3501_Expression_1                        | COPZ2                                        | CTG-3501                                     | Breast                                       |\n",
       "\n"
      ],
      "text/plain": [
       "  v1       gene_id         log.rsem.rpkm    log.tpm   z                 \n",
       "1 19463231 ENSG00000005187 2.03154538924124 2.7411490 -0.169317194943646\n",
       "2 19463234 ENSG00000005243 0.43494348437293 0.7995996 -0.994615041230675\n",
       "  fold             \n",
       "1 0.876569685689051\n",
       "2 0.185174375597962\n",
       "  trans                                                                                      \n",
       "1 ENST00000440284:49.26% ENST00000567387:17.78% ENST00000501740:11.52% ENST00000289416:10.09%\n",
       "2 ENST00000006101:78.76% ENST00000579263:20.8%                                               \n",
       "  model    sort_key              gene  model_name tumor_type\n",
       "1 CTG-3501 CTG-3501_Expression_1 ACSM3 CTG-3501   Breast    \n",
       "2 CTG-3501 CTG-3501_Expression_1 COPZ2 CTG-3501   Breast    "
      ]
     },
     "metadata": {},
     "output_type": "display_data"
    },
    {
     "name": "stdout",
     "output_type": "stream",
     "text": [
      "[1] 82800    12\n"
     ]
    }
   ],
   "source": [
    "# Create a dataframe from the data\n",
    "df  <- do.call(rbind, lapply(lt, rbind))\n",
    "df  <- as.data.frame(df)\n",
    "df$gene  <- as.character(df$gene)  # each column is a list - specify data type\n",
    "df$model  <- as.character(df$model)\n",
    "df$tumor_type  <- as.character(df$tumor_type)\n",
    "df$log.tpm  <- as.numeric(df$log.tpm)\n",
    "head(df, 2)\n",
    "print(dim(df))"
   ]
  },
  {
   "cell_type": "code",
   "execution_count": 34,
   "id": "adb73bd8",
   "metadata": {},
   "outputs": [
    {
     "data": {
      "text/html": [
       "<table>\n",
       "<thead><tr><th></th><th scope=col>ACSM3</th><th scope=col>COPZ2</th><th scope=col>BZRAP1</th><th scope=col>CX3CL1</th><th scope=col>ETV1</th><th scope=col>ALDH3B1</th><th scope=col>ACPP</th><th scope=col>CHDH</th><th scope=col>CD74</th><th scope=col>FHL1</th></tr></thead>\n",
       "<tbody>\n",
       "\t<tr><th scope=row>CTG-3501</th><td>2.741149 </td><td>0.7995996</td><td>2.833298 </td><td>4.224392 </td><td>0.9328516</td><td>1.441369 </td><td>2.463359 </td><td>3.7351793</td><td>2.288166 </td><td>0.9457198</td></tr>\n",
       "\t<tr><th scope=row>CTG-0718</th><td>3.214430 </td><td>4.1304615</td><td>2.401043 </td><td>1.547657 </td><td>3.9235433</td><td>2.984612 </td><td>0.000000 </td><td>0.4733435</td><td>5.082362 </td><td>3.4499709</td></tr>\n",
       "</tbody>\n",
       "</table>\n"
      ],
      "text/latex": [
       "\\begin{tabular}{r|llllllllll}\n",
       "  & ACSM3 & COPZ2 & BZRAP1 & CX3CL1 & ETV1 & ALDH3B1 & ACPP & CHDH & CD74 & FHL1\\\\\n",
       "\\hline\n",
       "\tCTG-3501 & 2.741149  & 0.7995996 & 2.833298  & 4.224392  & 0.9328516 & 1.441369  & 2.463359  & 3.7351793 & 2.288166  & 0.9457198\\\\\n",
       "\tCTG-0718 & 3.214430  & 4.1304615 & 2.401043  & 1.547657  & 3.9235433 & 2.984612  & 0.000000  & 0.4733435 & 5.082362  & 3.4499709\\\\\n",
       "\\end{tabular}\n"
      ],
      "text/markdown": [
       "\n",
       "| <!--/--> | ACSM3 | COPZ2 | BZRAP1 | CX3CL1 | ETV1 | ALDH3B1 | ACPP | CHDH | CD74 | FHL1 |\n",
       "|---|---|---|---|---|---|---|---|---|---|---|\n",
       "| CTG-3501 | 2.741149  | 0.7995996 | 2.833298  | 4.224392  | 0.9328516 | 1.441369  | 2.463359  | 3.7351793 | 2.288166  | 0.9457198 |\n",
       "| CTG-0718 | 3.214430  | 4.1304615 | 2.401043  | 1.547657  | 3.9235433 | 2.984612  | 0.000000  | 0.4733435 | 5.082362  | 3.4499709 |\n",
       "\n"
      ],
      "text/plain": [
       "         ACSM3    COPZ2     BZRAP1   CX3CL1   ETV1      ALDH3B1  ACPP    \n",
       "CTG-3501 2.741149 0.7995996 2.833298 4.224392 0.9328516 1.441369 2.463359\n",
       "CTG-0718 3.214430 4.1304615 2.401043 1.547657 3.9235433 2.984612 0.000000\n",
       "         CHDH      CD74     FHL1     \n",
       "CTG-3501 3.7351793 2.288166 0.9457198\n",
       "CTG-0718 0.4733435 5.082362 3.4499709"
      ]
     },
     "metadata": {},
     "output_type": "display_data"
    },
    {
     "name": "stdout",
     "output_type": "stream",
     "text": [
      "[1] 207 400\n"
     ]
    }
   ],
   "source": [
    "# Pivot the table\n",
    "log_tpm <- df %>% \n",
    "    select(c('gene', 'model', 'log.tpm'))  %>% \n",
    "    pivot_wider(names_from = gene, values_from = log.tpm)  %>% \n",
    "    column_to_rownames('model')\n",
    "log_tpm  <- log_tpm[complete.cases(log_tpm),]  # remove rows with missing values\n",
    "log_tpm[1:2, 1:10]\n",
    "print(dim(log_tpm))"
   ]
  },
  {
   "cell_type": "markdown",
   "id": "0f2eb142",
   "metadata": {},
   "source": [
    "## Select power"
   ]
  },
  {
   "cell_type": "code",
   "execution_count": 35,
   "id": "59c778f8",
   "metadata": {},
   "outputs": [
    {
     "name": "stdout",
     "output_type": "stream",
     "text": [
      "pickSoftThreshold: will use block size 400.\n",
      " pickSoftThreshold: calculating connectivity for given powers...\n",
      "   ..working on genes 1 through 400 of 400\n",
      "   Power SFT.R.sq  slope truncated.R.sq mean.k. median.k. max.k.\n",
      "1      1   0.0276 -0.329         0.9470 67.7000  6.40e+01 122.00\n",
      "2      2   0.5900 -1.140         0.9020 18.3000  1.54e+01  52.30\n",
      "3      3   0.8710 -1.450         0.9270  6.3900  4.50e+00  26.90\n",
      "4      4   0.2140 -2.930         0.0112  2.6500  1.57e+00  15.70\n",
      "5      5   0.8950 -1.570         0.8700  1.2500  5.99e-01  10.00\n",
      "6      6   0.9080 -1.520         0.8840  0.6610  2.40e-01   6.78\n",
      "7      7   0.8970 -1.470         0.8670  0.3810  9.81e-02   4.82\n",
      "8      8   0.2350 -2.270         0.0362  0.2370  4.39e-02   3.55\n",
      "9      9   0.2350 -2.180         0.0450  0.1570  2.03e-02   2.69\n",
      "10    10   0.2350 -2.060         0.0487  0.1100  9.13e-03   2.08\n",
      "11    12   0.1970 -1.770        -0.0327  0.0615  1.98e-03   1.31\n",
      "12    14   0.9700 -1.080         0.9850  0.0393  4.99e-04   1.00\n",
      "13    16   0.3080 -2.850         0.2290  0.0277  1.27e-04   1.00\n",
      "14    18   0.3140 -2.760         0.2430  0.0211  3.22e-05   1.00\n",
      "15    20   0.3440 -3.130         0.1620  0.0170  9.46e-06   1.00\n"
     ]
    }
   ],
   "source": [
    "# Choose a set of soft-thresholding powers\n",
    "powers = c(c(1:10), seq(from = 12, to = 20, by = 2))\n",
    "\n",
    "# Call the network topology analysis function\n",
    "sft = pickSoftThreshold(\n",
    "  log_tpm,             # <= Input data\n",
    "  powerVector = powers,\n",
    "  verbose = 5\n",
    "  )"
   ]
  },
  {
   "cell_type": "code",
   "execution_count": 37,
   "id": "6386d91b",
   "metadata": {},
   "outputs": [
    {
     "data": {
      "image/png": "[encoded data removed]",
      "text/plain": [
       "Plot with title \"Mean connectivity\""
      ]
     },
     "metadata": {},
     "output_type": "display_data"
    }
   ],
   "source": [
    "par(mfrow = c(1,2));\n",
    "cex1 = 0.9;\n",
    "\n",
    "plot(sft$fitIndices[, 1],\n",
    "     -sign(sft$fitIndices[, 3]) * sft$fitIndices[, 2],\n",
    "     xlab = \"Power\",\n",
    "     ylab = \"R2\",\n",
    "     main = paste(\"Scale independence\")\n",
    ")\n",
    "text(sft$fitIndices[, 1],\n",
    "     -sign(sft$fitIndices[, 3]) * sft$fitIndices[, 2],\n",
    "     labels = powers, cex = cex1, col = \"red\"\n",
    ")\n",
    "abline(h = 0.90, col = \"red\")\n",
    "plot(sft$fitIndices[, 1],\n",
    "     sft$fitIndices[, 5],\n",
    "     xlab = \"Power\",\n",
    "     ylab = \"Mean Connectivity\",\n",
    "     type = \"n\",\n",
    "     main = paste(\"Mean connectivity\")\n",
    ")\n",
    "text(sft$fitIndices[, 1],\n",
    "     sft$fitIndices[, 5],\n",
    "     labels = powers,\n",
    "     cex = cex1, col = \"red\")"
   ]
  },
  {
   "cell_type": "markdown",
   "id": "2a36c3dc",
   "metadata": {},
   "source": [
    "According to the above two plots, we should pick power=14."
   ]
  },
  {
   "cell_type": "markdown",
   "id": "602399f0",
   "metadata": {},
   "source": [
    "## Create the network"
   ]
  },
  {
   "cell_type": "code",
   "execution_count": 38,
   "id": "d3e30792",
   "metadata": {},
   "outputs": [
    {
     "name": "stdout",
     "output_type": "stream",
     "text": [
      " Calculating module eigengenes block-wise from all genes\n",
      "   Flagging genes and samples with too many missing values...\n",
      "    ..step 1\n",
      " ..Working on block 1 .\n",
      "    TOM calculation: adjacency..\n",
      "    ..will not use multithreading.\n",
      "     Fraction of slow calculations: 0.000000\n",
      "    ..connectivity..\n",
      "    ..matrix multiplication (system BLAS)..\n",
      "    ..normalization..\n",
      "    ..done.\n",
      "   ..saving TOM for block 1 into file ER-block.1.RData\n",
      " ....clustering..\n",
      " ....detecting modules..\n",
      " ....calculating module eigengenes..\n",
      " ....checking kME in modules..\n",
      "     ..removing 81 genes from module 1 because their KME is too low.\n",
      "     ..removing 53 genes from module 2 because their KME is too low.\n",
      " ..merging modules that are too close..\n",
      "     mergeCloseModules: Merging modules whose distance is less than 0.25\n",
      "       Calculating new MEs...\n"
     ]
    }
   ],
   "source": [
    "picked_power = 9\n",
    "temp_cor <- cor       \n",
    "cor <- WGCNA::cor         # Force it to use WGCNA cor function (fix a namespace conflict issue)\n",
    "netwk <- blockwiseModules(log_tpm,                # <= input here\n",
    "\n",
    "                          # == Adjacency Function ==\n",
    "                          power = picked_power,                # <= power here\n",
    "                          networkType = \"signed\",\n",
    "\n",
    "                          # == Tree and Block Options ==\n",
    "                          deepSplit = 2,\n",
    "                          pamRespectsDendro = F,\n",
    "                          minModuleSize = 30,\n",
    "                          maxBlockSize = 4000,\n",
    "\n",
    "                          # == Module Adjustments ==\n",
    "                          reassignThreshold = 0,\n",
    "                          mergeCutHeight = 0.25,\n",
    "\n",
    "                          # == TOM == Archive the run results in TOM file (saves time)\n",
    "                          saveTOMs = T,\n",
    "                          saveTOMFileBase = \"ER\",\n",
    "\n",
    "                          # == Output Options\n",
    "                          numericLabels = T,\n",
    "                          verbose = 3)\n",
    "cor <- temp_cor     # Return cor function to original namespace"
   ]
  },
  {
   "cell_type": "code",
   "execution_count": 39,
   "id": "ac088e21",
   "metadata": {},
   "outputs": [
    {
     "data": {
      "image/png": "[encoded data removed]",
      "text/plain": [
       "Plot with title \"\""
      ]
     },
     "metadata": {},
     "output_type": "display_data"
    }
   ],
   "source": [
    "# Convert labels to colors for plotting\n",
    "mergedColors = labels2colors(netwk$colors)\n",
    "# Plot the dendrogram and the module colors underneath\n",
    "plotDendroAndColors(\n",
    "  netwk$dendrograms[[1]],\n",
    "  mergedColors[netwk$blockGenes[[1]]],\n",
    "  \"Module colors\",\n",
    "  dendroLabels = FALSE,\n",
    "  hang = 0.03,\n",
    "  addGuide = TRUE,\n",
    "  guideHang = 0.05 )"
   ]
  },
  {
   "cell_type": "markdown",
   "id": "fbd0be77",
   "metadata": {},
   "source": [
    "## Relate modules to cancer types"
   ]
  }
 ],
 "metadata": {
  "kernelspec": {
   "display_name": "R",
   "language": "R",
   "name": "ir"
  },
  "language_info": {
   "codemirror_mode": "r",
   "file_extension": ".r",
   "mimetype": "text/x-r-source",
   "name": "R",
   "pygments_lexer": "r",
   "version": "3.6.1"
  }
 },
 "nbformat": 4,
 "nbformat_minor": 5
}
