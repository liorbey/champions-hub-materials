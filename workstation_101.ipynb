{
 "cells": [
  {
   "cell_type": "markdown",
   "source": [
    "To install new dependencies use the ! command before running a pip install"
   ],
   "metadata": {
    "collapsed": false
   }
  },
  {
   "cell_type": "code",
   "execution_count": null,
   "outputs": [],
   "source": [
    "!pip install pandas"
   ],
   "metadata": {
    "collapsed": false,
    "pycharm": {
     "name": "#%%\n"
    }
   }
  },
  {
   "cell_type": "markdown",
   "source": [
    "Use the following cheat sheet for shortcut commands\n",
    "\n",
    "Command Mode (press Esc to enable)\n",
    "- Press 'Enter' to enter edit mode\n",
    "- Press 'Shift + Enter' to run a selected cell\n",
    "- Press 'Ctrl + Enter' to run cell\n",
    "Edit Mode (press Enter to enable)\n",
    "- Press 'Tab' for code completion or indent\n",
    "- Press 'Shift + Tab' for a\ttooltip\n",
    "- Press 'Ctrl + ]'\tfor indent"
   ],
   "metadata": {
    "collapsed": false
   }
  },
  {
   "cell_type": "code",
   "execution_count": null,
   "outputs": [],
   "source": [
    "## free space to try these commands"
   ],
   "metadata": {
    "collapsed": false,
    "pycharm": {
     "name": "#%%\n"
    }
   }
  },
  {
   "cell_type": "markdown",
   "source": [
    "You may upload, download or create any file in the filesystem. Use the Champions workstation as your bioinformatics tool to explore all the datasets offered by Champions. While ready to go enviornments are provided to you, feel free to download any packages you may need."
   ],
   "metadata": {
    "collapsed": false,
    "pycharm": {
     "name": "#%% md\n"
    }
   }
  }
 ],
 "metadata": {
  "kernelspec": {
   "display_name": "Python 3",
   "language": "python",
   "name": "python3"
  },
  "language_info": {
   "codemirror_mode": {
    "name": "ipython",
    "version": 2
   },
   "file_extension": ".py",
   "mimetype": "text/x-python",
   "name": "python",
   "nbconvert_exporter": "python",
   "pygments_lexer": "ipython2",
   "version": "2.7.6"
  }
 },
 "nbformat": 4,
 "nbformat_minor": 0
}