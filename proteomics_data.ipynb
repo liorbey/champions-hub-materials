{
 "cells": [
  {
   "cell_type": "code",
   "execution_count": 1,
   "id": "e103e923",
   "metadata": {},
   "outputs": [],
   "source": [
    "suppressWarnings(require('pkgmaker',quietly = T))\n",
    "require('plyr',quietly = T)\n",
    "l_ply(c('dplyr',\n",
    "        'plotly',\n",
    "        'data.table',\n",
    "#         'jsonlite', \n",
    "#         'rjson',\n",
    "#         'httr',\n",
    "        'tidyr',  \n",
    "        'reshape2',\n",
    "        'factoextra',\n",
    "        'kableExtra',\n",
    "        'parallel',\n",
    "        'doParallel',\n",
    "        'scales',\n",
    "        'StatMatch',\n",
    "        'lattice',\n",
    "        'utils',\n",
    "        'missMDA',\n",
    "        'RMariaDB',\n",
    "        'pacman',\n",
    "        'parmigene',\n",
    "        'matrixTests',\n",
    "        'hablar',\n",
    "        'tibble', \n",
    "        'DEqMS', \n",
    "        'pcaMethods'), function(pkg) {\n",
    "          invisible(capture.output(irequire(pkg, quiet = T, autoinstall = T)))\n",
    "        })"
   ]
  },
  {
   "cell_type": "markdown",
   "id": "f4d52db7",
   "metadata": {},
   "source": [
    "## Example data"
   ]
  },
  {
   "cell_type": "code",
   "execution_count": 2,
   "id": "9d01bcff",
   "metadata": {},
   "outputs": [],
   "source": [
    "# # url <- \"https://ftp.ebi.ac.uk/pride-archive/2016/06/PXD004163/Yan_miR_Protein_table.flatprottable.txt\"\n",
    "# # download.file(url, destfile = \"./data/miR_Proteintable.txt\",method= \"auto\")\n",
    "\n",
    "# df.prot = read.table(\"./data/miR_Proteintable.txt\",stringsAsFactors = FALSE,\n",
    "#                      header = TRUE, quote = \"\", comment.char = \"\",sep = \"\\t\")\n",
    "# head(df.prot, 2)"
   ]
  },
  {
   "cell_type": "code",
   "execution_count": 3,
   "id": "a1b36781",
   "metadata": {},
   "outputs": [],
   "source": [
    "# TMT_columns = seq(15,33,2)\n",
    "# dat = df.prot[df.prot$miR.FASP_q.value<0.01,TMT_columns]\n",
    "# rownames(dat) = df.prot[df.prot$miR.FASP_q.value<0.01,]$Protein.accession\n",
    "# rm(df.prot) # release memory since using dat from here on\n",
    "# head(dat, 2)"
   ]
  },
  {
   "cell_type": "code",
   "execution_count": 4,
   "id": "343dee4d",
   "metadata": {},
   "outputs": [],
   "source": [
    "# min(dat, na.rm = TRUE)"
   ]
  },
  {
   "cell_type": "code",
   "execution_count": 5,
   "id": "ad4b59eb",
   "metadata": {},
   "outputs": [],
   "source": [
    "# max(dat, na.rm = TRUE)"
   ]
  },
  {
   "cell_type": "code",
   "execution_count": 6,
   "id": "29c98708",
   "metadata": {},
   "outputs": [],
   "source": [
    "# head(log2(dat), 2)"
   ]
  },
  {
   "cell_type": "code",
   "execution_count": 7,
   "id": "9fde2350",
   "metadata": {},
   "outputs": [],
   "source": [
    "# min(log2(dat), na.rm = TRUE)"
   ]
  },
  {
   "cell_type": "code",
   "execution_count": 8,
   "id": "ce91f000",
   "metadata": {},
   "outputs": [],
   "source": [
    "# max(log2(dat), na.rm = TRUE)"
   ]
  },
  {
   "cell_type": "code",
   "execution_count": 9,
   "id": "d870c2fe",
   "metadata": {},
   "outputs": [],
   "source": [
    "# dat.log = log2(dat)\n",
    "# #remove rows with NAs\n",
    "# dat.log = na.omit(dat.log)"
   ]
  },
  {
   "cell_type": "code",
   "execution_count": 10,
   "id": "ea75031a",
   "metadata": {},
   "outputs": [],
   "source": [
    "# # Define a vector with the treatment group in the same order as samples in the protein table.\n",
    "# cond = as.factor(c(\"ctrl\",\"miR191\",\"miR372\",\"miR519\",\"ctrl\",\n",
    "# \"miR372\",\"miR519\",\"ctrl\",\"miR191\",\"miR372\"))"
   ]
  },
  {
   "cell_type": "markdown",
   "id": "9cfba8ab",
   "metadata": {},
   "source": [
    "## Protein_intensity table"
   ]
  },
  {
   "cell_type": "markdown",
   "id": "fc1a022f",
   "metadata": {},
   "source": [
    "From /general_analysis/DataBaseUpload/NGS/Proteomics/bin/PhosphoProteomics_PreProccess.html:\n",
    "\n",
    "Outlayiers: very low/high values (0.0001% and 99.9999%) were floored to these ranges. This believed to be an error and unlikely to be real value.\n",
    "\n",
    "Possible reason: the original data have Inf. The R language calculated it to some extreme values."
   ]
  },
  {
   "cell_type": "code",
   "execution_count": 38,
   "id": "79372130",
   "metadata": {},
   "outputs": [],
   "source": [
    "# from /general_analysis/DataBaseUpload/NGS/Proteomics/bin/PhosphoProteomics_PreProccess.html\n",
    "# `Counts` are just 2 to the power of Intensity. This is for DE analysis where counts are needed\n",
    "# note: without filtering, the dimension is 1330824 rows\n",
    "intensity <- read.csv(\"../proteomics/data/Protein_intensity.csv\") \n",
    "# %>% filter(Intensity > -3.0) # remove values that are too small - think if this is necessary"
   ]
  },
  {
   "cell_type": "code",
   "execution_count": 12,
   "id": "25a0900f",
   "metadata": {},
   "outputs": [
    {
     "data": {
      "text/html": [
       "<table>\n",
       "<thead><tr><th scope=col>id</th><th scope=col>Protein</th><th scope=col>ProteinGroup</th><th scope=col>ProteinGroupName</th><th scope=col>ProteinGroupId</th><th scope=col>Organism</th><th scope=col>Sample</th><th scope=col>Intensity</th><th scope=col>counts</th><th scope=col>hgnc_symbol</th></tr></thead>\n",
       "<tbody>\n",
       "\t<tr><td>45243                    </td><td>sp|A0A087WV62|TVB16_HUMAN</td><td>sp|A0A087WV62|TVB16_HUMAN</td><td>TVB16_HUMAN              </td><td>A0A087WV62               </td><td>NULL                     </td><td>CTG-0158                 </td><td>15.503                   </td><td>NULL                     </td><td>NULL                     </td></tr>\n",
       "\t<tr><td>45244                    </td><td>sp|A0A087WV62|TVB16_HUMAN</td><td>sp|A0A087WV62|TVB16_HUMAN</td><td>TVB16_HUMAN              </td><td>A0A087WV62               </td><td>NULL                     </td><td>CTG-0159                 </td><td>14.932                   </td><td>NULL                     </td><td>NULL                     </td></tr>\n",
       "</tbody>\n",
       "</table>\n"
      ],
      "text/latex": [
       "\\begin{tabular}{r|llllllllll}\n",
       " id & Protein & ProteinGroup & ProteinGroupName & ProteinGroupId & Organism & Sample & Intensity & counts & hgnc\\_symbol\\\\\n",
       "\\hline\n",
       "\t 45243                                           & sp\\textbar{}A0A087WV62\\textbar{}TVB16\\_HUMAN & sp\\textbar{}A0A087WV62\\textbar{}TVB16\\_HUMAN & TVB16\\_HUMAN                                   & A0A087WV62                                      & NULL                                            & CTG-0158                                        & 15.503                                          & NULL                                            & NULL                                           \\\\\n",
       "\t 45244                                           & sp\\textbar{}A0A087WV62\\textbar{}TVB16\\_HUMAN & sp\\textbar{}A0A087WV62\\textbar{}TVB16\\_HUMAN & TVB16\\_HUMAN                                   & A0A087WV62                                      & NULL                                            & CTG-0159                                        & 14.932                                          & NULL                                            & NULL                                           \\\\\n",
       "\\end{tabular}\n"
      ],
      "text/markdown": [
       "\n",
       "| id | Protein | ProteinGroup | ProteinGroupName | ProteinGroupId | Organism | Sample | Intensity | counts | hgnc_symbol |\n",
       "|---|---|---|---|---|---|---|---|---|---|\n",
       "| 45243                     | sp|A0A087WV62|TVB16_HUMAN | sp|A0A087WV62|TVB16_HUMAN | TVB16_HUMAN               | A0A087WV62                | NULL                      | CTG-0158                  | 15.503                    | NULL                      | NULL                      |\n",
       "| 45244                     | sp|A0A087WV62|TVB16_HUMAN | sp|A0A087WV62|TVB16_HUMAN | TVB16_HUMAN               | A0A087WV62                | NULL                      | CTG-0159                  | 14.932                    | NULL                      | NULL                      |\n",
       "\n"
      ],
      "text/plain": [
       "  id    Protein                   ProteinGroup              ProteinGroupName\n",
       "1 45243 sp|A0A087WV62|TVB16_HUMAN sp|A0A087WV62|TVB16_HUMAN TVB16_HUMAN     \n",
       "2 45244 sp|A0A087WV62|TVB16_HUMAN sp|A0A087WV62|TVB16_HUMAN TVB16_HUMAN     \n",
       "  ProteinGroupId Organism Sample   Intensity counts hgnc_symbol\n",
       "1 A0A087WV62     NULL     CTG-0158 15.503    NULL   NULL       \n",
       "2 A0A087WV62     NULL     CTG-0159 14.932    NULL   NULL       "
      ]
     },
     "metadata": {},
     "output_type": "display_data"
    },
    {
     "name": "stdout",
     "output_type": "stream",
     "text": [
      "[1] 1330824      10\n"
     ]
    }
   ],
   "source": [
    "head(intensity, 2)\n",
    "print(dim(intensity))"
   ]
  },
  {
   "cell_type": "code",
   "execution_count": 1,
   "id": "4b7e3a69",
   "metadata": {
    "scrolled": true
   },
   "outputs": [],
   "source": [
    "# intensity[intensity$Sample=='CTG-0166',]"
   ]
  },
  {
   "cell_type": "code",
   "execution_count": 13,
   "id": "58ae14a5",
   "metadata": {},
   "outputs": [
    {
     "data": {
      "text/html": [
       "<table>\n",
       "<thead><tr><th></th><th scope=col>id</th><th scope=col>Protein</th><th scope=col>ProteinGroup</th><th scope=col>ProteinGroupName</th><th scope=col>ProteinGroupId</th><th scope=col>Organism</th><th scope=col>Sample</th><th scope=col>Intensity</th><th scope=col>counts</th><th scope=col>hgnc_symbol</th></tr></thead>\n",
       "<tbody>\n",
       "\t<tr><th scope=row>114</th><td> 45356                                         </td><td>sp|A0A0B4J2D5|GAL3B_HUMAN                      </td><td>sp|A0A0B4J2D5|GAL3B_HUMAN;sp|P0DPI2|GAL3A_HUMAN</td><td>GAL3B_HUMAN                                    </td><td>A0A0B4J2D5                                     </td><td>NULL                                           </td><td>CTG-0158                                       </td><td>18.058                                         </td><td>NULL                                           </td><td>NULL                                           </td></tr>\n",
       "\t<tr><th scope=row>110184</th><td>155426                                         </td><td>sp|A0A0B4J2D5|GAL3B_HUMAN                      </td><td>sp|A0A0B4J2D5|GAL3B_HUMAN;sp|P0DPI2|GAL3A_HUMAN</td><td>GAL3A_HUMAN                                    </td><td>P0DPI2                                         </td><td>NULL                                           </td><td>CTG-0158                                       </td><td>18.058                                         </td><td>NULL                                           </td><td>NULL                                           </td></tr>\n",
       "</tbody>\n",
       "</table>\n"
      ],
      "text/latex": [
       "\\begin{tabular}{r|llllllllll}\n",
       "  & id & Protein & ProteinGroup & ProteinGroupName & ProteinGroupId & Organism & Sample & Intensity & counts & hgnc\\_symbol\\\\\n",
       "\\hline\n",
       "\t114 &  45356                                                                                      & sp\\textbar{}A0A0B4J2D5\\textbar{}GAL3B\\_HUMAN                                             & sp\\textbar{}A0A0B4J2D5\\textbar{}GAL3B\\_HUMAN;sp\\textbar{}P0DPI2\\textbar{}GAL3A\\_HUMAN & GAL3B\\_HUMAN                                                                               & A0A0B4J2D5                                                                                  & NULL                                                                                        & CTG-0158                                                                                    & 18.058                                                                                      & NULL                                                                                        & NULL                                                                                       \\\\\n",
       "\t110184 & 155426                                                                                      & sp\\textbar{}A0A0B4J2D5\\textbar{}GAL3B\\_HUMAN                                             & sp\\textbar{}A0A0B4J2D5\\textbar{}GAL3B\\_HUMAN;sp\\textbar{}P0DPI2\\textbar{}GAL3A\\_HUMAN & GAL3A\\_HUMAN                                                                               & P0DPI2                                                                                      & NULL                                                                                        & CTG-0158                                                                                    & 18.058                                                                                      & NULL                                                                                        & NULL                                                                                       \\\\\n",
       "\\end{tabular}\n"
      ],
      "text/markdown": [
       "\n",
       "| <!--/--> | id | Protein | ProteinGroup | ProteinGroupName | ProteinGroupId | Organism | Sample | Intensity | counts | hgnc_symbol |\n",
       "|---|---|---|---|---|---|---|---|---|---|---|\n",
       "| 114 |  45356                                          | sp|A0A0B4J2D5|GAL3B_HUMAN                       | sp|A0A0B4J2D5|GAL3B_HUMAN;sp|P0DPI2|GAL3A_HUMAN | GAL3B_HUMAN                                     | A0A0B4J2D5                                      | NULL                                            | CTG-0158                                        | 18.058                                          | NULL                                            | NULL                                            |\n",
       "| 110184 | 155426                                          | sp|A0A0B4J2D5|GAL3B_HUMAN                       | sp|A0A0B4J2D5|GAL3B_HUMAN;sp|P0DPI2|GAL3A_HUMAN | GAL3A_HUMAN                                     | P0DPI2                                          | NULL                                            | CTG-0158                                        | 18.058                                          | NULL                                            | NULL                                            |\n",
       "\n"
      ],
      "text/plain": [
       "       id     Protein                  \n",
       "114     45356 sp|A0A0B4J2D5|GAL3B_HUMAN\n",
       "110184 155426 sp|A0A0B4J2D5|GAL3B_HUMAN\n",
       "       ProteinGroup                                    ProteinGroupName\n",
       "114    sp|A0A0B4J2D5|GAL3B_HUMAN;sp|P0DPI2|GAL3A_HUMAN GAL3B_HUMAN     \n",
       "110184 sp|A0A0B4J2D5|GAL3B_HUMAN;sp|P0DPI2|GAL3A_HUMAN GAL3A_HUMAN     \n",
       "       ProteinGroupId Organism Sample   Intensity counts hgnc_symbol\n",
       "114    A0A0B4J2D5     NULL     CTG-0158 18.058    NULL   NULL       \n",
       "110184 P0DPI2         NULL     CTG-0158 18.058    NULL   NULL       "
      ]
     },
     "metadata": {},
     "output_type": "display_data"
    }
   ],
   "source": [
    "# check a case where there are repeats\n",
    "# The intensity was not calculated differently between GAL3A and GAL3B\n",
    "x <- intensity[intensity$Protein=='sp|A0A0B4J2D5|GAL3B_HUMAN',]\n",
    "x[x$Sample=='CTG-0158',]"
   ]
  },
  {
   "cell_type": "code",
   "execution_count": 14,
   "id": "83423d93",
   "metadata": {},
   "outputs": [
    {
     "data": {
      "text/html": [
       "<table>\n",
       "<thead><tr><th></th><th scope=col>CTG-0158</th><th scope=col>CTG-0159</th><th scope=col>CTG-0160</th><th scope=col>CTG-0162</th><th scope=col>CTG-0163</th><th scope=col>CTG-0166</th><th scope=col>CTG-0167</th><th scope=col>CTG-0178</th><th scope=col>CTG-0184</th><th scope=col>CTG-0464</th><th scope=col>...</th><th scope=col>CTG-3794</th><th scope=col>CTG-3795</th><th scope=col>CTG-3796</th><th scope=col>CTG-3797</th><th scope=col>CTG-3799</th><th scope=col>CTG-3800</th><th scope=col>CTG-3801</th><th scope=col>CTG-3802</th><th scope=col>CTG-3803</th><th scope=col>CTG-3805</th></tr></thead>\n",
       "<tbody>\n",
       "\t<tr><th scope=row>sp|A0A087WV62|TVB16_HUMAN</th><td>15.503</td><td>14.932</td><td>14.791</td><td>15.616</td><td>15.860</td><td>15.620</td><td>14.404</td><td>17.208</td><td>15.961</td><td>14.648</td><td>...   </td><td>    NA</td><td>    NA</td><td>    NA</td><td>    NA</td><td>    NA</td><td>    NA</td><td>    NA</td><td>    NA</td><td>    NA</td><td>    NA</td></tr>\n",
       "\t<tr><th scope=row>sp|A0A0B4J2D5|GAL3B_HUMAN;sp|P0DPI2|GAL3A_HUMAN</th><td>18.058</td><td>15.959</td><td>16.403</td><td>16.609</td><td>17.808</td><td>17.707</td><td>16.961</td><td>17.071</td><td>16.576</td><td>17.171</td><td>...   </td><td>19.154</td><td>18.021</td><td>18.640</td><td>17.470</td><td>19.184</td><td>18.883</td><td>19.659</td><td>19.406</td><td>18.087</td><td>19.928</td></tr>\n",
       "\t<tr><th scope=row>sp|A0A0B4J2H0|HV69D_HUMAN;sp|A0A0C4DH29|HV103_HUMAN;sp|P01742|HV169_HUMAN;sp|P01743|HV146_HUMAN;sp|P0DP01|HV108_HUMAN</th><td>    NA</td><td>    NA</td><td>    NA</td><td>    NA</td><td>    NA</td><td>    NA</td><td>    NA</td><td>    NA</td><td>14.146</td><td>    NA</td><td>...   </td><td>    NA</td><td>    NA</td><td>    NA</td><td>    NA</td><td>    NA</td><td>    NA</td><td>    NA</td><td>    NA</td><td>    NA</td><td>    NA</td></tr>\n",
       "\t<tr><th scope=row>sp|A0A0C4DH25|KVD20_HUMAN;sp|P01619|KV320_HUMAN</th><td>    NA</td><td>    NA</td><td>    NA</td><td>11.443</td><td>    NA</td><td>    NA</td><td>    NA</td><td>    NA</td><td>    NA</td><td>    NA</td><td>...   </td><td>    NA</td><td>    NA</td><td>    NA</td><td>    NA</td><td>    NA</td><td>    NA</td><td>    NA</td><td>    NA</td><td>    NA</td><td>    NA</td></tr>\n",
       "\t<tr><th scope=row>sp|A0A0U1RRE5|NBDY_HUMAN</th><td>13.970</td><td>    NA</td><td>    NA</td><td>    NA</td><td>    NA</td><td>    NA</td><td>    NA</td><td>    NA</td><td>    NA</td><td>    NA</td><td>...   </td><td>    NA</td><td>14.185</td><td>14.753</td><td>14.812</td><td>    NA</td><td>15.659</td><td>15.389</td><td>14.616</td><td>14.346</td><td>14.881</td></tr>\n",
       "\t<tr><th scope=row>sp|A0A0U1RRL7|MMPOS_HUMAN</th><td>    NA</td><td>16.280</td><td>    NA</td><td>16.074</td><td>    NA</td><td>    NA</td><td>    NA</td><td>15.504</td><td>    NA</td><td>    NA</td><td>...   </td><td>    NA</td><td>    NA</td><td>    NA</td><td>    NA</td><td>    NA</td><td>    NA</td><td>    NA</td><td>    NA</td><td>    NA</td><td>    NA</td></tr>\n",
       "</tbody>\n",
       "</table>\n"
      ],
      "text/latex": [
       "\\begin{tabular}{r|lllllllllllllllllllllllllllllllllllllllllllllllllllllllllllllllllllllllllllllllllllllllllllllllllllllllllllllllllllllllllllllllllllllllllllllllllllllllllllllllllllllllllllllllllllllllllllllllllllllllllllllllllllllllllllllllllllllllllllllllllllllllllllllllllllllllllllllllllllllllllllllllllllllllllllllllllllllllllllll}\n",
       "  & CTG-0158 & CTG-0159 & CTG-0160 & CTG-0162 & CTG-0163 & CTG-0166 & CTG-0167 & CTG-0178 & CTG-0184 & CTG-0464 & ... & CTG-3794 & CTG-3795 & CTG-3796 & CTG-3797 & CTG-3799 & CTG-3800 & CTG-3801 & CTG-3802 & CTG-3803 & CTG-3805\\\\\n",
       "\\hline\n",
       "\tsp\\textbar{}A0A087WV62\\textbar{}TVB16\\_HUMAN & 15.503 & 14.932 & 14.791 & 15.616 & 15.860 & 15.620 & 14.404 & 17.208 & 15.961 & 14.648 & ...    &     NA &     NA &     NA &     NA &     NA &     NA &     NA &     NA &     NA &     NA\\\\\n",
       "\tsp\\textbar{}A0A0B4J2D5\\textbar{}GAL3B\\_HUMAN;sp\\textbar{}P0DPI2\\textbar{}GAL3A\\_HUMAN & 18.058 & 15.959 & 16.403 & 16.609 & 17.808 & 17.707 & 16.961 & 17.071 & 16.576 & 17.171 & ...    & 19.154 & 18.021 & 18.640 & 17.470 & 19.184 & 18.883 & 19.659 & 19.406 & 18.087 & 19.928\\\\\n",
       "\tsp\\textbar{}A0A0B4J2H0\\textbar{}HV69D\\_HUMAN;sp\\textbar{}A0A0C4DH29\\textbar{}HV103\\_HUMAN;sp\\textbar{}P01742\\textbar{}HV169\\_HUMAN;sp\\textbar{}P01743\\textbar{}HV146\\_HUMAN;sp\\textbar{}P0DP01\\textbar{}HV108\\_HUMAN &     NA &     NA &     NA &     NA &     NA &     NA &     NA &     NA & 14.146 &     NA & ...    &     NA &     NA &     NA &     NA &     NA &     NA &     NA &     NA &     NA &     NA\\\\\n",
       "\tsp\\textbar{}A0A0C4DH25\\textbar{}KVD20\\_HUMAN;sp\\textbar{}P01619\\textbar{}KV320\\_HUMAN &     NA &     NA &     NA & 11.443 &     NA &     NA &     NA &     NA &     NA &     NA & ...    &     NA &     NA &     NA &     NA &     NA &     NA &     NA &     NA &     NA &     NA\\\\\n",
       "\tsp\\textbar{}A0A0U1RRE5\\textbar{}NBDY\\_HUMAN & 13.970 &     NA &     NA &     NA &     NA &     NA &     NA &     NA &     NA &     NA & ...    &     NA & 14.185 & 14.753 & 14.812 &     NA & 15.659 & 15.389 & 14.616 & 14.346 & 14.881\\\\\n",
       "\tsp\\textbar{}A0A0U1RRL7\\textbar{}MMPOS\\_HUMAN &     NA & 16.280 &     NA & 16.074 &     NA &     NA &     NA & 15.504 &     NA &     NA & ...    &     NA &     NA &     NA &     NA &     NA &     NA &     NA &     NA &     NA &     NA\\\\\n",
       "\\end{tabular}\n"
      ],
      "text/markdown": [
       "\n",
       "| <!--/--> | CTG-0158 | CTG-0159 | CTG-0160 | CTG-0162 | CTG-0163 | CTG-0166 | CTG-0167 | CTG-0178 | CTG-0184 | CTG-0464 | ... | CTG-3794 | CTG-3795 | CTG-3796 | CTG-3797 | CTG-3799 | CTG-3800 | CTG-3801 | CTG-3802 | CTG-3803 | CTG-3805 |\n",
       "|---|---|---|---|---|---|---|---|---|---|---|---|---|---|---|---|---|---|---|---|---|---|\n",
       "| sp|A0A087WV62|TVB16_HUMAN | 15.503 | 14.932 | 14.791 | 15.616 | 15.860 | 15.620 | 14.404 | 17.208 | 15.961 | 14.648 | ...    |     NA |     NA |     NA |     NA |     NA |     NA |     NA |     NA |     NA |     NA |\n",
       "| sp|A0A0B4J2D5|GAL3B_HUMAN;sp|P0DPI2|GAL3A_HUMAN | 18.058 | 15.959 | 16.403 | 16.609 | 17.808 | 17.707 | 16.961 | 17.071 | 16.576 | 17.171 | ...    | 19.154 | 18.021 | 18.640 | 17.470 | 19.184 | 18.883 | 19.659 | 19.406 | 18.087 | 19.928 |\n",
       "| sp|A0A0B4J2H0|HV69D_HUMAN;sp|A0A0C4DH29|HV103_HUMAN;sp|P01742|HV169_HUMAN;sp|P01743|HV146_HUMAN;sp|P0DP01|HV108_HUMAN |     NA |     NA |     NA |     NA |     NA |     NA |     NA |     NA | 14.146 |     NA | ...    |     NA |     NA |     NA |     NA |     NA |     NA |     NA |     NA |     NA |     NA |\n",
       "| sp|A0A0C4DH25|KVD20_HUMAN;sp|P01619|KV320_HUMAN |     NA |     NA |     NA | 11.443 |     NA |     NA |     NA |     NA |     NA |     NA | ...    |     NA |     NA |     NA |     NA |     NA |     NA |     NA |     NA |     NA |     NA |\n",
       "| sp|A0A0U1RRE5|NBDY_HUMAN | 13.970 |     NA |     NA |     NA |     NA |     NA |     NA |     NA |     NA |     NA | ...    |     NA | 14.185 | 14.753 | 14.812 |     NA | 15.659 | 15.389 | 14.616 | 14.346 | 14.881 |\n",
       "| sp|A0A0U1RRL7|MMPOS_HUMAN |     NA | 16.280 |     NA | 16.074 |     NA |     NA |     NA | 15.504 |     NA |     NA | ...    |     NA |     NA |     NA |     NA |     NA |     NA |     NA |     NA |     NA |     NA |\n",
       "\n"
      ],
      "text/plain": [
       "                                                                                                                      CTG-0158\n",
       "sp|A0A087WV62|TVB16_HUMAN                                                                                             15.503  \n",
       "sp|A0A0B4J2D5|GAL3B_HUMAN;sp|P0DPI2|GAL3A_HUMAN                                                                       18.058  \n",
       "sp|A0A0B4J2H0|HV69D_HUMAN;sp|A0A0C4DH29|HV103_HUMAN;sp|P01742|HV169_HUMAN;sp|P01743|HV146_HUMAN;sp|P0DP01|HV108_HUMAN     NA  \n",
       "sp|A0A0C4DH25|KVD20_HUMAN;sp|P01619|KV320_HUMAN                                                                           NA  \n",
       "sp|A0A0U1RRE5|NBDY_HUMAN                                                                                              13.970  \n",
       "sp|A0A0U1RRL7|MMPOS_HUMAN                                                                                                 NA  \n",
       "                                                                                                                      CTG-0159\n",
       "sp|A0A087WV62|TVB16_HUMAN                                                                                             14.932  \n",
       "sp|A0A0B4J2D5|GAL3B_HUMAN;sp|P0DPI2|GAL3A_HUMAN                                                                       15.959  \n",
       "sp|A0A0B4J2H0|HV69D_HUMAN;sp|A0A0C4DH29|HV103_HUMAN;sp|P01742|HV169_HUMAN;sp|P01743|HV146_HUMAN;sp|P0DP01|HV108_HUMAN     NA  \n",
       "sp|A0A0C4DH25|KVD20_HUMAN;sp|P01619|KV320_HUMAN                                                                           NA  \n",
       "sp|A0A0U1RRE5|NBDY_HUMAN                                                                                                  NA  \n",
       "sp|A0A0U1RRL7|MMPOS_HUMAN                                                                                             16.280  \n",
       "                                                                                                                      CTG-0160\n",
       "sp|A0A087WV62|TVB16_HUMAN                                                                                             14.791  \n",
       "sp|A0A0B4J2D5|GAL3B_HUMAN;sp|P0DPI2|GAL3A_HUMAN                                                                       16.403  \n",
       "sp|A0A0B4J2H0|HV69D_HUMAN;sp|A0A0C4DH29|HV103_HUMAN;sp|P01742|HV169_HUMAN;sp|P01743|HV146_HUMAN;sp|P0DP01|HV108_HUMAN     NA  \n",
       "sp|A0A0C4DH25|KVD20_HUMAN;sp|P01619|KV320_HUMAN                                                                           NA  \n",
       "sp|A0A0U1RRE5|NBDY_HUMAN                                                                                                  NA  \n",
       "sp|A0A0U1RRL7|MMPOS_HUMAN                                                                                                 NA  \n",
       "                                                                                                                      CTG-0162\n",
       "sp|A0A087WV62|TVB16_HUMAN                                                                                             15.616  \n",
       "sp|A0A0B4J2D5|GAL3B_HUMAN;sp|P0DPI2|GAL3A_HUMAN                                                                       16.609  \n",
       "sp|A0A0B4J2H0|HV69D_HUMAN;sp|A0A0C4DH29|HV103_HUMAN;sp|P01742|HV169_HUMAN;sp|P01743|HV146_HUMAN;sp|P0DP01|HV108_HUMAN     NA  \n",
       "sp|A0A0C4DH25|KVD20_HUMAN;sp|P01619|KV320_HUMAN                                                                       11.443  \n",
       "sp|A0A0U1RRE5|NBDY_HUMAN                                                                                                  NA  \n",
       "sp|A0A0U1RRL7|MMPOS_HUMAN                                                                                             16.074  \n",
       "                                                                                                                      CTG-0163\n",
       "sp|A0A087WV62|TVB16_HUMAN                                                                                             15.860  \n",
       "sp|A0A0B4J2D5|GAL3B_HUMAN;sp|P0DPI2|GAL3A_HUMAN                                                                       17.808  \n",
       "sp|A0A0B4J2H0|HV69D_HUMAN;sp|A0A0C4DH29|HV103_HUMAN;sp|P01742|HV169_HUMAN;sp|P01743|HV146_HUMAN;sp|P0DP01|HV108_HUMAN     NA  \n",
       "sp|A0A0C4DH25|KVD20_HUMAN;sp|P01619|KV320_HUMAN                                                                           NA  \n",
       "sp|A0A0U1RRE5|NBDY_HUMAN                                                                                                  NA  \n",
       "sp|A0A0U1RRL7|MMPOS_HUMAN                                                                                                 NA  \n",
       "                                                                                                                      CTG-0166\n",
       "sp|A0A087WV62|TVB16_HUMAN                                                                                             15.620  \n",
       "sp|A0A0B4J2D5|GAL3B_HUMAN;sp|P0DPI2|GAL3A_HUMAN                                                                       17.707  \n",
       "sp|A0A0B4J2H0|HV69D_HUMAN;sp|A0A0C4DH29|HV103_HUMAN;sp|P01742|HV169_HUMAN;sp|P01743|HV146_HUMAN;sp|P0DP01|HV108_HUMAN     NA  \n",
       "sp|A0A0C4DH25|KVD20_HUMAN;sp|P01619|KV320_HUMAN                                                                           NA  \n",
       "sp|A0A0U1RRE5|NBDY_HUMAN                                                                                                  NA  \n",
       "sp|A0A0U1RRL7|MMPOS_HUMAN                                                                                                 NA  \n",
       "                                                                                                                      CTG-0167\n",
       "sp|A0A087WV62|TVB16_HUMAN                                                                                             14.404  \n",
       "sp|A0A0B4J2D5|GAL3B_HUMAN;sp|P0DPI2|GAL3A_HUMAN                                                                       16.961  \n",
       "sp|A0A0B4J2H0|HV69D_HUMAN;sp|A0A0C4DH29|HV103_HUMAN;sp|P01742|HV169_HUMAN;sp|P01743|HV146_HUMAN;sp|P0DP01|HV108_HUMAN     NA  \n",
       "sp|A0A0C4DH25|KVD20_HUMAN;sp|P01619|KV320_HUMAN                                                                           NA  \n",
       "sp|A0A0U1RRE5|NBDY_HUMAN                                                                                                  NA  \n",
       "sp|A0A0U1RRL7|MMPOS_HUMAN                                                                                                 NA  \n",
       "                                                                                                                      CTG-0178\n",
       "sp|A0A087WV62|TVB16_HUMAN                                                                                             17.208  \n",
       "sp|A0A0B4J2D5|GAL3B_HUMAN;sp|P0DPI2|GAL3A_HUMAN                                                                       17.071  \n",
       "sp|A0A0B4J2H0|HV69D_HUMAN;sp|A0A0C4DH29|HV103_HUMAN;sp|P01742|HV169_HUMAN;sp|P01743|HV146_HUMAN;sp|P0DP01|HV108_HUMAN     NA  \n",
       "sp|A0A0C4DH25|KVD20_HUMAN;sp|P01619|KV320_HUMAN                                                                           NA  \n",
       "sp|A0A0U1RRE5|NBDY_HUMAN                                                                                                  NA  \n",
       "sp|A0A0U1RRL7|MMPOS_HUMAN                                                                                             15.504  \n",
       "                                                                                                                      CTG-0184\n",
       "sp|A0A087WV62|TVB16_HUMAN                                                                                             15.961  \n",
       "sp|A0A0B4J2D5|GAL3B_HUMAN;sp|P0DPI2|GAL3A_HUMAN                                                                       16.576  \n",
       "sp|A0A0B4J2H0|HV69D_HUMAN;sp|A0A0C4DH29|HV103_HUMAN;sp|P01742|HV169_HUMAN;sp|P01743|HV146_HUMAN;sp|P0DP01|HV108_HUMAN 14.146  \n",
       "sp|A0A0C4DH25|KVD20_HUMAN;sp|P01619|KV320_HUMAN                                                                           NA  \n",
       "sp|A0A0U1RRE5|NBDY_HUMAN                                                                                                  NA  \n",
       "sp|A0A0U1RRL7|MMPOS_HUMAN                                                                                                 NA  \n",
       "                                                                                                                      CTG-0464\n",
       "sp|A0A087WV62|TVB16_HUMAN                                                                                             14.648  \n",
       "sp|A0A0B4J2D5|GAL3B_HUMAN;sp|P0DPI2|GAL3A_HUMAN                                                                       17.171  \n",
       "sp|A0A0B4J2H0|HV69D_HUMAN;sp|A0A0C4DH29|HV103_HUMAN;sp|P01742|HV169_HUMAN;sp|P01743|HV146_HUMAN;sp|P0DP01|HV108_HUMAN     NA  \n",
       "sp|A0A0C4DH25|KVD20_HUMAN;sp|P01619|KV320_HUMAN                                                                           NA  \n",
       "sp|A0A0U1RRE5|NBDY_HUMAN                                                                                                  NA  \n",
       "sp|A0A0U1RRL7|MMPOS_HUMAN                                                                                                 NA  \n",
       "                                                                                                                      ...\n",
       "sp|A0A087WV62|TVB16_HUMAN                                                                                             ...\n",
       "sp|A0A0B4J2D5|GAL3B_HUMAN;sp|P0DPI2|GAL3A_HUMAN                                                                       ...\n",
       "sp|A0A0B4J2H0|HV69D_HUMAN;sp|A0A0C4DH29|HV103_HUMAN;sp|P01742|HV169_HUMAN;sp|P01743|HV146_HUMAN;sp|P0DP01|HV108_HUMAN ...\n",
       "sp|A0A0C4DH25|KVD20_HUMAN;sp|P01619|KV320_HUMAN                                                                       ...\n",
       "sp|A0A0U1RRE5|NBDY_HUMAN                                                                                              ...\n",
       "sp|A0A0U1RRL7|MMPOS_HUMAN                                                                                             ...\n",
       "                                                                                                                      CTG-3794\n",
       "sp|A0A087WV62|TVB16_HUMAN                                                                                                 NA  \n",
       "sp|A0A0B4J2D5|GAL3B_HUMAN;sp|P0DPI2|GAL3A_HUMAN                                                                       19.154  \n",
       "sp|A0A0B4J2H0|HV69D_HUMAN;sp|A0A0C4DH29|HV103_HUMAN;sp|P01742|HV169_HUMAN;sp|P01743|HV146_HUMAN;sp|P0DP01|HV108_HUMAN     NA  \n",
       "sp|A0A0C4DH25|KVD20_HUMAN;sp|P01619|KV320_HUMAN                                                                           NA  \n",
       "sp|A0A0U1RRE5|NBDY_HUMAN                                                                                                  NA  \n",
       "sp|A0A0U1RRL7|MMPOS_HUMAN                                                                                                 NA  \n",
       "                                                                                                                      CTG-3795\n",
       "sp|A0A087WV62|TVB16_HUMAN                                                                                                 NA  \n",
       "sp|A0A0B4J2D5|GAL3B_HUMAN;sp|P0DPI2|GAL3A_HUMAN                                                                       18.021  \n",
       "sp|A0A0B4J2H0|HV69D_HUMAN;sp|A0A0C4DH29|HV103_HUMAN;sp|P01742|HV169_HUMAN;sp|P01743|HV146_HUMAN;sp|P0DP01|HV108_HUMAN     NA  \n",
       "sp|A0A0C4DH25|KVD20_HUMAN;sp|P01619|KV320_HUMAN                                                                           NA  \n",
       "sp|A0A0U1RRE5|NBDY_HUMAN                                                                                              14.185  \n",
       "sp|A0A0U1RRL7|MMPOS_HUMAN                                                                                                 NA  \n",
       "                                                                                                                      CTG-3796\n",
       "sp|A0A087WV62|TVB16_HUMAN                                                                                                 NA  \n",
       "sp|A0A0B4J2D5|GAL3B_HUMAN;sp|P0DPI2|GAL3A_HUMAN                                                                       18.640  \n",
       "sp|A0A0B4J2H0|HV69D_HUMAN;sp|A0A0C4DH29|HV103_HUMAN;sp|P01742|HV169_HUMAN;sp|P01743|HV146_HUMAN;sp|P0DP01|HV108_HUMAN     NA  \n",
       "sp|A0A0C4DH25|KVD20_HUMAN;sp|P01619|KV320_HUMAN                                                                           NA  \n",
       "sp|A0A0U1RRE5|NBDY_HUMAN                                                                                              14.753  \n",
       "sp|A0A0U1RRL7|MMPOS_HUMAN                                                                                                 NA  \n",
       "                                                                                                                      CTG-3797\n",
       "sp|A0A087WV62|TVB16_HUMAN                                                                                                 NA  \n",
       "sp|A0A0B4J2D5|GAL3B_HUMAN;sp|P0DPI2|GAL3A_HUMAN                                                                       17.470  \n",
       "sp|A0A0B4J2H0|HV69D_HUMAN;sp|A0A0C4DH29|HV103_HUMAN;sp|P01742|HV169_HUMAN;sp|P01743|HV146_HUMAN;sp|P0DP01|HV108_HUMAN     NA  \n",
       "sp|A0A0C4DH25|KVD20_HUMAN;sp|P01619|KV320_HUMAN                                                                           NA  \n",
       "sp|A0A0U1RRE5|NBDY_HUMAN                                                                                              14.812  \n",
       "sp|A0A0U1RRL7|MMPOS_HUMAN                                                                                                 NA  \n",
       "                                                                                                                      CTG-3799\n",
       "sp|A0A087WV62|TVB16_HUMAN                                                                                                 NA  \n",
       "sp|A0A0B4J2D5|GAL3B_HUMAN;sp|P0DPI2|GAL3A_HUMAN                                                                       19.184  \n",
       "sp|A0A0B4J2H0|HV69D_HUMAN;sp|A0A0C4DH29|HV103_HUMAN;sp|P01742|HV169_HUMAN;sp|P01743|HV146_HUMAN;sp|P0DP01|HV108_HUMAN     NA  \n",
       "sp|A0A0C4DH25|KVD20_HUMAN;sp|P01619|KV320_HUMAN                                                                           NA  \n",
       "sp|A0A0U1RRE5|NBDY_HUMAN                                                                                                  NA  \n",
       "sp|A0A0U1RRL7|MMPOS_HUMAN                                                                                                 NA  \n",
       "                                                                                                                      CTG-3800\n",
       "sp|A0A087WV62|TVB16_HUMAN                                                                                                 NA  \n",
       "sp|A0A0B4J2D5|GAL3B_HUMAN;sp|P0DPI2|GAL3A_HUMAN                                                                       18.883  \n",
       "sp|A0A0B4J2H0|HV69D_HUMAN;sp|A0A0C4DH29|HV103_HUMAN;sp|P01742|HV169_HUMAN;sp|P01743|HV146_HUMAN;sp|P0DP01|HV108_HUMAN     NA  \n",
       "sp|A0A0C4DH25|KVD20_HUMAN;sp|P01619|KV320_HUMAN                                                                           NA  \n",
       "sp|A0A0U1RRE5|NBDY_HUMAN                                                                                              15.659  \n",
       "sp|A0A0U1RRL7|MMPOS_HUMAN                                                                                                 NA  \n",
       "                                                                                                                      CTG-3801\n",
       "sp|A0A087WV62|TVB16_HUMAN                                                                                                 NA  \n",
       "sp|A0A0B4J2D5|GAL3B_HUMAN;sp|P0DPI2|GAL3A_HUMAN                                                                       19.659  \n",
       "sp|A0A0B4J2H0|HV69D_HUMAN;sp|A0A0C4DH29|HV103_HUMAN;sp|P01742|HV169_HUMAN;sp|P01743|HV146_HUMAN;sp|P0DP01|HV108_HUMAN     NA  \n",
       "sp|A0A0C4DH25|KVD20_HUMAN;sp|P01619|KV320_HUMAN                                                                           NA  \n",
       "sp|A0A0U1RRE5|NBDY_HUMAN                                                                                              15.389  \n",
       "sp|A0A0U1RRL7|MMPOS_HUMAN                                                                                                 NA  \n",
       "                                                                                                                      CTG-3802\n",
       "sp|A0A087WV62|TVB16_HUMAN                                                                                                 NA  \n",
       "sp|A0A0B4J2D5|GAL3B_HUMAN;sp|P0DPI2|GAL3A_HUMAN                                                                       19.406  \n",
       "sp|A0A0B4J2H0|HV69D_HUMAN;sp|A0A0C4DH29|HV103_HUMAN;sp|P01742|HV169_HUMAN;sp|P01743|HV146_HUMAN;sp|P0DP01|HV108_HUMAN     NA  \n",
       "sp|A0A0C4DH25|KVD20_HUMAN;sp|P01619|KV320_HUMAN                                                                           NA  \n",
       "sp|A0A0U1RRE5|NBDY_HUMAN                                                                                              14.616  \n",
       "sp|A0A0U1RRL7|MMPOS_HUMAN                                                                                                 NA  \n",
       "                                                                                                                      CTG-3803\n",
       "sp|A0A087WV62|TVB16_HUMAN                                                                                                 NA  \n",
       "sp|A0A0B4J2D5|GAL3B_HUMAN;sp|P0DPI2|GAL3A_HUMAN                                                                       18.087  \n",
       "sp|A0A0B4J2H0|HV69D_HUMAN;sp|A0A0C4DH29|HV103_HUMAN;sp|P01742|HV169_HUMAN;sp|P01743|HV146_HUMAN;sp|P0DP01|HV108_HUMAN     NA  \n",
       "sp|A0A0C4DH25|KVD20_HUMAN;sp|P01619|KV320_HUMAN                                                                           NA  \n",
       "sp|A0A0U1RRE5|NBDY_HUMAN                                                                                              14.346  \n",
       "sp|A0A0U1RRL7|MMPOS_HUMAN                                                                                                 NA  \n",
       "                                                                                                                      CTG-3805\n",
       "sp|A0A087WV62|TVB16_HUMAN                                                                                                 NA  \n",
       "sp|A0A0B4J2D5|GAL3B_HUMAN;sp|P0DPI2|GAL3A_HUMAN                                                                       19.928  \n",
       "sp|A0A0B4J2H0|HV69D_HUMAN;sp|A0A0C4DH29|HV103_HUMAN;sp|P01742|HV169_HUMAN;sp|P01743|HV146_HUMAN;sp|P0DP01|HV108_HUMAN     NA  \n",
       "sp|A0A0C4DH25|KVD20_HUMAN;sp|P01619|KV320_HUMAN                                                                           NA  \n",
       "sp|A0A0U1RRE5|NBDY_HUMAN                                                                                              14.881  \n",
       "sp|A0A0U1RRL7|MMPOS_HUMAN                                                                                                 NA  "
      ]
     },
     "metadata": {},
     "output_type": "display_data"
    },
    {
     "name": "stdout",
     "output_type": "stream",
     "text": [
      "[1] 8530  317\n"
     ]
    }
   ],
   "source": [
    "int_mtx <- intensity %>% \n",
    "    select(c('ProteinGroup', 'Sample', 'Intensity'))  %>% \n",
    "    pivot_wider(names_from = Sample, values_from = Intensity, values_fn = mean) %>% \n",
    "#     pivot_wider(names_from = Sample, values_from = Intensity) %>% \n",
    "    column_to_rownames('ProteinGroup')\n",
    "head(int_mtx)\n",
    "print(dim(int_mtx))\n",
    "rm(intensity)  # release memory since using int_mtx from here on"
   ]
  },
  {
   "cell_type": "code",
   "execution_count": 15,
   "id": "87879ef6",
   "metadata": {},
   "outputs": [
    {
     "data": {
      "text/html": [
       "<ol class=list-inline>\n",
       "\t<li>295</li>\n",
       "\t<li>317</li>\n",
       "</ol>\n"
      ],
      "text/latex": [
       "\\begin{enumerate*}\n",
       "\\item 295\n",
       "\\item 317\n",
       "\\end{enumerate*}\n"
      ],
      "text/markdown": [
       "1. 295\n",
       "2. 317\n",
       "\n",
       "\n"
      ],
      "text/plain": [
       "[1] 295 317"
      ]
     },
     "metadata": {},
     "output_type": "display_data"
    }
   ],
   "source": [
    "# If omitting all proteins with NA values, how many rows are left?\n",
    "x <- na.omit(int_mtx)\n",
    "dim(x)"
   ]
  },
  {
   "cell_type": "code",
   "execution_count": 16,
   "id": "30e9560d",
   "metadata": {},
   "outputs": [
    {
     "data": {
      "text/html": [
       "0.509788795159781"
      ],
      "text/latex": [
       "0.509788795159781"
      ],
      "text/markdown": [
       "0.509788795159781"
      ],
      "text/plain": [
       "[1] 0.5097888"
      ]
     },
     "metadata": {},
     "output_type": "display_data"
    }
   ],
   "source": [
    "# proportion of missin values\n",
    "sum(is.na(int_mtx))/(dim(int_mtx)[1] * dim(int_mtx)[2])"
   ]
  },
  {
   "cell_type": "markdown",
   "id": "18e9e20b",
   "metadata": {},
   "source": [
    "The intensity is already in log-scale because it has negative values."
   ]
  },
  {
   "cell_type": "markdown",
   "id": "6b14f7cf",
   "metadata": {},
   "source": [
    "### Check the distribution of non-missing values\n",
    "\n",
    "Missing values in proteomic data can be generally characterized into missing at random (MAR) and missing not at random (MNAR). \n",
    "+ MAR missing values mostly result from technical limitations and stochastic fluctuations in an abundance-independent manner.\n",
    "+ MNAR missing values are more abundance-dependent that can be explained by the measurability of the corresponding peptides. \n",
    "\n",
    "Missing values in proteomic data are a mixture of MAR and MNAR. Although the real proportion is difficult to determine, it is believed that MNAR plays a dominant role in producing missing values."
   ]
  },
  {
   "cell_type": "code",
   "execution_count": 17,
   "id": "962225f4",
   "metadata": {},
   "outputs": [
    {
     "data": {
      "image/png": "[encoded data removed]",
      "text/plain": [
       "Plot with title \"Histogram of Non-NA samples in a protein\""
      ]
     },
     "metadata": {},
     "output_type": "display_data"
    }
   ],
   "source": [
    "# For each protein group, how many samples have intensity values\n",
    "hist(rowSums(!is.na(int_mtx)), breaks = 30,\n",
    "     main = \"Histogram of Non-NA samples in a protein\",\n",
    "     xlab = \"Number of samples that have values in a protein\")  "
   ]
  },
  {
   "cell_type": "code",
   "execution_count": 18,
   "id": "71742a2c",
   "metadata": {},
   "outputs": [],
   "source": [
    "# # For each sample, how many protein groups have intensity values\n",
    "# hist(colSums(!is.na(int_mtx)), breaks = 18,\n",
    "#      main = \"Histogram of Non-NA proteins in a sample\",\n",
    "#      xlab = \"Number of proteins that have values in a sample\")  "
   ]
  },
  {
   "cell_type": "markdown",
   "id": "2f656dda",
   "metadata": {},
   "source": [
    "### Filtering, normalization, and imputation\n",
    "\n",
    "First, filter proteins with too many missing values. \n",
    "\n",
    "Seoncd, we need to account for technical variability in the amount of sample analyzed by the mass spectrometer from one run to another. This is an issue parallel to the variation in sequencing depth in RNAseq experiments. To normalize out these technical differences, we perform a median normalization. For each sample, the median of the log2-transformed distribution is subtracted from all the values.\n",
    "\n",
    "Third, since missing values are associated with proteins with low levels of expression, we can substitute the missing values with numbers that are considered “small” in each sample. We can define this statistically by drawing from a normal distribution with a mean that is down-shifted from the sample mean and a standard deviation that is a fraction of the standard deviation of the sample distribution. "
   ]
  },
  {
   "cell_type": "code",
   "execution_count": 19,
   "id": "9d55571c",
   "metadata": {},
   "outputs": [],
   "source": [
    "# # This plot is to check if the data are currently median centered\n",
    "# boxplot(int_mtx, las=2)"
   ]
  },
  {
   "cell_type": "code",
   "execution_count": 20,
   "id": "3f058861",
   "metadata": {
    "scrolled": false
   },
   "outputs": [
    {
     "name": "stdout",
     "output_type": "stream",
     "text": [
      "[1] 5466\n",
      "[1] 0.2953538\n"
     ]
    },
    {
     "data": {
      "text/html": [
       "<table>\n",
       "<thead><tr><th></th><th scope=col>CTG-0158</th><th scope=col>CTG-0159</th><th scope=col>CTG-0160</th><th scope=col>CTG-0162</th><th scope=col>CTG-0163</th><th scope=col>CTG-0166</th><th scope=col>CTG-0167</th><th scope=col>CTG-0178</th><th scope=col>CTG-0184</th><th scope=col>CTG-0464</th><th scope=col>...</th><th scope=col>CTG-3794</th><th scope=col>CTG-3795</th><th scope=col>CTG-3796</th><th scope=col>CTG-3797</th><th scope=col>CTG-3799</th><th scope=col>CTG-3800</th><th scope=col>CTG-3801</th><th scope=col>CTG-3802</th><th scope=col>CTG-3803</th><th scope=col>CTG-3805</th></tr></thead>\n",
       "<tbody>\n",
       "\t<tr><th scope=row>sp|A0A087WV62|TVB16_HUMAN</th><td>0.1025   </td><td>-0.435   </td><td>-0.4125  </td><td>-0.011   </td><td>0.6685   </td><td>0.1175   </td><td>-0.848   </td><td>2.000    </td><td>0.492    </td><td>-0.686   </td><td>...      </td><td>-4.426058</td><td>-2.606117</td><td>-4.090644</td><td>-3.899574</td><td>-2.664214</td><td>-3.879883</td><td>-3.26088 </td><td>-3.254568</td><td>-3.140059</td><td>-1.630576</td></tr>\n",
       "\t<tr><th scope=row>sp|A0A0B4J2D5|GAL3B_HUMAN;sp|P0DPI2|GAL3A_HUMAN</th><td>2.6575   </td><td> 0.592   </td><td> 1.1995  </td><td> 0.982   </td><td>2.6165   </td><td>2.2045   </td><td> 1.709   </td><td>1.863    </td><td>1.107    </td><td> 1.837   </td><td>...      </td><td> 2.549000</td><td> 1.681000</td><td> 2.260500</td><td> 0.921000</td><td> 2.752000</td><td> 2.436000</td><td> 3.29250 </td><td> 2.814000</td><td> 1.693500</td><td> 3.395500</td></tr>\n",
       "</tbody>\n",
       "</table>\n"
      ],
      "text/latex": [
       "\\begin{tabular}{r|lllllllllllllllllllllllllllllllllllllllllllllllllllllllllllllllllllllllllllllllllllllllllllllllllllllllllllllllllllllllllllllllllllllllllllllllllllllllllllllllllllllllllllllllllllllllllllllllllllllllllllllllllllllllllllllllllllllllllllllllllllllllllllllllllllllllllllllllllllllllllllllllllllllllllllllllllllllllllllll}\n",
       "  & CTG-0158 & CTG-0159 & CTG-0160 & CTG-0162 & CTG-0163 & CTG-0166 & CTG-0167 & CTG-0178 & CTG-0184 & CTG-0464 & ... & CTG-3794 & CTG-3795 & CTG-3796 & CTG-3797 & CTG-3799 & CTG-3800 & CTG-3801 & CTG-3802 & CTG-3803 & CTG-3805\\\\\n",
       "\\hline\n",
       "\tsp\\textbar{}A0A087WV62\\textbar{}TVB16\\_HUMAN & 0.1025    & -0.435    & -0.4125   & -0.011    & 0.6685    & 0.1175    & -0.848    & 2.000     & 0.492     & -0.686    & ...       & -4.426058 & -2.606117 & -4.090644 & -3.899574 & -2.664214 & -3.879883 & -3.26088  & -3.254568 & -3.140059 & -1.630576\\\\\n",
       "\tsp\\textbar{}A0A0B4J2D5\\textbar{}GAL3B\\_HUMAN;sp\\textbar{}P0DPI2\\textbar{}GAL3A\\_HUMAN & 2.6575    &  0.592    &  1.1995   &  0.982    & 2.6165    & 2.2045    &  1.709    & 1.863     & 1.107     &  1.837    & ...       &  2.549000 &  1.681000 &  2.260500 &  0.921000 &  2.752000 &  2.436000 &  3.29250  &  2.814000 &  1.693500 &  3.395500\\\\\n",
       "\\end{tabular}\n"
      ],
      "text/markdown": [
       "\n",
       "| <!--/--> | CTG-0158 | CTG-0159 | CTG-0160 | CTG-0162 | CTG-0163 | CTG-0166 | CTG-0167 | CTG-0178 | CTG-0184 | CTG-0464 | ... | CTG-3794 | CTG-3795 | CTG-3796 | CTG-3797 | CTG-3799 | CTG-3800 | CTG-3801 | CTG-3802 | CTG-3803 | CTG-3805 |\n",
       "|---|---|---|---|---|---|---|---|---|---|---|---|---|---|---|---|---|---|---|---|---|---|\n",
       "| sp|A0A087WV62|TVB16_HUMAN | 0.1025    | -0.435    | -0.4125   | -0.011    | 0.6685    | 0.1175    | -0.848    | 2.000     | 0.492     | -0.686    | ...       | -4.426058 | -2.606117 | -4.090644 | -3.899574 | -2.664214 | -3.879883 | -3.26088  | -3.254568 | -3.140059 | -1.630576 |\n",
       "| sp|A0A0B4J2D5|GAL3B_HUMAN;sp|P0DPI2|GAL3A_HUMAN | 2.6575    |  0.592    |  1.1995   |  0.982    | 2.6165    | 2.2045    |  1.709    | 1.863     | 1.107     |  1.837    | ...       |  2.549000 |  1.681000 |  2.260500 |  0.921000 |  2.752000 |  2.436000 |  3.29250  |  2.814000 |  1.693500 |  3.395500 |\n",
       "\n"
      ],
      "text/plain": [
       "                                                CTG-0158 CTG-0159 CTG-0160\n",
       "sp|A0A087WV62|TVB16_HUMAN                       0.1025   -0.435   -0.4125 \n",
       "sp|A0A0B4J2D5|GAL3B_HUMAN;sp|P0DPI2|GAL3A_HUMAN 2.6575    0.592    1.1995 \n",
       "                                                CTG-0162 CTG-0163 CTG-0166\n",
       "sp|A0A087WV62|TVB16_HUMAN                       -0.011   0.6685   0.1175  \n",
       "sp|A0A0B4J2D5|GAL3B_HUMAN;sp|P0DPI2|GAL3A_HUMAN  0.982   2.6165   2.2045  \n",
       "                                                CTG-0167 CTG-0178 CTG-0184\n",
       "sp|A0A087WV62|TVB16_HUMAN                       -0.848   2.000    0.492   \n",
       "sp|A0A0B4J2D5|GAL3B_HUMAN;sp|P0DPI2|GAL3A_HUMAN  1.709   1.863    1.107   \n",
       "                                                CTG-0464 ... CTG-3794 \n",
       "sp|A0A087WV62|TVB16_HUMAN                       -0.686   ... -4.426058\n",
       "sp|A0A0B4J2D5|GAL3B_HUMAN;sp|P0DPI2|GAL3A_HUMAN  1.837   ...  2.549000\n",
       "                                                CTG-3795  CTG-3796  CTG-3797 \n",
       "sp|A0A087WV62|TVB16_HUMAN                       -2.606117 -4.090644 -3.899574\n",
       "sp|A0A0B4J2D5|GAL3B_HUMAN;sp|P0DPI2|GAL3A_HUMAN  1.681000  2.260500  0.921000\n",
       "                                                CTG-3799  CTG-3800  CTG-3801\n",
       "sp|A0A087WV62|TVB16_HUMAN                       -2.664214 -3.879883 -3.26088\n",
       "sp|A0A0B4J2D5|GAL3B_HUMAN;sp|P0DPI2|GAL3A_HUMAN  2.752000  2.436000  3.29250\n",
       "                                                CTG-3802  CTG-3803  CTG-3805 \n",
       "sp|A0A087WV62|TVB16_HUMAN                       -3.254568 -3.140059 -1.630576\n",
       "sp|A0A0B4J2D5|GAL3B_HUMAN;sp|P0DPI2|GAL3A_HUMAN  2.814000  1.693500  3.395500"
      ]
     },
     "metadata": {},
     "output_type": "display_data"
    },
    {
     "name": "stdout",
     "output_type": "stream",
     "text": [
      "[1] 5466  317\n"
     ]
    }
   ],
   "source": [
    "# Keep the proteins that were at least observed N_miss times\n",
    "N_miss <- 80\n",
    "int_norm <- int_mtx[rowSums(!is.na(int_mtx)) > N_miss,]\n",
    "print(nrow(int_norm))\n",
    "# proportion of missing values\n",
    "print(sum(is.na(int_norm))/(dim(int_norm)[1] * dim(int_norm)[2]))\n",
    "# # Bring the proprotion of missing values to below 30%\n",
    "\n",
    "# Normalization to conteract the different median between samples\n",
    "# subtract each value in a col with its respective col median\n",
    "int_norm <- sweep(int_norm, 2, apply(int_norm, 2, function(x){median(x, na.rm = TRUE)}), '-') \n",
    "\n",
    "# hist(unlist(int_norm), breaks = 30, col = \"blue\",\n",
    "#                   main = \"Histogram of protein intensity\", \n",
    "#                   xlab = \"Intensity\")  \n",
    "\n",
    "# Imputation\n",
    "width <- 0.3\n",
    "downshift <- 1.8 # assume missing values (small values) are outside 90% of the values in a normal distribution\n",
    "# shrink sd width\n",
    "temp_sd <- width * apply(int_norm, 2, function(x){sd(x, na.rm = TRUE)}) \n",
    "# shift mean of imputed values\n",
    "temp_mean <- apply(int_norm, 2, \n",
    "                   function(x){mean(x, na.rm = TRUE)}) - downshift * apply(int_norm, 2, \n",
    "                                                                           function(x){sd(x, na.rm = TRUE)})  \n",
    "set.seed(1)  # set seed for rnorm()\n",
    "for (i in 1:(dim(int_norm)[2])) {\n",
    "    temp <- int_norm[, i]\n",
    "    int_norm[, i][is.na(temp)] <- rnorm(sum(is.na(temp)), \n",
    "                                             mean = temp_mean[i], \n",
    "                                             sd = temp_sd[i])\n",
    "}\n",
    "head(int_norm, 2)\n",
    "print(dim(int_norm))\n",
    "# hist(unlist(int_norm), breaks = 30, col = alpha(\"green\", 0.5), add = TRUE)\n",
    "# legend('right', c('Normalized', 'Imputed'), fill = c(\"blue\", alpha(\"green\", 0.5)))\n",
    "\n",
    "# The imputed has both the normalized and the new imputed values"
   ]
  },
  {
   "cell_type": "markdown",
   "id": "d8d51152",
   "metadata": {},
   "source": [
    "### Differential protein expression"
   ]
  },
  {
   "cell_type": "code",
   "execution_count": 21,
   "id": "dd5f1d5a",
   "metadata": {},
   "outputs": [
    {
     "data": {
      "text/html": [
       "<table>\n",
       "<thead><tr><th scope=col>Model</th><th scope=col>Tumor type</th><th scope=col>Histology</th><th scope=col>treatment</th><th scope=col>outcome</th></tr></thead>\n",
       "<tbody>\n",
       "\t<tr><td>CTG-0149                                      </td><td>HEAD AND NECK                                 </td><td>SC CARCINOMA                                  </td><td>NONE                                          </td><td>                                              </td></tr>\n",
       "\t<tr><td>CTG-0152                                      </td><td>HEAD AND NECK                                 </td><td>SC CARCINOMA                                  </td><td>5-FLUOROURACIL/DOCETAXEL/CETUXIMAB/HYDROXYUREA</td><td>Response                                      </td></tr>\n",
       "</tbody>\n",
       "</table>\n"
      ],
      "text/latex": [
       "\\begin{tabular}{r|lllll}\n",
       " Model & Tumor type & Histology & treatment & outcome\\\\\n",
       "\\hline\n",
       "\t CTG-0149                                       & HEAD AND NECK                                  & SC CARCINOMA                                   & NONE                                           &                                               \\\\\n",
       "\t CTG-0152                                       & HEAD AND NECK                                  & SC CARCINOMA                                   & 5-FLUOROURACIL/DOCETAXEL/CETUXIMAB/HYDROXYUREA & Response                                      \\\\\n",
       "\\end{tabular}\n"
      ],
      "text/markdown": [
       "\n",
       "| Model | Tumor type | Histology | treatment | outcome |\n",
       "|---|---|---|---|---|\n",
       "| CTG-0149                                       | HEAD AND NECK                                  | SC CARCINOMA                                   | NONE                                           |                                                |\n",
       "| CTG-0152                                       | HEAD AND NECK                                  | SC CARCINOMA                                   | 5-FLUOROURACIL/DOCETAXEL/CETUXIMAB/HYDROXYUREA | Response                                       |\n",
       "\n"
      ],
      "text/plain": [
       "  Model    Tumor type    Histology   \n",
       "1 CTG-0149 HEAD AND NECK SC CARCINOMA\n",
       "2 CTG-0152 HEAD AND NECK SC CARCINOMA\n",
       "  treatment                                      outcome \n",
       "1 NONE                                                   \n",
       "2 5-FLUOROURACIL/DOCETAXEL/CETUXIMAB/HYDROXYUREA Response"
      ]
     },
     "metadata": {},
     "output_type": "display_data"
    },
    {
     "name": "stdout",
     "output_type": "stream",
     "text": [
      "[1] 320   5\n"
     ]
    }
   ],
   "source": [
    "clin_treatFile = './data/clinical_treatment.csv'\n",
    "clin_treat <- fread(clin_treatFile)\n",
    "clin_treat <- clin_treat[clin_treat$Model %in% colnames(int_norm)] %>% \n",
    "    unique\n",
    "head(clin_treat, 2)\n",
    "print(dim(clin_treat))"
   ]
  },
  {
   "cell_type": "code",
   "execution_count": 23,
   "id": "59a3e58d",
   "metadata": {
    "scrolled": true
   },
   "outputs": [
    {
     "data": {
      "text/html": [
       "164"
      ],
      "text/latex": [
       "164"
      ],
      "text/markdown": [
       "164"
      ],
      "text/plain": [
       "[1] 164"
      ]
     },
     "metadata": {},
     "output_type": "display_data"
    }
   ],
   "source": [
    "n_distinct(clin_treat$Model)"
   ]
  },
  {
   "cell_type": "code",
   "execution_count": 24,
   "id": "99bdb2a2",
   "metadata": {
    "scrolled": false
   },
   "outputs": [
    {
     "data": {
      "text/html": [
       "<table>\n",
       "<thead><tr><th scope=col>Tumor type</th><th scope=col>treatment</th><th scope=col>N</th></tr></thead>\n",
       "<tbody>\n",
       "\t<tr><td>HEAD AND NECK             </td><td>5-FLUOROURACIL            </td><td>1                         </td></tr>\n",
       "\t<tr><td>HEAD AND NECK             </td><td>5-FLUOROURACIL/CARBOPLATIN</td><td>1                         </td></tr>\n",
       "</tbody>\n",
       "</table>\n"
      ],
      "text/latex": [
       "\\begin{tabular}{r|lll}\n",
       " Tumor type & treatment & N\\\\\n",
       "\\hline\n",
       "\t HEAD AND NECK              & 5-FLUOROURACIL             & 1                         \\\\\n",
       "\t HEAD AND NECK              & 5-FLUOROURACIL/CARBOPLATIN & 1                         \\\\\n",
       "\\end{tabular}\n"
      ],
      "text/markdown": [
       "\n",
       "| Tumor type | treatment | N |\n",
       "|---|---|---|\n",
       "| HEAD AND NECK              | 5-FLUOROURACIL             | 1                          |\n",
       "| HEAD AND NECK              | 5-FLUOROURACIL/CARBOPLATIN | 1                          |\n",
       "\n"
      ],
      "text/plain": [
       "  Tumor type    treatment                  N\n",
       "1 HEAD AND NECK 5-FLUOROURACIL             1\n",
       "2 HEAD AND NECK 5-FLUOROURACIL/CARBOPLATIN 1"
      ]
     },
     "metadata": {},
     "output_type": "display_data"
    }
   ],
   "source": [
    "ct_sum <- clin_treat %>% \n",
    "    group_by(`Tumor type`, treatment) %>%\n",
    "    summarise(N = n_distinct(Model), .groups = 'drop')\n",
    "head(ct_sum, 2)"
   ]
  },
  {
   "cell_type": "code",
   "execution_count": 25,
   "id": "b6fb68e8",
   "metadata": {},
   "outputs": [
    {
     "data": {
      "text/html": [
       "<table>\n",
       "<thead><tr><th scope=col>Tumor type</th><th scope=col>treatment</th><th scope=col>N</th></tr></thead>\n",
       "<tbody>\n",
       "\t<tr><td>HEAD AND NECK</td><td>NONE         </td><td>45           </td></tr>\n",
       "\t<tr><td>NSCLC        </td><td>NONE         </td><td>54           </td></tr>\n",
       "</tbody>\n",
       "</table>\n"
      ],
      "text/latex": [
       "\\begin{tabular}{r|lll}\n",
       " Tumor type & treatment & N\\\\\n",
       "\\hline\n",
       "\t HEAD AND NECK & NONE          & 45           \\\\\n",
       "\t NSCLC         & NONE          & 54           \\\\\n",
       "\\end{tabular}\n"
      ],
      "text/markdown": [
       "\n",
       "| Tumor type | treatment | N |\n",
       "|---|---|---|\n",
       "| HEAD AND NECK | NONE          | 45            |\n",
       "| NSCLC         | NONE          | 54            |\n",
       "\n"
      ],
      "text/plain": [
       "  Tumor type    treatment N \n",
       "1 HEAD AND NECK NONE      45\n",
       "2 NSCLC         NONE      54"
      ]
     },
     "metadata": {},
     "output_type": "display_data"
    }
   ],
   "source": [
    "ct_sum[ct_sum$treatment=='NONE',]"
   ]
  },
  {
   "cell_type": "code",
   "execution_count": 26,
   "id": "d6c298c4",
   "metadata": {},
   "outputs": [
    {
     "data": {
      "text/html": [
       "<ol class=list-inline>\n",
       "\t<li>'HEAD AND NECK'</li>\n",
       "\t<li>'NSCLC'</li>\n",
       "</ol>\n"
      ],
      "text/latex": [
       "\\begin{enumerate*}\n",
       "\\item 'HEAD AND NECK'\n",
       "\\item 'NSCLC'\n",
       "\\end{enumerate*}\n"
      ],
      "text/markdown": [
       "1. 'HEAD AND NECK'\n",
       "2. 'NSCLC'\n",
       "\n",
       "\n"
      ],
      "text/plain": [
       "[1] \"HEAD AND NECK\" \"NSCLC\"        "
      ]
     },
     "metadata": {},
     "output_type": "display_data"
    }
   ],
   "source": [
    "unique(clin_treat$`Tumor type`)"
   ]
  },
  {
   "cell_type": "code",
   "execution_count": 37,
   "id": "e286fb78",
   "metadata": {},
   "outputs": [
    {
     "data": {
      "text/html": [
       "<table>\n",
       "<thead><tr><th scope=col>Model</th><th scope=col>Tumor type</th><th scope=col>Histology</th><th scope=col>treatment</th><th scope=col>outcome</th></tr></thead>\n",
       "<tbody>\n",
       "\t<tr><td>CTG-0152                                      </td><td>HEAD AND NECK                                 </td><td>SC CARCINOMA                                  </td><td>5-FLUOROURACIL/DOCETAXEL/CETUXIMAB/HYDROXYUREA</td><td>Response                                      </td></tr>\n",
       "\t<tr><td>CTG-0152                                      </td><td>HEAD AND NECK                                 </td><td>SC CARCINOMA                                  </td><td>CARBOPLATIN/DOCETAXEL                         </td><td>                                              </td></tr>\n",
       "\t<tr><td>CTG-0152                                      </td><td>HEAD AND NECK                                 </td><td>SC CARCINOMA                                  </td><td>CETUXIMAB (MAINTENANCE)                       </td><td>                                              </td></tr>\n",
       "</tbody>\n",
       "</table>\n"
      ],
      "text/latex": [
       "\\begin{tabular}{r|lllll}\n",
       " Model & Tumor type & Histology & treatment & outcome\\\\\n",
       "\\hline\n",
       "\t CTG-0152                                       & HEAD AND NECK                                  & SC CARCINOMA                                   & 5-FLUOROURACIL/DOCETAXEL/CETUXIMAB/HYDROXYUREA & Response                                      \\\\\n",
       "\t CTG-0152                                       & HEAD AND NECK                                  & SC CARCINOMA                                   & CARBOPLATIN/DOCETAXEL                          &                                               \\\\\n",
       "\t CTG-0152                                       & HEAD AND NECK                                  & SC CARCINOMA                                   & CETUXIMAB (MAINTENANCE)                        &                                               \\\\\n",
       "\\end{tabular}\n"
      ],
      "text/markdown": [
       "\n",
       "| Model | Tumor type | Histology | treatment | outcome |\n",
       "|---|---|---|---|---|\n",
       "| CTG-0152                                       | HEAD AND NECK                                  | SC CARCINOMA                                   | 5-FLUOROURACIL/DOCETAXEL/CETUXIMAB/HYDROXYUREA | Response                                       |\n",
       "| CTG-0152                                       | HEAD AND NECK                                  | SC CARCINOMA                                   | CARBOPLATIN/DOCETAXEL                          |                                                |\n",
       "| CTG-0152                                       | HEAD AND NECK                                  | SC CARCINOMA                                   | CETUXIMAB (MAINTENANCE)                        |                                                |\n",
       "\n"
      ],
      "text/plain": [
       "  Model    Tumor type    Histology   \n",
       "1 CTG-0152 HEAD AND NECK SC CARCINOMA\n",
       "2 CTG-0152 HEAD AND NECK SC CARCINOMA\n",
       "3 CTG-0152 HEAD AND NECK SC CARCINOMA\n",
       "  treatment                                      outcome \n",
       "1 5-FLUOROURACIL/DOCETAXEL/CETUXIMAB/HYDROXYUREA Response\n",
       "2 CARBOPLATIN/DOCETAXEL                                  \n",
       "3 CETUXIMAB (MAINTENANCE)                                "
      ]
     },
     "metadata": {},
     "output_type": "display_data"
    }
   ],
   "source": [
    "# # check the repeated model numbers\n",
    "# n_occur <- data.frame(table(clin_treat$Model))\n",
    "# n_occur[n_occur$Freq > 1,]\n",
    "clin_treat[clin_treat$Model=='CTG-0152',]"
   ]
  },
  {
   "cell_type": "code",
   "execution_count": 45,
   "id": "40ff9107",
   "metadata": {},
   "outputs": [
    {
     "data": {
      "text/html": [
       "<table>\n",
       "<thead><tr><th></th><th scope=col>CTG-0149</th><th scope=col>CTG-0152</th><th scope=col>CTG-0159</th><th scope=col>CTG-0160</th><th scope=col>CTG-0163</th><th scope=col>CTG-0166</th><th scope=col>CTG-0167</th><th scope=col>CTG-0178</th><th scope=col>CTG-0184</th><th scope=col>CTG-0462</th><th scope=col>...</th><th scope=col>CTG-3190</th><th scope=col>CTG-3213</th><th scope=col>CTG-3375</th><th scope=col>CTG-3414</th><th scope=col>CTG-3485</th><th scope=col>CTG-3493</th><th scope=col>CTG-3518</th><th scope=col>CTG-3527</th><th scope=col>CTG-3538</th><th scope=col>CTG-3547</th></tr></thead>\n",
       "<tbody>\n",
       "\t<tr><th scope=row>sp|A0A087WV62|TVB16_HUMAN</th><td>-4.490228</td><td>-5.953811</td><td>-0.435000</td><td>-0.4125  </td><td> 0.6685  </td><td> 0.1175  </td><td>-0.848   </td><td> 2.000000</td><td> 0.492   </td><td>-3.951179</td><td>...      </td><td>-4.778822</td><td>-0.235000</td><td>-0.9080  </td><td>-2.366000</td><td>-4.098275</td><td>-6.894622</td><td>-3.693368</td><td>-4.180883</td><td> 0.243000</td><td>-3.961313</td></tr>\n",
       "\t<tr><th scope=row>sp|A0A0B4J2D5|GAL3B_HUMAN;sp|P0DPI2|GAL3A_HUMAN</th><td> 1.674000</td><td> 0.364000</td><td> 0.592000</td><td> 1.1995  </td><td> 2.6165  </td><td> 2.2045  </td><td> 1.709   </td><td> 1.863000</td><td> 1.107   </td><td> 2.930000</td><td>...      </td><td> 0.321500</td><td> 1.663000</td><td> 1.7540  </td><td> 1.248000</td><td> 2.619500</td><td> 1.328000</td><td> 1.650000</td><td> 2.766000</td><td> 2.295000</td><td>-0.541000</td></tr>\n",
       "\t<tr><th scope=row>sp|A0AV96|RBM47_HUMAN</th><td>-6.082306</td><td>-5.421102</td><td> 2.436000</td><td>-0.9335  </td><td>-0.2805  </td><td> 1.1925  </td><td> 2.334   </td><td> 2.489000</td><td> 1.155   </td><td>-1.184000</td><td>...      </td><td>-1.837500</td><td>-0.404000</td><td> 1.8310  </td><td>-1.922000</td><td> 0.671500</td><td>-1.184000</td><td>-4.691444</td><td> 0.575000</td><td> 2.120000</td><td>-3.986819</td></tr>\n",
       "\t<tr><th scope=row>sp|A0AVT1|UBA6_HUMAN</th><td> 1.215000</td><td> 1.390000</td><td> 1.244000</td><td> 0.9545  </td><td> 0.6195  </td><td> 1.7625  </td><td> 0.955   </td><td> 0.355000</td><td> 0.548   </td><td> 2.295000</td><td>...      </td><td> 2.298500</td><td> 2.143000</td><td> 1.5770  </td><td> 1.019000</td><td> 1.690500</td><td> 1.410000</td><td> 1.562000</td><td> 2.214000</td><td> 0.806000</td><td> 1.951000</td></tr>\n",
       "\t<tr><th scope=row>sp|A0FGR8|ESYT2_HUMAN</th><td>-2.028000</td><td>-1.934000</td><td> 1.073000</td><td>-0.4605  </td><td>-1.2495  </td><td> 0.2765  </td><td>-0.091   </td><td>-1.430000</td><td>-0.379   </td><td>-0.703000</td><td>...      </td><td>-4.313355</td><td> 0.495000</td><td> 0.7660  </td><td>-5.987142</td><td>-0.089500</td><td>-0.608000</td><td>-5.255951</td><td>-0.117000</td><td> 0.328000</td><td>-1.375000</td></tr>\n",
       "\t<tr><th scope=row>sp|A0JLT2|MED19_HUMAN</th><td>-3.345565</td><td>-5.283630</td><td>-4.526696</td><td>-4.3525  </td><td>-3.5545  </td><td>-3.8115  </td><td>-3.883   </td><td>-5.792884</td><td>-2.985   </td><td>-2.000000</td><td>...      </td><td>-2.363500</td><td>-5.144327</td><td>-4.2477  </td><td>-6.126029</td><td>-4.469564</td><td>-4.215000</td><td>-4.761991</td><td>-0.322000</td><td>-3.246187</td><td>-4.180866</td></tr>\n",
       "</tbody>\n",
       "</table>\n"
      ],
      "text/latex": [
       "\\begin{tabular}{r|llllllllllllllllllllllllllllllllllllllllllllllllllllllllllllllllllllllllllllllllllllllllllllllllllllllllllllllllllllllllllllllllllllllllllllllllllllllllllllllllllll}\n",
       "  & CTG-0149 & CTG-0152 & CTG-0159 & CTG-0160 & CTG-0163 & CTG-0166 & CTG-0167 & CTG-0178 & CTG-0184 & CTG-0462 & ... & CTG-3190 & CTG-3213 & CTG-3375 & CTG-3414 & CTG-3485 & CTG-3493 & CTG-3518 & CTG-3527 & CTG-3538 & CTG-3547\\\\\n",
       "\\hline\n",
       "\tsp\\textbar{}A0A087WV62\\textbar{}TVB16\\_HUMAN & -4.490228 & -5.953811 & -0.435000 & -0.4125   &  0.6685   &  0.1175   & -0.848    &  2.000000 &  0.492    & -3.951179 & ...       & -4.778822 & -0.235000 & -0.9080   & -2.366000 & -4.098275 & -6.894622 & -3.693368 & -4.180883 &  0.243000 & -3.961313\\\\\n",
       "\tsp\\textbar{}A0A0B4J2D5\\textbar{}GAL3B\\_HUMAN;sp\\textbar{}P0DPI2\\textbar{}GAL3A\\_HUMAN &  1.674000 &  0.364000 &  0.592000 &  1.1995   &  2.6165   &  2.2045   &  1.709    &  1.863000 &  1.107    &  2.930000 & ...       &  0.321500 &  1.663000 &  1.7540   &  1.248000 &  2.619500 &  1.328000 &  1.650000 &  2.766000 &  2.295000 & -0.541000\\\\\n",
       "\tsp\\textbar{}A0AV96\\textbar{}RBM47\\_HUMAN & -6.082306 & -5.421102 &  2.436000 & -0.9335   & -0.2805   &  1.1925   &  2.334    &  2.489000 &  1.155    & -1.184000 & ...       & -1.837500 & -0.404000 &  1.8310   & -1.922000 &  0.671500 & -1.184000 & -4.691444 &  0.575000 &  2.120000 & -3.986819\\\\\n",
       "\tsp\\textbar{}A0AVT1\\textbar{}UBA6\\_HUMAN &  1.215000 &  1.390000 &  1.244000 &  0.9545   &  0.6195   &  1.7625   &  0.955    &  0.355000 &  0.548    &  2.295000 & ...       &  2.298500 &  2.143000 &  1.5770   &  1.019000 &  1.690500 &  1.410000 &  1.562000 &  2.214000 &  0.806000 &  1.951000\\\\\n",
       "\tsp\\textbar{}A0FGR8\\textbar{}ESYT2\\_HUMAN & -2.028000 & -1.934000 &  1.073000 & -0.4605   & -1.2495   &  0.2765   & -0.091    & -1.430000 & -0.379    & -0.703000 & ...       & -4.313355 &  0.495000 &  0.7660   & -5.987142 & -0.089500 & -0.608000 & -5.255951 & -0.117000 &  0.328000 & -1.375000\\\\\n",
       "\tsp\\textbar{}A0JLT2\\textbar{}MED19\\_HUMAN & -3.345565 & -5.283630 & -4.526696 & -4.3525   & -3.5545   & -3.8115   & -3.883    & -5.792884 & -2.985    & -2.000000 & ...       & -2.363500 & -5.144327 & -4.2477   & -6.126029 & -4.469564 & -4.215000 & -4.761991 & -0.322000 & -3.246187 & -4.180866\\\\\n",
       "\\end{tabular}\n"
      ],
      "text/markdown": [
       "\n",
       "| <!--/--> | CTG-0149 | CTG-0152 | CTG-0159 | CTG-0160 | CTG-0163 | CTG-0166 | CTG-0167 | CTG-0178 | CTG-0184 | CTG-0462 | ... | CTG-3190 | CTG-3213 | CTG-3375 | CTG-3414 | CTG-3485 | CTG-3493 | CTG-3518 | CTG-3527 | CTG-3538 | CTG-3547 |\n",
       "|---|---|---|---|---|---|---|---|---|---|---|---|---|---|---|---|---|---|---|---|---|---|\n",
       "| sp|A0A087WV62|TVB16_HUMAN | -4.490228 | -5.953811 | -0.435000 | -0.4125   |  0.6685   |  0.1175   | -0.848    |  2.000000 |  0.492    | -3.951179 | ...       | -4.778822 | -0.235000 | -0.9080   | -2.366000 | -4.098275 | -6.894622 | -3.693368 | -4.180883 |  0.243000 | -3.961313 |\n",
       "| sp|A0A0B4J2D5|GAL3B_HUMAN;sp|P0DPI2|GAL3A_HUMAN |  1.674000 |  0.364000 |  0.592000 |  1.1995   |  2.6165   |  2.2045   |  1.709    |  1.863000 |  1.107    |  2.930000 | ...       |  0.321500 |  1.663000 |  1.7540   |  1.248000 |  2.619500 |  1.328000 |  1.650000 |  2.766000 |  2.295000 | -0.541000 |\n",
       "| sp|A0AV96|RBM47_HUMAN | -6.082306 | -5.421102 |  2.436000 | -0.9335   | -0.2805   |  1.1925   |  2.334    |  2.489000 |  1.155    | -1.184000 | ...       | -1.837500 | -0.404000 |  1.8310   | -1.922000 |  0.671500 | -1.184000 | -4.691444 |  0.575000 |  2.120000 | -3.986819 |\n",
       "| sp|A0AVT1|UBA6_HUMAN |  1.215000 |  1.390000 |  1.244000 |  0.9545   |  0.6195   |  1.7625   |  0.955    |  0.355000 |  0.548    |  2.295000 | ...       |  2.298500 |  2.143000 |  1.5770   |  1.019000 |  1.690500 |  1.410000 |  1.562000 |  2.214000 |  0.806000 |  1.951000 |\n",
       "| sp|A0FGR8|ESYT2_HUMAN | -2.028000 | -1.934000 |  1.073000 | -0.4605   | -1.2495   |  0.2765   | -0.091    | -1.430000 | -0.379    | -0.703000 | ...       | -4.313355 |  0.495000 |  0.7660   | -5.987142 | -0.089500 | -0.608000 | -5.255951 | -0.117000 |  0.328000 | -1.375000 |\n",
       "| sp|A0JLT2|MED19_HUMAN | -3.345565 | -5.283630 | -4.526696 | -4.3525   | -3.5545   | -3.8115   | -3.883    | -5.792884 | -2.985    | -2.000000 | ...       | -2.363500 | -5.144327 | -4.2477   | -6.126029 | -4.469564 | -4.215000 | -4.761991 | -0.322000 | -3.246187 | -4.180866 |\n",
       "\n"
      ],
      "text/plain": [
       "                                                CTG-0149  CTG-0152  CTG-0159 \n",
       "sp|A0A087WV62|TVB16_HUMAN                       -4.490228 -5.953811 -0.435000\n",
       "sp|A0A0B4J2D5|GAL3B_HUMAN;sp|P0DPI2|GAL3A_HUMAN  1.674000  0.364000  0.592000\n",
       "sp|A0AV96|RBM47_HUMAN                           -6.082306 -5.421102  2.436000\n",
       "sp|A0AVT1|UBA6_HUMAN                             1.215000  1.390000  1.244000\n",
       "sp|A0FGR8|ESYT2_HUMAN                           -2.028000 -1.934000  1.073000\n",
       "sp|A0JLT2|MED19_HUMAN                           -3.345565 -5.283630 -4.526696\n",
       "                                                CTG-0160 CTG-0163 CTG-0166\n",
       "sp|A0A087WV62|TVB16_HUMAN                       -0.4125   0.6685   0.1175 \n",
       "sp|A0A0B4J2D5|GAL3B_HUMAN;sp|P0DPI2|GAL3A_HUMAN  1.1995   2.6165   2.2045 \n",
       "sp|A0AV96|RBM47_HUMAN                           -0.9335  -0.2805   1.1925 \n",
       "sp|A0AVT1|UBA6_HUMAN                             0.9545   0.6195   1.7625 \n",
       "sp|A0FGR8|ESYT2_HUMAN                           -0.4605  -1.2495   0.2765 \n",
       "sp|A0JLT2|MED19_HUMAN                           -4.3525  -3.5545  -3.8115 \n",
       "                                                CTG-0167 CTG-0178  CTG-0184\n",
       "sp|A0A087WV62|TVB16_HUMAN                       -0.848    2.000000  0.492  \n",
       "sp|A0A0B4J2D5|GAL3B_HUMAN;sp|P0DPI2|GAL3A_HUMAN  1.709    1.863000  1.107  \n",
       "sp|A0AV96|RBM47_HUMAN                            2.334    2.489000  1.155  \n",
       "sp|A0AVT1|UBA6_HUMAN                             0.955    0.355000  0.548  \n",
       "sp|A0FGR8|ESYT2_HUMAN                           -0.091   -1.430000 -0.379  \n",
       "sp|A0JLT2|MED19_HUMAN                           -3.883   -5.792884 -2.985  \n",
       "                                                CTG-0462  ... CTG-3190 \n",
       "sp|A0A087WV62|TVB16_HUMAN                       -3.951179 ... -4.778822\n",
       "sp|A0A0B4J2D5|GAL3B_HUMAN;sp|P0DPI2|GAL3A_HUMAN  2.930000 ...  0.321500\n",
       "sp|A0AV96|RBM47_HUMAN                           -1.184000 ... -1.837500\n",
       "sp|A0AVT1|UBA6_HUMAN                             2.295000 ...  2.298500\n",
       "sp|A0FGR8|ESYT2_HUMAN                           -0.703000 ... -4.313355\n",
       "sp|A0JLT2|MED19_HUMAN                           -2.000000 ... -2.363500\n",
       "                                                CTG-3213  CTG-3375 CTG-3414 \n",
       "sp|A0A087WV62|TVB16_HUMAN                       -0.235000 -0.9080  -2.366000\n",
       "sp|A0A0B4J2D5|GAL3B_HUMAN;sp|P0DPI2|GAL3A_HUMAN  1.663000  1.7540   1.248000\n",
       "sp|A0AV96|RBM47_HUMAN                           -0.404000  1.8310  -1.922000\n",
       "sp|A0AVT1|UBA6_HUMAN                             2.143000  1.5770   1.019000\n",
       "sp|A0FGR8|ESYT2_HUMAN                            0.495000  0.7660  -5.987142\n",
       "sp|A0JLT2|MED19_HUMAN                           -5.144327 -4.2477  -6.126029\n",
       "                                                CTG-3485  CTG-3493  CTG-3518 \n",
       "sp|A0A087WV62|TVB16_HUMAN                       -4.098275 -6.894622 -3.693368\n",
       "sp|A0A0B4J2D5|GAL3B_HUMAN;sp|P0DPI2|GAL3A_HUMAN  2.619500  1.328000  1.650000\n",
       "sp|A0AV96|RBM47_HUMAN                            0.671500 -1.184000 -4.691444\n",
       "sp|A0AVT1|UBA6_HUMAN                             1.690500  1.410000  1.562000\n",
       "sp|A0FGR8|ESYT2_HUMAN                           -0.089500 -0.608000 -5.255951\n",
       "sp|A0JLT2|MED19_HUMAN                           -4.469564 -4.215000 -4.761991\n",
       "                                                CTG-3527  CTG-3538  CTG-3547 \n",
       "sp|A0A087WV62|TVB16_HUMAN                       -4.180883  0.243000 -3.961313\n",
       "sp|A0A0B4J2D5|GAL3B_HUMAN;sp|P0DPI2|GAL3A_HUMAN  2.766000  2.295000 -0.541000\n",
       "sp|A0AV96|RBM47_HUMAN                            0.575000  2.120000 -3.986819\n",
       "sp|A0AVT1|UBA6_HUMAN                             2.214000  0.806000  1.951000\n",
       "sp|A0FGR8|ESYT2_HUMAN                           -0.117000  0.328000 -1.375000\n",
       "sp|A0JLT2|MED19_HUMAN                           -0.322000 -3.246187 -4.180866"
      ]
     },
     "metadata": {},
     "output_type": "display_data"
    },
    {
     "name": "stdout",
     "output_type": "stream",
     "text": [
      "[1] 5466  164\n"
     ]
    }
   ],
   "source": [
    "# for int_norm matrix, only keep samples that are in clin_treat (name it dat.log to use example code)\n",
    "# add a column in clin_treat to convert treatment to NONE=Naive and all drugs=Treated\n",
    "# sort Model in clin_treat in the same order as in the proteomics matrix\n",
    "# write a function that allows choosing `Tumor type` for each analysis\n",
    "dat.log <- int_norm %>% \n",
    "    select(clin_treat$Model)\n",
    "head(dat.log)\n",
    "print(dim(dat.log))"
   ]
  },
  {
   "cell_type": "code",
   "execution_count": 48,
   "id": "f94d1bfa",
   "metadata": {},
   "outputs": [
    {
     "name": "stdout",
     "output_type": "stream",
     "text": [
      "[1] 196   4\n"
     ]
    },
    {
     "data": {
      "text/html": [
       "<table>\n",
       "<thead><tr><th scope=col>Model</th><th scope=col>Tumor type</th><th scope=col>Histology</th><th scope=col>treatment</th></tr></thead>\n",
       "<tbody>\n",
       "\t<tr><td>CTG-0149     </td><td>HEAD AND NECK</td><td>SC CARCINOMA </td><td>Naive        </td></tr>\n",
       "\t<tr><td>CTG-0152     </td><td>HEAD AND NECK</td><td>SC CARCINOMA </td><td>Treated      </td></tr>\n",
       "\t<tr><td>CTG-0159     </td><td>NSCLC        </td><td>SC CARCINOMA </td><td>Treated      </td></tr>\n",
       "\t<tr><td>CTG-0160     </td><td>NSCLC        </td><td>SC CARCINOMA </td><td>Treated      </td></tr>\n",
       "\t<tr><td>CTG-0163     </td><td>NSCLC        </td><td>SC CARCINOMA </td><td>Treated      </td></tr>\n",
       "\t<tr><td>CTG-0166     </td><td>NSCLC        </td><td>SC CARCINOMA </td><td>Treated      </td></tr>\n",
       "</tbody>\n",
       "</table>\n"
      ],
      "text/latex": [
       "\\begin{tabular}{r|llll}\n",
       " Model & Tumor type & Histology & treatment\\\\\n",
       "\\hline\n",
       "\t CTG-0149      & HEAD AND NECK & SC CARCINOMA  & Naive        \\\\\n",
       "\t CTG-0152      & HEAD AND NECK & SC CARCINOMA  & Treated      \\\\\n",
       "\t CTG-0159      & NSCLC         & SC CARCINOMA  & Treated      \\\\\n",
       "\t CTG-0160      & NSCLC         & SC CARCINOMA  & Treated      \\\\\n",
       "\t CTG-0163      & NSCLC         & SC CARCINOMA  & Treated      \\\\\n",
       "\t CTG-0166      & NSCLC         & SC CARCINOMA  & Treated      \\\\\n",
       "\\end{tabular}\n"
      ],
      "text/markdown": [
       "\n",
       "| Model | Tumor type | Histology | treatment |\n",
       "|---|---|---|---|\n",
       "| CTG-0149      | HEAD AND NECK | SC CARCINOMA  | Naive         |\n",
       "| CTG-0152      | HEAD AND NECK | SC CARCINOMA  | Treated       |\n",
       "| CTG-0159      | NSCLC         | SC CARCINOMA  | Treated       |\n",
       "| CTG-0160      | NSCLC         | SC CARCINOMA  | Treated       |\n",
       "| CTG-0163      | NSCLC         | SC CARCINOMA  | Treated       |\n",
       "| CTG-0166      | NSCLC         | SC CARCINOMA  | Treated       |\n",
       "\n"
      ],
      "text/plain": [
       "  Model    Tumor type    Histology    treatment\n",
       "1 CTG-0149 HEAD AND NECK SC CARCINOMA Naive    \n",
       "2 CTG-0152 HEAD AND NECK SC CARCINOMA Treated  \n",
       "3 CTG-0159 NSCLC         SC CARCINOMA Treated  \n",
       "4 CTG-0160 NSCLC         SC CARCINOMA Treated  \n",
       "5 CTG-0163 NSCLC         SC CARCINOMA Treated  \n",
       "6 CTG-0166 NSCLC         SC CARCINOMA Treated  "
      ]
     },
     "metadata": {},
     "output_type": "display_data"
    }
   ],
   "source": [
    "treated_naive <- clin_treat %>% \n",
    "    mutate(treatment = replace(treatment, treatment != 'NONE', 'Treated')) %>% \n",
    "    mutate(treatment = replace(treatment, treatment == 'NONE', 'Naive')) %>% \n",
    "    select(-outcome) %>% \n",
    "    unique\n",
    "print(dim(treated_naive))\n",
    "head(treated_naive)"
   ]
  },
  {
   "cell_type": "code",
   "execution_count": 47,
   "id": "1ceddbdb",
   "metadata": {},
   "outputs": [
    {
     "data": {
      "text/html": [
       "<ol class=list-inline>\n",
       "\t<li>'Naive'</li>\n",
       "\t<li>'Treated'</li>\n",
       "</ol>\n"
      ],
      "text/latex": [
       "\\begin{enumerate*}\n",
       "\\item 'Naive'\n",
       "\\item 'Treated'\n",
       "\\end{enumerate*}\n"
      ],
      "text/markdown": [
       "1. 'Naive'\n",
       "2. 'Treated'\n",
       "\n",
       "\n"
      ],
      "text/plain": [
       "[1] \"Naive\"   \"Treated\""
      ]
     },
     "metadata": {},
     "output_type": "display_data"
    }
   ],
   "source": [
    "unique(treated_naive$treatment)"
   ]
  },
  {
   "cell_type": "code",
   "execution_count": 51,
   "id": "e71e3dc5",
   "metadata": {},
   "outputs": [
    {
     "data": {
      "text/html": [
       "<table>\n",
       "<thead><tr><th scope=col>Model</th><th scope=col>Tumor type</th><th scope=col>Histology</th><th scope=col>treatment</th></tr></thead>\n",
       "<tbody>\n",
       "\t<tr><td>CTG-0166    </td><td>NSCLC       </td><td>SC CARCINOMA</td><td>Treated     </td></tr>\n",
       "\t<tr><td>CTG-0166    </td><td>NSCLC       </td><td>SC CARCINOMA</td><td>Naive       </td></tr>\n",
       "</tbody>\n",
       "</table>\n"
      ],
      "text/latex": [
       "\\begin{tabular}{r|llll}\n",
       " Model & Tumor type & Histology & treatment\\\\\n",
       "\\hline\n",
       "\t CTG-0166     & NSCLC        & SC CARCINOMA & Treated     \\\\\n",
       "\t CTG-0166     & NSCLC        & SC CARCINOMA & Naive       \\\\\n",
       "\\end{tabular}\n"
      ],
      "text/markdown": [
       "\n",
       "| Model | Tumor type | Histology | treatment |\n",
       "|---|---|---|---|\n",
       "| CTG-0166     | NSCLC        | SC CARCINOMA | Treated      |\n",
       "| CTG-0166     | NSCLC        | SC CARCINOMA | Naive        |\n",
       "\n"
      ],
      "text/plain": [
       "  Model    Tumor type Histology    treatment\n",
       "1 CTG-0166 NSCLC      SC CARCINOMA Treated  \n",
       "2 CTG-0166 NSCLC      SC CARCINOMA Naive    "
      ]
     },
     "metadata": {},
     "output_type": "display_data"
    }
   ],
   "source": [
    "# # check the repeated model numbers\n",
    "# n_occur <- data.frame(table(treated_naive$Model))\n",
    "# n_occur[n_occur$Freq > 1,]\n",
    "treated_naive[treated_naive$Model=='CTG-0166',]"
   ]
  },
  {
   "cell_type": "markdown",
   "id": "9270acf5",
   "metadata": {},
   "source": [
    "## Phosphorilation data"
   ]
  },
  {
   "cell_type": "code",
   "execution_count": 27,
   "id": "23149ea5",
   "metadata": {},
   "outputs": [],
   "source": [
    "# # from /general_analysis/DataBaseUpload/NGS/Proteomics/bin/PhosphoProteomics_PreProccess.html\n",
    "# # `Counts` are just 2 to the power of Intensity. This is for DE analysis where counts are needed\n",
    "# phos <- read.csv(\"../proteomics/data/Protein_phos_data.csv\")\n",
    "# head(phos, 2)"
   ]
  },
  {
   "cell_type": "code",
   "execution_count": 28,
   "id": "50716f1a",
   "metadata": {},
   "outputs": [],
   "source": [
    "# phos_int <- phos %>% \n",
    "#     select(c('ProteinGroup', 'Sample', 'Counts'))  %>% \n",
    "#     pivot_wider(names_from = Sample, values_from = Counts, values_fn = mean) %>% \n",
    "# #     pivot_wider(names_from = Sample, values_from = Intensity) %>% \n",
    "#     column_to_rownames('ProteinGroup')\n",
    "# rm(phos)\n",
    "# head(phos_int, 2)\n",
    "# print(dim(phos_int))"
   ]
  },
  {
   "cell_type": "code",
   "execution_count": 29,
   "id": "7f449d9b",
   "metadata": {},
   "outputs": [],
   "source": [
    "# x <- na.omit(phos_int)\n",
    "# dim(x)"
   ]
  },
  {
   "cell_type": "code",
   "execution_count": 30,
   "id": "2237ac85",
   "metadata": {},
   "outputs": [],
   "source": [
    "# # proportion of missin values\n",
    "# sum(is.na(phos_int))/(dim(phos_int)[1] * dim(phos_int)[2])"
   ]
  }
 ],
 "metadata": {
  "kernelspec": {
   "display_name": "R",
   "language": "R",
   "name": "ir"
  },
  "language_info": {
   "codemirror_mode": "r",
   "file_extension": ".r",
   "mimetype": "text/x-r-source",
   "name": "R",
   "pygments_lexer": "r",
   "version": "3.6.1"
  }
 },
 "nbformat": 4,
 "nbformat_minor": 5
}
