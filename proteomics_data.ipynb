{
 "cells": [
  {
   "cell_type": "code",
   "execution_count": 1,
   "id": "e103e923",
   "metadata": {},
   "outputs": [],
   "source": [
    "suppressWarnings(require('pkgmaker',quietly = T))\n",
    "require('plyr',quietly = T)\n",
    "l_ply(c('dplyr',\n",
    "        'plotly',\n",
    "        'data.table',\n",
    "#         'jsonlite', \n",
    "#         'rjson',\n",
    "#         'httr',\n",
    "        'tidyr',  \n",
    "        'reshape2',\n",
    "        'factoextra',\n",
    "        'kableExtra',\n",
    "        'parallel',\n",
    "        'doParallel',\n",
    "        'scales',\n",
    "        'StatMatch',\n",
    "        'lattice',\n",
    "        'utils',\n",
    "        'missMDA',\n",
    "        'RMariaDB',\n",
    "        'pacman',\n",
    "        'parmigene',\n",
    "        'matrixTests',\n",
    "        'hablar',\n",
    "        'tibble', \n",
    "        'DEqMS', \n",
    "        'pcaMethods'), function(pkg) {\n",
    "          invisible(capture.output(irequire(pkg, quiet = T, autoinstall = T)))\n",
    "        })"
   ]
  },
  {
   "cell_type": "markdown",
   "id": "f4d52db7",
   "metadata": {},
   "source": [
    "## Example data"
   ]
  },
  {
   "cell_type": "code",
   "execution_count": 2,
   "id": "9d01bcff",
   "metadata": {},
   "outputs": [],
   "source": [
    "# # url <- \"https://ftp.ebi.ac.uk/pride-archive/2016/06/PXD004163/Yan_miR_Protein_table.flatprottable.txt\"\n",
    "# # download.file(url, destfile = \"./data/miR_Proteintable.txt\",method= \"auto\")\n",
    "\n",
    "# df.prot = read.table(\"./data/miR_Proteintable.txt\",stringsAsFactors = FALSE,\n",
    "#                      header = TRUE, quote = \"\", comment.char = \"\",sep = \"\\t\")\n",
    "# head(df.prot, 2)"
   ]
  },
  {
   "cell_type": "code",
   "execution_count": 3,
   "id": "a1b36781",
   "metadata": {},
   "outputs": [],
   "source": [
    "# TMT_columns = seq(15,33,2)\n",
    "# dat = df.prot[df.prot$miR.FASP_q.value<0.01,TMT_columns]\n",
    "# rownames(dat) = df.prot[df.prot$miR.FASP_q.value<0.01,]$Protein.accession\n",
    "# rm(df.prot) # release memory since using dat from here on\n",
    "# head(dat, 2)"
   ]
  },
  {
   "cell_type": "code",
   "execution_count": 4,
   "id": "343dee4d",
   "metadata": {},
   "outputs": [],
   "source": [
    "# min(dat, na.rm = TRUE)"
   ]
  },
  {
   "cell_type": "code",
   "execution_count": 5,
   "id": "ad4b59eb",
   "metadata": {},
   "outputs": [],
   "source": [
    "# max(dat, na.rm = TRUE)"
   ]
  },
  {
   "cell_type": "code",
   "execution_count": 6,
   "id": "29c98708",
   "metadata": {},
   "outputs": [],
   "source": [
    "# head(log2(dat), 2)"
   ]
  },
  {
   "cell_type": "code",
   "execution_count": 7,
   "id": "9fde2350",
   "metadata": {},
   "outputs": [],
   "source": [
    "# min(log2(dat), na.rm = TRUE)"
   ]
  },
  {
   "cell_type": "code",
   "execution_count": 8,
   "id": "ce91f000",
   "metadata": {},
   "outputs": [],
   "source": [
    "# max(log2(dat), na.rm = TRUE)"
   ]
  },
  {
   "cell_type": "code",
   "execution_count": 9,
   "id": "d870c2fe",
   "metadata": {},
   "outputs": [],
   "source": [
    "# dat.log = log2(dat)\n",
    "# #remove rows with NAs\n",
    "# dat.log = na.omit(dat.log)"
   ]
  },
  {
   "cell_type": "code",
   "execution_count": 10,
   "id": "ea75031a",
   "metadata": {},
   "outputs": [],
   "source": [
    "# # Define a vector with the treatment group in the same order as samples in the protein table.\n",
    "# cond = as.factor(c(\"ctrl\",\"miR191\",\"miR372\",\"miR519\",\"ctrl\",\n",
    "# \"miR372\",\"miR519\",\"ctrl\",\"miR191\",\"miR372\"))"
   ]
  },
  {
   "cell_type": "markdown",
   "id": "9cfba8ab",
   "metadata": {},
   "source": [
    "## Protein_intensity table"
   ]
  },
  {
   "cell_type": "markdown",
   "id": "fc1a022f",
   "metadata": {},
   "source": [
    "From /general_analysis/DataBaseUpload/NGS/Proteomics/bin/PhosphoProteomics_PreProccess.html:\n",
    "\n",
    "Outlayiers: very low/high values (0.0001% and 99.9999%) were floored to these ranges. This believed to be an error and unlikely to be real value.\n",
    "\n",
    "Possible reason: the original data have Inf. The R language calculated it to some extreme values."
   ]
  },
  {
   "cell_type": "code",
   "execution_count": 38,
   "id": "79372130",
   "metadata": {},
   "outputs": [],
   "source": [
    "# from /general_analysis/DataBaseUpload/NGS/Proteomics/bin/PhosphoProteomics_PreProccess.html\n",
    "# `Counts` are just 2 to the power of Intensity. This is for DE analysis where counts are needed\n",
    "# note: without filtering, the dimension is 1330824 rows\n",
    "intensity <- read.csv(\"../proteomics/data/Protein_intensity.csv\") \n",
    "# %>% filter(Intensity > -3.0) # remove values that are too small - think if this is necessary"
   ]
  },
  {
   "cell_type": "code",
   "execution_count": 12,
   "id": "25a0900f",
   "metadata": {},
   "outputs": [
    {
     "data": {
      "text/html": [
       "<table>\n",
       "<thead><tr><th scope=col>id</th><th scope=col>Protein</th><th scope=col>ProteinGroup</th><th scope=col>ProteinGroupName</th><th scope=col>ProteinGroupId</th><th scope=col>Organism</th><th scope=col>Sample</th><th scope=col>Intensity</th><th scope=col>counts</th><th scope=col>hgnc_symbol</th></tr></thead>\n",
       "<tbody>\n",
       "\t<tr><td>45243                    </td><td>sp|A0A087WV62|TVB16_HUMAN</td><td>sp|A0A087WV62|TVB16_HUMAN</td><td>TVB16_HUMAN              </td><td>A0A087WV62               </td><td>NULL                     </td><td>CTG-0158                 </td><td>15.503                   </td><td>NULL                     </td><td>NULL                     </td></tr>\n",
       "\t<tr><td>45244                    </td><td>sp|A0A087WV62|TVB16_HUMAN</td><td>sp|A0A087WV62|TVB16_HUMAN</td><td>TVB16_HUMAN              </td><td>A0A087WV62               </td><td>NULL                     </td><td>CTG-0159                 </td><td>14.932                   </td><td>NULL                     </td><td>NULL                     </td></tr>\n",
       "</tbody>\n",
       "</table>\n"
      ],
      "text/latex": [
       "\\begin{tabular}{r|llllllllll}\n",
       " id & Protein & ProteinGroup & ProteinGroupName & ProteinGroupId & Organism & Sample & Intensity & counts & hgnc\\_symbol\\\\\n",
       "\\hline\n",
       "\t 45243                                           & sp\\textbar{}A0A087WV62\\textbar{}TVB16\\_HUMAN & sp\\textbar{}A0A087WV62\\textbar{}TVB16\\_HUMAN & TVB16\\_HUMAN                                   & A0A087WV62                                      & NULL                                            & CTG-0158                                        & 15.503                                          & NULL                                            & NULL                                           \\\\\n",
       "\t 45244                                           & sp\\textbar{}A0A087WV62\\textbar{}TVB16\\_HUMAN & sp\\textbar{}A0A087WV62\\textbar{}TVB16\\_HUMAN & TVB16\\_HUMAN                                   & A0A087WV62                                      & NULL                                            & CTG-0159                                        & 14.932                                          & NULL                                            & NULL                                           \\\\\n",
       "\\end{tabular}\n"
      ],
      "text/markdown": [
       "\n",
       "| id | Protein | ProteinGroup | ProteinGroupName | ProteinGroupId | Organism | Sample | Intensity | counts | hgnc_symbol |\n",
       "|---|---|---|---|---|---|---|---|---|---|\n",
       "| 45243                     | sp|A0A087WV62|TVB16_HUMAN | sp|A0A087WV62|TVB16_HUMAN | TVB16_HUMAN               | A0A087WV62                | NULL                      | CTG-0158                  | 15.503                    | NULL                      | NULL                      |\n",
       "| 45244                     | sp|A0A087WV62|TVB16_HUMAN | sp|A0A087WV62|TVB16_HUMAN | TVB16_HUMAN               | A0A087WV62                | NULL                      | CTG-0159                  | 14.932                    | NULL                      | NULL                      |\n",
       "\n"
      ],
      "text/plain": [
       "  id    Protein                   ProteinGroup              ProteinGroupName\n",
       "1 45243 sp|A0A087WV62|TVB16_HUMAN sp|A0A087WV62|TVB16_HUMAN TVB16_HUMAN     \n",
       "2 45244 sp|A0A087WV62|TVB16_HUMAN sp|A0A087WV62|TVB16_HUMAN TVB16_HUMAN     \n",
       "  ProteinGroupId Organism Sample   Intensity counts hgnc_symbol\n",
       "1 A0A087WV62     NULL     CTG-0158 15.503    NULL   NULL       \n",
       "2 A0A087WV62     NULL     CTG-0159 14.932    NULL   NULL       "
      ]
     },
     "metadata": {},
     "output_type": "display_data"
    },
    {
     "name": "stdout",
     "output_type": "stream",
     "text": [
      "[1] 1330824      10\n"
     ]
    }
   ],
   "source": [
    "head(intensity, 2)\n",
    "print(dim(intensity))"
   ]
  },
  {
   "cell_type": "code",
   "execution_count": 52,
   "id": "574f67ad",
   "metadata": {
    "scrolled": true
   },
   "outputs": [
    {
     "data": {
      "text/html": [
       "<table>\n",
       "<thead><tr><th></th><th scope=col>id</th><th scope=col>Protein</th><th scope=col>ProteinGroup</th><th scope=col>ProteinGroupName</th><th scope=col>ProteinGroupId</th><th scope=col>Organism</th><th scope=col>Sample</th><th scope=col>Intensity</th><th scope=col>counts</th><th scope=col>hgnc_symbol</th></tr></thead>\n",
       "<tbody>\n",
       "\t<tr><th scope=row>6</th><td>45248                                          </td><td>sp|A0A087WV62|TVB16_HUMAN                      </td><td>sp|A0A087WV62|TVB16_HUMAN                      </td><td>TVB16_HUMAN                                    </td><td>A0A087WV62                                     </td><td>NULL                                           </td><td>CTG-0166                                       </td><td>15.620                                         </td><td>NULL                                           </td><td>NULL                                           </td></tr>\n",
       "\t<tr><th scope=row>119</th><td>45361                                          </td><td>sp|A0A0B4J2D5|GAL3B_HUMAN                      </td><td>sp|A0A0B4J2D5|GAL3B_HUMAN;sp|P0DPI2|GAL3A_HUMAN</td><td>GAL3B_HUMAN                                    </td><td>A0A0B4J2D5                                     </td><td>NULL                                           </td><td>CTG-0166                                       </td><td>17.707                                         </td><td>NULL                                           </td><td>NULL                                           </td></tr>\n",
       "\t<tr><th scope=row>351</th><td>45593                                          </td><td>sp|A0A1B0GVH6|CM042_HUMAN                      </td><td>sp|A0A1B0GVH6|CM042_HUMAN                      </td><td>CM042_HUMAN                                    </td><td>A0A1B0GVH6                                     </td><td>NULL                                           </td><td>CTG-0166                                       </td><td>16.119                                         </td><td>NULL                                           </td><td>NULL                                           </td></tr>\n",
       "\t<tr><th scope=row>407</th><td>45649                                          </td><td>sp|A0AV96|RBM47_HUMAN                          </td><td>sp|A0AV96|RBM47_HUMAN                          </td><td>RBM47_HUMAN                                    </td><td>A0AV96                                         </td><td>NULL                                           </td><td>CTG-0166                                       </td><td>16.695                                         </td><td>NULL                                           </td><td>NULL                                           </td></tr>\n",
       "\t<tr><th scope=row>543</th><td>45785                                          </td><td>sp|A0AVT1|UBA6_HUMAN                           </td><td>sp|A0AVT1|UBA6_HUMAN                           </td><td>UBA6_HUMAN                                     </td><td>A0AVT1                                         </td><td>NULL                                           </td><td>CTG-0166                                       </td><td>17.265                                         </td><td>NULL                                           </td><td>NULL                                           </td></tr>\n",
       "\t<tr><th scope=row>691</th><td>45933                                          </td><td>sp|A0FGR8|ESYT2_HUMAN                          </td><td>sp|A0FGR8|ESYT2_HUMAN                          </td><td>ESYT2_HUMAN                                    </td><td>A0FGR8                                         </td><td>NULL                                           </td><td>CTG-0166                                       </td><td>15.779                                         </td><td>NULL                                           </td><td>NULL                                           </td></tr>\n",
       "\t<tr><th scope=row>826</th><td>46068                                          </td><td>sp|A0JLT2|MED19_HUMAN                          </td><td>sp|A0JLT2|MED19_HUMAN                          </td><td>MED19_HUMAN                                    </td><td>A0JLT2                                         </td><td>NULL                                           </td><td>CTG-0166                                       </td><td>11.691                                         </td><td>NULL                                           </td><td>NULL                                           </td></tr>\n",
       "\t<tr><th scope=row>904</th><td>46146                                          </td><td>sp|A0JNW5|UH1BL_HUMAN                          </td><td>sp|A0JNW5|UH1BL_HUMAN                          </td><td>UH1BL_HUMAN                                    </td><td>A0JNW5                                         </td><td>NULL                                           </td><td>CTG-0166                                       </td><td> 9.644                                         </td><td>NULL                                           </td><td>NULL                                           </td></tr>\n",
       "\t<tr><th scope=row>942</th><td>46184                                          </td><td>sp|A0MZ66|SHOT1_HUMAN                          </td><td>sp|A0MZ66|SHOT1_HUMAN                          </td><td>SHOT1_HUMAN                                    </td><td>A0MZ66                                         </td><td>NULL                                           </td><td>CTG-0166                                       </td><td>15.742                                         </td><td>NULL                                           </td><td>NULL                                           </td></tr>\n",
       "\t<tr><th scope=row>1121</th><td>46363                                          </td><td>sp|A1L020|MEX3A_HUMAN                          </td><td>sp|A1L020|MEX3A_HUMAN                          </td><td>MEX3A_HUMAN                                    </td><td>A1L020                                         </td><td>NULL                                           </td><td>CTG-0166                                       </td><td>10.313                                         </td><td>NULL                                           </td><td>NULL                                           </td></tr>\n",
       "\t<tr><th scope=row>1147</th><td>46389                                          </td><td>sp|A1L0T0|HACL2_HUMAN                          </td><td>sp|A1L0T0|HACL2_HUMAN                          </td><td>HACL2_HUMAN                                    </td><td>A1L0T0                                         </td><td>NULL                                           </td><td>CTG-0166                                       </td><td>12.550                                         </td><td>NULL                                           </td><td>NULL                                           </td></tr>\n",
       "\t<tr><th scope=row>1446</th><td>46688                                          </td><td>sp|A2A2Z9|AN18B_HUMAN                          </td><td>sp|A2A2Z9|AN18B_HUMAN;sp|Q8IVF6|AN18A_HUMAN    </td><td>AN18B_HUMAN                                    </td><td>A2A2Z9                                         </td><td>NULL                                           </td><td>CTG-0166                                       </td><td>17.785                                         </td><td>NULL                                           </td><td>NULL                                           </td></tr>\n",
       "\t<tr><th scope=row>1612</th><td>46854                                          </td><td>sp|A2RRP1|NBAS_HUMAN                           </td><td>sp|A2RRP1|NBAS_HUMAN                           </td><td>NBAS_HUMAN                                     </td><td>A2RRP1                                         </td><td>NULL                                           </td><td>CTG-0166                                       </td><td>14.690                                         </td><td>NULL                                           </td><td>NULL                                           </td></tr>\n",
       "\t<tr><th scope=row>1786</th><td>47028                                          </td><td>sp|A2RUS2|DEND3_HUMAN                          </td><td>sp|A2RUS2|DEND3_HUMAN                          </td><td>DEND3_HUMAN                                    </td><td>A2RUS2                                         </td><td>NULL                                           </td><td>CTG-0166                                       </td><td>11.028                                         </td><td>NULL                                           </td><td>NULL                                           </td></tr>\n",
       "\t<tr><th scope=row>1812</th><td>47054                                          </td><td>sp|A3KMH1|VWA8_HUMAN                           </td><td>sp|A3KMH1|VWA8_HUMAN                           </td><td>VWA8_HUMAN                                     </td><td>A3KMH1                                         </td><td>NULL                                           </td><td>CTG-0166                                       </td><td>12.196                                         </td><td>NULL                                           </td><td>NULL                                           </td></tr>\n",
       "\t<tr><th scope=row>1945</th><td>47187                                          </td><td>sp|A3KN83|SBNO1_HUMAN                          </td><td>sp|A3KN83|SBNO1_HUMAN                          </td><td>SBNO1_HUMAN                                    </td><td>A3KN83                                         </td><td>NULL                                           </td><td>CTG-0166                                       </td><td>16.277                                         </td><td>NULL                                           </td><td>NULL                                           </td></tr>\n",
       "\t<tr><th scope=row>2068</th><td>47310                                          </td><td>sp|A4D1B5|GSAP_HUMAN                           </td><td>sp|A4D1B5|GSAP_HUMAN                           </td><td>GSAP_HUMAN                                     </td><td>A4D1B5                                         </td><td>NULL                                           </td><td>CTG-0166                                       </td><td>17.777                                         </td><td>NULL                                           </td><td>NULL                                           </td></tr>\n",
       "\t<tr><th scope=row>2213</th><td>47455                                          </td><td>sp|A4D1E9|GTPBA_HUMAN                          </td><td>sp|A4D1E9|GTPBA_HUMAN                          </td><td>GTPBA_HUMAN                                    </td><td>A4D1E9                                         </td><td>NULL                                           </td><td>CTG-0166                                       </td><td>12.924                                         </td><td>NULL                                           </td><td>NULL                                           </td></tr>\n",
       "\t<tr><th scope=row>2409</th><td>47651                                          </td><td>sp|A4D1U4|DEN11_HUMAN                          </td><td>sp|A4D1U4|DEN11_HUMAN                          </td><td>DEN11_HUMAN                                    </td><td>A4D1U4                                         </td><td>NULL                                           </td><td>CTG-0166                                       </td><td>13.689                                         </td><td>NULL                                           </td><td>NULL                                           </td></tr>\n",
       "\t<tr><th scope=row>2453</th><td>47695                                          </td><td>sp|A5D8V6|VP37C_HUMAN                          </td><td>sp|A5D8V6|VP37C_HUMAN                          </td><td>VP37C_HUMAN                                    </td><td>A5D8V6                                         </td><td>NULL                                           </td><td>CTG-0166                                       </td><td>14.516                                         </td><td>NULL                                           </td><td>NULL                                           </td></tr>\n",
       "\t<tr><th scope=row>2578</th><td>47820                                          </td><td>sp|A5YKK6|CNOT1_HUMAN                          </td><td>sp|A5YKK6|CNOT1_HUMAN                          </td><td>CNOT1_HUMAN                                    </td><td>A5YKK6                                         </td><td>NULL                                           </td><td>CTG-0166                                       </td><td>16.526                                         </td><td>NULL                                           </td><td>NULL                                           </td></tr>\n",
       "\t<tr><th scope=row>2823</th><td>48065                                          </td><td>sp|A6NDG6|PGP_HUMAN                            </td><td>sp|A6NDG6|PGP_HUMAN                            </td><td>PGP_HUMAN                                      </td><td>A6NDG6                                         </td><td>NULL                                           </td><td>CTG-0166                                       </td><td>17.262                                         </td><td>NULL                                           </td><td>NULL                                           </td></tr>\n",
       "\t<tr><th scope=row>2972</th><td>48214                                          </td><td>sp|A6NDU8|CE051_HUMAN                          </td><td>sp|A6NDU8|CE051_HUMAN                          </td><td>CE051_HUMAN                                    </td><td>A6NDU8                                         </td><td>NULL                                           </td><td>CTG-0166                                       </td><td>15.466                                         </td><td>NULL                                           </td><td>NULL                                           </td></tr>\n",
       "\t<tr><th scope=row>3142</th><td>48384                                          </td><td>sp|A6NFI3|ZN316_HUMAN                          </td><td>sp|A6NFI3|ZN316_HUMAN                          </td><td>ZN316_HUMAN                                    </td><td>A6NFI3                                         </td><td>NULL                                           </td><td>CTG-0166                                       </td><td>13.255                                         </td><td>NULL                                           </td><td>NULL                                           </td></tr>\n",
       "\t<tr><th scope=row>3325</th><td>48567                                          </td><td>sp|A6NGR9|MROH6_HUMAN                          </td><td>sp|A6NGR9|MROH6_HUMAN                          </td><td>MROH6_HUMAN                                    </td><td>A6NGR9                                         </td><td>NULL                                           </td><td>CTG-0166                                       </td><td>16.160                                         </td><td>NULL                                           </td><td>NULL                                           </td></tr>\n",
       "\t<tr><th scope=row>3473</th><td>48715                                          </td><td>sp|A6NHL2|TBAL3_HUMAN                          </td><td>sp|A6NHL2|TBAL3_HUMAN                          </td><td>TBAL3_HUMAN                                    </td><td>A6NHL2                                         </td><td>NULL                                           </td><td>CTG-0166                                       </td><td>16.412                                         </td><td>NULL                                           </td><td>NULL                                           </td></tr>\n",
       "\t<tr><th scope=row>3618</th><td>48860                                          </td><td>sp|A6NHR9|SMHD1_HUMAN                          </td><td>sp|A6NHR9|SMHD1_HUMAN                          </td><td>SMHD1_HUMAN                                    </td><td>A6NHR9                                         </td><td>NULL                                           </td><td>CTG-0166                                       </td><td>13.776                                         </td><td>NULL                                           </td><td>NULL                                           </td></tr>\n",
       "\t<tr><th scope=row>3848</th><td>49090                                          </td><td>sp|A6NIH7|U119B_HUMAN                          </td><td>sp|A6NIH7|U119B_HUMAN                          </td><td>U119B_HUMAN                                    </td><td>A6NIH7                                         </td><td>NULL                                           </td><td>CTG-0166                                       </td><td>14.756                                         </td><td>NULL                                           </td><td>NULL                                           </td></tr>\n",
       "\t<tr><th scope=row>3983</th><td>49225                                          </td><td>sp|A6NJ78|MET15_HUMAN                          </td><td>sp|A6NJ78|MET15_HUMAN                          </td><td>MET15_HUMAN                                    </td><td>A6NJ78                                         </td><td>NULL                                           </td><td>CTG-0166                                       </td><td>11.980                                         </td><td>NULL                                           </td><td>NULL                                           </td></tr>\n",
       "\t<tr><th scope=row>4094</th><td>49336                                          </td><td>sp|A6NKF1|SAC31_HUMAN                          </td><td>sp|A6NKF1|SAC31_HUMAN                          </td><td>SAC31_HUMAN                                    </td><td>A6NKF1                                         </td><td>NULL                                           </td><td>CTG-0166                                       </td><td>11.864                                         </td><td>NULL                                           </td><td>NULL                                           </td></tr>\n",
       "\t<tr><th scope=row>...</th><td>...</td><td>...</td><td>...</td><td>...</td><td>...</td><td>...</td><td>...</td><td>...</td><td>...</td><td>...</td></tr>\n",
       "\t<tr><th scope=row>627512</th><td>672844               </td><td>sp|Q9Y6C9|MTCH2_HUMAN</td><td>sp|Q9Y6C9|MTCH2_HUMAN</td><td>MTCH2_HUMAN          </td><td>Q9Y6C9               </td><td>NULL                 </td><td>CTG-0166             </td><td>17.647               </td><td>NULL                 </td><td>NULL                 </td></tr>\n",
       "\t<tr><th scope=row>627659</th><td>672991               </td><td>sp|Q9Y6D5|BIG2_HUMAN </td><td>sp|Q9Y6D5|BIG2_HUMAN </td><td>BIG2_HUMAN           </td><td>Q9Y6D5               </td><td>NULL                 </td><td>CTG-0166             </td><td>14.095               </td><td>NULL                 </td><td>NULL                 </td></tr>\n",
       "\t<tr><th scope=row>627745</th><td>673077               </td><td>sp|Q9Y6D6|BIG1_HUMAN </td><td>sp|Q9Y6D6|BIG1_HUMAN </td><td>BIG1_HUMAN           </td><td>Q9Y6D6               </td><td>NULL                 </td><td>CTG-0166             </td><td>14.467               </td><td>NULL                 </td><td>NULL                 </td></tr>\n",
       "\t<tr><th scope=row>627775</th><td>673107               </td><td>sp|Q9Y6D9|MD1L1_HUMAN</td><td>sp|Q9Y6D9|MD1L1_HUMAN</td><td>MD1L1_HUMAN          </td><td>Q9Y6D9               </td><td>NULL                 </td><td>CTG-0166             </td><td>10.473               </td><td>NULL                 </td><td>NULL                 </td></tr>\n",
       "\t<tr><th scope=row>627916</th><td>673248               </td><td>sp|Q9Y6E0|STK24_HUMAN</td><td>sp|Q9Y6E0|STK24_HUMAN</td><td>STK24_HUMAN          </td><td>Q9Y6E0               </td><td>NULL                 </td><td>CTG-0166             </td><td>14.518               </td><td>NULL                 </td><td>NULL                 </td></tr>\n",
       "\t<tr><th scope=row>628065</th><td>673397               </td><td>sp|Q9Y6E2|BZW2_HUMAN </td><td>sp|Q9Y6E2|BZW2_HUMAN </td><td>BZW2_HUMAN           </td><td>Q9Y6E2               </td><td>NULL                 </td><td>CTG-0166             </td><td>16.123               </td><td>NULL                 </td><td>NULL                 </td></tr>\n",
       "\t<tr><th scope=row>628216</th><td>673548               </td><td>sp|Q9Y6G3|RM42_HUMAN </td><td>sp|Q9Y6G3|RM42_HUMAN </td><td>RM42_HUMAN           </td><td>Q9Y6G3               </td><td>NULL                 </td><td>CTG-0166             </td><td>15.944               </td><td>NULL                 </td><td>NULL                 </td></tr>\n",
       "\t<tr><th scope=row>628312</th><td>673644               </td><td>sp|Q9Y6G5|COMDA_HUMAN</td><td>sp|Q9Y6G5|COMDA_HUMAN</td><td>COMDA_HUMAN          </td><td>Q9Y6G5               </td><td>NULL                 </td><td>CTG-0166             </td><td>14.018               </td><td>NULL                 </td><td>NULL                 </td></tr>\n",
       "\t<tr><th scope=row>628454</th><td>673786               </td><td>sp|Q9Y6G9|DC1L1_HUMAN</td><td>sp|Q9Y6G9|DC1L1_HUMAN</td><td>DC1L1_HUMAN          </td><td>Q9Y6G9               </td><td>NULL                 </td><td>CTG-0166             </td><td>16.638               </td><td>NULL                 </td><td>NULL                 </td></tr>\n",
       "\t<tr><th scope=row>628603</th><td>673935               </td><td>sp|Q9Y6H1|CHCH2_HUMAN</td><td>sp|Q9Y6H1|CHCH2_HUMAN</td><td>CHCH2_HUMAN          </td><td>Q9Y6H1               </td><td>NULL                 </td><td>CTG-0166             </td><td>14.348               </td><td>NULL                 </td><td>NULL                 </td></tr>\n",
       "\t<tr><th scope=row>628748</th><td>674080               </td><td>sp|Q9Y6I3|EPN1_HUMAN </td><td>sp|Q9Y6I3|EPN1_HUMAN </td><td>EPN1_HUMAN           </td><td>Q9Y6I3               </td><td>NULL                 </td><td>CTG-0166             </td><td>15.569               </td><td>NULL                 </td><td>NULL                 </td></tr>\n",
       "\t<tr><th scope=row>628919</th><td>674251               </td><td>sp|Q9Y6I9|TX264_HUMAN</td><td>sp|Q9Y6I9|TX264_HUMAN</td><td>TX264_HUMAN          </td><td>Q9Y6I9               </td><td>NULL                 </td><td>CTG-0166             </td><td>12.695               </td><td>NULL                 </td><td>NULL                 </td></tr>\n",
       "\t<tr><th scope=row>629054</th><td>674386               </td><td>sp|Q9Y6J9|TAF6L_HUMAN</td><td>sp|Q9Y6J9|TAF6L_HUMAN</td><td>TAF6L_HUMAN          </td><td>Q9Y6J9               </td><td>NULL                 </td><td>CTG-0166             </td><td>12.181               </td><td>NULL                 </td><td>NULL                 </td></tr>\n",
       "\t<tr><th scope=row>629087</th><td>674419               </td><td>sp|Q9Y6K1|DNM3A_HUMAN</td><td>sp|Q9Y6K1|DNM3A_HUMAN</td><td>DNM3A_HUMAN          </td><td>Q9Y6K1               </td><td>NULL                 </td><td>CTG-0166             </td><td>16.183               </td><td>NULL                 </td><td>NULL                 </td></tr>\n",
       "\t<tr><th scope=row>629146</th><td>674478               </td><td>sp|Q9Y6K5|OAS3_HUMAN </td><td>sp|Q9Y6K5|OAS3_HUMAN </td><td>OAS3_HUMAN           </td><td>Q9Y6K5               </td><td>NULL                 </td><td>CTG-0166             </td><td>18.118               </td><td>NULL                 </td><td>NULL                 </td></tr>\n",
       "\t<tr><th scope=row>629289</th><td>674621               </td><td>sp|Q9Y6K9|NEMO_HUMAN </td><td>sp|Q9Y6K9|NEMO_HUMAN </td><td>NEMO_HUMAN           </td><td>Q9Y6K9               </td><td>NULL                 </td><td>CTG-0166             </td><td>13.221               </td><td>NULL                 </td><td>NULL                 </td></tr>\n",
       "\t<tr><th scope=row>629400</th><td>674732               </td><td>sp|Q9Y6M1|IF2B2_HUMAN</td><td>sp|Q9Y6M1|IF2B2_HUMAN</td><td>IF2B2_HUMAN          </td><td>Q9Y6M1               </td><td>NULL                 </td><td>CTG-0166             </td><td>12.588               </td><td>NULL                 </td><td>NULL                 </td></tr>\n",
       "\t<tr><th scope=row>629530</th><td>674862               </td><td>sp|Q9Y6M5|ZNT1_HUMAN </td><td>sp|Q9Y6M5|ZNT1_HUMAN </td><td>ZNT1_HUMAN           </td><td>Q9Y6M5               </td><td>NULL                 </td><td>CTG-0166             </td><td>10.728               </td><td>NULL                 </td><td>NULL                 </td></tr>\n",
       "\t<tr><th scope=row>629664</th><td>674996               </td><td>sp|Q9Y6M7|S4A7_HUMAN </td><td>sp|Q9Y6M7|S4A7_HUMAN </td><td>S4A7_HUMAN           </td><td>Q9Y6M7               </td><td>NULL                 </td><td>CTG-0166             </td><td>10.688               </td><td>NULL                 </td><td>NULL                 </td></tr>\n",
       "\t<tr><th scope=row>629726</th><td>675058               </td><td>sp|Q9Y6M9|NDUB9_HUMAN</td><td>sp|Q9Y6M9|NDUB9_HUMAN</td><td>NDUB9_HUMAN          </td><td>Q9Y6M9               </td><td>NULL                 </td><td>CTG-0166             </td><td>17.690               </td><td>NULL                 </td><td>NULL                 </td></tr>\n",
       "\t<tr><th scope=row>629868</th><td>675200               </td><td>sp|Q9Y6N1|COX11_HUMAN</td><td>sp|Q9Y6N1|COX11_HUMAN</td><td>COX11_HUMAN          </td><td>Q9Y6N1               </td><td>NULL                 </td><td>CTG-0166             </td><td>13.229               </td><td>NULL                 </td><td>NULL                 </td></tr>\n",
       "\t<tr><th scope=row>629989</th><td>675321               </td><td>sp|Q9Y6N5|SQOR_HUMAN </td><td>sp|Q9Y6N5|SQOR_HUMAN </td><td>SQOR_HUMAN           </td><td>Q9Y6N5               </td><td>NULL                 </td><td>CTG-0166             </td><td>15.214               </td><td>NULL                 </td><td>NULL                 </td></tr>\n",
       "\t<tr><th scope=row>630137</th><td>675469               </td><td>sp|Q9Y6N7|ROBO1_HUMAN</td><td>sp|Q9Y6N7|ROBO1_HUMAN</td><td>ROBO1_HUMAN          </td><td>Q9Y6N7               </td><td>NULL                 </td><td>CTG-0166             </td><td>13.021               </td><td>NULL                 </td><td>NULL                 </td></tr>\n",
       "\t<tr><th scope=row>630308</th><td>675640               </td><td>sp|Q9Y6Q5|AP1M2_HUMAN</td><td>sp|Q9Y6Q5|AP1M2_HUMAN</td><td>AP1M2_HUMAN          </td><td>Q9Y6Q5               </td><td>NULL                 </td><td>CTG-0166             </td><td>14.931               </td><td>NULL                 </td><td>NULL                 </td></tr>\n",
       "\t<tr><th scope=row>630458</th><td>675790               </td><td>sp|Q9Y6U3|ADSV_HUMAN </td><td>sp|Q9Y6U3|ADSV_HUMAN </td><td>ADSV_HUMAN           </td><td>Q9Y6U3               </td><td>NULL                 </td><td>CTG-0166             </td><td>18.651               </td><td>NULL                 </td><td>NULL                 </td></tr>\n",
       "\t<tr><th scope=row>630560</th><td>675892               </td><td>sp|Q9Y6W3|CAN7_HUMAN </td><td>sp|Q9Y6W3|CAN7_HUMAN </td><td>CAN7_HUMAN           </td><td>Q9Y6W3               </td><td>NULL                 </td><td>CTG-0166             </td><td>10.722               </td><td>NULL                 </td><td>NULL                 </td></tr>\n",
       "\t<tr><th scope=row>630661</th><td>675993               </td><td>sp|Q9Y6W5|WASF2_HUMAN</td><td>sp|Q9Y6W5|WASF2_HUMAN</td><td>WASF2_HUMAN          </td><td>Q9Y6W5               </td><td>NULL                 </td><td>CTG-0166             </td><td>14.975               </td><td>NULL                 </td><td>NULL                 </td></tr>\n",
       "\t<tr><th scope=row>630829</th><td>676161               </td><td>sp|Q9Y6X5|ENPP4_HUMAN</td><td>sp|Q9Y6X5|ENPP4_HUMAN</td><td>ENPP4_HUMAN          </td><td>Q9Y6X5               </td><td>NULL                 </td><td>CTG-0166             </td><td>14.480               </td><td>NULL                 </td><td>NULL                 </td></tr>\n",
       "\t<tr><th scope=row>630903</th><td>676235               </td><td>sp|Q9Y6Y0|NS1BP_HUMAN</td><td>sp|Q9Y6Y0|NS1BP_HUMAN</td><td>NS1BP_HUMAN          </td><td>Q9Y6Y0               </td><td>NULL                 </td><td>CTG-0166             </td><td>15.528               </td><td>NULL                 </td><td>NULL                 </td></tr>\n",
       "\t<tr><th scope=row>631046</th><td>676378               </td><td>sp|Q9Y6Y8|S23IP_HUMAN</td><td>sp|Q9Y6Y8|S23IP_HUMAN</td><td>S23IP_HUMAN          </td><td>Q9Y6Y8               </td><td>NULL                 </td><td>CTG-0166             </td><td>15.844               </td><td>NULL                 </td><td>NULL                 </td></tr>\n",
       "</tbody>\n",
       "</table>\n"
      ],
      "text/latex": [
       "\\begin{tabular}{r|llllllllll}\n",
       "  & id & Protein & ProteinGroup & ProteinGroupName & ProteinGroupId & Organism & Sample & Intensity & counts & hgnc\\_symbol\\\\\n",
       "\\hline\n",
       "\t6 & 45248                                                                 & sp\\textbar{}A0A087WV62\\textbar{}TVB16\\_HUMAN                       & sp\\textbar{}A0A087WV62\\textbar{}TVB16\\_HUMAN                       & TVB16\\_HUMAN                                                         & A0A087WV62                                                            & NULL                                                                  & CTG-0166                                                              & 15.620                                                                & NULL                                                                  & NULL                                                                 \\\\\n",
       "\t119 & 45361                                                                                       & sp\\textbar{}A0A0B4J2D5\\textbar{}GAL3B\\_HUMAN                                             & sp\\textbar{}A0A0B4J2D5\\textbar{}GAL3B\\_HUMAN;sp\\textbar{}P0DPI2\\textbar{}GAL3A\\_HUMAN & GAL3B\\_HUMAN                                                                               & A0A0B4J2D5                                                                                  & NULL                                                                                        & CTG-0166                                                                                    & 17.707                                                                                      & NULL                                                                                        & NULL                                                                                       \\\\\n",
       "\t351 & 45593                                                                 & sp\\textbar{}A0A1B0GVH6\\textbar{}CM042\\_HUMAN                       & sp\\textbar{}A0A1B0GVH6\\textbar{}CM042\\_HUMAN                       & CM042\\_HUMAN                                                         & A0A1B0GVH6                                                            & NULL                                                                  & CTG-0166                                                              & 16.119                                                                & NULL                                                                  & NULL                                                                 \\\\\n",
       "\t407 & 45649                                                                 & sp\\textbar{}A0AV96\\textbar{}RBM47\\_HUMAN                           & sp\\textbar{}A0AV96\\textbar{}RBM47\\_HUMAN                           & RBM47\\_HUMAN                                                         & A0AV96                                                                & NULL                                                                  & CTG-0166                                                              & 16.695                                                                & NULL                                                                  & NULL                                                                 \\\\\n",
       "\t543 & 45785                                                                 & sp\\textbar{}A0AVT1\\textbar{}UBA6\\_HUMAN                            & sp\\textbar{}A0AVT1\\textbar{}UBA6\\_HUMAN                            & UBA6\\_HUMAN                                                          & A0AVT1                                                                & NULL                                                                  & CTG-0166                                                              & 17.265                                                                & NULL                                                                  & NULL                                                                 \\\\\n",
       "\t691 & 45933                                                                 & sp\\textbar{}A0FGR8\\textbar{}ESYT2\\_HUMAN                           & sp\\textbar{}A0FGR8\\textbar{}ESYT2\\_HUMAN                           & ESYT2\\_HUMAN                                                         & A0FGR8                                                                & NULL                                                                  & CTG-0166                                                              & 15.779                                                                & NULL                                                                  & NULL                                                                 \\\\\n",
       "\t826 & 46068                                                                 & sp\\textbar{}A0JLT2\\textbar{}MED19\\_HUMAN                           & sp\\textbar{}A0JLT2\\textbar{}MED19\\_HUMAN                           & MED19\\_HUMAN                                                         & A0JLT2                                                                & NULL                                                                  & CTG-0166                                                              & 11.691                                                                & NULL                                                                  & NULL                                                                 \\\\\n",
       "\t904 & 46146                                                                 & sp\\textbar{}A0JNW5\\textbar{}UH1BL\\_HUMAN                           & sp\\textbar{}A0JNW5\\textbar{}UH1BL\\_HUMAN                           & UH1BL\\_HUMAN                                                         & A0JNW5                                                                & NULL                                                                  & CTG-0166                                                              &  9.644                                                                & NULL                                                                  & NULL                                                                 \\\\\n",
       "\t942 & 46184                                                                 & sp\\textbar{}A0MZ66\\textbar{}SHOT1\\_HUMAN                           & sp\\textbar{}A0MZ66\\textbar{}SHOT1\\_HUMAN                           & SHOT1\\_HUMAN                                                         & A0MZ66                                                                & NULL                                                                  & CTG-0166                                                              & 15.742                                                                & NULL                                                                  & NULL                                                                 \\\\\n",
       "\t1121 & 46363                                                                 & sp\\textbar{}A1L020\\textbar{}MEX3A\\_HUMAN                           & sp\\textbar{}A1L020\\textbar{}MEX3A\\_HUMAN                           & MEX3A\\_HUMAN                                                         & A1L020                                                                & NULL                                                                  & CTG-0166                                                              & 10.313                                                                & NULL                                                                  & NULL                                                                 \\\\\n",
       "\t1147 & 46389                                                                 & sp\\textbar{}A1L0T0\\textbar{}HACL2\\_HUMAN                           & sp\\textbar{}A1L0T0\\textbar{}HACL2\\_HUMAN                           & HACL2\\_HUMAN                                                         & A1L0T0                                                                & NULL                                                                  & CTG-0166                                                              & 12.550                                                                & NULL                                                                  & NULL                                                                 \\\\\n",
       "\t1446 & 46688                                                                                       & sp\\textbar{}A2A2Z9\\textbar{}AN18B\\_HUMAN                                                 & sp\\textbar{}A2A2Z9\\textbar{}AN18B\\_HUMAN;sp\\textbar{}Q8IVF6\\textbar{}AN18A\\_HUMAN     & AN18B\\_HUMAN                                                                               & A2A2Z9                                                                                      & NULL                                                                                        & CTG-0166                                                                                    & 17.785                                                                                      & NULL                                                                                        & NULL                                                                                       \\\\\n",
       "\t1612 & 46854                                                                 & sp\\textbar{}A2RRP1\\textbar{}NBAS\\_HUMAN                            & sp\\textbar{}A2RRP1\\textbar{}NBAS\\_HUMAN                            & NBAS\\_HUMAN                                                          & A2RRP1                                                                & NULL                                                                  & CTG-0166                                                              & 14.690                                                                & NULL                                                                  & NULL                                                                 \\\\\n",
       "\t1786 & 47028                                                                 & sp\\textbar{}A2RUS2\\textbar{}DEND3\\_HUMAN                           & sp\\textbar{}A2RUS2\\textbar{}DEND3\\_HUMAN                           & DEND3\\_HUMAN                                                         & A2RUS2                                                                & NULL                                                                  & CTG-0166                                                              & 11.028                                                                & NULL                                                                  & NULL                                                                 \\\\\n",
       "\t1812 & 47054                                                                 & sp\\textbar{}A3KMH1\\textbar{}VWA8\\_HUMAN                            & sp\\textbar{}A3KMH1\\textbar{}VWA8\\_HUMAN                            & VWA8\\_HUMAN                                                          & A3KMH1                                                                & NULL                                                                  & CTG-0166                                                              & 12.196                                                                & NULL                                                                  & NULL                                                                 \\\\\n",
       "\t1945 & 47187                                                                 & sp\\textbar{}A3KN83\\textbar{}SBNO1\\_HUMAN                           & sp\\textbar{}A3KN83\\textbar{}SBNO1\\_HUMAN                           & SBNO1\\_HUMAN                                                         & A3KN83                                                                & NULL                                                                  & CTG-0166                                                              & 16.277                                                                & NULL                                                                  & NULL                                                                 \\\\\n",
       "\t2068 & 47310                                                                 & sp\\textbar{}A4D1B5\\textbar{}GSAP\\_HUMAN                            & sp\\textbar{}A4D1B5\\textbar{}GSAP\\_HUMAN                            & GSAP\\_HUMAN                                                          & A4D1B5                                                                & NULL                                                                  & CTG-0166                                                              & 17.777                                                                & NULL                                                                  & NULL                                                                 \\\\\n",
       "\t2213 & 47455                                                                 & sp\\textbar{}A4D1E9\\textbar{}GTPBA\\_HUMAN                           & sp\\textbar{}A4D1E9\\textbar{}GTPBA\\_HUMAN                           & GTPBA\\_HUMAN                                                         & A4D1E9                                                                & NULL                                                                  & CTG-0166                                                              & 12.924                                                                & NULL                                                                  & NULL                                                                 \\\\\n",
       "\t2409 & 47651                                                                 & sp\\textbar{}A4D1U4\\textbar{}DEN11\\_HUMAN                           & sp\\textbar{}A4D1U4\\textbar{}DEN11\\_HUMAN                           & DEN11\\_HUMAN                                                         & A4D1U4                                                                & NULL                                                                  & CTG-0166                                                              & 13.689                                                                & NULL                                                                  & NULL                                                                 \\\\\n",
       "\t2453 & 47695                                                                 & sp\\textbar{}A5D8V6\\textbar{}VP37C\\_HUMAN                           & sp\\textbar{}A5D8V6\\textbar{}VP37C\\_HUMAN                           & VP37C\\_HUMAN                                                         & A5D8V6                                                                & NULL                                                                  & CTG-0166                                                              & 14.516                                                                & NULL                                                                  & NULL                                                                 \\\\\n",
       "\t2578 & 47820                                                                 & sp\\textbar{}A5YKK6\\textbar{}CNOT1\\_HUMAN                           & sp\\textbar{}A5YKK6\\textbar{}CNOT1\\_HUMAN                           & CNOT1\\_HUMAN                                                         & A5YKK6                                                                & NULL                                                                  & CTG-0166                                                              & 16.526                                                                & NULL                                                                  & NULL                                                                 \\\\\n",
       "\t2823 & 48065                                                                 & sp\\textbar{}A6NDG6\\textbar{}PGP\\_HUMAN                             & sp\\textbar{}A6NDG6\\textbar{}PGP\\_HUMAN                             & PGP\\_HUMAN                                                           & A6NDG6                                                                & NULL                                                                  & CTG-0166                                                              & 17.262                                                                & NULL                                                                  & NULL                                                                 \\\\\n",
       "\t2972 & 48214                                                                 & sp\\textbar{}A6NDU8\\textbar{}CE051\\_HUMAN                           & sp\\textbar{}A6NDU8\\textbar{}CE051\\_HUMAN                           & CE051\\_HUMAN                                                         & A6NDU8                                                                & NULL                                                                  & CTG-0166                                                              & 15.466                                                                & NULL                                                                  & NULL                                                                 \\\\\n",
       "\t3142 & 48384                                                                 & sp\\textbar{}A6NFI3\\textbar{}ZN316\\_HUMAN                           & sp\\textbar{}A6NFI3\\textbar{}ZN316\\_HUMAN                           & ZN316\\_HUMAN                                                         & A6NFI3                                                                & NULL                                                                  & CTG-0166                                                              & 13.255                                                                & NULL                                                                  & NULL                                                                 \\\\\n",
       "\t3325 & 48567                                                                 & sp\\textbar{}A6NGR9\\textbar{}MROH6\\_HUMAN                           & sp\\textbar{}A6NGR9\\textbar{}MROH6\\_HUMAN                           & MROH6\\_HUMAN                                                         & A6NGR9                                                                & NULL                                                                  & CTG-0166                                                              & 16.160                                                                & NULL                                                                  & NULL                                                                 \\\\\n",
       "\t3473 & 48715                                                                 & sp\\textbar{}A6NHL2\\textbar{}TBAL3\\_HUMAN                           & sp\\textbar{}A6NHL2\\textbar{}TBAL3\\_HUMAN                           & TBAL3\\_HUMAN                                                         & A6NHL2                                                                & NULL                                                                  & CTG-0166                                                              & 16.412                                                                & NULL                                                                  & NULL                                                                 \\\\\n",
       "\t3618 & 48860                                                                 & sp\\textbar{}A6NHR9\\textbar{}SMHD1\\_HUMAN                           & sp\\textbar{}A6NHR9\\textbar{}SMHD1\\_HUMAN                           & SMHD1\\_HUMAN                                                         & A6NHR9                                                                & NULL                                                                  & CTG-0166                                                              & 13.776                                                                & NULL                                                                  & NULL                                                                 \\\\\n",
       "\t3848 & 49090                                                                 & sp\\textbar{}A6NIH7\\textbar{}U119B\\_HUMAN                           & sp\\textbar{}A6NIH7\\textbar{}U119B\\_HUMAN                           & U119B\\_HUMAN                                                         & A6NIH7                                                                & NULL                                                                  & CTG-0166                                                              & 14.756                                                                & NULL                                                                  & NULL                                                                 \\\\\n",
       "\t3983 & 49225                                                                 & sp\\textbar{}A6NJ78\\textbar{}MET15\\_HUMAN                           & sp\\textbar{}A6NJ78\\textbar{}MET15\\_HUMAN                           & MET15\\_HUMAN                                                         & A6NJ78                                                                & NULL                                                                  & CTG-0166                                                              & 11.980                                                                & NULL                                                                  & NULL                                                                 \\\\\n",
       "\t4094 & 49336                                                                 & sp\\textbar{}A6NKF1\\textbar{}SAC31\\_HUMAN                           & sp\\textbar{}A6NKF1\\textbar{}SAC31\\_HUMAN                           & SAC31\\_HUMAN                                                         & A6NKF1                                                                & NULL                                                                  & CTG-0166                                                              & 11.864                                                                & NULL                                                                  & NULL                                                                 \\\\\n",
       "\t... & ... & ... & ... & ... & ... & ... & ... & ... & ... & ...\\\\\n",
       "\t627512 & 672844                                      & sp\\textbar{}Q9Y6C9\\textbar{}MTCH2\\_HUMAN & sp\\textbar{}Q9Y6C9\\textbar{}MTCH2\\_HUMAN & MTCH2\\_HUMAN                               & Q9Y6C9                                      & NULL                                        & CTG-0166                                    & 17.647                                      & NULL                                        & NULL                                       \\\\\n",
       "\t627659 & 672991                                      & sp\\textbar{}Q9Y6D5\\textbar{}BIG2\\_HUMAN  & sp\\textbar{}Q9Y6D5\\textbar{}BIG2\\_HUMAN  & BIG2\\_HUMAN                                & Q9Y6D5                                      & NULL                                        & CTG-0166                                    & 14.095                                      & NULL                                        & NULL                                       \\\\\n",
       "\t627745 & 673077                                      & sp\\textbar{}Q9Y6D6\\textbar{}BIG1\\_HUMAN  & sp\\textbar{}Q9Y6D6\\textbar{}BIG1\\_HUMAN  & BIG1\\_HUMAN                                & Q9Y6D6                                      & NULL                                        & CTG-0166                                    & 14.467                                      & NULL                                        & NULL                                       \\\\\n",
       "\t627775 & 673107                                      & sp\\textbar{}Q9Y6D9\\textbar{}MD1L1\\_HUMAN & sp\\textbar{}Q9Y6D9\\textbar{}MD1L1\\_HUMAN & MD1L1\\_HUMAN                               & Q9Y6D9                                      & NULL                                        & CTG-0166                                    & 10.473                                      & NULL                                        & NULL                                       \\\\\n",
       "\t627916 & 673248                                      & sp\\textbar{}Q9Y6E0\\textbar{}STK24\\_HUMAN & sp\\textbar{}Q9Y6E0\\textbar{}STK24\\_HUMAN & STK24\\_HUMAN                               & Q9Y6E0                                      & NULL                                        & CTG-0166                                    & 14.518                                      & NULL                                        & NULL                                       \\\\\n",
       "\t628065 & 673397                                      & sp\\textbar{}Q9Y6E2\\textbar{}BZW2\\_HUMAN  & sp\\textbar{}Q9Y6E2\\textbar{}BZW2\\_HUMAN  & BZW2\\_HUMAN                                & Q9Y6E2                                      & NULL                                        & CTG-0166                                    & 16.123                                      & NULL                                        & NULL                                       \\\\\n",
       "\t628216 & 673548                                      & sp\\textbar{}Q9Y6G3\\textbar{}RM42\\_HUMAN  & sp\\textbar{}Q9Y6G3\\textbar{}RM42\\_HUMAN  & RM42\\_HUMAN                                & Q9Y6G3                                      & NULL                                        & CTG-0166                                    & 15.944                                      & NULL                                        & NULL                                       \\\\\n",
       "\t628312 & 673644                                      & sp\\textbar{}Q9Y6G5\\textbar{}COMDA\\_HUMAN & sp\\textbar{}Q9Y6G5\\textbar{}COMDA\\_HUMAN & COMDA\\_HUMAN                               & Q9Y6G5                                      & NULL                                        & CTG-0166                                    & 14.018                                      & NULL                                        & NULL                                       \\\\\n",
       "\t628454 & 673786                                      & sp\\textbar{}Q9Y6G9\\textbar{}DC1L1\\_HUMAN & sp\\textbar{}Q9Y6G9\\textbar{}DC1L1\\_HUMAN & DC1L1\\_HUMAN                               & Q9Y6G9                                      & NULL                                        & CTG-0166                                    & 16.638                                      & NULL                                        & NULL                                       \\\\\n",
       "\t628603 & 673935                                      & sp\\textbar{}Q9Y6H1\\textbar{}CHCH2\\_HUMAN & sp\\textbar{}Q9Y6H1\\textbar{}CHCH2\\_HUMAN & CHCH2\\_HUMAN                               & Q9Y6H1                                      & NULL                                        & CTG-0166                                    & 14.348                                      & NULL                                        & NULL                                       \\\\\n",
       "\t628748 & 674080                                      & sp\\textbar{}Q9Y6I3\\textbar{}EPN1\\_HUMAN  & sp\\textbar{}Q9Y6I3\\textbar{}EPN1\\_HUMAN  & EPN1\\_HUMAN                                & Q9Y6I3                                      & NULL                                        & CTG-0166                                    & 15.569                                      & NULL                                        & NULL                                       \\\\\n",
       "\t628919 & 674251                                      & sp\\textbar{}Q9Y6I9\\textbar{}TX264\\_HUMAN & sp\\textbar{}Q9Y6I9\\textbar{}TX264\\_HUMAN & TX264\\_HUMAN                               & Q9Y6I9                                      & NULL                                        & CTG-0166                                    & 12.695                                      & NULL                                        & NULL                                       \\\\\n",
       "\t629054 & 674386                                      & sp\\textbar{}Q9Y6J9\\textbar{}TAF6L\\_HUMAN & sp\\textbar{}Q9Y6J9\\textbar{}TAF6L\\_HUMAN & TAF6L\\_HUMAN                               & Q9Y6J9                                      & NULL                                        & CTG-0166                                    & 12.181                                      & NULL                                        & NULL                                       \\\\\n",
       "\t629087 & 674419                                      & sp\\textbar{}Q9Y6K1\\textbar{}DNM3A\\_HUMAN & sp\\textbar{}Q9Y6K1\\textbar{}DNM3A\\_HUMAN & DNM3A\\_HUMAN                               & Q9Y6K1                                      & NULL                                        & CTG-0166                                    & 16.183                                      & NULL                                        & NULL                                       \\\\\n",
       "\t629146 & 674478                                      & sp\\textbar{}Q9Y6K5\\textbar{}OAS3\\_HUMAN  & sp\\textbar{}Q9Y6K5\\textbar{}OAS3\\_HUMAN  & OAS3\\_HUMAN                                & Q9Y6K5                                      & NULL                                        & CTG-0166                                    & 18.118                                      & NULL                                        & NULL                                       \\\\\n",
       "\t629289 & 674621                                      & sp\\textbar{}Q9Y6K9\\textbar{}NEMO\\_HUMAN  & sp\\textbar{}Q9Y6K9\\textbar{}NEMO\\_HUMAN  & NEMO\\_HUMAN                                & Q9Y6K9                                      & NULL                                        & CTG-0166                                    & 13.221                                      & NULL                                        & NULL                                       \\\\\n",
       "\t629400 & 674732                                      & sp\\textbar{}Q9Y6M1\\textbar{}IF2B2\\_HUMAN & sp\\textbar{}Q9Y6M1\\textbar{}IF2B2\\_HUMAN & IF2B2\\_HUMAN                               & Q9Y6M1                                      & NULL                                        & CTG-0166                                    & 12.588                                      & NULL                                        & NULL                                       \\\\\n",
       "\t629530 & 674862                                      & sp\\textbar{}Q9Y6M5\\textbar{}ZNT1\\_HUMAN  & sp\\textbar{}Q9Y6M5\\textbar{}ZNT1\\_HUMAN  & ZNT1\\_HUMAN                                & Q9Y6M5                                      & NULL                                        & CTG-0166                                    & 10.728                                      & NULL                                        & NULL                                       \\\\\n",
       "\t629664 & 674996                                      & sp\\textbar{}Q9Y6M7\\textbar{}S4A7\\_HUMAN  & sp\\textbar{}Q9Y6M7\\textbar{}S4A7\\_HUMAN  & S4A7\\_HUMAN                                & Q9Y6M7                                      & NULL                                        & CTG-0166                                    & 10.688                                      & NULL                                        & NULL                                       \\\\\n",
       "\t629726 & 675058                                      & sp\\textbar{}Q9Y6M9\\textbar{}NDUB9\\_HUMAN & sp\\textbar{}Q9Y6M9\\textbar{}NDUB9\\_HUMAN & NDUB9\\_HUMAN                               & Q9Y6M9                                      & NULL                                        & CTG-0166                                    & 17.690                                      & NULL                                        & NULL                                       \\\\\n",
       "\t629868 & 675200                                      & sp\\textbar{}Q9Y6N1\\textbar{}COX11\\_HUMAN & sp\\textbar{}Q9Y6N1\\textbar{}COX11\\_HUMAN & COX11\\_HUMAN                               & Q9Y6N1                                      & NULL                                        & CTG-0166                                    & 13.229                                      & NULL                                        & NULL                                       \\\\\n",
       "\t629989 & 675321                                      & sp\\textbar{}Q9Y6N5\\textbar{}SQOR\\_HUMAN  & sp\\textbar{}Q9Y6N5\\textbar{}SQOR\\_HUMAN  & SQOR\\_HUMAN                                & Q9Y6N5                                      & NULL                                        & CTG-0166                                    & 15.214                                      & NULL                                        & NULL                                       \\\\\n",
       "\t630137 & 675469                                      & sp\\textbar{}Q9Y6N7\\textbar{}ROBO1\\_HUMAN & sp\\textbar{}Q9Y6N7\\textbar{}ROBO1\\_HUMAN & ROBO1\\_HUMAN                               & Q9Y6N7                                      & NULL                                        & CTG-0166                                    & 13.021                                      & NULL                                        & NULL                                       \\\\\n",
       "\t630308 & 675640                                      & sp\\textbar{}Q9Y6Q5\\textbar{}AP1M2\\_HUMAN & sp\\textbar{}Q9Y6Q5\\textbar{}AP1M2\\_HUMAN & AP1M2\\_HUMAN                               & Q9Y6Q5                                      & NULL                                        & CTG-0166                                    & 14.931                                      & NULL                                        & NULL                                       \\\\\n",
       "\t630458 & 675790                                      & sp\\textbar{}Q9Y6U3\\textbar{}ADSV\\_HUMAN  & sp\\textbar{}Q9Y6U3\\textbar{}ADSV\\_HUMAN  & ADSV\\_HUMAN                                & Q9Y6U3                                      & NULL                                        & CTG-0166                                    & 18.651                                      & NULL                                        & NULL                                       \\\\\n",
       "\t630560 & 675892                                      & sp\\textbar{}Q9Y6W3\\textbar{}CAN7\\_HUMAN  & sp\\textbar{}Q9Y6W3\\textbar{}CAN7\\_HUMAN  & CAN7\\_HUMAN                                & Q9Y6W3                                      & NULL                                        & CTG-0166                                    & 10.722                                      & NULL                                        & NULL                                       \\\\\n",
       "\t630661 & 675993                                      & sp\\textbar{}Q9Y6W5\\textbar{}WASF2\\_HUMAN & sp\\textbar{}Q9Y6W5\\textbar{}WASF2\\_HUMAN & WASF2\\_HUMAN                               & Q9Y6W5                                      & NULL                                        & CTG-0166                                    & 14.975                                      & NULL                                        & NULL                                       \\\\\n",
       "\t630829 & 676161                                      & sp\\textbar{}Q9Y6X5\\textbar{}ENPP4\\_HUMAN & sp\\textbar{}Q9Y6X5\\textbar{}ENPP4\\_HUMAN & ENPP4\\_HUMAN                               & Q9Y6X5                                      & NULL                                        & CTG-0166                                    & 14.480                                      & NULL                                        & NULL                                       \\\\\n",
       "\t630903 & 676235                                      & sp\\textbar{}Q9Y6Y0\\textbar{}NS1BP\\_HUMAN & sp\\textbar{}Q9Y6Y0\\textbar{}NS1BP\\_HUMAN & NS1BP\\_HUMAN                               & Q9Y6Y0                                      & NULL                                        & CTG-0166                                    & 15.528                                      & NULL                                        & NULL                                       \\\\\n",
       "\t631046 & 676378                                      & sp\\textbar{}Q9Y6Y8\\textbar{}S23IP\\_HUMAN & sp\\textbar{}Q9Y6Y8\\textbar{}S23IP\\_HUMAN & S23IP\\_HUMAN                               & Q9Y6Y8                                      & NULL                                        & CTG-0166                                    & 15.844                                      & NULL                                        & NULL                                       \\\\\n",
       "\\end{tabular}\n"
      ],
      "text/markdown": [
       "\n",
       "| <!--/--> | id | Protein | ProteinGroup | ProteinGroupName | ProteinGroupId | Organism | Sample | Intensity | counts | hgnc_symbol |\n",
       "|---|---|---|---|---|---|---|---|---|---|---|\n",
       "| 6 | 45248                                           | sp|A0A087WV62|TVB16_HUMAN                       | sp|A0A087WV62|TVB16_HUMAN                       | TVB16_HUMAN                                     | A0A087WV62                                      | NULL                                            | CTG-0166                                        | 15.620                                          | NULL                                            | NULL                                            |\n",
       "| 119 | 45361                                           | sp|A0A0B4J2D5|GAL3B_HUMAN                       | sp|A0A0B4J2D5|GAL3B_HUMAN;sp|P0DPI2|GAL3A_HUMAN | GAL3B_HUMAN                                     | A0A0B4J2D5                                      | NULL                                            | CTG-0166                                        | 17.707                                          | NULL                                            | NULL                                            |\n",
       "| 351 | 45593                                           | sp|A0A1B0GVH6|CM042_HUMAN                       | sp|A0A1B0GVH6|CM042_HUMAN                       | CM042_HUMAN                                     | A0A1B0GVH6                                      | NULL                                            | CTG-0166                                        | 16.119                                          | NULL                                            | NULL                                            |\n",
       "| 407 | 45649                                           | sp|A0AV96|RBM47_HUMAN                           | sp|A0AV96|RBM47_HUMAN                           | RBM47_HUMAN                                     | A0AV96                                          | NULL                                            | CTG-0166                                        | 16.695                                          | NULL                                            | NULL                                            |\n",
       "| 543 | 45785                                           | sp|A0AVT1|UBA6_HUMAN                            | sp|A0AVT1|UBA6_HUMAN                            | UBA6_HUMAN                                      | A0AVT1                                          | NULL                                            | CTG-0166                                        | 17.265                                          | NULL                                            | NULL                                            |\n",
       "| 691 | 45933                                           | sp|A0FGR8|ESYT2_HUMAN                           | sp|A0FGR8|ESYT2_HUMAN                           | ESYT2_HUMAN                                     | A0FGR8                                          | NULL                                            | CTG-0166                                        | 15.779                                          | NULL                                            | NULL                                            |\n",
       "| 826 | 46068                                           | sp|A0JLT2|MED19_HUMAN                           | sp|A0JLT2|MED19_HUMAN                           | MED19_HUMAN                                     | A0JLT2                                          | NULL                                            | CTG-0166                                        | 11.691                                          | NULL                                            | NULL                                            |\n",
       "| 904 | 46146                                           | sp|A0JNW5|UH1BL_HUMAN                           | sp|A0JNW5|UH1BL_HUMAN                           | UH1BL_HUMAN                                     | A0JNW5                                          | NULL                                            | CTG-0166                                        |  9.644                                          | NULL                                            | NULL                                            |\n",
       "| 942 | 46184                                           | sp|A0MZ66|SHOT1_HUMAN                           | sp|A0MZ66|SHOT1_HUMAN                           | SHOT1_HUMAN                                     | A0MZ66                                          | NULL                                            | CTG-0166                                        | 15.742                                          | NULL                                            | NULL                                            |\n",
       "| 1121 | 46363                                           | sp|A1L020|MEX3A_HUMAN                           | sp|A1L020|MEX3A_HUMAN                           | MEX3A_HUMAN                                     | A1L020                                          | NULL                                            | CTG-0166                                        | 10.313                                          | NULL                                            | NULL                                            |\n",
       "| 1147 | 46389                                           | sp|A1L0T0|HACL2_HUMAN                           | sp|A1L0T0|HACL2_HUMAN                           | HACL2_HUMAN                                     | A1L0T0                                          | NULL                                            | CTG-0166                                        | 12.550                                          | NULL                                            | NULL                                            |\n",
       "| 1446 | 46688                                           | sp|A2A2Z9|AN18B_HUMAN                           | sp|A2A2Z9|AN18B_HUMAN;sp|Q8IVF6|AN18A_HUMAN     | AN18B_HUMAN                                     | A2A2Z9                                          | NULL                                            | CTG-0166                                        | 17.785                                          | NULL                                            | NULL                                            |\n",
       "| 1612 | 46854                                           | sp|A2RRP1|NBAS_HUMAN                            | sp|A2RRP1|NBAS_HUMAN                            | NBAS_HUMAN                                      | A2RRP1                                          | NULL                                            | CTG-0166                                        | 14.690                                          | NULL                                            | NULL                                            |\n",
       "| 1786 | 47028                                           | sp|A2RUS2|DEND3_HUMAN                           | sp|A2RUS2|DEND3_HUMAN                           | DEND3_HUMAN                                     | A2RUS2                                          | NULL                                            | CTG-0166                                        | 11.028                                          | NULL                                            | NULL                                            |\n",
       "| 1812 | 47054                                           | sp|A3KMH1|VWA8_HUMAN                            | sp|A3KMH1|VWA8_HUMAN                            | VWA8_HUMAN                                      | A3KMH1                                          | NULL                                            | CTG-0166                                        | 12.196                                          | NULL                                            | NULL                                            |\n",
       "| 1945 | 47187                                           | sp|A3KN83|SBNO1_HUMAN                           | sp|A3KN83|SBNO1_HUMAN                           | SBNO1_HUMAN                                     | A3KN83                                          | NULL                                            | CTG-0166                                        | 16.277                                          | NULL                                            | NULL                                            |\n",
       "| 2068 | 47310                                           | sp|A4D1B5|GSAP_HUMAN                            | sp|A4D1B5|GSAP_HUMAN                            | GSAP_HUMAN                                      | A4D1B5                                          | NULL                                            | CTG-0166                                        | 17.777                                          | NULL                                            | NULL                                            |\n",
       "| 2213 | 47455                                           | sp|A4D1E9|GTPBA_HUMAN                           | sp|A4D1E9|GTPBA_HUMAN                           | GTPBA_HUMAN                                     | A4D1E9                                          | NULL                                            | CTG-0166                                        | 12.924                                          | NULL                                            | NULL                                            |\n",
       "| 2409 | 47651                                           | sp|A4D1U4|DEN11_HUMAN                           | sp|A4D1U4|DEN11_HUMAN                           | DEN11_HUMAN                                     | A4D1U4                                          | NULL                                            | CTG-0166                                        | 13.689                                          | NULL                                            | NULL                                            |\n",
       "| 2453 | 47695                                           | sp|A5D8V6|VP37C_HUMAN                           | sp|A5D8V6|VP37C_HUMAN                           | VP37C_HUMAN                                     | A5D8V6                                          | NULL                                            | CTG-0166                                        | 14.516                                          | NULL                                            | NULL                                            |\n",
       "| 2578 | 47820                                           | sp|A5YKK6|CNOT1_HUMAN                           | sp|A5YKK6|CNOT1_HUMAN                           | CNOT1_HUMAN                                     | A5YKK6                                          | NULL                                            | CTG-0166                                        | 16.526                                          | NULL                                            | NULL                                            |\n",
       "| 2823 | 48065                                           | sp|A6NDG6|PGP_HUMAN                             | sp|A6NDG6|PGP_HUMAN                             | PGP_HUMAN                                       | A6NDG6                                          | NULL                                            | CTG-0166                                        | 17.262                                          | NULL                                            | NULL                                            |\n",
       "| 2972 | 48214                                           | sp|A6NDU8|CE051_HUMAN                           | sp|A6NDU8|CE051_HUMAN                           | CE051_HUMAN                                     | A6NDU8                                          | NULL                                            | CTG-0166                                        | 15.466                                          | NULL                                            | NULL                                            |\n",
       "| 3142 | 48384                                           | sp|A6NFI3|ZN316_HUMAN                           | sp|A6NFI3|ZN316_HUMAN                           | ZN316_HUMAN                                     | A6NFI3                                          | NULL                                            | CTG-0166                                        | 13.255                                          | NULL                                            | NULL                                            |\n",
       "| 3325 | 48567                                           | sp|A6NGR9|MROH6_HUMAN                           | sp|A6NGR9|MROH6_HUMAN                           | MROH6_HUMAN                                     | A6NGR9                                          | NULL                                            | CTG-0166                                        | 16.160                                          | NULL                                            | NULL                                            |\n",
       "| 3473 | 48715                                           | sp|A6NHL2|TBAL3_HUMAN                           | sp|A6NHL2|TBAL3_HUMAN                           | TBAL3_HUMAN                                     | A6NHL2                                          | NULL                                            | CTG-0166                                        | 16.412                                          | NULL                                            | NULL                                            |\n",
       "| 3618 | 48860                                           | sp|A6NHR9|SMHD1_HUMAN                           | sp|A6NHR9|SMHD1_HUMAN                           | SMHD1_HUMAN                                     | A6NHR9                                          | NULL                                            | CTG-0166                                        | 13.776                                          | NULL                                            | NULL                                            |\n",
       "| 3848 | 49090                                           | sp|A6NIH7|U119B_HUMAN                           | sp|A6NIH7|U119B_HUMAN                           | U119B_HUMAN                                     | A6NIH7                                          | NULL                                            | CTG-0166                                        | 14.756                                          | NULL                                            | NULL                                            |\n",
       "| 3983 | 49225                                           | sp|A6NJ78|MET15_HUMAN                           | sp|A6NJ78|MET15_HUMAN                           | MET15_HUMAN                                     | A6NJ78                                          | NULL                                            | CTG-0166                                        | 11.980                                          | NULL                                            | NULL                                            |\n",
       "| 4094 | 49336                                           | sp|A6NKF1|SAC31_HUMAN                           | sp|A6NKF1|SAC31_HUMAN                           | SAC31_HUMAN                                     | A6NKF1                                          | NULL                                            | CTG-0166                                        | 11.864                                          | NULL                                            | NULL                                            |\n",
       "| ... | ... | ... | ... | ... | ... | ... | ... | ... | ... | ... |\n",
       "| 627512 | 672844                | sp|Q9Y6C9|MTCH2_HUMAN | sp|Q9Y6C9|MTCH2_HUMAN | MTCH2_HUMAN           | Q9Y6C9                | NULL                  | CTG-0166              | 17.647                | NULL                  | NULL                  |\n",
       "| 627659 | 672991                | sp|Q9Y6D5|BIG2_HUMAN  | sp|Q9Y6D5|BIG2_HUMAN  | BIG2_HUMAN            | Q9Y6D5                | NULL                  | CTG-0166              | 14.095                | NULL                  | NULL                  |\n",
       "| 627745 | 673077                | sp|Q9Y6D6|BIG1_HUMAN  | sp|Q9Y6D6|BIG1_HUMAN  | BIG1_HUMAN            | Q9Y6D6                | NULL                  | CTG-0166              | 14.467                | NULL                  | NULL                  |\n",
       "| 627775 | 673107                | sp|Q9Y6D9|MD1L1_HUMAN | sp|Q9Y6D9|MD1L1_HUMAN | MD1L1_HUMAN           | Q9Y6D9                | NULL                  | CTG-0166              | 10.473                | NULL                  | NULL                  |\n",
       "| 627916 | 673248                | sp|Q9Y6E0|STK24_HUMAN | sp|Q9Y6E0|STK24_HUMAN | STK24_HUMAN           | Q9Y6E0                | NULL                  | CTG-0166              | 14.518                | NULL                  | NULL                  |\n",
       "| 628065 | 673397                | sp|Q9Y6E2|BZW2_HUMAN  | sp|Q9Y6E2|BZW2_HUMAN  | BZW2_HUMAN            | Q9Y6E2                | NULL                  | CTG-0166              | 16.123                | NULL                  | NULL                  |\n",
       "| 628216 | 673548                | sp|Q9Y6G3|RM42_HUMAN  | sp|Q9Y6G3|RM42_HUMAN  | RM42_HUMAN            | Q9Y6G3                | NULL                  | CTG-0166              | 15.944                | NULL                  | NULL                  |\n",
       "| 628312 | 673644                | sp|Q9Y6G5|COMDA_HUMAN | sp|Q9Y6G5|COMDA_HUMAN | COMDA_HUMAN           | Q9Y6G5                | NULL                  | CTG-0166              | 14.018                | NULL                  | NULL                  |\n",
       "| 628454 | 673786                | sp|Q9Y6G9|DC1L1_HUMAN | sp|Q9Y6G9|DC1L1_HUMAN | DC1L1_HUMAN           | Q9Y6G9                | NULL                  | CTG-0166              | 16.638                | NULL                  | NULL                  |\n",
       "| 628603 | 673935                | sp|Q9Y6H1|CHCH2_HUMAN | sp|Q9Y6H1|CHCH2_HUMAN | CHCH2_HUMAN           | Q9Y6H1                | NULL                  | CTG-0166              | 14.348                | NULL                  | NULL                  |\n",
       "| 628748 | 674080                | sp|Q9Y6I3|EPN1_HUMAN  | sp|Q9Y6I3|EPN1_HUMAN  | EPN1_HUMAN            | Q9Y6I3                | NULL                  | CTG-0166              | 15.569                | NULL                  | NULL                  |\n",
       "| 628919 | 674251                | sp|Q9Y6I9|TX264_HUMAN | sp|Q9Y6I9|TX264_HUMAN | TX264_HUMAN           | Q9Y6I9                | NULL                  | CTG-0166              | 12.695                | NULL                  | NULL                  |\n",
       "| 629054 | 674386                | sp|Q9Y6J9|TAF6L_HUMAN | sp|Q9Y6J9|TAF6L_HUMAN | TAF6L_HUMAN           | Q9Y6J9                | NULL                  | CTG-0166              | 12.181                | NULL                  | NULL                  |\n",
       "| 629087 | 674419                | sp|Q9Y6K1|DNM3A_HUMAN | sp|Q9Y6K1|DNM3A_HUMAN | DNM3A_HUMAN           | Q9Y6K1                | NULL                  | CTG-0166              | 16.183                | NULL                  | NULL                  |\n",
       "| 629146 | 674478                | sp|Q9Y6K5|OAS3_HUMAN  | sp|Q9Y6K5|OAS3_HUMAN  | OAS3_HUMAN            | Q9Y6K5                | NULL                  | CTG-0166              | 18.118                | NULL                  | NULL                  |\n",
       "| 629289 | 674621                | sp|Q9Y6K9|NEMO_HUMAN  | sp|Q9Y6K9|NEMO_HUMAN  | NEMO_HUMAN            | Q9Y6K9                | NULL                  | CTG-0166              | 13.221                | NULL                  | NULL                  |\n",
       "| 629400 | 674732                | sp|Q9Y6M1|IF2B2_HUMAN | sp|Q9Y6M1|IF2B2_HUMAN | IF2B2_HUMAN           | Q9Y6M1                | NULL                  | CTG-0166              | 12.588                | NULL                  | NULL                  |\n",
       "| 629530 | 674862                | sp|Q9Y6M5|ZNT1_HUMAN  | sp|Q9Y6M5|ZNT1_HUMAN  | ZNT1_HUMAN            | Q9Y6M5                | NULL                  | CTG-0166              | 10.728                | NULL                  | NULL                  |\n",
       "| 629664 | 674996                | sp|Q9Y6M7|S4A7_HUMAN  | sp|Q9Y6M7|S4A7_HUMAN  | S4A7_HUMAN            | Q9Y6M7                | NULL                  | CTG-0166              | 10.688                | NULL                  | NULL                  |\n",
       "| 629726 | 675058                | sp|Q9Y6M9|NDUB9_HUMAN | sp|Q9Y6M9|NDUB9_HUMAN | NDUB9_HUMAN           | Q9Y6M9                | NULL                  | CTG-0166              | 17.690                | NULL                  | NULL                  |\n",
       "| 629868 | 675200                | sp|Q9Y6N1|COX11_HUMAN | sp|Q9Y6N1|COX11_HUMAN | COX11_HUMAN           | Q9Y6N1                | NULL                  | CTG-0166              | 13.229                | NULL                  | NULL                  |\n",
       "| 629989 | 675321                | sp|Q9Y6N5|SQOR_HUMAN  | sp|Q9Y6N5|SQOR_HUMAN  | SQOR_HUMAN            | Q9Y6N5                | NULL                  | CTG-0166              | 15.214                | NULL                  | NULL                  |\n",
       "| 630137 | 675469                | sp|Q9Y6N7|ROBO1_HUMAN | sp|Q9Y6N7|ROBO1_HUMAN | ROBO1_HUMAN           | Q9Y6N7                | NULL                  | CTG-0166              | 13.021                | NULL                  | NULL                  |\n",
       "| 630308 | 675640                | sp|Q9Y6Q5|AP1M2_HUMAN | sp|Q9Y6Q5|AP1M2_HUMAN | AP1M2_HUMAN           | Q9Y6Q5                | NULL                  | CTG-0166              | 14.931                | NULL                  | NULL                  |\n",
       "| 630458 | 675790                | sp|Q9Y6U3|ADSV_HUMAN  | sp|Q9Y6U3|ADSV_HUMAN  | ADSV_HUMAN            | Q9Y6U3                | NULL                  | CTG-0166              | 18.651                | NULL                  | NULL                  |\n",
       "| 630560 | 675892                | sp|Q9Y6W3|CAN7_HUMAN  | sp|Q9Y6W3|CAN7_HUMAN  | CAN7_HUMAN            | Q9Y6W3                | NULL                  | CTG-0166              | 10.722                | NULL                  | NULL                  |\n",
       "| 630661 | 675993                | sp|Q9Y6W5|WASF2_HUMAN | sp|Q9Y6W5|WASF2_HUMAN | WASF2_HUMAN           | Q9Y6W5                | NULL                  | CTG-0166              | 14.975                | NULL                  | NULL                  |\n",
       "| 630829 | 676161                | sp|Q9Y6X5|ENPP4_HUMAN | sp|Q9Y6X5|ENPP4_HUMAN | ENPP4_HUMAN           | Q9Y6X5                | NULL                  | CTG-0166              | 14.480                | NULL                  | NULL                  |\n",
       "| 630903 | 676235                | sp|Q9Y6Y0|NS1BP_HUMAN | sp|Q9Y6Y0|NS1BP_HUMAN | NS1BP_HUMAN           | Q9Y6Y0                | NULL                  | CTG-0166              | 15.528                | NULL                  | NULL                  |\n",
       "| 631046 | 676378                | sp|Q9Y6Y8|S23IP_HUMAN | sp|Q9Y6Y8|S23IP_HUMAN | S23IP_HUMAN           | Q9Y6Y8                | NULL                  | CTG-0166              | 15.844                | NULL                  | NULL                  |\n",
       "\n"
      ],
      "text/plain": [
       "       id     Protein                  \n",
       "6      45248  sp|A0A087WV62|TVB16_HUMAN\n",
       "119    45361  sp|A0A0B4J2D5|GAL3B_HUMAN\n",
       "351    45593  sp|A0A1B0GVH6|CM042_HUMAN\n",
       "407    45649  sp|A0AV96|RBM47_HUMAN    \n",
       "543    45785  sp|A0AVT1|UBA6_HUMAN     \n",
       "691    45933  sp|A0FGR8|ESYT2_HUMAN    \n",
       "826    46068  sp|A0JLT2|MED19_HUMAN    \n",
       "904    46146  sp|A0JNW5|UH1BL_HUMAN    \n",
       "942    46184  sp|A0MZ66|SHOT1_HUMAN    \n",
       "1121   46363  sp|A1L020|MEX3A_HUMAN    \n",
       "1147   46389  sp|A1L0T0|HACL2_HUMAN    \n",
       "1446   46688  sp|A2A2Z9|AN18B_HUMAN    \n",
       "1612   46854  sp|A2RRP1|NBAS_HUMAN     \n",
       "1786   47028  sp|A2RUS2|DEND3_HUMAN    \n",
       "1812   47054  sp|A3KMH1|VWA8_HUMAN     \n",
       "1945   47187  sp|A3KN83|SBNO1_HUMAN    \n",
       "2068   47310  sp|A4D1B5|GSAP_HUMAN     \n",
       "2213   47455  sp|A4D1E9|GTPBA_HUMAN    \n",
       "2409   47651  sp|A4D1U4|DEN11_HUMAN    \n",
       "2453   47695  sp|A5D8V6|VP37C_HUMAN    \n",
       "2578   47820  sp|A5YKK6|CNOT1_HUMAN    \n",
       "2823   48065  sp|A6NDG6|PGP_HUMAN      \n",
       "2972   48214  sp|A6NDU8|CE051_HUMAN    \n",
       "3142   48384  sp|A6NFI3|ZN316_HUMAN    \n",
       "3325   48567  sp|A6NGR9|MROH6_HUMAN    \n",
       "3473   48715  sp|A6NHL2|TBAL3_HUMAN    \n",
       "3618   48860  sp|A6NHR9|SMHD1_HUMAN    \n",
       "3848   49090  sp|A6NIH7|U119B_HUMAN    \n",
       "3983   49225  sp|A6NJ78|MET15_HUMAN    \n",
       "4094   49336  sp|A6NKF1|SAC31_HUMAN    \n",
       "...    ...    ...                      \n",
       "627512 672844 sp|Q9Y6C9|MTCH2_HUMAN    \n",
       "627659 672991 sp|Q9Y6D5|BIG2_HUMAN     \n",
       "627745 673077 sp|Q9Y6D6|BIG1_HUMAN     \n",
       "627775 673107 sp|Q9Y6D9|MD1L1_HUMAN    \n",
       "627916 673248 sp|Q9Y6E0|STK24_HUMAN    \n",
       "628065 673397 sp|Q9Y6E2|BZW2_HUMAN     \n",
       "628216 673548 sp|Q9Y6G3|RM42_HUMAN     \n",
       "628312 673644 sp|Q9Y6G5|COMDA_HUMAN    \n",
       "628454 673786 sp|Q9Y6G9|DC1L1_HUMAN    \n",
       "628603 673935 sp|Q9Y6H1|CHCH2_HUMAN    \n",
       "628748 674080 sp|Q9Y6I3|EPN1_HUMAN     \n",
       "628919 674251 sp|Q9Y6I9|TX264_HUMAN    \n",
       "629054 674386 sp|Q9Y6J9|TAF6L_HUMAN    \n",
       "629087 674419 sp|Q9Y6K1|DNM3A_HUMAN    \n",
       "629146 674478 sp|Q9Y6K5|OAS3_HUMAN     \n",
       "629289 674621 sp|Q9Y6K9|NEMO_HUMAN     \n",
       "629400 674732 sp|Q9Y6M1|IF2B2_HUMAN    \n",
       "629530 674862 sp|Q9Y6M5|ZNT1_HUMAN     \n",
       "629664 674996 sp|Q9Y6M7|S4A7_HUMAN     \n",
       "629726 675058 sp|Q9Y6M9|NDUB9_HUMAN    \n",
       "629868 675200 sp|Q9Y6N1|COX11_HUMAN    \n",
       "629989 675321 sp|Q9Y6N5|SQOR_HUMAN     \n",
       "630137 675469 sp|Q9Y6N7|ROBO1_HUMAN    \n",
       "630308 675640 sp|Q9Y6Q5|AP1M2_HUMAN    \n",
       "630458 675790 sp|Q9Y6U3|ADSV_HUMAN     \n",
       "630560 675892 sp|Q9Y6W3|CAN7_HUMAN     \n",
       "630661 675993 sp|Q9Y6W5|WASF2_HUMAN    \n",
       "630829 676161 sp|Q9Y6X5|ENPP4_HUMAN    \n",
       "630903 676235 sp|Q9Y6Y0|NS1BP_HUMAN    \n",
       "631046 676378 sp|Q9Y6Y8|S23IP_HUMAN    \n",
       "       ProteinGroup                                    ProteinGroupName\n",
       "6      sp|A0A087WV62|TVB16_HUMAN                       TVB16_HUMAN     \n",
       "119    sp|A0A0B4J2D5|GAL3B_HUMAN;sp|P0DPI2|GAL3A_HUMAN GAL3B_HUMAN     \n",
       "351    sp|A0A1B0GVH6|CM042_HUMAN                       CM042_HUMAN     \n",
       "407    sp|A0AV96|RBM47_HUMAN                           RBM47_HUMAN     \n",
       "543    sp|A0AVT1|UBA6_HUMAN                            UBA6_HUMAN      \n",
       "691    sp|A0FGR8|ESYT2_HUMAN                           ESYT2_HUMAN     \n",
       "826    sp|A0JLT2|MED19_HUMAN                           MED19_HUMAN     \n",
       "904    sp|A0JNW5|UH1BL_HUMAN                           UH1BL_HUMAN     \n",
       "942    sp|A0MZ66|SHOT1_HUMAN                           SHOT1_HUMAN     \n",
       "1121   sp|A1L020|MEX3A_HUMAN                           MEX3A_HUMAN     \n",
       "1147   sp|A1L0T0|HACL2_HUMAN                           HACL2_HUMAN     \n",
       "1446   sp|A2A2Z9|AN18B_HUMAN;sp|Q8IVF6|AN18A_HUMAN     AN18B_HUMAN     \n",
       "1612   sp|A2RRP1|NBAS_HUMAN                            NBAS_HUMAN      \n",
       "1786   sp|A2RUS2|DEND3_HUMAN                           DEND3_HUMAN     \n",
       "1812   sp|A3KMH1|VWA8_HUMAN                            VWA8_HUMAN      \n",
       "1945   sp|A3KN83|SBNO1_HUMAN                           SBNO1_HUMAN     \n",
       "2068   sp|A4D1B5|GSAP_HUMAN                            GSAP_HUMAN      \n",
       "2213   sp|A4D1E9|GTPBA_HUMAN                           GTPBA_HUMAN     \n",
       "2409   sp|A4D1U4|DEN11_HUMAN                           DEN11_HUMAN     \n",
       "2453   sp|A5D8V6|VP37C_HUMAN                           VP37C_HUMAN     \n",
       "2578   sp|A5YKK6|CNOT1_HUMAN                           CNOT1_HUMAN     \n",
       "2823   sp|A6NDG6|PGP_HUMAN                             PGP_HUMAN       \n",
       "2972   sp|A6NDU8|CE051_HUMAN                           CE051_HUMAN     \n",
       "3142   sp|A6NFI3|ZN316_HUMAN                           ZN316_HUMAN     \n",
       "3325   sp|A6NGR9|MROH6_HUMAN                           MROH6_HUMAN     \n",
       "3473   sp|A6NHL2|TBAL3_HUMAN                           TBAL3_HUMAN     \n",
       "3618   sp|A6NHR9|SMHD1_HUMAN                           SMHD1_HUMAN     \n",
       "3848   sp|A6NIH7|U119B_HUMAN                           U119B_HUMAN     \n",
       "3983   sp|A6NJ78|MET15_HUMAN                           MET15_HUMAN     \n",
       "4094   sp|A6NKF1|SAC31_HUMAN                           SAC31_HUMAN     \n",
       "...    ...                                             ...             \n",
       "627512 sp|Q9Y6C9|MTCH2_HUMAN                           MTCH2_HUMAN     \n",
       "627659 sp|Q9Y6D5|BIG2_HUMAN                            BIG2_HUMAN      \n",
       "627745 sp|Q9Y6D6|BIG1_HUMAN                            BIG1_HUMAN      \n",
       "627775 sp|Q9Y6D9|MD1L1_HUMAN                           MD1L1_HUMAN     \n",
       "627916 sp|Q9Y6E0|STK24_HUMAN                           STK24_HUMAN     \n",
       "628065 sp|Q9Y6E2|BZW2_HUMAN                            BZW2_HUMAN      \n",
       "628216 sp|Q9Y6G3|RM42_HUMAN                            RM42_HUMAN      \n",
       "628312 sp|Q9Y6G5|COMDA_HUMAN                           COMDA_HUMAN     \n",
       "628454 sp|Q9Y6G9|DC1L1_HUMAN                           DC1L1_HUMAN     \n",
       "628603 sp|Q9Y6H1|CHCH2_HUMAN                           CHCH2_HUMAN     \n",
       "628748 sp|Q9Y6I3|EPN1_HUMAN                            EPN1_HUMAN      \n",
       "628919 sp|Q9Y6I9|TX264_HUMAN                           TX264_HUMAN     \n",
       "629054 sp|Q9Y6J9|TAF6L_HUMAN                           TAF6L_HUMAN     \n",
       "629087 sp|Q9Y6K1|DNM3A_HUMAN                           DNM3A_HUMAN     \n",
       "629146 sp|Q9Y6K5|OAS3_HUMAN                            OAS3_HUMAN      \n",
       "629289 sp|Q9Y6K9|NEMO_HUMAN                            NEMO_HUMAN      \n",
       "629400 sp|Q9Y6M1|IF2B2_HUMAN                           IF2B2_HUMAN     \n",
       "629530 sp|Q9Y6M5|ZNT1_HUMAN                            ZNT1_HUMAN      \n",
       "629664 sp|Q9Y6M7|S4A7_HUMAN                            S4A7_HUMAN      \n",
       "629726 sp|Q9Y6M9|NDUB9_HUMAN                           NDUB9_HUMAN     \n",
       "629868 sp|Q9Y6N1|COX11_HUMAN                           COX11_HUMAN     \n",
       "629989 sp|Q9Y6N5|SQOR_HUMAN                            SQOR_HUMAN      \n",
       "630137 sp|Q9Y6N7|ROBO1_HUMAN                           ROBO1_HUMAN     \n",
       "630308 sp|Q9Y6Q5|AP1M2_HUMAN                           AP1M2_HUMAN     \n",
       "630458 sp|Q9Y6U3|ADSV_HUMAN                            ADSV_HUMAN      \n",
       "630560 sp|Q9Y6W3|CAN7_HUMAN                            CAN7_HUMAN      \n",
       "630661 sp|Q9Y6W5|WASF2_HUMAN                           WASF2_HUMAN     \n",
       "630829 sp|Q9Y6X5|ENPP4_HUMAN                           ENPP4_HUMAN     \n",
       "630903 sp|Q9Y6Y0|NS1BP_HUMAN                           NS1BP_HUMAN     \n",
       "631046 sp|Q9Y6Y8|S23IP_HUMAN                           S23IP_HUMAN     \n",
       "       ProteinGroupId Organism Sample   Intensity counts hgnc_symbol\n",
       "6      A0A087WV62     NULL     CTG-0166 15.620    NULL   NULL       \n",
       "119    A0A0B4J2D5     NULL     CTG-0166 17.707    NULL   NULL       \n",
       "351    A0A1B0GVH6     NULL     CTG-0166 16.119    NULL   NULL       \n",
       "407    A0AV96         NULL     CTG-0166 16.695    NULL   NULL       \n",
       "543    A0AVT1         NULL     CTG-0166 17.265    NULL   NULL       \n",
       "691    A0FGR8         NULL     CTG-0166 15.779    NULL   NULL       \n",
       "826    A0JLT2         NULL     CTG-0166 11.691    NULL   NULL       \n",
       "904    A0JNW5         NULL     CTG-0166  9.644    NULL   NULL       \n",
       "942    A0MZ66         NULL     CTG-0166 15.742    NULL   NULL       \n",
       "1121   A1L020         NULL     CTG-0166 10.313    NULL   NULL       \n",
       "1147   A1L0T0         NULL     CTG-0166 12.550    NULL   NULL       \n",
       "1446   A2A2Z9         NULL     CTG-0166 17.785    NULL   NULL       \n",
       "1612   A2RRP1         NULL     CTG-0166 14.690    NULL   NULL       \n",
       "1786   A2RUS2         NULL     CTG-0166 11.028    NULL   NULL       \n",
       "1812   A3KMH1         NULL     CTG-0166 12.196    NULL   NULL       \n",
       "1945   A3KN83         NULL     CTG-0166 16.277    NULL   NULL       \n",
       "2068   A4D1B5         NULL     CTG-0166 17.777    NULL   NULL       \n",
       "2213   A4D1E9         NULL     CTG-0166 12.924    NULL   NULL       \n",
       "2409   A4D1U4         NULL     CTG-0166 13.689    NULL   NULL       \n",
       "2453   A5D8V6         NULL     CTG-0166 14.516    NULL   NULL       \n",
       "2578   A5YKK6         NULL     CTG-0166 16.526    NULL   NULL       \n",
       "2823   A6NDG6         NULL     CTG-0166 17.262    NULL   NULL       \n",
       "2972   A6NDU8         NULL     CTG-0166 15.466    NULL   NULL       \n",
       "3142   A6NFI3         NULL     CTG-0166 13.255    NULL   NULL       \n",
       "3325   A6NGR9         NULL     CTG-0166 16.160    NULL   NULL       \n",
       "3473   A6NHL2         NULL     CTG-0166 16.412    NULL   NULL       \n",
       "3618   A6NHR9         NULL     CTG-0166 13.776    NULL   NULL       \n",
       "3848   A6NIH7         NULL     CTG-0166 14.756    NULL   NULL       \n",
       "3983   A6NJ78         NULL     CTG-0166 11.980    NULL   NULL       \n",
       "4094   A6NKF1         NULL     CTG-0166 11.864    NULL   NULL       \n",
       "...    ...            ...      ...      ...       ...    ...        \n",
       "627512 Q9Y6C9         NULL     CTG-0166 17.647    NULL   NULL       \n",
       "627659 Q9Y6D5         NULL     CTG-0166 14.095    NULL   NULL       \n",
       "627745 Q9Y6D6         NULL     CTG-0166 14.467    NULL   NULL       \n",
       "627775 Q9Y6D9         NULL     CTG-0166 10.473    NULL   NULL       \n",
       "627916 Q9Y6E0         NULL     CTG-0166 14.518    NULL   NULL       \n",
       "628065 Q9Y6E2         NULL     CTG-0166 16.123    NULL   NULL       \n",
       "628216 Q9Y6G3         NULL     CTG-0166 15.944    NULL   NULL       \n",
       "628312 Q9Y6G5         NULL     CTG-0166 14.018    NULL   NULL       \n",
       "628454 Q9Y6G9         NULL     CTG-0166 16.638    NULL   NULL       \n",
       "628603 Q9Y6H1         NULL     CTG-0166 14.348    NULL   NULL       \n",
       "628748 Q9Y6I3         NULL     CTG-0166 15.569    NULL   NULL       \n",
       "628919 Q9Y6I9         NULL     CTG-0166 12.695    NULL   NULL       \n",
       "629054 Q9Y6J9         NULL     CTG-0166 12.181    NULL   NULL       \n",
       "629087 Q9Y6K1         NULL     CTG-0166 16.183    NULL   NULL       \n",
       "629146 Q9Y6K5         NULL     CTG-0166 18.118    NULL   NULL       \n",
       "629289 Q9Y6K9         NULL     CTG-0166 13.221    NULL   NULL       \n",
       "629400 Q9Y6M1         NULL     CTG-0166 12.588    NULL   NULL       \n",
       "629530 Q9Y6M5         NULL     CTG-0166 10.728    NULL   NULL       \n",
       "629664 Q9Y6M7         NULL     CTG-0166 10.688    NULL   NULL       \n",
       "629726 Q9Y6M9         NULL     CTG-0166 17.690    NULL   NULL       \n",
       "629868 Q9Y6N1         NULL     CTG-0166 13.229    NULL   NULL       \n",
       "629989 Q9Y6N5         NULL     CTG-0166 15.214    NULL   NULL       \n",
       "630137 Q9Y6N7         NULL     CTG-0166 13.021    NULL   NULL       \n",
       "630308 Q9Y6Q5         NULL     CTG-0166 14.931    NULL   NULL       \n",
       "630458 Q9Y6U3         NULL     CTG-0166 18.651    NULL   NULL       \n",
       "630560 Q9Y6W3         NULL     CTG-0166 10.722    NULL   NULL       \n",
       "630661 Q9Y6W5         NULL     CTG-0166 14.975    NULL   NULL       \n",
       "630829 Q9Y6X5         NULL     CTG-0166 14.480    NULL   NULL       \n",
       "630903 Q9Y6Y0         NULL     CTG-0166 15.528    NULL   NULL       \n",
       "631046 Q9Y6Y8         NULL     CTG-0166 15.844    NULL   NULL       "
      ]
     },
     "metadata": {},
     "output_type": "display_data"
    }
   ],
   "source": [
    "intensity[intensity$Sample=='CTG-0166',]"
   ]
  },
  {
   "cell_type": "code",
   "execution_count": 13,
   "id": "58ae14a5",
   "metadata": {},
   "outputs": [
    {
     "data": {
      "text/html": [
       "<table>\n",
       "<thead><tr><th></th><th scope=col>id</th><th scope=col>Protein</th><th scope=col>ProteinGroup</th><th scope=col>ProteinGroupName</th><th scope=col>ProteinGroupId</th><th scope=col>Organism</th><th scope=col>Sample</th><th scope=col>Intensity</th><th scope=col>counts</th><th scope=col>hgnc_symbol</th></tr></thead>\n",
       "<tbody>\n",
       "\t<tr><th scope=row>114</th><td> 45356                                         </td><td>sp|A0A0B4J2D5|GAL3B_HUMAN                      </td><td>sp|A0A0B4J2D5|GAL3B_HUMAN;sp|P0DPI2|GAL3A_HUMAN</td><td>GAL3B_HUMAN                                    </td><td>A0A0B4J2D5                                     </td><td>NULL                                           </td><td>CTG-0158                                       </td><td>18.058                                         </td><td>NULL                                           </td><td>NULL                                           </td></tr>\n",
       "\t<tr><th scope=row>110184</th><td>155426                                         </td><td>sp|A0A0B4J2D5|GAL3B_HUMAN                      </td><td>sp|A0A0B4J2D5|GAL3B_HUMAN;sp|P0DPI2|GAL3A_HUMAN</td><td>GAL3A_HUMAN                                    </td><td>P0DPI2                                         </td><td>NULL                                           </td><td>CTG-0158                                       </td><td>18.058                                         </td><td>NULL                                           </td><td>NULL                                           </td></tr>\n",
       "</tbody>\n",
       "</table>\n"
      ],
      "text/latex": [
       "\\begin{tabular}{r|llllllllll}\n",
       "  & id & Protein & ProteinGroup & ProteinGroupName & ProteinGroupId & Organism & Sample & Intensity & counts & hgnc\\_symbol\\\\\n",
       "\\hline\n",
       "\t114 &  45356                                                                                      & sp\\textbar{}A0A0B4J2D5\\textbar{}GAL3B\\_HUMAN                                             & sp\\textbar{}A0A0B4J2D5\\textbar{}GAL3B\\_HUMAN;sp\\textbar{}P0DPI2\\textbar{}GAL3A\\_HUMAN & GAL3B\\_HUMAN                                                                               & A0A0B4J2D5                                                                                  & NULL                                                                                        & CTG-0158                                                                                    & 18.058                                                                                      & NULL                                                                                        & NULL                                                                                       \\\\\n",
       "\t110184 & 155426                                                                                      & sp\\textbar{}A0A0B4J2D5\\textbar{}GAL3B\\_HUMAN                                             & sp\\textbar{}A0A0B4J2D5\\textbar{}GAL3B\\_HUMAN;sp\\textbar{}P0DPI2\\textbar{}GAL3A\\_HUMAN & GAL3A\\_HUMAN                                                                               & P0DPI2                                                                                      & NULL                                                                                        & CTG-0158                                                                                    & 18.058                                                                                      & NULL                                                                                        & NULL                                                                                       \\\\\n",
       "\\end{tabular}\n"
      ],
      "text/markdown": [
       "\n",
       "| <!--/--> | id | Protein | ProteinGroup | ProteinGroupName | ProteinGroupId | Organism | Sample | Intensity | counts | hgnc_symbol |\n",
       "|---|---|---|---|---|---|---|---|---|---|---|\n",
       "| 114 |  45356                                          | sp|A0A0B4J2D5|GAL3B_HUMAN                       | sp|A0A0B4J2D5|GAL3B_HUMAN;sp|P0DPI2|GAL3A_HUMAN | GAL3B_HUMAN                                     | A0A0B4J2D5                                      | NULL                                            | CTG-0158                                        | 18.058                                          | NULL                                            | NULL                                            |\n",
       "| 110184 | 155426                                          | sp|A0A0B4J2D5|GAL3B_HUMAN                       | sp|A0A0B4J2D5|GAL3B_HUMAN;sp|P0DPI2|GAL3A_HUMAN | GAL3A_HUMAN                                     | P0DPI2                                          | NULL                                            | CTG-0158                                        | 18.058                                          | NULL                                            | NULL                                            |\n",
       "\n"
      ],
      "text/plain": [
       "       id     Protein                  \n",
       "114     45356 sp|A0A0B4J2D5|GAL3B_HUMAN\n",
       "110184 155426 sp|A0A0B4J2D5|GAL3B_HUMAN\n",
       "       ProteinGroup                                    ProteinGroupName\n",
       "114    sp|A0A0B4J2D5|GAL3B_HUMAN;sp|P0DPI2|GAL3A_HUMAN GAL3B_HUMAN     \n",
       "110184 sp|A0A0B4J2D5|GAL3B_HUMAN;sp|P0DPI2|GAL3A_HUMAN GAL3A_HUMAN     \n",
       "       ProteinGroupId Organism Sample   Intensity counts hgnc_symbol\n",
       "114    A0A0B4J2D5     NULL     CTG-0158 18.058    NULL   NULL       \n",
       "110184 P0DPI2         NULL     CTG-0158 18.058    NULL   NULL       "
      ]
     },
     "metadata": {},
     "output_type": "display_data"
    }
   ],
   "source": [
    "# check a case where there are repeats\n",
    "# The intensity was not calculated differently between GAL3A and GAL3B\n",
    "x <- intensity[intensity$Protein=='sp|A0A0B4J2D5|GAL3B_HUMAN',]\n",
    "x[x$Sample=='CTG-0158',]"
   ]
  },
  {
   "cell_type": "code",
   "execution_count": 14,
   "id": "83423d93",
   "metadata": {},
   "outputs": [
    {
     "data": {
      "text/html": [
       "<table>\n",
       "<thead><tr><th></th><th scope=col>CTG-0158</th><th scope=col>CTG-0159</th><th scope=col>CTG-0160</th><th scope=col>CTG-0162</th><th scope=col>CTG-0163</th><th scope=col>CTG-0166</th><th scope=col>CTG-0167</th><th scope=col>CTG-0178</th><th scope=col>CTG-0184</th><th scope=col>CTG-0464</th><th scope=col>...</th><th scope=col>CTG-3794</th><th scope=col>CTG-3795</th><th scope=col>CTG-3796</th><th scope=col>CTG-3797</th><th scope=col>CTG-3799</th><th scope=col>CTG-3800</th><th scope=col>CTG-3801</th><th scope=col>CTG-3802</th><th scope=col>CTG-3803</th><th scope=col>CTG-3805</th></tr></thead>\n",
       "<tbody>\n",
       "\t<tr><th scope=row>sp|A0A087WV62|TVB16_HUMAN</th><td>15.503</td><td>14.932</td><td>14.791</td><td>15.616</td><td>15.860</td><td>15.620</td><td>14.404</td><td>17.208</td><td>15.961</td><td>14.648</td><td>...   </td><td>    NA</td><td>    NA</td><td>    NA</td><td>    NA</td><td>    NA</td><td>    NA</td><td>    NA</td><td>    NA</td><td>    NA</td><td>    NA</td></tr>\n",
       "\t<tr><th scope=row>sp|A0A0B4J2D5|GAL3B_HUMAN;sp|P0DPI2|GAL3A_HUMAN</th><td>18.058</td><td>15.959</td><td>16.403</td><td>16.609</td><td>17.808</td><td>17.707</td><td>16.961</td><td>17.071</td><td>16.576</td><td>17.171</td><td>...   </td><td>19.154</td><td>18.021</td><td>18.640</td><td>17.470</td><td>19.184</td><td>18.883</td><td>19.659</td><td>19.406</td><td>18.087</td><td>19.928</td></tr>\n",
       "\t<tr><th scope=row>sp|A0A0B4J2H0|HV69D_HUMAN;sp|A0A0C4DH29|HV103_HUMAN;sp|P01742|HV169_HUMAN;sp|P01743|HV146_HUMAN;sp|P0DP01|HV108_HUMAN</th><td>    NA</td><td>    NA</td><td>    NA</td><td>    NA</td><td>    NA</td><td>    NA</td><td>    NA</td><td>    NA</td><td>14.146</td><td>    NA</td><td>...   </td><td>    NA</td><td>    NA</td><td>    NA</td><td>    NA</td><td>    NA</td><td>    NA</td><td>    NA</td><td>    NA</td><td>    NA</td><td>    NA</td></tr>\n",
       "\t<tr><th scope=row>sp|A0A0C4DH25|KVD20_HUMAN;sp|P01619|KV320_HUMAN</th><td>    NA</td><td>    NA</td><td>    NA</td><td>11.443</td><td>    NA</td><td>    NA</td><td>    NA</td><td>    NA</td><td>    NA</td><td>    NA</td><td>...   </td><td>    NA</td><td>    NA</td><td>    NA</td><td>    NA</td><td>    NA</td><td>    NA</td><td>    NA</td><td>    NA</td><td>    NA</td><td>    NA</td></tr>\n",
       "\t<tr><th scope=row>sp|A0A0U1RRE5|NBDY_HUMAN</th><td>13.970</td><td>    NA</td><td>    NA</td><td>    NA</td><td>    NA</td><td>    NA</td><td>    NA</td><td>    NA</td><td>    NA</td><td>    NA</td><td>...   </td><td>    NA</td><td>14.185</td><td>14.753</td><td>14.812</td><td>    NA</td><td>15.659</td><td>15.389</td><td>14.616</td><td>14.346</td><td>14.881</td></tr>\n",
       "\t<tr><th scope=row>sp|A0A0U1RRL7|MMPOS_HUMAN</th><td>    NA</td><td>16.280</td><td>    NA</td><td>16.074</td><td>    NA</td><td>    NA</td><td>    NA</td><td>15.504</td><td>    NA</td><td>    NA</td><td>...   </td><td>    NA</td><td>    NA</td><td>    NA</td><td>    NA</td><td>    NA</td><td>    NA</td><td>    NA</td><td>    NA</td><td>    NA</td><td>    NA</td></tr>\n",
       "</tbody>\n",
       "</table>\n"
      ],
      "text/latex": [
       "\\begin{tabular}{r|lllllllllllllllllllllllllllllllllllllllllllllllllllllllllllllllllllllllllllllllllllllllllllllllllllllllllllllllllllllllllllllllllllllllllllllllllllllllllllllllllllllllllllllllllllllllllllllllllllllllllllllllllllllllllllllllllllllllllllllllllllllllllllllllllllllllllllllllllllllllllllllllllllllllllllllllllllllllllllll}\n",
       "  & CTG-0158 & CTG-0159 & CTG-0160 & CTG-0162 & CTG-0163 & CTG-0166 & CTG-0167 & CTG-0178 & CTG-0184 & CTG-0464 & ... & CTG-3794 & CTG-3795 & CTG-3796 & CTG-3797 & CTG-3799 & CTG-3800 & CTG-3801 & CTG-3802 & CTG-3803 & CTG-3805\\\\\n",
       "\\hline\n",
       "\tsp\\textbar{}A0A087WV62\\textbar{}TVB16\\_HUMAN & 15.503 & 14.932 & 14.791 & 15.616 & 15.860 & 15.620 & 14.404 & 17.208 & 15.961 & 14.648 & ...    &     NA &     NA &     NA &     NA &     NA &     NA &     NA &     NA &     NA &     NA\\\\\n",
       "\tsp\\textbar{}A0A0B4J2D5\\textbar{}GAL3B\\_HUMAN;sp\\textbar{}P0DPI2\\textbar{}GAL3A\\_HUMAN & 18.058 & 15.959 & 16.403 & 16.609 & 17.808 & 17.707 & 16.961 & 17.071 & 16.576 & 17.171 & ...    & 19.154 & 18.021 & 18.640 & 17.470 & 19.184 & 18.883 & 19.659 & 19.406 & 18.087 & 19.928\\\\\n",
       "\tsp\\textbar{}A0A0B4J2H0\\textbar{}HV69D\\_HUMAN;sp\\textbar{}A0A0C4DH29\\textbar{}HV103\\_HUMAN;sp\\textbar{}P01742\\textbar{}HV169\\_HUMAN;sp\\textbar{}P01743\\textbar{}HV146\\_HUMAN;sp\\textbar{}P0DP01\\textbar{}HV108\\_HUMAN &     NA &     NA &     NA &     NA &     NA &     NA &     NA &     NA & 14.146 &     NA & ...    &     NA &     NA &     NA &     NA &     NA &     NA &     NA &     NA &     NA &     NA\\\\\n",
       "\tsp\\textbar{}A0A0C4DH25\\textbar{}KVD20\\_HUMAN;sp\\textbar{}P01619\\textbar{}KV320\\_HUMAN &     NA &     NA &     NA & 11.443 &     NA &     NA &     NA &     NA &     NA &     NA & ...    &     NA &     NA &     NA &     NA &     NA &     NA &     NA &     NA &     NA &     NA\\\\\n",
       "\tsp\\textbar{}A0A0U1RRE5\\textbar{}NBDY\\_HUMAN & 13.970 &     NA &     NA &     NA &     NA &     NA &     NA &     NA &     NA &     NA & ...    &     NA & 14.185 & 14.753 & 14.812 &     NA & 15.659 & 15.389 & 14.616 & 14.346 & 14.881\\\\\n",
       "\tsp\\textbar{}A0A0U1RRL7\\textbar{}MMPOS\\_HUMAN &     NA & 16.280 &     NA & 16.074 &     NA &     NA &     NA & 15.504 &     NA &     NA & ...    &     NA &     NA &     NA &     NA &     NA &     NA &     NA &     NA &     NA &     NA\\\\\n",
       "\\end{tabular}\n"
      ],
      "text/markdown": [
       "\n",
       "| <!--/--> | CTG-0158 | CTG-0159 | CTG-0160 | CTG-0162 | CTG-0163 | CTG-0166 | CTG-0167 | CTG-0178 | CTG-0184 | CTG-0464 | ... | CTG-3794 | CTG-3795 | CTG-3796 | CTG-3797 | CTG-3799 | CTG-3800 | CTG-3801 | CTG-3802 | CTG-3803 | CTG-3805 |\n",
       "|---|---|---|---|---|---|---|---|---|---|---|---|---|---|---|---|---|---|---|---|---|---|\n",
       "| sp|A0A087WV62|TVB16_HUMAN | 15.503 | 14.932 | 14.791 | 15.616 | 15.860 | 15.620 | 14.404 | 17.208 | 15.961 | 14.648 | ...    |     NA |     NA |     NA |     NA |     NA |     NA |     NA |     NA |     NA |     NA |\n",
       "| sp|A0A0B4J2D5|GAL3B_HUMAN;sp|P0DPI2|GAL3A_HUMAN | 18.058 | 15.959 | 16.403 | 16.609 | 17.808 | 17.707 | 16.961 | 17.071 | 16.576 | 17.171 | ...    | 19.154 | 18.021 | 18.640 | 17.470 | 19.184 | 18.883 | 19.659 | 19.406 | 18.087 | 19.928 |\n",
       "| sp|A0A0B4J2H0|HV69D_HUMAN;sp|A0A0C4DH29|HV103_HUMAN;sp|P01742|HV169_HUMAN;sp|P01743|HV146_HUMAN;sp|P0DP01|HV108_HUMAN |     NA |     NA |     NA |     NA |     NA |     NA |     NA |     NA | 14.146 |     NA | ...    |     NA |     NA |     NA |     NA |     NA |     NA |     NA |     NA |     NA |     NA |\n",
       "| sp|A0A0C4DH25|KVD20_HUMAN;sp|P01619|KV320_HUMAN |     NA |     NA |     NA | 11.443 |     NA |     NA |     NA |     NA |     NA |     NA | ...    |     NA |     NA |     NA |     NA |     NA |     NA |     NA |     NA |     NA |     NA |\n",
       "| sp|A0A0U1RRE5|NBDY_HUMAN | 13.970 |     NA |     NA |     NA |     NA |     NA |     NA |     NA |     NA |     NA | ...    |     NA | 14.185 | 14.753 | 14.812 |     NA | 15.659 | 15.389 | 14.616 | 14.346 | 14.881 |\n",
       "| sp|A0A0U1RRL7|MMPOS_HUMAN |     NA | 16.280 |     NA | 16.074 |     NA |     NA |     NA | 15.504 |     NA |     NA | ...    |     NA |     NA |     NA |     NA |     NA |     NA |     NA |     NA |     NA |     NA |\n",
       "\n"
      ],
      "text/plain": [
       "                                                                                                                      CTG-0158\n",
       "sp|A0A087WV62|TVB16_HUMAN                                                                                             15.503  \n",
       "sp|A0A0B4J2D5|GAL3B_HUMAN;sp|P0DPI2|GAL3A_HUMAN                                                                       18.058  \n",
       "sp|A0A0B4J2H0|HV69D_HUMAN;sp|A0A0C4DH29|HV103_HUMAN;sp|P01742|HV169_HUMAN;sp|P01743|HV146_HUMAN;sp|P0DP01|HV108_HUMAN     NA  \n",
       "sp|A0A0C4DH25|KVD20_HUMAN;sp|P01619|KV320_HUMAN                                                                           NA  \n",
       "sp|A0A0U1RRE5|NBDY_HUMAN                                                                                              13.970  \n",
       "sp|A0A0U1RRL7|MMPOS_HUMAN                                                                                                 NA  \n",
       "                                                                                                                      CTG-0159\n",
       "sp|A0A087WV62|TVB16_HUMAN                                                                                             14.932  \n",
       "sp|A0A0B4J2D5|GAL3B_HUMAN;sp|P0DPI2|GAL3A_HUMAN                                                                       15.959  \n",
       "sp|A0A0B4J2H0|HV69D_HUMAN;sp|A0A0C4DH29|HV103_HUMAN;sp|P01742|HV169_HUMAN;sp|P01743|HV146_HUMAN;sp|P0DP01|HV108_HUMAN     NA  \n",
       "sp|A0A0C4DH25|KVD20_HUMAN;sp|P01619|KV320_HUMAN                                                                           NA  \n",
       "sp|A0A0U1RRE5|NBDY_HUMAN                                                                                                  NA  \n",
       "sp|A0A0U1RRL7|MMPOS_HUMAN                                                                                             16.280  \n",
       "                                                                                                                      CTG-0160\n",
       "sp|A0A087WV62|TVB16_HUMAN                                                                                             14.791  \n",
       "sp|A0A0B4J2D5|GAL3B_HUMAN;sp|P0DPI2|GAL3A_HUMAN                                                                       16.403  \n",
       "sp|A0A0B4J2H0|HV69D_HUMAN;sp|A0A0C4DH29|HV103_HUMAN;sp|P01742|HV169_HUMAN;sp|P01743|HV146_HUMAN;sp|P0DP01|HV108_HUMAN     NA  \n",
       "sp|A0A0C4DH25|KVD20_HUMAN;sp|P01619|KV320_HUMAN                                                                           NA  \n",
       "sp|A0A0U1RRE5|NBDY_HUMAN                                                                                                  NA  \n",
       "sp|A0A0U1RRL7|MMPOS_HUMAN                                                                                                 NA  \n",
       "                                                                                                                      CTG-0162\n",
       "sp|A0A087WV62|TVB16_HUMAN                                                                                             15.616  \n",
       "sp|A0A0B4J2D5|GAL3B_HUMAN;sp|P0DPI2|GAL3A_HUMAN                                                                       16.609  \n",
       "sp|A0A0B4J2H0|HV69D_HUMAN;sp|A0A0C4DH29|HV103_HUMAN;sp|P01742|HV169_HUMAN;sp|P01743|HV146_HUMAN;sp|P0DP01|HV108_HUMAN     NA  \n",
       "sp|A0A0C4DH25|KVD20_HUMAN;sp|P01619|KV320_HUMAN                                                                       11.443  \n",
       "sp|A0A0U1RRE5|NBDY_HUMAN                                                                                                  NA  \n",
       "sp|A0A0U1RRL7|MMPOS_HUMAN                                                                                             16.074  \n",
       "                                                                                                                      CTG-0163\n",
       "sp|A0A087WV62|TVB16_HUMAN                                                                                             15.860  \n",
       "sp|A0A0B4J2D5|GAL3B_HUMAN;sp|P0DPI2|GAL3A_HUMAN                                                                       17.808  \n",
       "sp|A0A0B4J2H0|HV69D_HUMAN;sp|A0A0C4DH29|HV103_HUMAN;sp|P01742|HV169_HUMAN;sp|P01743|HV146_HUMAN;sp|P0DP01|HV108_HUMAN     NA  \n",
       "sp|A0A0C4DH25|KVD20_HUMAN;sp|P01619|KV320_HUMAN                                                                           NA  \n",
       "sp|A0A0U1RRE5|NBDY_HUMAN                                                                                                  NA  \n",
       "sp|A0A0U1RRL7|MMPOS_HUMAN                                                                                                 NA  \n",
       "                                                                                                                      CTG-0166\n",
       "sp|A0A087WV62|TVB16_HUMAN                                                                                             15.620  \n",
       "sp|A0A0B4J2D5|GAL3B_HUMAN;sp|P0DPI2|GAL3A_HUMAN                                                                       17.707  \n",
       "sp|A0A0B4J2H0|HV69D_HUMAN;sp|A0A0C4DH29|HV103_HUMAN;sp|P01742|HV169_HUMAN;sp|P01743|HV146_HUMAN;sp|P0DP01|HV108_HUMAN     NA  \n",
       "sp|A0A0C4DH25|KVD20_HUMAN;sp|P01619|KV320_HUMAN                                                                           NA  \n",
       "sp|A0A0U1RRE5|NBDY_HUMAN                                                                                                  NA  \n",
       "sp|A0A0U1RRL7|MMPOS_HUMAN                                                                                                 NA  \n",
       "                                                                                                                      CTG-0167\n",
       "sp|A0A087WV62|TVB16_HUMAN                                                                                             14.404  \n",
       "sp|A0A0B4J2D5|GAL3B_HUMAN;sp|P0DPI2|GAL3A_HUMAN                                                                       16.961  \n",
       "sp|A0A0B4J2H0|HV69D_HUMAN;sp|A0A0C4DH29|HV103_HUMAN;sp|P01742|HV169_HUMAN;sp|P01743|HV146_HUMAN;sp|P0DP01|HV108_HUMAN     NA  \n",
       "sp|A0A0C4DH25|KVD20_HUMAN;sp|P01619|KV320_HUMAN                                                                           NA  \n",
       "sp|A0A0U1RRE5|NBDY_HUMAN                                                                                                  NA  \n",
       "sp|A0A0U1RRL7|MMPOS_HUMAN                                                                                                 NA  \n",
       "                                                                                                                      CTG-0178\n",
       "sp|A0A087WV62|TVB16_HUMAN                                                                                             17.208  \n",
       "sp|A0A0B4J2D5|GAL3B_HUMAN;sp|P0DPI2|GAL3A_HUMAN                                                                       17.071  \n",
       "sp|A0A0B4J2H0|HV69D_HUMAN;sp|A0A0C4DH29|HV103_HUMAN;sp|P01742|HV169_HUMAN;sp|P01743|HV146_HUMAN;sp|P0DP01|HV108_HUMAN     NA  \n",
       "sp|A0A0C4DH25|KVD20_HUMAN;sp|P01619|KV320_HUMAN                                                                           NA  \n",
       "sp|A0A0U1RRE5|NBDY_HUMAN                                                                                                  NA  \n",
       "sp|A0A0U1RRL7|MMPOS_HUMAN                                                                                             15.504  \n",
       "                                                                                                                      CTG-0184\n",
       "sp|A0A087WV62|TVB16_HUMAN                                                                                             15.961  \n",
       "sp|A0A0B4J2D5|GAL3B_HUMAN;sp|P0DPI2|GAL3A_HUMAN                                                                       16.576  \n",
       "sp|A0A0B4J2H0|HV69D_HUMAN;sp|A0A0C4DH29|HV103_HUMAN;sp|P01742|HV169_HUMAN;sp|P01743|HV146_HUMAN;sp|P0DP01|HV108_HUMAN 14.146  \n",
       "sp|A0A0C4DH25|KVD20_HUMAN;sp|P01619|KV320_HUMAN                                                                           NA  \n",
       "sp|A0A0U1RRE5|NBDY_HUMAN                                                                                                  NA  \n",
       "sp|A0A0U1RRL7|MMPOS_HUMAN                                                                                                 NA  \n",
       "                                                                                                                      CTG-0464\n",
       "sp|A0A087WV62|TVB16_HUMAN                                                                                             14.648  \n",
       "sp|A0A0B4J2D5|GAL3B_HUMAN;sp|P0DPI2|GAL3A_HUMAN                                                                       17.171  \n",
       "sp|A0A0B4J2H0|HV69D_HUMAN;sp|A0A0C4DH29|HV103_HUMAN;sp|P01742|HV169_HUMAN;sp|P01743|HV146_HUMAN;sp|P0DP01|HV108_HUMAN     NA  \n",
       "sp|A0A0C4DH25|KVD20_HUMAN;sp|P01619|KV320_HUMAN                                                                           NA  \n",
       "sp|A0A0U1RRE5|NBDY_HUMAN                                                                                                  NA  \n",
       "sp|A0A0U1RRL7|MMPOS_HUMAN                                                                                                 NA  \n",
       "                                                                                                                      ...\n",
       "sp|A0A087WV62|TVB16_HUMAN                                                                                             ...\n",
       "sp|A0A0B4J2D5|GAL3B_HUMAN;sp|P0DPI2|GAL3A_HUMAN                                                                       ...\n",
       "sp|A0A0B4J2H0|HV69D_HUMAN;sp|A0A0C4DH29|HV103_HUMAN;sp|P01742|HV169_HUMAN;sp|P01743|HV146_HUMAN;sp|P0DP01|HV108_HUMAN ...\n",
       "sp|A0A0C4DH25|KVD20_HUMAN;sp|P01619|KV320_HUMAN                                                                       ...\n",
       "sp|A0A0U1RRE5|NBDY_HUMAN                                                                                              ...\n",
       "sp|A0A0U1RRL7|MMPOS_HUMAN                                                                                             ...\n",
       "                                                                                                                      CTG-3794\n",
       "sp|A0A087WV62|TVB16_HUMAN                                                                                                 NA  \n",
       "sp|A0A0B4J2D5|GAL3B_HUMAN;sp|P0DPI2|GAL3A_HUMAN                                                                       19.154  \n",
       "sp|A0A0B4J2H0|HV69D_HUMAN;sp|A0A0C4DH29|HV103_HUMAN;sp|P01742|HV169_HUMAN;sp|P01743|HV146_HUMAN;sp|P0DP01|HV108_HUMAN     NA  \n",
       "sp|A0A0C4DH25|KVD20_HUMAN;sp|P01619|KV320_HUMAN                                                                           NA  \n",
       "sp|A0A0U1RRE5|NBDY_HUMAN                                                                                                  NA  \n",
       "sp|A0A0U1RRL7|MMPOS_HUMAN                                                                                                 NA  \n",
       "                                                                                                                      CTG-3795\n",
       "sp|A0A087WV62|TVB16_HUMAN                                                                                                 NA  \n",
       "sp|A0A0B4J2D5|GAL3B_HUMAN;sp|P0DPI2|GAL3A_HUMAN                                                                       18.021  \n",
       "sp|A0A0B4J2H0|HV69D_HUMAN;sp|A0A0C4DH29|HV103_HUMAN;sp|P01742|HV169_HUMAN;sp|P01743|HV146_HUMAN;sp|P0DP01|HV108_HUMAN     NA  \n",
       "sp|A0A0C4DH25|KVD20_HUMAN;sp|P01619|KV320_HUMAN                                                                           NA  \n",
       "sp|A0A0U1RRE5|NBDY_HUMAN                                                                                              14.185  \n",
       "sp|A0A0U1RRL7|MMPOS_HUMAN                                                                                                 NA  \n",
       "                                                                                                                      CTG-3796\n",
       "sp|A0A087WV62|TVB16_HUMAN                                                                                                 NA  \n",
       "sp|A0A0B4J2D5|GAL3B_HUMAN;sp|P0DPI2|GAL3A_HUMAN                                                                       18.640  \n",
       "sp|A0A0B4J2H0|HV69D_HUMAN;sp|A0A0C4DH29|HV103_HUMAN;sp|P01742|HV169_HUMAN;sp|P01743|HV146_HUMAN;sp|P0DP01|HV108_HUMAN     NA  \n",
       "sp|A0A0C4DH25|KVD20_HUMAN;sp|P01619|KV320_HUMAN                                                                           NA  \n",
       "sp|A0A0U1RRE5|NBDY_HUMAN                                                                                              14.753  \n",
       "sp|A0A0U1RRL7|MMPOS_HUMAN                                                                                                 NA  \n",
       "                                                                                                                      CTG-3797\n",
       "sp|A0A087WV62|TVB16_HUMAN                                                                                                 NA  \n",
       "sp|A0A0B4J2D5|GAL3B_HUMAN;sp|P0DPI2|GAL3A_HUMAN                                                                       17.470  \n",
       "sp|A0A0B4J2H0|HV69D_HUMAN;sp|A0A0C4DH29|HV103_HUMAN;sp|P01742|HV169_HUMAN;sp|P01743|HV146_HUMAN;sp|P0DP01|HV108_HUMAN     NA  \n",
       "sp|A0A0C4DH25|KVD20_HUMAN;sp|P01619|KV320_HUMAN                                                                           NA  \n",
       "sp|A0A0U1RRE5|NBDY_HUMAN                                                                                              14.812  \n",
       "sp|A0A0U1RRL7|MMPOS_HUMAN                                                                                                 NA  \n",
       "                                                                                                                      CTG-3799\n",
       "sp|A0A087WV62|TVB16_HUMAN                                                                                                 NA  \n",
       "sp|A0A0B4J2D5|GAL3B_HUMAN;sp|P0DPI2|GAL3A_HUMAN                                                                       19.184  \n",
       "sp|A0A0B4J2H0|HV69D_HUMAN;sp|A0A0C4DH29|HV103_HUMAN;sp|P01742|HV169_HUMAN;sp|P01743|HV146_HUMAN;sp|P0DP01|HV108_HUMAN     NA  \n",
       "sp|A0A0C4DH25|KVD20_HUMAN;sp|P01619|KV320_HUMAN                                                                           NA  \n",
       "sp|A0A0U1RRE5|NBDY_HUMAN                                                                                                  NA  \n",
       "sp|A0A0U1RRL7|MMPOS_HUMAN                                                                                                 NA  \n",
       "                                                                                                                      CTG-3800\n",
       "sp|A0A087WV62|TVB16_HUMAN                                                                                                 NA  \n",
       "sp|A0A0B4J2D5|GAL3B_HUMAN;sp|P0DPI2|GAL3A_HUMAN                                                                       18.883  \n",
       "sp|A0A0B4J2H0|HV69D_HUMAN;sp|A0A0C4DH29|HV103_HUMAN;sp|P01742|HV169_HUMAN;sp|P01743|HV146_HUMAN;sp|P0DP01|HV108_HUMAN     NA  \n",
       "sp|A0A0C4DH25|KVD20_HUMAN;sp|P01619|KV320_HUMAN                                                                           NA  \n",
       "sp|A0A0U1RRE5|NBDY_HUMAN                                                                                              15.659  \n",
       "sp|A0A0U1RRL7|MMPOS_HUMAN                                                                                                 NA  \n",
       "                                                                                                                      CTG-3801\n",
       "sp|A0A087WV62|TVB16_HUMAN                                                                                                 NA  \n",
       "sp|A0A0B4J2D5|GAL3B_HUMAN;sp|P0DPI2|GAL3A_HUMAN                                                                       19.659  \n",
       "sp|A0A0B4J2H0|HV69D_HUMAN;sp|A0A0C4DH29|HV103_HUMAN;sp|P01742|HV169_HUMAN;sp|P01743|HV146_HUMAN;sp|P0DP01|HV108_HUMAN     NA  \n",
       "sp|A0A0C4DH25|KVD20_HUMAN;sp|P01619|KV320_HUMAN                                                                           NA  \n",
       "sp|A0A0U1RRE5|NBDY_HUMAN                                                                                              15.389  \n",
       "sp|A0A0U1RRL7|MMPOS_HUMAN                                                                                                 NA  \n",
       "                                                                                                                      CTG-3802\n",
       "sp|A0A087WV62|TVB16_HUMAN                                                                                                 NA  \n",
       "sp|A0A0B4J2D5|GAL3B_HUMAN;sp|P0DPI2|GAL3A_HUMAN                                                                       19.406  \n",
       "sp|A0A0B4J2H0|HV69D_HUMAN;sp|A0A0C4DH29|HV103_HUMAN;sp|P01742|HV169_HUMAN;sp|P01743|HV146_HUMAN;sp|P0DP01|HV108_HUMAN     NA  \n",
       "sp|A0A0C4DH25|KVD20_HUMAN;sp|P01619|KV320_HUMAN                                                                           NA  \n",
       "sp|A0A0U1RRE5|NBDY_HUMAN                                                                                              14.616  \n",
       "sp|A0A0U1RRL7|MMPOS_HUMAN                                                                                                 NA  \n",
       "                                                                                                                      CTG-3803\n",
       "sp|A0A087WV62|TVB16_HUMAN                                                                                                 NA  \n",
       "sp|A0A0B4J2D5|GAL3B_HUMAN;sp|P0DPI2|GAL3A_HUMAN                                                                       18.087  \n",
       "sp|A0A0B4J2H0|HV69D_HUMAN;sp|A0A0C4DH29|HV103_HUMAN;sp|P01742|HV169_HUMAN;sp|P01743|HV146_HUMAN;sp|P0DP01|HV108_HUMAN     NA  \n",
       "sp|A0A0C4DH25|KVD20_HUMAN;sp|P01619|KV320_HUMAN                                                                           NA  \n",
       "sp|A0A0U1RRE5|NBDY_HUMAN                                                                                              14.346  \n",
       "sp|A0A0U1RRL7|MMPOS_HUMAN                                                                                                 NA  \n",
       "                                                                                                                      CTG-3805\n",
       "sp|A0A087WV62|TVB16_HUMAN                                                                                                 NA  \n",
       "sp|A0A0B4J2D5|GAL3B_HUMAN;sp|P0DPI2|GAL3A_HUMAN                                                                       19.928  \n",
       "sp|A0A0B4J2H0|HV69D_HUMAN;sp|A0A0C4DH29|HV103_HUMAN;sp|P01742|HV169_HUMAN;sp|P01743|HV146_HUMAN;sp|P0DP01|HV108_HUMAN     NA  \n",
       "sp|A0A0C4DH25|KVD20_HUMAN;sp|P01619|KV320_HUMAN                                                                           NA  \n",
       "sp|A0A0U1RRE5|NBDY_HUMAN                                                                                              14.881  \n",
       "sp|A0A0U1RRL7|MMPOS_HUMAN                                                                                                 NA  "
      ]
     },
     "metadata": {},
     "output_type": "display_data"
    },
    {
     "name": "stdout",
     "output_type": "stream",
     "text": [
      "[1] 8530  317\n"
     ]
    }
   ],
   "source": [
    "int_mtx <- intensity %>% \n",
    "    select(c('ProteinGroup', 'Sample', 'Intensity'))  %>% \n",
    "    pivot_wider(names_from = Sample, values_from = Intensity, values_fn = mean) %>% \n",
    "#     pivot_wider(names_from = Sample, values_from = Intensity) %>% \n",
    "    column_to_rownames('ProteinGroup')\n",
    "head(int_mtx)\n",
    "print(dim(int_mtx))\n",
    "rm(intensity)  # release memory since using int_mtx from here on"
   ]
  },
  {
   "cell_type": "code",
   "execution_count": 15,
   "id": "87879ef6",
   "metadata": {},
   "outputs": [
    {
     "data": {
      "text/html": [
       "<ol class=list-inline>\n",
       "\t<li>295</li>\n",
       "\t<li>317</li>\n",
       "</ol>\n"
      ],
      "text/latex": [
       "\\begin{enumerate*}\n",
       "\\item 295\n",
       "\\item 317\n",
       "\\end{enumerate*}\n"
      ],
      "text/markdown": [
       "1. 295\n",
       "2. 317\n",
       "\n",
       "\n"
      ],
      "text/plain": [
       "[1] 295 317"
      ]
     },
     "metadata": {},
     "output_type": "display_data"
    }
   ],
   "source": [
    "# If omitting all proteins with NA values, how many rows are left?\n",
    "x <- na.omit(int_mtx)\n",
    "dim(x)"
   ]
  },
  {
   "cell_type": "code",
   "execution_count": 16,
   "id": "30e9560d",
   "metadata": {},
   "outputs": [
    {
     "data": {
      "text/html": [
       "0.509788795159781"
      ],
      "text/latex": [
       "0.509788795159781"
      ],
      "text/markdown": [
       "0.509788795159781"
      ],
      "text/plain": [
       "[1] 0.5097888"
      ]
     },
     "metadata": {},
     "output_type": "display_data"
    }
   ],
   "source": [
    "# proportion of missin values\n",
    "sum(is.na(int_mtx))/(dim(int_mtx)[1] * dim(int_mtx)[2])"
   ]
  },
  {
   "cell_type": "markdown",
   "id": "18e9e20b",
   "metadata": {},
   "source": [
    "The intensity is already in log-scale because it has negative values."
   ]
  },
  {
   "cell_type": "markdown",
   "id": "6b14f7cf",
   "metadata": {},
   "source": [
    "### Check the distribution of non-missing values\n",
    "\n",
    "Missing values in proteomic data can be generally characterized into missing at random (MAR) and missing not at random (MNAR). \n",
    "+ MAR missing values mostly result from technical limitations and stochastic fluctuations in an abundance-independent manner.\n",
    "+ MNAR missing values are more abundance-dependent that can be explained by the measurability of the corresponding peptides. \n",
    "\n",
    "Missing values in proteomic data are a mixture of MAR and MNAR. Although the real proportion is difficult to determine, it is believed that MNAR plays a dominant role in producing missing values."
   ]
  },
  {
   "cell_type": "code",
   "execution_count": 17,
   "id": "962225f4",
   "metadata": {},
   "outputs": [
    {
     "data": {
      "image/png": "[encoded data removed]",
      "text/plain": [
       "Plot with title \"Histogram of Non-NA samples in a protein\""
      ]
     },
     "metadata": {},
     "output_type": "display_data"
    }
   ],
   "source": [
    "# For each protein group, how many samples have intensity values\n",
    "hist(rowSums(!is.na(int_mtx)), breaks = 30,\n",
    "     main = \"Histogram of Non-NA samples in a protein\",\n",
    "     xlab = \"Number of samples that have values in a protein\")  "
   ]
  },
  {
   "cell_type": "code",
   "execution_count": 18,
   "id": "71742a2c",
   "metadata": {},
   "outputs": [],
   "source": [
    "# # For each sample, how many protein groups have intensity values\n",
    "# hist(colSums(!is.na(int_mtx)), breaks = 18,\n",
    "#      main = \"Histogram of Non-NA proteins in a sample\",\n",
    "#      xlab = \"Number of proteins that have values in a sample\")  "
   ]
  },
  {
   "cell_type": "markdown",
   "id": "2f656dda",
   "metadata": {},
   "source": [
    "### Filtering, normalization, and imputation\n",
    "\n",
    "First, filter proteins with too many missing values. \n",
    "\n",
    "Seoncd, we need to account for technical variability in the amount of sample analyzed by the mass spectrometer from one run to another. This is an issue parallel to the variation in sequencing depth in RNAseq experiments. To normalize out these technical differences, we perform a median normalization. For each sample, the median of the log2-transformed distribution is subtracted from all the values.\n",
    "\n",
    "Third, since missing values are associated with proteins with low levels of expression, we can substitute the missing values with numbers that are considered “small” in each sample. We can define this statistically by drawing from a normal distribution with a mean that is down-shifted from the sample mean and a standard deviation that is a fraction of the standard deviation of the sample distribution. "
   ]
  },
  {
   "cell_type": "code",
   "execution_count": 19,
   "id": "9d55571c",
   "metadata": {},
   "outputs": [],
   "source": [
    "# # This plot is to check if the data are currently median centered\n",
    "# boxplot(int_mtx, las=2)"
   ]
  },
  {
   "cell_type": "code",
   "execution_count": 20,
   "id": "3f058861",
   "metadata": {
    "scrolled": false
   },
   "outputs": [
    {
     "name": "stdout",
     "output_type": "stream",
     "text": [
      "[1] 5466\n",
      "[1] 0.2953538\n"
     ]
    },
    {
     "data": {
      "text/html": [
       "<table>\n",
       "<thead><tr><th></th><th scope=col>CTG-0158</th><th scope=col>CTG-0159</th><th scope=col>CTG-0160</th><th scope=col>CTG-0162</th><th scope=col>CTG-0163</th><th scope=col>CTG-0166</th><th scope=col>CTG-0167</th><th scope=col>CTG-0178</th><th scope=col>CTG-0184</th><th scope=col>CTG-0464</th><th scope=col>...</th><th scope=col>CTG-3794</th><th scope=col>CTG-3795</th><th scope=col>CTG-3796</th><th scope=col>CTG-3797</th><th scope=col>CTG-3799</th><th scope=col>CTG-3800</th><th scope=col>CTG-3801</th><th scope=col>CTG-3802</th><th scope=col>CTG-3803</th><th scope=col>CTG-3805</th></tr></thead>\n",
       "<tbody>\n",
       "\t<tr><th scope=row>sp|A0A087WV62|TVB16_HUMAN</th><td>0.1025   </td><td>-0.435   </td><td>-0.4125  </td><td>-0.011   </td><td>0.6685   </td><td>0.1175   </td><td>-0.848   </td><td>2.000    </td><td>0.492    </td><td>-0.686   </td><td>...      </td><td>-4.426058</td><td>-2.606117</td><td>-4.090644</td><td>-3.899574</td><td>-2.664214</td><td>-3.879883</td><td>-3.26088 </td><td>-3.254568</td><td>-3.140059</td><td>-1.630576</td></tr>\n",
       "\t<tr><th scope=row>sp|A0A0B4J2D5|GAL3B_HUMAN;sp|P0DPI2|GAL3A_HUMAN</th><td>2.6575   </td><td> 0.592   </td><td> 1.1995  </td><td> 0.982   </td><td>2.6165   </td><td>2.2045   </td><td> 1.709   </td><td>1.863    </td><td>1.107    </td><td> 1.837   </td><td>...      </td><td> 2.549000</td><td> 1.681000</td><td> 2.260500</td><td> 0.921000</td><td> 2.752000</td><td> 2.436000</td><td> 3.29250 </td><td> 2.814000</td><td> 1.693500</td><td> 3.395500</td></tr>\n",
       "</tbody>\n",
       "</table>\n"
      ],
      "text/latex": [
       "\\begin{tabular}{r|lllllllllllllllllllllllllllllllllllllllllllllllllllllllllllllllllllllllllllllllllllllllllllllllllllllllllllllllllllllllllllllllllllllllllllllllllllllllllllllllllllllllllllllllllllllllllllllllllllllllllllllllllllllllllllllllllllllllllllllllllllllllllllllllllllllllllllllllllllllllllllllllllllllllllllllllllllllllllllll}\n",
       "  & CTG-0158 & CTG-0159 & CTG-0160 & CTG-0162 & CTG-0163 & CTG-0166 & CTG-0167 & CTG-0178 & CTG-0184 & CTG-0464 & ... & CTG-3794 & CTG-3795 & CTG-3796 & CTG-3797 & CTG-3799 & CTG-3800 & CTG-3801 & CTG-3802 & CTG-3803 & CTG-3805\\\\\n",
       "\\hline\n",
       "\tsp\\textbar{}A0A087WV62\\textbar{}TVB16\\_HUMAN & 0.1025    & -0.435    & -0.4125   & -0.011    & 0.6685    & 0.1175    & -0.848    & 2.000     & 0.492     & -0.686    & ...       & -4.426058 & -2.606117 & -4.090644 & -3.899574 & -2.664214 & -3.879883 & -3.26088  & -3.254568 & -3.140059 & -1.630576\\\\\n",
       "\tsp\\textbar{}A0A0B4J2D5\\textbar{}GAL3B\\_HUMAN;sp\\textbar{}P0DPI2\\textbar{}GAL3A\\_HUMAN & 2.6575    &  0.592    &  1.1995   &  0.982    & 2.6165    & 2.2045    &  1.709    & 1.863     & 1.107     &  1.837    & ...       &  2.549000 &  1.681000 &  2.260500 &  0.921000 &  2.752000 &  2.436000 &  3.29250  &  2.814000 &  1.693500 &  3.395500\\\\\n",
       "\\end{tabular}\n"
      ],
      "text/markdown": [
       "\n",
       "| <!--/--> | CTG-0158 | CTG-0159 | CTG-0160 | CTG-0162 | CTG-0163 | CTG-0166 | CTG-0167 | CTG-0178 | CTG-0184 | CTG-0464 | ... | CTG-3794 | CTG-3795 | CTG-3796 | CTG-3797 | CTG-3799 | CTG-3800 | CTG-3801 | CTG-3802 | CTG-3803 | CTG-3805 |\n",
       "|---|---|---|---|---|---|---|---|---|---|---|---|---|---|---|---|---|---|---|---|---|---|\n",
       "| sp|A0A087WV62|TVB16_HUMAN | 0.1025    | -0.435    | -0.4125   | -0.011    | 0.6685    | 0.1175    | -0.848    | 2.000     | 0.492     | -0.686    | ...       | -4.426058 | -2.606117 | -4.090644 | -3.899574 | -2.664214 | -3.879883 | -3.26088  | -3.254568 | -3.140059 | -1.630576 |\n",
       "| sp|A0A0B4J2D5|GAL3B_HUMAN;sp|P0DPI2|GAL3A_HUMAN | 2.6575    |  0.592    |  1.1995   |  0.982    | 2.6165    | 2.2045    |  1.709    | 1.863     | 1.107     |  1.837    | ...       |  2.549000 |  1.681000 |  2.260500 |  0.921000 |  2.752000 |  2.436000 |  3.29250  |  2.814000 |  1.693500 |  3.395500 |\n",
       "\n"
      ],
      "text/plain": [
       "                                                CTG-0158 CTG-0159 CTG-0160\n",
       "sp|A0A087WV62|TVB16_HUMAN                       0.1025   -0.435   -0.4125 \n",
       "sp|A0A0B4J2D5|GAL3B_HUMAN;sp|P0DPI2|GAL3A_HUMAN 2.6575    0.592    1.1995 \n",
       "                                                CTG-0162 CTG-0163 CTG-0166\n",
       "sp|A0A087WV62|TVB16_HUMAN                       -0.011   0.6685   0.1175  \n",
       "sp|A0A0B4J2D5|GAL3B_HUMAN;sp|P0DPI2|GAL3A_HUMAN  0.982   2.6165   2.2045  \n",
       "                                                CTG-0167 CTG-0178 CTG-0184\n",
       "sp|A0A087WV62|TVB16_HUMAN                       -0.848   2.000    0.492   \n",
       "sp|A0A0B4J2D5|GAL3B_HUMAN;sp|P0DPI2|GAL3A_HUMAN  1.709   1.863    1.107   \n",
       "                                                CTG-0464 ... CTG-3794 \n",
       "sp|A0A087WV62|TVB16_HUMAN                       -0.686   ... -4.426058\n",
       "sp|A0A0B4J2D5|GAL3B_HUMAN;sp|P0DPI2|GAL3A_HUMAN  1.837   ...  2.549000\n",
       "                                                CTG-3795  CTG-3796  CTG-3797 \n",
       "sp|A0A087WV62|TVB16_HUMAN                       -2.606117 -4.090644 -3.899574\n",
       "sp|A0A0B4J2D5|GAL3B_HUMAN;sp|P0DPI2|GAL3A_HUMAN  1.681000  2.260500  0.921000\n",
       "                                                CTG-3799  CTG-3800  CTG-3801\n",
       "sp|A0A087WV62|TVB16_HUMAN                       -2.664214 -3.879883 -3.26088\n",
       "sp|A0A0B4J2D5|GAL3B_HUMAN;sp|P0DPI2|GAL3A_HUMAN  2.752000  2.436000  3.29250\n",
       "                                                CTG-3802  CTG-3803  CTG-3805 \n",
       "sp|A0A087WV62|TVB16_HUMAN                       -3.254568 -3.140059 -1.630576\n",
       "sp|A0A0B4J2D5|GAL3B_HUMAN;sp|P0DPI2|GAL3A_HUMAN  2.814000  1.693500  3.395500"
      ]
     },
     "metadata": {},
     "output_type": "display_data"
    },
    {
     "name": "stdout",
     "output_type": "stream",
     "text": [
      "[1] 5466  317\n"
     ]
    }
   ],
   "source": [
    "# Keep the proteins that were at least observed N_miss times\n",
    "N_miss <- 80\n",
    "int_norm <- int_mtx[rowSums(!is.na(int_mtx)) > N_miss,]\n",
    "print(nrow(int_norm))\n",
    "# proportion of missing values\n",
    "print(sum(is.na(int_norm))/(dim(int_norm)[1] * dim(int_norm)[2]))\n",
    "# # Bring the proprotion of missing values to below 30%\n",
    "\n",
    "# Normalization to conteract the different median between samples\n",
    "# subtract each value in a col with its respective col median\n",
    "int_norm <- sweep(int_norm, 2, apply(int_norm, 2, function(x){median(x, na.rm = TRUE)}), '-') \n",
    "\n",
    "# hist(unlist(int_norm), breaks = 30, col = \"blue\",\n",
    "#                   main = \"Histogram of protein intensity\", \n",
    "#                   xlab = \"Intensity\")  \n",
    "\n",
    "# Imputation\n",
    "width <- 0.3\n",
    "downshift <- 1.8 # assume missing values (small values) are outside 90% of the values in a normal distribution\n",
    "# shrink sd width\n",
    "temp_sd <- width * apply(int_norm, 2, function(x){sd(x, na.rm = TRUE)}) \n",
    "# shift mean of imputed values\n",
    "temp_mean <- apply(int_norm, 2, \n",
    "                   function(x){mean(x, na.rm = TRUE)}) - downshift * apply(int_norm, 2, \n",
    "                                                                           function(x){sd(x, na.rm = TRUE)})  \n",
    "set.seed(1)  # set seed for rnorm()\n",
    "for (i in 1:(dim(int_norm)[2])) {\n",
    "    temp <- int_norm[, i]\n",
    "    int_norm[, i][is.na(temp)] <- rnorm(sum(is.na(temp)), \n",
    "                                             mean = temp_mean[i], \n",
    "                                             sd = temp_sd[i])\n",
    "}\n",
    "head(int_norm, 2)\n",
    "print(dim(int_norm))\n",
    "# hist(unlist(int_norm), breaks = 30, col = alpha(\"green\", 0.5), add = TRUE)\n",
    "# legend('right', c('Normalized', 'Imputed'), fill = c(\"blue\", alpha(\"green\", 0.5)))\n",
    "\n",
    "# The imputed has both the normalized and the new imputed values"
   ]
  },
  {
   "cell_type": "markdown",
   "id": "d8d51152",
   "metadata": {},
   "source": [
    "### Differential protein expression"
   ]
  },
  {
   "cell_type": "code",
   "execution_count": 21,
   "id": "dd5f1d5a",
   "metadata": {},
   "outputs": [
    {
     "data": {
      "text/html": [
       "<table>\n",
       "<thead><tr><th scope=col>Model</th><th scope=col>Tumor type</th><th scope=col>Histology</th><th scope=col>treatment</th><th scope=col>outcome</th></tr></thead>\n",
       "<tbody>\n",
       "\t<tr><td>CTG-0149                                      </td><td>HEAD AND NECK                                 </td><td>SC CARCINOMA                                  </td><td>NONE                                          </td><td>                                              </td></tr>\n",
       "\t<tr><td>CTG-0152                                      </td><td>HEAD AND NECK                                 </td><td>SC CARCINOMA                                  </td><td>5-FLUOROURACIL/DOCETAXEL/CETUXIMAB/HYDROXYUREA</td><td>Response                                      </td></tr>\n",
       "</tbody>\n",
       "</table>\n"
      ],
      "text/latex": [
       "\\begin{tabular}{r|lllll}\n",
       " Model & Tumor type & Histology & treatment & outcome\\\\\n",
       "\\hline\n",
       "\t CTG-0149                                       & HEAD AND NECK                                  & SC CARCINOMA                                   & NONE                                           &                                               \\\\\n",
       "\t CTG-0152                                       & HEAD AND NECK                                  & SC CARCINOMA                                   & 5-FLUOROURACIL/DOCETAXEL/CETUXIMAB/HYDROXYUREA & Response                                      \\\\\n",
       "\\end{tabular}\n"
      ],
      "text/markdown": [
       "\n",
       "| Model | Tumor type | Histology | treatment | outcome |\n",
       "|---|---|---|---|---|\n",
       "| CTG-0149                                       | HEAD AND NECK                                  | SC CARCINOMA                                   | NONE                                           |                                                |\n",
       "| CTG-0152                                       | HEAD AND NECK                                  | SC CARCINOMA                                   | 5-FLUOROURACIL/DOCETAXEL/CETUXIMAB/HYDROXYUREA | Response                                       |\n",
       "\n"
      ],
      "text/plain": [
       "  Model    Tumor type    Histology   \n",
       "1 CTG-0149 HEAD AND NECK SC CARCINOMA\n",
       "2 CTG-0152 HEAD AND NECK SC CARCINOMA\n",
       "  treatment                                      outcome \n",
       "1 NONE                                                   \n",
       "2 5-FLUOROURACIL/DOCETAXEL/CETUXIMAB/HYDROXYUREA Response"
      ]
     },
     "metadata": {},
     "output_type": "display_data"
    },
    {
     "name": "stdout",
     "output_type": "stream",
     "text": [
      "[1] 320   5\n"
     ]
    }
   ],
   "source": [
    "clin_treatFile = './data/clinical_treatment.csv'\n",
    "clin_treat <- fread(clin_treatFile)\n",
    "clin_treat <- clin_treat[clin_treat$Model %in% colnames(int_norm)] %>% \n",
    "    unique\n",
    "head(clin_treat, 2)\n",
    "print(dim(clin_treat))"
   ]
  },
  {
   "cell_type": "code",
   "execution_count": 23,
   "id": "59a3e58d",
   "metadata": {
    "scrolled": true
   },
   "outputs": [
    {
     "data": {
      "text/html": [
       "164"
      ],
      "text/latex": [
       "164"
      ],
      "text/markdown": [
       "164"
      ],
      "text/plain": [
       "[1] 164"
      ]
     },
     "metadata": {},
     "output_type": "display_data"
    }
   ],
   "source": [
    "n_distinct(clin_treat$Model)"
   ]
  },
  {
   "cell_type": "code",
   "execution_count": 24,
   "id": "99bdb2a2",
   "metadata": {
    "scrolled": false
   },
   "outputs": [
    {
     "data": {
      "text/html": [
       "<table>\n",
       "<thead><tr><th scope=col>Tumor type</th><th scope=col>treatment</th><th scope=col>N</th></tr></thead>\n",
       "<tbody>\n",
       "\t<tr><td>HEAD AND NECK             </td><td>5-FLUOROURACIL            </td><td>1                         </td></tr>\n",
       "\t<tr><td>HEAD AND NECK             </td><td>5-FLUOROURACIL/CARBOPLATIN</td><td>1                         </td></tr>\n",
       "</tbody>\n",
       "</table>\n"
      ],
      "text/latex": [
       "\\begin{tabular}{r|lll}\n",
       " Tumor type & treatment & N\\\\\n",
       "\\hline\n",
       "\t HEAD AND NECK              & 5-FLUOROURACIL             & 1                         \\\\\n",
       "\t HEAD AND NECK              & 5-FLUOROURACIL/CARBOPLATIN & 1                         \\\\\n",
       "\\end{tabular}\n"
      ],
      "text/markdown": [
       "\n",
       "| Tumor type | treatment | N |\n",
       "|---|---|---|\n",
       "| HEAD AND NECK              | 5-FLUOROURACIL             | 1                          |\n",
       "| HEAD AND NECK              | 5-FLUOROURACIL/CARBOPLATIN | 1                          |\n",
       "\n"
      ],
      "text/plain": [
       "  Tumor type    treatment                  N\n",
       "1 HEAD AND NECK 5-FLUOROURACIL             1\n",
       "2 HEAD AND NECK 5-FLUOROURACIL/CARBOPLATIN 1"
      ]
     },
     "metadata": {},
     "output_type": "display_data"
    }
   ],
   "source": [
    "ct_sum <- clin_treat %>% \n",
    "    group_by(`Tumor type`, treatment) %>%\n",
    "    summarise(N = n_distinct(Model), .groups = 'drop')\n",
    "head(ct_sum, 2)"
   ]
  },
  {
   "cell_type": "code",
   "execution_count": 25,
   "id": "b6fb68e8",
   "metadata": {},
   "outputs": [
    {
     "data": {
      "text/html": [
       "<table>\n",
       "<thead><tr><th scope=col>Tumor type</th><th scope=col>treatment</th><th scope=col>N</th></tr></thead>\n",
       "<tbody>\n",
       "\t<tr><td>HEAD AND NECK</td><td>NONE         </td><td>45           </td></tr>\n",
       "\t<tr><td>NSCLC        </td><td>NONE         </td><td>54           </td></tr>\n",
       "</tbody>\n",
       "</table>\n"
      ],
      "text/latex": [
       "\\begin{tabular}{r|lll}\n",
       " Tumor type & treatment & N\\\\\n",
       "\\hline\n",
       "\t HEAD AND NECK & NONE          & 45           \\\\\n",
       "\t NSCLC         & NONE          & 54           \\\\\n",
       "\\end{tabular}\n"
      ],
      "text/markdown": [
       "\n",
       "| Tumor type | treatment | N |\n",
       "|---|---|---|\n",
       "| HEAD AND NECK | NONE          | 45            |\n",
       "| NSCLC         | NONE          | 54            |\n",
       "\n"
      ],
      "text/plain": [
       "  Tumor type    treatment N \n",
       "1 HEAD AND NECK NONE      45\n",
       "2 NSCLC         NONE      54"
      ]
     },
     "metadata": {},
     "output_type": "display_data"
    }
   ],
   "source": [
    "ct_sum[ct_sum$treatment=='NONE',]"
   ]
  },
  {
   "cell_type": "code",
   "execution_count": 26,
   "id": "d6c298c4",
   "metadata": {},
   "outputs": [
    {
     "data": {
      "text/html": [
       "<ol class=list-inline>\n",
       "\t<li>'HEAD AND NECK'</li>\n",
       "\t<li>'NSCLC'</li>\n",
       "</ol>\n"
      ],
      "text/latex": [
       "\\begin{enumerate*}\n",
       "\\item 'HEAD AND NECK'\n",
       "\\item 'NSCLC'\n",
       "\\end{enumerate*}\n"
      ],
      "text/markdown": [
       "1. 'HEAD AND NECK'\n",
       "2. 'NSCLC'\n",
       "\n",
       "\n"
      ],
      "text/plain": [
       "[1] \"HEAD AND NECK\" \"NSCLC\"        "
      ]
     },
     "metadata": {},
     "output_type": "display_data"
    }
   ],
   "source": [
    "unique(clin_treat$`Tumor type`)"
   ]
  },
  {
   "cell_type": "code",
   "execution_count": 37,
   "id": "2be2496e",
   "metadata": {},
   "outputs": [
    {
     "data": {
      "text/html": [
       "<table>\n",
       "<thead><tr><th scope=col>Model</th><th scope=col>Tumor type</th><th scope=col>Histology</th><th scope=col>treatment</th><th scope=col>outcome</th></tr></thead>\n",
       "<tbody>\n",
       "\t<tr><td>CTG-0152                                      </td><td>HEAD AND NECK                                 </td><td>SC CARCINOMA                                  </td><td>5-FLUOROURACIL/DOCETAXEL/CETUXIMAB/HYDROXYUREA</td><td>Response                                      </td></tr>\n",
       "\t<tr><td>CTG-0152                                      </td><td>HEAD AND NECK                                 </td><td>SC CARCINOMA                                  </td><td>CARBOPLATIN/DOCETAXEL                         </td><td>                                              </td></tr>\n",
       "\t<tr><td>CTG-0152                                      </td><td>HEAD AND NECK                                 </td><td>SC CARCINOMA                                  </td><td>CETUXIMAB (MAINTENANCE)                       </td><td>                                              </td></tr>\n",
       "</tbody>\n",
       "</table>\n"
      ],
      "text/latex": [
       "\\begin{tabular}{r|lllll}\n",
       " Model & Tumor type & Histology & treatment & outcome\\\\\n",
       "\\hline\n",
       "\t CTG-0152                                       & HEAD AND NECK                                  & SC CARCINOMA                                   & 5-FLUOROURACIL/DOCETAXEL/CETUXIMAB/HYDROXYUREA & Response                                      \\\\\n",
       "\t CTG-0152                                       & HEAD AND NECK                                  & SC CARCINOMA                                   & CARBOPLATIN/DOCETAXEL                          &                                               \\\\\n",
       "\t CTG-0152                                       & HEAD AND NECK                                  & SC CARCINOMA                                   & CETUXIMAB (MAINTENANCE)                        &                                               \\\\\n",
       "\\end{tabular}\n"
      ],
      "text/markdown": [
       "\n",
       "| Model | Tumor type | Histology | treatment | outcome |\n",
       "|---|---|---|---|---|\n",
       "| CTG-0152                                       | HEAD AND NECK                                  | SC CARCINOMA                                   | 5-FLUOROURACIL/DOCETAXEL/CETUXIMAB/HYDROXYUREA | Response                                       |\n",
       "| CTG-0152                                       | HEAD AND NECK                                  | SC CARCINOMA                                   | CARBOPLATIN/DOCETAXEL                          |                                                |\n",
       "| CTG-0152                                       | HEAD AND NECK                                  | SC CARCINOMA                                   | CETUXIMAB (MAINTENANCE)                        |                                                |\n",
       "\n"
      ],
      "text/plain": [
       "  Model    Tumor type    Histology   \n",
       "1 CTG-0152 HEAD AND NECK SC CARCINOMA\n",
       "2 CTG-0152 HEAD AND NECK SC CARCINOMA\n",
       "3 CTG-0152 HEAD AND NECK SC CARCINOMA\n",
       "  treatment                                      outcome \n",
       "1 5-FLUOROURACIL/DOCETAXEL/CETUXIMAB/HYDROXYUREA Response\n",
       "2 CARBOPLATIN/DOCETAXEL                                  \n",
       "3 CETUXIMAB (MAINTENANCE)                                "
      ]
     },
     "metadata": {},
     "output_type": "display_data"
    }
   ],
   "source": [
    "# # check the repeated model numbers\n",
    "# n_occur <- data.frame(table(clin_treat$Model))\n",
    "# n_occur[n_occur$Freq > 1,]\n",
    "clin_treat[clin_treat$Model=='CTG-0152',]"
   ]
  },
  {
   "cell_type": "code",
   "execution_count": 45,
   "id": "40ff9107",
   "metadata": {},
   "outputs": [
    {
     "data": {
      "text/html": [
       "<table>\n",
       "<thead><tr><th></th><th scope=col>CTG-0149</th><th scope=col>CTG-0152</th><th scope=col>CTG-0159</th><th scope=col>CTG-0160</th><th scope=col>CTG-0163</th><th scope=col>CTG-0166</th><th scope=col>CTG-0167</th><th scope=col>CTG-0178</th><th scope=col>CTG-0184</th><th scope=col>CTG-0462</th><th scope=col>...</th><th scope=col>CTG-3190</th><th scope=col>CTG-3213</th><th scope=col>CTG-3375</th><th scope=col>CTG-3414</th><th scope=col>CTG-3485</th><th scope=col>CTG-3493</th><th scope=col>CTG-3518</th><th scope=col>CTG-3527</th><th scope=col>CTG-3538</th><th scope=col>CTG-3547</th></tr></thead>\n",
       "<tbody>\n",
       "\t<tr><th scope=row>sp|A0A087WV62|TVB16_HUMAN</th><td>-4.490228</td><td>-5.953811</td><td>-0.435000</td><td>-0.4125  </td><td> 0.6685  </td><td> 0.1175  </td><td>-0.848   </td><td> 2.000000</td><td> 0.492   </td><td>-3.951179</td><td>...      </td><td>-4.778822</td><td>-0.235000</td><td>-0.9080  </td><td>-2.366000</td><td>-4.098275</td><td>-6.894622</td><td>-3.693368</td><td>-4.180883</td><td> 0.243000</td><td>-3.961313</td></tr>\n",
       "\t<tr><th scope=row>sp|A0A0B4J2D5|GAL3B_HUMAN;sp|P0DPI2|GAL3A_HUMAN</th><td> 1.674000</td><td> 0.364000</td><td> 0.592000</td><td> 1.1995  </td><td> 2.6165  </td><td> 2.2045  </td><td> 1.709   </td><td> 1.863000</td><td> 1.107   </td><td> 2.930000</td><td>...      </td><td> 0.321500</td><td> 1.663000</td><td> 1.7540  </td><td> 1.248000</td><td> 2.619500</td><td> 1.328000</td><td> 1.650000</td><td> 2.766000</td><td> 2.295000</td><td>-0.541000</td></tr>\n",
       "\t<tr><th scope=row>sp|A0AV96|RBM47_HUMAN</th><td>-6.082306</td><td>-5.421102</td><td> 2.436000</td><td>-0.9335  </td><td>-0.2805  </td><td> 1.1925  </td><td> 2.334   </td><td> 2.489000</td><td> 1.155   </td><td>-1.184000</td><td>...      </td><td>-1.837500</td><td>-0.404000</td><td> 1.8310  </td><td>-1.922000</td><td> 0.671500</td><td>-1.184000</td><td>-4.691444</td><td> 0.575000</td><td> 2.120000</td><td>-3.986819</td></tr>\n",
       "\t<tr><th scope=row>sp|A0AVT1|UBA6_HUMAN</th><td> 1.215000</td><td> 1.390000</td><td> 1.244000</td><td> 0.9545  </td><td> 0.6195  </td><td> 1.7625  </td><td> 0.955   </td><td> 0.355000</td><td> 0.548   </td><td> 2.295000</td><td>...      </td><td> 2.298500</td><td> 2.143000</td><td> 1.5770  </td><td> 1.019000</td><td> 1.690500</td><td> 1.410000</td><td> 1.562000</td><td> 2.214000</td><td> 0.806000</td><td> 1.951000</td></tr>\n",
       "\t<tr><th scope=row>sp|A0FGR8|ESYT2_HUMAN</th><td>-2.028000</td><td>-1.934000</td><td> 1.073000</td><td>-0.4605  </td><td>-1.2495  </td><td> 0.2765  </td><td>-0.091   </td><td>-1.430000</td><td>-0.379   </td><td>-0.703000</td><td>...      </td><td>-4.313355</td><td> 0.495000</td><td> 0.7660  </td><td>-5.987142</td><td>-0.089500</td><td>-0.608000</td><td>-5.255951</td><td>-0.117000</td><td> 0.328000</td><td>-1.375000</td></tr>\n",
       "\t<tr><th scope=row>sp|A0JLT2|MED19_HUMAN</th><td>-3.345565</td><td>-5.283630</td><td>-4.526696</td><td>-4.3525  </td><td>-3.5545  </td><td>-3.8115  </td><td>-3.883   </td><td>-5.792884</td><td>-2.985   </td><td>-2.000000</td><td>...      </td><td>-2.363500</td><td>-5.144327</td><td>-4.2477  </td><td>-6.126029</td><td>-4.469564</td><td>-4.215000</td><td>-4.761991</td><td>-0.322000</td><td>-3.246187</td><td>-4.180866</td></tr>\n",
       "</tbody>\n",
       "</table>\n"
      ],
      "text/latex": [
       "\\begin{tabular}{r|llllllllllllllllllllllllllllllllllllllllllllllllllllllllllllllllllllllllllllllllllllllllllllllllllllllllllllllllllllllllllllllllllllllllllllllllllllllllllllllllllll}\n",
       "  & CTG-0149 & CTG-0152 & CTG-0159 & CTG-0160 & CTG-0163 & CTG-0166 & CTG-0167 & CTG-0178 & CTG-0184 & CTG-0462 & ... & CTG-3190 & CTG-3213 & CTG-3375 & CTG-3414 & CTG-3485 & CTG-3493 & CTG-3518 & CTG-3527 & CTG-3538 & CTG-3547\\\\\n",
       "\\hline\n",
       "\tsp\\textbar{}A0A087WV62\\textbar{}TVB16\\_HUMAN & -4.490228 & -5.953811 & -0.435000 & -0.4125   &  0.6685   &  0.1175   & -0.848    &  2.000000 &  0.492    & -3.951179 & ...       & -4.778822 & -0.235000 & -0.9080   & -2.366000 & -4.098275 & -6.894622 & -3.693368 & -4.180883 &  0.243000 & -3.961313\\\\\n",
       "\tsp\\textbar{}A0A0B4J2D5\\textbar{}GAL3B\\_HUMAN;sp\\textbar{}P0DPI2\\textbar{}GAL3A\\_HUMAN &  1.674000 &  0.364000 &  0.592000 &  1.1995   &  2.6165   &  2.2045   &  1.709    &  1.863000 &  1.107    &  2.930000 & ...       &  0.321500 &  1.663000 &  1.7540   &  1.248000 &  2.619500 &  1.328000 &  1.650000 &  2.766000 &  2.295000 & -0.541000\\\\\n",
       "\tsp\\textbar{}A0AV96\\textbar{}RBM47\\_HUMAN & -6.082306 & -5.421102 &  2.436000 & -0.9335   & -0.2805   &  1.1925   &  2.334    &  2.489000 &  1.155    & -1.184000 & ...       & -1.837500 & -0.404000 &  1.8310   & -1.922000 &  0.671500 & -1.184000 & -4.691444 &  0.575000 &  2.120000 & -3.986819\\\\\n",
       "\tsp\\textbar{}A0AVT1\\textbar{}UBA6\\_HUMAN &  1.215000 &  1.390000 &  1.244000 &  0.9545   &  0.6195   &  1.7625   &  0.955    &  0.355000 &  0.548    &  2.295000 & ...       &  2.298500 &  2.143000 &  1.5770   &  1.019000 &  1.690500 &  1.410000 &  1.562000 &  2.214000 &  0.806000 &  1.951000\\\\\n",
       "\tsp\\textbar{}A0FGR8\\textbar{}ESYT2\\_HUMAN & -2.028000 & -1.934000 &  1.073000 & -0.4605   & -1.2495   &  0.2765   & -0.091    & -1.430000 & -0.379    & -0.703000 & ...       & -4.313355 &  0.495000 &  0.7660   & -5.987142 & -0.089500 & -0.608000 & -5.255951 & -0.117000 &  0.328000 & -1.375000\\\\\n",
       "\tsp\\textbar{}A0JLT2\\textbar{}MED19\\_HUMAN & -3.345565 & -5.283630 & -4.526696 & -4.3525   & -3.5545   & -3.8115   & -3.883    & -5.792884 & -2.985    & -2.000000 & ...       & -2.363500 & -5.144327 & -4.2477   & -6.126029 & -4.469564 & -4.215000 & -4.761991 & -0.322000 & -3.246187 & -4.180866\\\\\n",
       "\\end{tabular}\n"
      ],
      "text/markdown": [
       "\n",
       "| <!--/--> | CTG-0149 | CTG-0152 | CTG-0159 | CTG-0160 | CTG-0163 | CTG-0166 | CTG-0167 | CTG-0178 | CTG-0184 | CTG-0462 | ... | CTG-3190 | CTG-3213 | CTG-3375 | CTG-3414 | CTG-3485 | CTG-3493 | CTG-3518 | CTG-3527 | CTG-3538 | CTG-3547 |\n",
       "|---|---|---|---|---|---|---|---|---|---|---|---|---|---|---|---|---|---|---|---|---|---|\n",
       "| sp|A0A087WV62|TVB16_HUMAN | -4.490228 | -5.953811 | -0.435000 | -0.4125   |  0.6685   |  0.1175   | -0.848    |  2.000000 |  0.492    | -3.951179 | ...       | -4.778822 | -0.235000 | -0.9080   | -2.366000 | -4.098275 | -6.894622 | -3.693368 | -4.180883 |  0.243000 | -3.961313 |\n",
       "| sp|A0A0B4J2D5|GAL3B_HUMAN;sp|P0DPI2|GAL3A_HUMAN |  1.674000 |  0.364000 |  0.592000 |  1.1995   |  2.6165   |  2.2045   |  1.709    |  1.863000 |  1.107    |  2.930000 | ...       |  0.321500 |  1.663000 |  1.7540   |  1.248000 |  2.619500 |  1.328000 |  1.650000 |  2.766000 |  2.295000 | -0.541000 |\n",
       "| sp|A0AV96|RBM47_HUMAN | -6.082306 | -5.421102 |  2.436000 | -0.9335   | -0.2805   |  1.1925   |  2.334    |  2.489000 |  1.155    | -1.184000 | ...       | -1.837500 | -0.404000 |  1.8310   | -1.922000 |  0.671500 | -1.184000 | -4.691444 |  0.575000 |  2.120000 | -3.986819 |\n",
       "| sp|A0AVT1|UBA6_HUMAN |  1.215000 |  1.390000 |  1.244000 |  0.9545   |  0.6195   |  1.7625   |  0.955    |  0.355000 |  0.548    |  2.295000 | ...       |  2.298500 |  2.143000 |  1.5770   |  1.019000 |  1.690500 |  1.410000 |  1.562000 |  2.214000 |  0.806000 |  1.951000 |\n",
       "| sp|A0FGR8|ESYT2_HUMAN | -2.028000 | -1.934000 |  1.073000 | -0.4605   | -1.2495   |  0.2765   | -0.091    | -1.430000 | -0.379    | -0.703000 | ...       | -4.313355 |  0.495000 |  0.7660   | -5.987142 | -0.089500 | -0.608000 | -5.255951 | -0.117000 |  0.328000 | -1.375000 |\n",
       "| sp|A0JLT2|MED19_HUMAN | -3.345565 | -5.283630 | -4.526696 | -4.3525   | -3.5545   | -3.8115   | -3.883    | -5.792884 | -2.985    | -2.000000 | ...       | -2.363500 | -5.144327 | -4.2477   | -6.126029 | -4.469564 | -4.215000 | -4.761991 | -0.322000 | -3.246187 | -4.180866 |\n",
       "\n"
      ],
      "text/plain": [
       "                                                CTG-0149  CTG-0152  CTG-0159 \n",
       "sp|A0A087WV62|TVB16_HUMAN                       -4.490228 -5.953811 -0.435000\n",
       "sp|A0A0B4J2D5|GAL3B_HUMAN;sp|P0DPI2|GAL3A_HUMAN  1.674000  0.364000  0.592000\n",
       "sp|A0AV96|RBM47_HUMAN                           -6.082306 -5.421102  2.436000\n",
       "sp|A0AVT1|UBA6_HUMAN                             1.215000  1.390000  1.244000\n",
       "sp|A0FGR8|ESYT2_HUMAN                           -2.028000 -1.934000  1.073000\n",
       "sp|A0JLT2|MED19_HUMAN                           -3.345565 -5.283630 -4.526696\n",
       "                                                CTG-0160 CTG-0163 CTG-0166\n",
       "sp|A0A087WV62|TVB16_HUMAN                       -0.4125   0.6685   0.1175 \n",
       "sp|A0A0B4J2D5|GAL3B_HUMAN;sp|P0DPI2|GAL3A_HUMAN  1.1995   2.6165   2.2045 \n",
       "sp|A0AV96|RBM47_HUMAN                           -0.9335  -0.2805   1.1925 \n",
       "sp|A0AVT1|UBA6_HUMAN                             0.9545   0.6195   1.7625 \n",
       "sp|A0FGR8|ESYT2_HUMAN                           -0.4605  -1.2495   0.2765 \n",
       "sp|A0JLT2|MED19_HUMAN                           -4.3525  -3.5545  -3.8115 \n",
       "                                                CTG-0167 CTG-0178  CTG-0184\n",
       "sp|A0A087WV62|TVB16_HUMAN                       -0.848    2.000000  0.492  \n",
       "sp|A0A0B4J2D5|GAL3B_HUMAN;sp|P0DPI2|GAL3A_HUMAN  1.709    1.863000  1.107  \n",
       "sp|A0AV96|RBM47_HUMAN                            2.334    2.489000  1.155  \n",
       "sp|A0AVT1|UBA6_HUMAN                             0.955    0.355000  0.548  \n",
       "sp|A0FGR8|ESYT2_HUMAN                           -0.091   -1.430000 -0.379  \n",
       "sp|A0JLT2|MED19_HUMAN                           -3.883   -5.792884 -2.985  \n",
       "                                                CTG-0462  ... CTG-3190 \n",
       "sp|A0A087WV62|TVB16_HUMAN                       -3.951179 ... -4.778822\n",
       "sp|A0A0B4J2D5|GAL3B_HUMAN;sp|P0DPI2|GAL3A_HUMAN  2.930000 ...  0.321500\n",
       "sp|A0AV96|RBM47_HUMAN                           -1.184000 ... -1.837500\n",
       "sp|A0AVT1|UBA6_HUMAN                             2.295000 ...  2.298500\n",
       "sp|A0FGR8|ESYT2_HUMAN                           -0.703000 ... -4.313355\n",
       "sp|A0JLT2|MED19_HUMAN                           -2.000000 ... -2.363500\n",
       "                                                CTG-3213  CTG-3375 CTG-3414 \n",
       "sp|A0A087WV62|TVB16_HUMAN                       -0.235000 -0.9080  -2.366000\n",
       "sp|A0A0B4J2D5|GAL3B_HUMAN;sp|P0DPI2|GAL3A_HUMAN  1.663000  1.7540   1.248000\n",
       "sp|A0AV96|RBM47_HUMAN                           -0.404000  1.8310  -1.922000\n",
       "sp|A0AVT1|UBA6_HUMAN                             2.143000  1.5770   1.019000\n",
       "sp|A0FGR8|ESYT2_HUMAN                            0.495000  0.7660  -5.987142\n",
       "sp|A0JLT2|MED19_HUMAN                           -5.144327 -4.2477  -6.126029\n",
       "                                                CTG-3485  CTG-3493  CTG-3518 \n",
       "sp|A0A087WV62|TVB16_HUMAN                       -4.098275 -6.894622 -3.693368\n",
       "sp|A0A0B4J2D5|GAL3B_HUMAN;sp|P0DPI2|GAL3A_HUMAN  2.619500  1.328000  1.650000\n",
       "sp|A0AV96|RBM47_HUMAN                            0.671500 -1.184000 -4.691444\n",
       "sp|A0AVT1|UBA6_HUMAN                             1.690500  1.410000  1.562000\n",
       "sp|A0FGR8|ESYT2_HUMAN                           -0.089500 -0.608000 -5.255951\n",
       "sp|A0JLT2|MED19_HUMAN                           -4.469564 -4.215000 -4.761991\n",
       "                                                CTG-3527  CTG-3538  CTG-3547 \n",
       "sp|A0A087WV62|TVB16_HUMAN                       -4.180883  0.243000 -3.961313\n",
       "sp|A0A0B4J2D5|GAL3B_HUMAN;sp|P0DPI2|GAL3A_HUMAN  2.766000  2.295000 -0.541000\n",
       "sp|A0AV96|RBM47_HUMAN                            0.575000  2.120000 -3.986819\n",
       "sp|A0AVT1|UBA6_HUMAN                             2.214000  0.806000  1.951000\n",
       "sp|A0FGR8|ESYT2_HUMAN                           -0.117000  0.328000 -1.375000\n",
       "sp|A0JLT2|MED19_HUMAN                           -0.322000 -3.246187 -4.180866"
      ]
     },
     "metadata": {},
     "output_type": "display_data"
    },
    {
     "name": "stdout",
     "output_type": "stream",
     "text": [
      "[1] 5466  164\n"
     ]
    }
   ],
   "source": [
    "# for int_norm matrix, only keep samples that are in clin_treat (name it dat.log to use example code)\n",
    "# add a column in clin_treat to convert treatment to NONE=Naive and all drugs=Treated\n",
    "# sort Model in clin_treat in the same order as in the proteomics matrix\n",
    "# write a function that allows choosing `Tumor type` for each analysis\n",
    "dat.log <- int_norm %>% \n",
    "    select(clin_treat$Model)\n",
    "head(dat.log)\n",
    "print(dim(dat.log))"
   ]
  },
  {
   "cell_type": "code",
   "execution_count": 48,
   "id": "d3fd58a9",
   "metadata": {},
   "outputs": [
    {
     "name": "stdout",
     "output_type": "stream",
     "text": [
      "[1] 196   4\n"
     ]
    },
    {
     "data": {
      "text/html": [
       "<table>\n",
       "<thead><tr><th scope=col>Model</th><th scope=col>Tumor type</th><th scope=col>Histology</th><th scope=col>treatment</th></tr></thead>\n",
       "<tbody>\n",
       "\t<tr><td>CTG-0149     </td><td>HEAD AND NECK</td><td>SC CARCINOMA </td><td>Naive        </td></tr>\n",
       "\t<tr><td>CTG-0152     </td><td>HEAD AND NECK</td><td>SC CARCINOMA </td><td>Treated      </td></tr>\n",
       "\t<tr><td>CTG-0159     </td><td>NSCLC        </td><td>SC CARCINOMA </td><td>Treated      </td></tr>\n",
       "\t<tr><td>CTG-0160     </td><td>NSCLC        </td><td>SC CARCINOMA </td><td>Treated      </td></tr>\n",
       "\t<tr><td>CTG-0163     </td><td>NSCLC        </td><td>SC CARCINOMA </td><td>Treated      </td></tr>\n",
       "\t<tr><td>CTG-0166     </td><td>NSCLC        </td><td>SC CARCINOMA </td><td>Treated      </td></tr>\n",
       "</tbody>\n",
       "</table>\n"
      ],
      "text/latex": [
       "\\begin{tabular}{r|llll}\n",
       " Model & Tumor type & Histology & treatment\\\\\n",
       "\\hline\n",
       "\t CTG-0149      & HEAD AND NECK & SC CARCINOMA  & Naive        \\\\\n",
       "\t CTG-0152      & HEAD AND NECK & SC CARCINOMA  & Treated      \\\\\n",
       "\t CTG-0159      & NSCLC         & SC CARCINOMA  & Treated      \\\\\n",
       "\t CTG-0160      & NSCLC         & SC CARCINOMA  & Treated      \\\\\n",
       "\t CTG-0163      & NSCLC         & SC CARCINOMA  & Treated      \\\\\n",
       "\t CTG-0166      & NSCLC         & SC CARCINOMA  & Treated      \\\\\n",
       "\\end{tabular}\n"
      ],
      "text/markdown": [
       "\n",
       "| Model | Tumor type | Histology | treatment |\n",
       "|---|---|---|---|\n",
       "| CTG-0149      | HEAD AND NECK | SC CARCINOMA  | Naive         |\n",
       "| CTG-0152      | HEAD AND NECK | SC CARCINOMA  | Treated       |\n",
       "| CTG-0159      | NSCLC         | SC CARCINOMA  | Treated       |\n",
       "| CTG-0160      | NSCLC         | SC CARCINOMA  | Treated       |\n",
       "| CTG-0163      | NSCLC         | SC CARCINOMA  | Treated       |\n",
       "| CTG-0166      | NSCLC         | SC CARCINOMA  | Treated       |\n",
       "\n"
      ],
      "text/plain": [
       "  Model    Tumor type    Histology    treatment\n",
       "1 CTG-0149 HEAD AND NECK SC CARCINOMA Naive    \n",
       "2 CTG-0152 HEAD AND NECK SC CARCINOMA Treated  \n",
       "3 CTG-0159 NSCLC         SC CARCINOMA Treated  \n",
       "4 CTG-0160 NSCLC         SC CARCINOMA Treated  \n",
       "5 CTG-0163 NSCLC         SC CARCINOMA Treated  \n",
       "6 CTG-0166 NSCLC         SC CARCINOMA Treated  "
      ]
     },
     "metadata": {},
     "output_type": "display_data"
    }
   ],
   "source": [
    "treated_naive <- clin_treat %>% \n",
    "    mutate(treatment = replace(treatment, treatment != 'NONE', 'Treated')) %>% \n",
    "    mutate(treatment = replace(treatment, treatment == 'NONE', 'Naive')) %>% \n",
    "    select(-outcome) %>% \n",
    "    unique\n",
    "print(dim(treated_naive))\n",
    "head(treated_naive)"
   ]
  },
  {
   "cell_type": "code",
   "execution_count": 47,
   "id": "c8f337a3",
   "metadata": {},
   "outputs": [
    {
     "data": {
      "text/html": [
       "<ol class=list-inline>\n",
       "\t<li>'Naive'</li>\n",
       "\t<li>'Treated'</li>\n",
       "</ol>\n"
      ],
      "text/latex": [
       "\\begin{enumerate*}\n",
       "\\item 'Naive'\n",
       "\\item 'Treated'\n",
       "\\end{enumerate*}\n"
      ],
      "text/markdown": [
       "1. 'Naive'\n",
       "2. 'Treated'\n",
       "\n",
       "\n"
      ],
      "text/plain": [
       "[1] \"Naive\"   \"Treated\""
      ]
     },
     "metadata": {},
     "output_type": "display_data"
    }
   ],
   "source": [
    "unique(treated_naive$treatment)"
   ]
  },
  {
   "cell_type": "code",
   "execution_count": 51,
   "id": "aea17d82",
   "metadata": {},
   "outputs": [
    {
     "data": {
      "text/html": [
       "<table>\n",
       "<thead><tr><th scope=col>Model</th><th scope=col>Tumor type</th><th scope=col>Histology</th><th scope=col>treatment</th></tr></thead>\n",
       "<tbody>\n",
       "\t<tr><td>CTG-0166    </td><td>NSCLC       </td><td>SC CARCINOMA</td><td>Treated     </td></tr>\n",
       "\t<tr><td>CTG-0166    </td><td>NSCLC       </td><td>SC CARCINOMA</td><td>Naive       </td></tr>\n",
       "</tbody>\n",
       "</table>\n"
      ],
      "text/latex": [
       "\\begin{tabular}{r|llll}\n",
       " Model & Tumor type & Histology & treatment\\\\\n",
       "\\hline\n",
       "\t CTG-0166     & NSCLC        & SC CARCINOMA & Treated     \\\\\n",
       "\t CTG-0166     & NSCLC        & SC CARCINOMA & Naive       \\\\\n",
       "\\end{tabular}\n"
      ],
      "text/markdown": [
       "\n",
       "| Model | Tumor type | Histology | treatment |\n",
       "|---|---|---|---|\n",
       "| CTG-0166     | NSCLC        | SC CARCINOMA | Treated      |\n",
       "| CTG-0166     | NSCLC        | SC CARCINOMA | Naive        |\n",
       "\n"
      ],
      "text/plain": [
       "  Model    Tumor type Histology    treatment\n",
       "1 CTG-0166 NSCLC      SC CARCINOMA Treated  \n",
       "2 CTG-0166 NSCLC      SC CARCINOMA Naive    "
      ]
     },
     "metadata": {},
     "output_type": "display_data"
    }
   ],
   "source": [
    "# # check the repeated model numbers\n",
    "# n_occur <- data.frame(table(treated_naive$Model))\n",
    "# n_occur[n_occur$Freq > 1,]\n",
    "treated_naive[treated_naive$Model=='CTG-0166',]"
   ]
  },
  {
   "cell_type": "markdown",
   "id": "9270acf5",
   "metadata": {},
   "source": [
    "## Phosphorilation data"
   ]
  },
  {
   "cell_type": "code",
   "execution_count": 27,
   "id": "23149ea5",
   "metadata": {},
   "outputs": [],
   "source": [
    "# # from /general_analysis/DataBaseUpload/NGS/Proteomics/bin/PhosphoProteomics_PreProccess.html\n",
    "# # `Counts` are just 2 to the power of Intensity. This is for DE analysis where counts are needed\n",
    "# phos <- read.csv(\"../proteomics/data/Protein_phos_data.csv\")\n",
    "# head(phos, 2)"
   ]
  },
  {
   "cell_type": "code",
   "execution_count": 28,
   "id": "50716f1a",
   "metadata": {},
   "outputs": [],
   "source": [
    "# phos_int <- phos %>% \n",
    "#     select(c('ProteinGroup', 'Sample', 'Counts'))  %>% \n",
    "#     pivot_wider(names_from = Sample, values_from = Counts, values_fn = mean) %>% \n",
    "# #     pivot_wider(names_from = Sample, values_from = Intensity) %>% \n",
    "#     column_to_rownames('ProteinGroup')\n",
    "# rm(phos)\n",
    "# head(phos_int, 2)\n",
    "# print(dim(phos_int))"
   ]
  },
  {
   "cell_type": "code",
   "execution_count": 29,
   "id": "7f449d9b",
   "metadata": {},
   "outputs": [],
   "source": [
    "# x <- na.omit(phos_int)\n",
    "# dim(x)"
   ]
  },
  {
   "cell_type": "code",
   "execution_count": 30,
   "id": "2237ac85",
   "metadata": {},
   "outputs": [],
   "source": [
    "# # proportion of missin values\n",
    "# sum(is.na(phos_int))/(dim(phos_int)[1] * dim(phos_int)[2])"
   ]
  }
 ],
 "metadata": {
  "kernelspec": {
   "display_name": "R",
   "language": "R",
   "name": "ir"
  },
  "language_info": {
   "codemirror_mode": "r",
   "file_extension": ".r",
   "mimetype": "text/x-r-source",
   "name": "R",
   "pygments_lexer": "r",
   "version": "3.6.1"
  }
 },
 "nbformat": 4,
 "nbformat_minor": 5
}
