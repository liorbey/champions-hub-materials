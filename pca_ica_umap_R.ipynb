{
 "cells": [
  {
   "cell_type": "markdown",
   "id": "4105784e",
   "metadata": {},
   "source": [
    "## PCA, ICA, and UMAP"
   ]
  },
  {
   "cell_type": "code",
   "execution_count": 12,
   "id": "add7b6d8",
   "metadata": {},
   "outputs": [],
   "source": [
    "suppressWarnings(require('pkgmaker',quietly = T))\n",
    "require('plyr',quietly = T)\n",
    "l_ply(c('dplyr',\n",
    "        'data.table',\n",
    "        'tidyr',  \n",
    "        'tibble',\n",
    "        'jsonlite', \n",
    "        'rjson',\n",
    "        'httr', \n",
    "        'limma', \n",
    "        'tidyverse', \n",
    "        'ggplot2', \n",
    "        'plotly',\n",
    "        'viridis', \n",
    "        'umap'), function(pkg) {\n",
    "          invisible(capture.output(irequire(pkg, quiet = T, autoinstall = T)))\n",
    "        })"
   ]
  },
  {
   "cell_type": "markdown",
   "id": "1fe32e4d",
   "metadata": {},
   "source": [
    "Uncomment the following to request the data via API."
   ]
  },
  {
   "cell_type": "code",
   "execution_count": 1,
   "id": "7162b7bc",
   "metadata": {},
   "outputs": [],
   "source": [
    "# # In \"gene_list.csv\", define a list of genes of interest\n",
    "# gene_list  <- as.list(read.csv(\"gene_list.csv\")$x)\n",
    "# gene_list[1:2]"
   ]
  },
  {
   "cell_type": "code",
   "execution_count": 9,
   "id": "5772f025",
   "metadata": {},
   "outputs": [],
   "source": [
    "# # Define the data to query from API\n",
    "# data  <- list(\"request_data_type\" = \"expression\",\n",
    "#   \"request_cancer_type\" = c(\"Renal cell carcinoma\", \"Prostate\", \"Adenoid cystic carcinoma\", \"Breast\", \n",
    "#                             \"Thyroid\", \"Testicular\", \"Hepatocellular carcinoma\", \"Melanoma\"),\n",
    "# #   \"request_genes\" = c(\"ATM\", \"BRCA1\", \"BRCA2\", \"BRIP1\", \"CDK12\", \"FANCA\", \"HDAC2\", \"KRAS\", \n",
    "# #                       \"PALB2\", \"SRY\", \"TP53\", \"NOTCH1\", \"CCND1\", \"BARD1\", \"FBLN2\", \"CDKN1B\", \n",
    "# #                       \"RB1\", \"CHEK2\", \"APOBEC3B\", \"PALB2\"),  # to define a list of genes here\n",
    "#   \"request_genes\" = gene_list,  # if a list of genes is defined in a file\n",
    "#   \"request_dataset\" = \"PDX\",\n",
    "#   \"request_key\" = \"---\",  # enter your token here\n",
    "#   \"request_client\" = 99,\n",
    "#   \"request_user\" = 1234,  # enter your user id here\n",
    "#   \"request_workspace_id\" = \"1234-99\",  # enter your user id \"XXXX-99\"\n",
    "#   \"request_mode\" = 'true')"
   ]
  },
  {
   "cell_type": "code",
   "execution_count": 10,
   "id": "5c84c7ec",
   "metadata": {},
   "outputs": [
    {
     "data": {
      "text/plain": [
       "Response [https://lumin-fast-api.championsoncology.com/workstation]\n",
       "  Date: 2021-10-15 19:00\n",
       "  Status: 200\n",
       "  Content-Type: application/json\n",
       "  Size: 75 B\n"
      ]
     },
     "metadata": {},
     "output_type": "display_data"
    }
   ],
   "source": [
    "# # Request data from API - this may take some time\n",
    "# request  <-  POST(url = 'https://lumin-fast-api.championsoncology.com/WS', \n",
    "#                   body = data, encode = 'json')\n",
    "# request\n",
    "# # A successful request will give \"Status: 200\""
   ]
  },
  {
   "cell_type": "code",
   "execution_count": 11,
   "id": "51fb8c9e",
   "metadata": {},
   "outputs": [
    {
     "data": {
      "text/html": [
       "'success, the file you may view your requested data in your root directory'"
      ],
      "text/latex": [
       "'success, the file you may view your requested data in your root directory'"
      ],
      "text/markdown": [
       "'success, the file you may view your requested data in your root directory'"
      ],
      "text/plain": [
       "[1] \"success, the file you may view your requested data in your root directory\""
      ]
     },
     "metadata": {},
     "output_type": "display_data"
    }
   ],
   "source": [
    "# # This will save the data file as a .json file in your root directory\n",
    "# response <- content(request)\n",
    "# response"
   ]
  },
  {
   "cell_type": "markdown",
   "id": "33694444",
   "metadata": {},
   "source": [
    "After requesting the data from API, use the following to read in the data."
   ]
  },
  {
   "cell_type": "code",
   "execution_count": 3,
   "id": "3ea9ab8b",
   "metadata": {},
   "outputs": [],
   "source": [
    "# Enter the file name of the .json file in your root directory below\n",
    "lt  <-  fromJSON(file = \"./data/requested_data---19-10-2021---20_44_20.json\")"
   ]
  },
  {
   "cell_type": "code",
   "execution_count": 13,
   "id": "1c4d21f0",
   "metadata": {},
   "outputs": [
    {
     "data": {
      "text/html": [
       "<table>\n",
       "<thead><tr><th scope=col>v1</th><th scope=col>gene_id</th><th scope=col>log.rsem.rpkm</th><th scope=col>log.tpm</th><th scope=col>z</th><th scope=col>fold</th><th scope=col>trans</th><th scope=col>model</th><th scope=col>sort_key</th><th scope=col>gene</th><th scope=col>model_name</th><th scope=col>tumor_type</th></tr></thead>\n",
       "<tbody>\n",
       "\t<tr><td>19463231                                                                                   </td><td>ENSG00000005187                                                                            </td><td>2.03154538924124                                                                           </td><td>2.7411490                                                                                  </td><td>-0.169317194943646                                                                         </td><td>0.876569685689051                                                                          </td><td>ENST00000440284:49.26% ENST00000567387:17.78% ENST00000501740:11.52% ENST00000289416:10.09%</td><td>CTG-3501                                                                                   </td><td>CTG-3501_Expression_1                                                                      </td><td>ACSM3                                                                                      </td><td>CTG-3501                                                                                   </td><td>Breast                                                                                     </td></tr>\n",
       "\t<tr><td>19463234                                    </td><td>ENSG00000005243                             </td><td>0.43494348437293                            </td><td>0.7995996                                   </td><td>-0.994615041230675                          </td><td>0.185174375597962                           </td><td>ENST00000006101:78.76% ENST00000579263:20.8%</td><td>CTG-3501                                    </td><td>CTG-3501_Expression_1                       </td><td>COPZ2                                       </td><td>CTG-3501                                    </td><td>Breast                                      </td></tr>\n",
       "</tbody>\n",
       "</table>\n"
      ],
      "text/latex": [
       "\\begin{tabular}{r|llllllllllll}\n",
       " v1 & gene\\_id & log.rsem.rpkm & log.tpm & z & fold & trans & model & sort\\_key & gene & model\\_name & tumor\\_type\\\\\n",
       "\\hline\n",
       "\t 19463231                                                                                            & ENSG00000005187                                                                                     & 2.03154538924124                                                                                    & 2.7411490                                                                                           & -0.169317194943646                                                                                  & 0.876569685689051                                                                                   & ENST00000440284:49.26\\% ENST00000567387:17.78\\% ENST00000501740:11.52\\% ENST00000289416:10.09\\% & CTG-3501                                                                                            & CTG-3501\\_Expression\\_1                                                                           & ACSM3                                                                                               & CTG-3501                                                                                            & Breast                                                                                             \\\\\n",
       "\t 19463234                                         & ENSG00000005243                                  & 0.43494348437293                                 & 0.7995996                                        & -0.994615041230675                               & 0.185174375597962                                & ENST00000006101:78.76\\% ENST00000579263:20.8\\% & CTG-3501                                         & CTG-3501\\_Expression\\_1                        & COPZ2                                            & CTG-3501                                         & Breast                                          \\\\\n",
       "\\end{tabular}\n"
      ],
      "text/markdown": [
       "\n",
       "| v1 | gene_id | log.rsem.rpkm | log.tpm | z | fold | trans | model | sort_key | gene | model_name | tumor_type |\n",
       "|---|---|---|---|---|---|---|---|---|---|---|---|\n",
       "| 19463231                                                                                    | ENSG00000005187                                                                             | 2.03154538924124                                                                            | 2.7411490                                                                                   | -0.169317194943646                                                                          | 0.876569685689051                                                                           | ENST00000440284:49.26% ENST00000567387:17.78% ENST00000501740:11.52% ENST00000289416:10.09% | CTG-3501                                                                                    | CTG-3501_Expression_1                                                                       | ACSM3                                                                                       | CTG-3501                                                                                    | Breast                                                                                      |\n",
       "| 19463234                                     | ENSG00000005243                              | 0.43494348437293                             | 0.7995996                                    | -0.994615041230675                           | 0.185174375597962                            | ENST00000006101:78.76% ENST00000579263:20.8% | CTG-3501                                     | CTG-3501_Expression_1                        | COPZ2                                        | CTG-3501                                     | Breast                                       |\n",
       "\n"
      ],
      "text/plain": [
       "  v1       gene_id         log.rsem.rpkm    log.tpm   z                 \n",
       "1 19463231 ENSG00000005187 2.03154538924124 2.7411490 -0.169317194943646\n",
       "2 19463234 ENSG00000005243 0.43494348437293 0.7995996 -0.994615041230675\n",
       "  fold             \n",
       "1 0.876569685689051\n",
       "2 0.185174375597962\n",
       "  trans                                                                                      \n",
       "1 ENST00000440284:49.26% ENST00000567387:17.78% ENST00000501740:11.52% ENST00000289416:10.09%\n",
       "2 ENST00000006101:78.76% ENST00000579263:20.8%                                               \n",
       "  model    sort_key              gene  model_name tumor_type\n",
       "1 CTG-3501 CTG-3501_Expression_1 ACSM3 CTG-3501   Breast    \n",
       "2 CTG-3501 CTG-3501_Expression_1 COPZ2 CTG-3501   Breast    "
      ]
     },
     "metadata": {},
     "output_type": "display_data"
    },
    {
     "name": "stdout",
     "output_type": "stream",
     "text": [
      "[1] 82800    12\n"
     ]
    }
   ],
   "source": [
    "# Create a dataframe from the data\n",
    "df  <- do.call(rbind, lapply(lt, rbind))\n",
    "df  <- as.data.frame(df)\n",
    "df$gene  <- as.character(df$gene)\n",
    "df$model  <- as.character(df$model)\n",
    "df$log.tpm  <- as.numeric(df$log.tpm)\n",
    "df$tumor_type <- as.character(df$tumor_type)\n",
    "head(df, 2)\n",
    "print(dim(df))"
   ]
  },
  {
   "cell_type": "code",
   "execution_count": 18,
   "id": "0f299ed0",
   "metadata": {},
   "outputs": [
    {
     "data": {
      "text/html": [
       "<table>\n",
       "<thead><tr><th></th><th scope=col>ACSM3</th><th scope=col>COPZ2</th><th scope=col>BZRAP1</th><th scope=col>CX3CL1</th><th scope=col>ETV1</th><th scope=col>ALDH3B1</th><th scope=col>ACPP</th><th scope=col>CHDH</th><th scope=col>CD74</th><th scope=col>FHL1</th></tr></thead>\n",
       "<tbody>\n",
       "\t<tr><th scope=row>CTG-3501</th><td>2.741149 </td><td>0.7995996</td><td>2.833298 </td><td>4.224392 </td><td>0.9328516</td><td>1.441369 </td><td>2.463359 </td><td>3.7351793</td><td>2.288166 </td><td>0.9457198</td></tr>\n",
       "\t<tr><th scope=row>CTG-0718</th><td>3.214430 </td><td>4.1304615</td><td>2.401043 </td><td>1.547657 </td><td>3.9235433</td><td>2.984612 </td><td>0.000000 </td><td>0.4733435</td><td>5.082362 </td><td>3.4499709</td></tr>\n",
       "</tbody>\n",
       "</table>\n"
      ],
      "text/latex": [
       "\\begin{tabular}{r|llllllllll}\n",
       "  & ACSM3 & COPZ2 & BZRAP1 & CX3CL1 & ETV1 & ALDH3B1 & ACPP & CHDH & CD74 & FHL1\\\\\n",
       "\\hline\n",
       "\tCTG-3501 & 2.741149  & 0.7995996 & 2.833298  & 4.224392  & 0.9328516 & 1.441369  & 2.463359  & 3.7351793 & 2.288166  & 0.9457198\\\\\n",
       "\tCTG-0718 & 3.214430  & 4.1304615 & 2.401043  & 1.547657  & 3.9235433 & 2.984612  & 0.000000  & 0.4733435 & 5.082362  & 3.4499709\\\\\n",
       "\\end{tabular}\n"
      ],
      "text/markdown": [
       "\n",
       "| <!--/--> | ACSM3 | COPZ2 | BZRAP1 | CX3CL1 | ETV1 | ALDH3B1 | ACPP | CHDH | CD74 | FHL1 |\n",
       "|---|---|---|---|---|---|---|---|---|---|---|\n",
       "| CTG-3501 | 2.741149  | 0.7995996 | 2.833298  | 4.224392  | 0.9328516 | 1.441369  | 2.463359  | 3.7351793 | 2.288166  | 0.9457198 |\n",
       "| CTG-0718 | 3.214430  | 4.1304615 | 2.401043  | 1.547657  | 3.9235433 | 2.984612  | 0.000000  | 0.4733435 | 5.082362  | 3.4499709 |\n",
       "\n"
      ],
      "text/plain": [
       "         ACSM3    COPZ2     BZRAP1   CX3CL1   ETV1      ALDH3B1  ACPP    \n",
       "CTG-3501 2.741149 0.7995996 2.833298 4.224392 0.9328516 1.441369 2.463359\n",
       "CTG-0718 3.214430 4.1304615 2.401043 1.547657 3.9235433 2.984612 0.000000\n",
       "         CHDH      CD74     FHL1     \n",
       "CTG-3501 3.7351793 2.288166 0.9457198\n",
       "CTG-0718 0.4733435 5.082362 3.4499709"
      ]
     },
     "metadata": {},
     "output_type": "display_data"
    },
    {
     "name": "stdout",
     "output_type": "stream",
     "text": [
      "[1] 207 400\n"
     ]
    }
   ],
   "source": [
    "# Pivot the data\n",
    "log_tpm <- df %>% \n",
    "    select(c('gene', 'model', 'log.tpm'))  %>% \n",
    "    pivot_wider(names_from = gene, values_from = log.tpm)  %>% \n",
    "    column_to_rownames('model')\n",
    "log_tpm  <- log_tpm[complete.cases(log_tpm),]  # remove rows with missing values\n",
    "log_tpm[1:2, 1:10]\n",
    "print(dim(log_tpm))"
   ]
  },
  {
   "cell_type": "markdown",
   "id": "91b3f7bc",
   "metadata": {},
   "source": [
    "### UMAP"
   ]
  },
  {
   "cell_type": "code",
   "execution_count": 19,
   "id": "1316c575",
   "metadata": {},
   "outputs": [
    {
     "name": "stderr",
     "output_type": "stream",
     "text": [
      "umap embedding of 207 items in 2 dimensions\n",
      "object components: layout, data, knn, config\n"
     ]
    }
   ],
   "source": [
    "umap_out <- umap(log_tpm)\n",
    "umap_out"
   ]
  },
  {
   "cell_type": "code",
   "execution_count": 22,
   "id": "18a32b38",
   "metadata": {},
   "outputs": [
    {
     "data": {
      "text/html": [
       "<table>\n",
       "<tbody>\n",
       "\t<tr><th scope=row>CTG-3501</th><td> 2.460385 </td><td>-0.4399215</td></tr>\n",
       "\t<tr><th scope=row>CTG-0718</th><td>-1.940791 </td><td> 3.0143457</td></tr>\n",
       "\t<tr><th scope=row>CTG-1181</th><td> 1.273838 </td><td> 3.7494280</td></tr>\n",
       "</tbody>\n",
       "</table>\n"
      ],
      "text/latex": [
       "\\begin{tabular}{r|ll}\n",
       "\tCTG-3501 &  2.460385  & -0.4399215\\\\\n",
       "\tCTG-0718 & -1.940791  &  3.0143457\\\\\n",
       "\tCTG-1181 &  1.273838  &  3.7494280\\\\\n",
       "\\end{tabular}\n"
      ],
      "text/markdown": [
       "\n",
       "| CTG-3501 |  2.460385  | -0.4399215 |\n",
       "| CTG-0718 | -1.940791  |  3.0143457 |\n",
       "| CTG-1181 |  1.273838  |  3.7494280 |\n",
       "\n"
      ],
      "text/plain": [
       "         [,1]      [,2]      \n",
       "CTG-3501  2.460385 -0.4399215\n",
       "CTG-0718 -1.940791  3.0143457\n",
       "CTG-1181  1.273838  3.7494280"
      ]
     },
     "metadata": {},
     "output_type": "display_data"
    }
   ],
   "source": [
    "head(umap_out$layout, 3)"
   ]
  },
  {
   "cell_type": "code",
   "execution_count": 62,
   "id": "dd4ee5ae",
   "metadata": {},
   "outputs": [
    {
     "data": {
      "text/html": [
       "<table>\n",
       "<thead><tr><th scope=col>UMAP1</th><th scope=col>UMAP2</th><th scope=col>model</th><th scope=col>v1</th><th scope=col>gene_id</th><th scope=col>log.rsem.rpkm</th><th scope=col>log.tpm</th><th scope=col>z</th><th scope=col>fold</th><th scope=col>trans</th><th scope=col>sort_key</th><th scope=col>gene</th><th scope=col>model_name</th><th scope=col>tumor_type</th></tr></thead>\n",
       "<tbody>\n",
       "\t<tr><td>2.460385                                                                                   </td><td>-0.4399215                                                                                 </td><td>CTG-3501                                                                                   </td><td>19463231                                                                                   </td><td>ENSG00000005187                                                                            </td><td>2.03154538924124                                                                           </td><td>2.7411490                                                                                  </td><td>-0.169317194943646                                                                         </td><td>0.876569685689051                                                                          </td><td>ENST00000440284:49.26% ENST00000567387:17.78% ENST00000501740:11.52% ENST00000289416:10.09%</td><td>CTG-3501_Expression_1                                                                      </td><td>ACSM3                                                                                      </td><td>CTG-3501                                                                                   </td><td>Breast                                                                                     </td></tr>\n",
       "\t<tr><td>2.460385                                    </td><td>-0.4399215                                  </td><td>CTG-3501                                    </td><td>19463234                                    </td><td>ENSG00000005243                             </td><td>0.43494348437293                            </td><td>0.7995996                                   </td><td>-0.994615041230675                          </td><td>0.185174375597962                           </td><td>ENST00000006101:78.76% ENST00000579263:20.8%</td><td>CTG-3501_Expression_1                       </td><td>COPZ2                                       </td><td>CTG-3501                                    </td><td>Breast                                      </td></tr>\n",
       "</tbody>\n",
       "</table>\n"
      ],
      "text/latex": [
       "\\begin{tabular}{r|llllllllllllll}\n",
       " UMAP1 & UMAP2 & model & v1 & gene\\_id & log.rsem.rpkm & log.tpm & z & fold & trans & sort\\_key & gene & model\\_name & tumor\\_type\\\\\n",
       "\\hline\n",
       "\t 2.460385                                                                                            & -0.4399215                                                                                          & CTG-3501                                                                                            & 19463231                                                                                            & ENSG00000005187                                                                                     & 2.03154538924124                                                                                    & 2.7411490                                                                                           & -0.169317194943646                                                                                  & 0.876569685689051                                                                                   & ENST00000440284:49.26\\% ENST00000567387:17.78\\% ENST00000501740:11.52\\% ENST00000289416:10.09\\% & CTG-3501\\_Expression\\_1                                                                           & ACSM3                                                                                               & CTG-3501                                                                                            & Breast                                                                                             \\\\\n",
       "\t 2.460385                                         & -0.4399215                                       & CTG-3501                                         & 19463234                                         & ENSG00000005243                                  & 0.43494348437293                                 & 0.7995996                                        & -0.994615041230675                               & 0.185174375597962                                & ENST00000006101:78.76\\% ENST00000579263:20.8\\% & CTG-3501\\_Expression\\_1                        & COPZ2                                            & CTG-3501                                         & Breast                                          \\\\\n",
       "\\end{tabular}\n"
      ],
      "text/markdown": [
       "\n",
       "| UMAP1 | UMAP2 | model | v1 | gene_id | log.rsem.rpkm | log.tpm | z | fold | trans | sort_key | gene | model_name | tumor_type |\n",
       "|---|---|---|---|---|---|---|---|---|---|---|---|---|---|\n",
       "| 2.460385                                                                                    | -0.4399215                                                                                  | CTG-3501                                                                                    | 19463231                                                                                    | ENSG00000005187                                                                             | 2.03154538924124                                                                            | 2.7411490                                                                                   | -0.169317194943646                                                                          | 0.876569685689051                                                                           | ENST00000440284:49.26% ENST00000567387:17.78% ENST00000501740:11.52% ENST00000289416:10.09% | CTG-3501_Expression_1                                                                       | ACSM3                                                                                       | CTG-3501                                                                                    | Breast                                                                                      |\n",
       "| 2.460385                                     | -0.4399215                                   | CTG-3501                                     | 19463234                                     | ENSG00000005243                              | 0.43494348437293                             | 0.7995996                                    | -0.994615041230675                           | 0.185174375597962                            | ENST00000006101:78.76% ENST00000579263:20.8% | CTG-3501_Expression_1                        | COPZ2                                        | CTG-3501                                     | Breast                                       |\n",
       "\n"
      ],
      "text/plain": [
       "  UMAP1    UMAP2      model    v1       gene_id         log.rsem.rpkm   \n",
       "1 2.460385 -0.4399215 CTG-3501 19463231 ENSG00000005187 2.03154538924124\n",
       "2 2.460385 -0.4399215 CTG-3501 19463234 ENSG00000005243 0.43494348437293\n",
       "  log.tpm   z                  fold             \n",
       "1 2.7411490 -0.169317194943646 0.876569685689051\n",
       "2 0.7995996 -0.994615041230675 0.185174375597962\n",
       "  trans                                                                                      \n",
       "1 ENST00000440284:49.26% ENST00000567387:17.78% ENST00000501740:11.52% ENST00000289416:10.09%\n",
       "2 ENST00000006101:78.76% ENST00000579263:20.8%                                               \n",
       "  sort_key              gene  model_name tumor_type\n",
       "1 CTG-3501_Expression_1 ACSM3 CTG-3501   Breast    \n",
       "2 CTG-3501_Expression_1 COPZ2 CTG-3501   Breast    "
      ]
     },
     "metadata": {},
     "output_type": "display_data"
    }
   ],
   "source": [
    "# join the output with the original dataframe to have tumor_type\n",
    "umap_plot <- data.frame(UMAP1 = umap_out$layout[,1], \n",
    "                        UMAP2 = umap_out$layout[,2], \n",
    "                        model = rownames(umap_out$layout)) %>% \n",
    "    inner_join(df, by=\"model\")\n",
    "umap_plot[1:2, ]"
   ]
  },
  {
   "cell_type": "code",
   "execution_count": 67,
   "id": "9d936590",
   "metadata": {},
   "outputs": [
    {
     "data": {
      "image/png": "[encoded data removed]",
      "text/plain": [
       "plot without title"
      ]
     },
     "metadata": {},
     "output_type": "display_data"
    }
   ],
   "source": [
    "# plot\n",
    "options(repr.plot.width = 7, repr.plot.height = 6)  # set figure size\n",
    "ggplot(umap_plot, aes(x = UMAP1, y = UMAP2)) + \n",
    "    geom_point(aes(color = tumor_type)) +\n",
    "    theme(legend.position = \"bottom\",\n",
    "          legend.title = element_blank(),\n",
    "          plot.margin = unit(c(0,2,0,0.1), \"cm\"))"
   ]
  }
 ],
 "metadata": {
  "kernelspec": {
   "display_name": "R",
   "language": "R",
   "name": "ir"
  },
  "language_info": {
   "codemirror_mode": "r",
   "file_extension": ".r",
   "mimetype": "text/x-r-source",
   "name": "R",
   "pygments_lexer": "r",
   "version": "3.6.1"
  }
 },
 "nbformat": 4,
 "nbformat_minor": 5
}
