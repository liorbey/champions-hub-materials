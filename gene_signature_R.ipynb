{
 "cells": [
  {
   "cell_type": "markdown",
   "id": "9e368754",
   "metadata": {},
   "source": [
    "Example notebook for WorkStation - OMICS correlation: gene to gene\n",
    "This notebook demonstrates reading from API and performing analysis of OMICS data correlation.\n",
    "\n",
    "- title: \"Gene Signature\"\n",
    "- author: \"Margaret Paiva\"\n",
    "- date: \"26/10/2021\"\n",
    "- output: R notebook"
   ]
  }
 ],
 "metadata": {
  "kernelspec": {
   "display_name": "R",
   "language": "R",
   "name": "ir"
  },
  "language_info": {
   "codemirror_mode": "r",
   "file_extension": ".r",
   "mimetype": "text/x-r-source",
   "name": "R",
   "pygments_lexer": "r",
   "version": "3.6.1"
  }
 },
 "nbformat": 4,
 "nbformat_minor": 5
}
