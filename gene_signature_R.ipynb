{
 "cells": [
  {
   "cell_type": "markdown",
   "id": "5b3c9f95",
   "metadata": {},
   "source": [
    "### Example notebook for WorkStation - Gene Signature\n",
    "\n",
    "This notebook demonstrates how to score a gene expression dataset against a gene set and provides visualization to interpret the results.\n",
    "\n",
    "- title: \"Gene Signature\"\n",
    "- author: \"Margaret Paiva\"\n",
    "- date: \"28/10/2021\"\n",
    "- output: R notebook"
   ]
  },
  {
   "cell_type": "code",
   "execution_count": null,
   "id": "ce7dea2f",
   "metadata": {},
   "outputs": [],
   "source": []
  },
  {
   "cell_type": "code",
   "execution_count": null,
   "id": "d1e5588f",
   "metadata": {},
   "outputs": [],
   "source": []
  },
  {
   "cell_type": "code",
   "execution_count": null,
   "id": "64a5d3b6",
   "metadata": {},
   "outputs": [],
   "source": []
  }
 ],
 "metadata": {
  "kernelspec": {
   "display_name": "R",
   "language": "R",
   "name": "ir"
  },
  "language_info": {
   "codemirror_mode": "r",
   "file_extension": ".r",
   "mimetype": "text/x-r-source",
   "name": "R",
   "pygments_lexer": "r",
   "version": "3.6.1"
  }
 },
 "nbformat": 4,
 "nbformat_minor": 5
}
