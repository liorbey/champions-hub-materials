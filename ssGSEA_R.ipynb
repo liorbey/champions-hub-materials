{
 "cells": [
  {
   "cell_type": "markdown",
   "id": "f441d1d9",
   "metadata": {},
   "source": [
    "# ssGSEA\n",
    "\n",
    "Single sample GSEA (ssGSEA) is a non-parametric method that calculates a gene set enrichment score per sample as the normalized difference in empirical cumulative distribution functions (CDFs) of gene expression ranks inside and outside the gene set.\n",
    "\n",
    "+ Author: Margaret Paiva \n",
    "+ Date:   2021-12-09  "
   ]
  },
  {
   "cell_type": "code",
   "execution_count": 1,
   "id": "1d792784",
   "metadata": {
    "scrolled": true
   },
   "outputs": [],
   "source": [
    "suppressWarnings(require('pkgmaker',quietly = T))\n",
    "require('plyr',quietly = T)\n",
    "l_ply(c('dplyr',\n",
    "        'data.table',\n",
    "        'tidyr',  \n",
    "        'tibble',\n",
    "        'jsonlite', \n",
    "        'rjson',\n",
    "        'httr',\n",
    "        'GSVA', \n",
    "        'limma'), function(pkg) {\n",
    "          invisible(capture.output(irequire(pkg, quiet = T, autoinstall = T)))\n",
    "        })"
   ]
  },
  {
   "cell_type": "markdown",
   "id": "866de5fe",
   "metadata": {},
   "source": [
    "## Expression data"
   ]
  },
  {
   "cell_type": "code",
   "execution_count": 6,
   "id": "c77f7198",
   "metadata": {},
   "outputs": [],
   "source": [
    "# In \"gene_list.csv\", define a list of genes of interest\n",
    "gene_list  <- as.list(read.csv(\"gene_list.csv\")$x)"
   ]
  },
  {
   "cell_type": "code",
   "execution_count": 5,
   "id": "f1e9c2ba",
   "metadata": {},
   "outputs": [],
   "source": [
    "# Define the data to query from API\n",
    "data  <- list(\"request_data_type\" = \"expression\",\n",
    "              # If only pathway enrichment analysis is needed, you may request only one cancer type\n",
    "              # to see what pathways are enriched for a specific cancer type\n",
    "  \"request_cancer_type\" = c(\"Renal cell carcinoma\", \"Prostate\", \"Adenoid cystic carcinoma\", \"Breast\", \n",
    "                            \"Thyroid\", \"Testicular\", \"Hepatocellular carcinoma\", \"Melanoma\"),\n",
    "#   \"request_genes\" = c(\"ATM\", \"BRCA1\", \"BRCA2\", \"BRIP1\", \"CDK12\", \"FANCA\", \"HDAC2\", \"KRAS\", \n",
    "#                       \"PALB2\", \"SRY\", \"TP53\", \"NOTCH1\", \"CCND1\", \"BARD1\", \"FBLN2\", \"CDKN1B\", \n",
    "#                       \"RB1\", \"CHEK2\", \"APOBEC3B\", \"PALB2\"),  # to define a list of genes here\n",
    "  \"request_genes\" = gene_list,  # if a list of genes is defined in a file\n",
    "  \"request_dataset\" = \"PDX\",\n",
    "  \"request_key\" = \"---\",  # enter your token here\n",
    "  \"request_client\" = 99,\n",
    "  \"request_user\" = 1234,  # enter your user id here\n",
    "  \"request_workspace_id\" = \"1234-99\",  # enter your user id \"XXXX-99\"\n",
    "  \"request_mode\" = 'true')"
   ]
  },
  {
   "cell_type": "code",
   "execution_count": null,
   "id": "56877c9b",
   "metadata": {},
   "outputs": [],
   "source": [
    "# Request data from API - this may take some time\n",
    "request  <-  POST(url = 'https://lumin-fast-api.championsoncology.com/WS', \n",
    "                  body = data, encode = 'json')\n",
    "request\n",
    "# A successful request will give \"Status: 200\""
   ]
  },
  {
   "cell_type": "code",
   "execution_count": null,
   "id": "a70474aa",
   "metadata": {},
   "outputs": [],
   "source": [
    "# This will save the data file as a .json file in your root directory\n",
    "response <- content(request)\n",
    "response"
   ]
  },
  {
   "cell_type": "code",
   "execution_count": 3,
   "id": "9c99eeb7",
   "metadata": {},
   "outputs": [],
   "source": [
    "# Enter the file name of the .json file in your root directory below\n",
    "lt  <-  fromJSON(file = \"./data/requested_data---19-10-2021---20_44_20.json\")"
   ]
  },
  {
   "cell_type": "code",
   "execution_count": 17,
   "id": "ffe718aa",
   "metadata": {},
   "outputs": [
    {
     "data": {
      "text/html": [
       "<table>\n",
       "<thead><tr><th scope=col>v1</th><th scope=col>gene_id</th><th scope=col>log.rsem.rpkm</th><th scope=col>log.tpm</th><th scope=col>z</th><th scope=col>fold</th><th scope=col>trans</th><th scope=col>model</th><th scope=col>sort_key</th><th scope=col>gene</th><th scope=col>model_name</th><th scope=col>tumor_type</th></tr></thead>\n",
       "<tbody>\n",
       "\t<tr><td>19463231                                                                                   </td><td>ENSG00000005187                                                                            </td><td>2.03154538924124                                                                           </td><td>2.74114899170484                                                                           </td><td>-0.1693172                                                                                 </td><td>0.876569685689051                                                                          </td><td>ENST00000440284:49.26% ENST00000567387:17.78% ENST00000501740:11.52% ENST00000289416:10.09%</td><td>CTG-3501                                                                                   </td><td>CTG-3501_Expression_1                                                                      </td><td>ACSM3                                                                                      </td><td>CTG-3501                                                                                   </td><td>Breast                                                                                     </td></tr>\n",
       "\t<tr><td>19463234                                    </td><td>ENSG00000005243                             </td><td>0.43494348437293                            </td><td>0.799599647207579                           </td><td>-0.9946150                                  </td><td>0.185174375597962                           </td><td>ENST00000006101:78.76% ENST00000579263:20.8%</td><td>CTG-3501                                    </td><td>CTG-3501_Expression_1                       </td><td>COPZ2                                       </td><td>CTG-3501                                    </td><td>Breast                                      </td></tr>\n",
       "</tbody>\n",
       "</table>\n"
      ],
      "text/latex": [
       "\\begin{tabular}{r|llllllllllll}\n",
       " v1 & gene\\_id & log.rsem.rpkm & log.tpm & z & fold & trans & model & sort\\_key & gene & model\\_name & tumor\\_type\\\\\n",
       "\\hline\n",
       "\t 19463231                                                                                            & ENSG00000005187                                                                                     & 2.03154538924124                                                                                    & 2.74114899170484                                                                                    & -0.1693172                                                                                          & 0.876569685689051                                                                                   & ENST00000440284:49.26\\% ENST00000567387:17.78\\% ENST00000501740:11.52\\% ENST00000289416:10.09\\% & CTG-3501                                                                                            & CTG-3501\\_Expression\\_1                                                                           & ACSM3                                                                                               & CTG-3501                                                                                            & Breast                                                                                             \\\\\n",
       "\t 19463234                                         & ENSG00000005243                                  & 0.43494348437293                                 & 0.799599647207579                                & -0.9946150                                       & 0.185174375597962                                & ENST00000006101:78.76\\% ENST00000579263:20.8\\% & CTG-3501                                         & CTG-3501\\_Expression\\_1                        & COPZ2                                            & CTG-3501                                         & Breast                                          \\\\\n",
       "\\end{tabular}\n"
      ],
      "text/markdown": [
       "\n",
       "| v1 | gene_id | log.rsem.rpkm | log.tpm | z | fold | trans | model | sort_key | gene | model_name | tumor_type |\n",
       "|---|---|---|---|---|---|---|---|---|---|---|---|\n",
       "| 19463231                                                                                    | ENSG00000005187                                                                             | 2.03154538924124                                                                            | 2.74114899170484                                                                            | -0.1693172                                                                                  | 0.876569685689051                                                                           | ENST00000440284:49.26% ENST00000567387:17.78% ENST00000501740:11.52% ENST00000289416:10.09% | CTG-3501                                                                                    | CTG-3501_Expression_1                                                                       | ACSM3                                                                                       | CTG-3501                                                                                    | Breast                                                                                      |\n",
       "| 19463234                                     | ENSG00000005243                              | 0.43494348437293                             | 0.799599647207579                            | -0.9946150                                   | 0.185174375597962                            | ENST00000006101:78.76% ENST00000579263:20.8% | CTG-3501                                     | CTG-3501_Expression_1                        | COPZ2                                        | CTG-3501                                     | Breast                                       |\n",
       "\n"
      ],
      "text/plain": [
       "  v1       gene_id         log.rsem.rpkm    log.tpm           z         \n",
       "1 19463231 ENSG00000005187 2.03154538924124 2.74114899170484  -0.1693172\n",
       "2 19463234 ENSG00000005243 0.43494348437293 0.799599647207579 -0.9946150\n",
       "  fold             \n",
       "1 0.876569685689051\n",
       "2 0.185174375597962\n",
       "  trans                                                                                      \n",
       "1 ENST00000440284:49.26% ENST00000567387:17.78% ENST00000501740:11.52% ENST00000289416:10.09%\n",
       "2 ENST00000006101:78.76% ENST00000579263:20.8%                                               \n",
       "  model    sort_key              gene  model_name tumor_type\n",
       "1 CTG-3501 CTG-3501_Expression_1 ACSM3 CTG-3501   Breast    \n",
       "2 CTG-3501 CTG-3501_Expression_1 COPZ2 CTG-3501   Breast    "
      ]
     },
     "metadata": {},
     "output_type": "display_data"
    },
    {
     "name": "stdout",
     "output_type": "stream",
     "text": [
      "[1] 82800    12\n"
     ]
    }
   ],
   "source": [
    "# Create a dataframe from the data\n",
    "df  <- do.call(rbind, lapply(lt, rbind))\n",
    "df  <- as.data.frame(df)\n",
    "df$gene  <- as.character(df$gene)  # each column is a list - specify data type\n",
    "df$model_name  <- as.character(df$model_name)\n",
    "df$tumor_type  <- as.character(df$tumor_type)\n",
    "df$z  <- as.numeric(df$z)\n",
    "head(df, 2)\n",
    "print(dim(df))"
   ]
  },
  {
   "cell_type": "code",
   "execution_count": 18,
   "id": "8e635f08",
   "metadata": {},
   "outputs": [
    {
     "data": {
      "text/html": [
       "<table>\n",
       "<thead><tr><th></th><th scope=col>CTG-0009</th><th scope=col>CTG-0012</th><th scope=col>CTG-0017</th><th scope=col>CTG-0018</th><th scope=col>CTG-0019</th><th scope=col>CTG-0033</th><th scope=col>CTG-0052</th><th scope=col>CTG-0201</th><th scope=col>CTG-0202</th><th scope=col>CTG-0204</th></tr></thead>\n",
       "<tbody>\n",
       "\t<tr><th scope=row>A1BG</th><td>-0.1974841 </td><td> 1.5956165 </td><td>-0.3505304 </td><td>1.322318   </td><td>-0.1104276 </td><td> 1.005638  </td><td>3.475155843</td><td> 1.438267  </td><td> 1.3566904 </td><td> 1.272317  </td></tr>\n",
       "\t<tr><th scope=row>A4GALT</th><td> 0.1475000 </td><td>-0.2895858 </td><td>-0.6772011 </td><td>0.793181   </td><td>-0.8565299 </td><td>-1.109234  </td><td>0.009585649</td><td>-1.058551  </td><td>-0.8210548 </td><td>-1.082000  </td></tr>\n",
       "</tbody>\n",
       "</table>\n"
      ],
      "text/latex": [
       "\\begin{tabular}{r|llllllllll}\n",
       "  & CTG-0009 & CTG-0012 & CTG-0017 & CTG-0018 & CTG-0019 & CTG-0033 & CTG-0052 & CTG-0201 & CTG-0202 & CTG-0204\\\\\n",
       "\\hline\n",
       "\tA1BG & -0.1974841  &  1.5956165  & -0.3505304  & 1.322318    & -0.1104276  &  1.005638   & 3.475155843 &  1.438267   &  1.3566904  &  1.272317  \\\\\n",
       "\tA4GALT &  0.1475000  & -0.2895858  & -0.6772011  & 0.793181    & -0.8565299  & -1.109234   & 0.009585649 & -1.058551   & -0.8210548  & -1.082000  \\\\\n",
       "\\end{tabular}\n"
      ],
      "text/markdown": [
       "\n",
       "| <!--/--> | CTG-0009 | CTG-0012 | CTG-0017 | CTG-0018 | CTG-0019 | CTG-0033 | CTG-0052 | CTG-0201 | CTG-0202 | CTG-0204 |\n",
       "|---|---|---|---|---|---|---|---|---|---|---|\n",
       "| A1BG | -0.1974841  |  1.5956165  | -0.3505304  | 1.322318    | -0.1104276  |  1.005638   | 3.475155843 |  1.438267   |  1.3566904  |  1.272317   |\n",
       "| A4GALT |  0.1475000  | -0.2895858  | -0.6772011  | 0.793181    | -0.8565299  | -1.109234   | 0.009585649 | -1.058551   | -0.8210548  | -1.082000   |\n",
       "\n"
      ],
      "text/plain": [
       "       CTG-0009   CTG-0012   CTG-0017   CTG-0018 CTG-0019   CTG-0033 \n",
       "A1BG   -0.1974841  1.5956165 -0.3505304 1.322318 -0.1104276  1.005638\n",
       "A4GALT  0.1475000 -0.2895858 -0.6772011 0.793181 -0.8565299 -1.109234\n",
       "       CTG-0052    CTG-0201  CTG-0202   CTG-0204 \n",
       "A1BG   3.475155843  1.438267  1.3566904  1.272317\n",
       "A4GALT 0.009585649 -1.058551 -0.8210548 -1.082000"
      ]
     },
     "metadata": {},
     "output_type": "display_data"
    },
    {
     "name": "stdout",
     "output_type": "stream",
     "text": [
      "[1] 400 207\n"
     ]
    }
   ],
   "source": [
    "# Pivot the data to have 'gene' as rows, 'model' as colomns, and 'log.tpm' as values\n",
    "# pdx_mat <- df %>% \n",
    "#     select(c('gene', 'model', 'log.tpm'))  %>% \n",
    "#     pivot_wider(names_from = model, values_from = log.tpm)  %>% \n",
    "#     column_to_rownames('gene')\n",
    "# pdx_mat  <- pdx_mat[complete.cases(pdx_mat),]  # remove rows with missing values\n",
    "\n",
    "pdx_dat <- df %>% \n",
    "    select(c('gene', 'model_name', 'tumor_type', 'z'))\n",
    "pdx_dat$z <- as.numeric(pdx_dat$z)\n",
    "pdx_dat <- aggregate(pdx_dat['z'], by=pdx_dat[c('gene', 'model_name')], FUN=mean)\n",
    "pdx_mat <- tidyr::pivot_wider(pdx_dat[c('z', 'gene', 'model_name')], \n",
    "                              names_from='model_name', values_from='z')\n",
    "pdx_mat <- as.data.frame(pdx_mat)\n",
    "rownames(pdx_mat) <- pdx_mat$gene\n",
    "pdx_mat <- as.matrix(pdx_mat[-1])\n",
    "pdx_mat[1:2, 1:10]\n",
    "print(dim(pdx_mat))"
   ]
  },
  {
   "cell_type": "markdown",
   "id": "a4988573",
   "metadata": {},
   "source": [
    "## Gene sets"
   ]
  },
  {
   "cell_type": "code",
   "execution_count": 12,
   "id": "18e8b422",
   "metadata": {},
   "outputs": [],
   "source": [
    "# fwrite(x=as.list(get_sets), file=\"kegg_pathways.csv\")"
   ]
  },
  {
   "cell_type": "code",
   "execution_count": 125,
   "id": "5b582cc1",
   "metadata": {},
   "outputs": [],
   "source": [
    "# fread(\"kegg_pathways.csv\")"
   ]
  },
  {
   "cell_type": "code",
   "execution_count": 126,
   "id": "77c7cbaf",
   "metadata": {},
   "outputs": [],
   "source": [
    "save(get_sets, file=\"kegg_pathways.RData\")"
   ]
  },
  {
   "cell_type": "code",
   "execution_count": 127,
   "id": "e1842ec0",
   "metadata": {},
   "outputs": [],
   "source": [
    "load(\"kegg_pathways.RData\")"
   ]
  },
  {
   "cell_type": "code",
   "execution_count": 129,
   "id": "81effe97",
   "metadata": {},
   "outputs": [],
   "source": [
    "# get_sets"
   ]
  },
  {
   "cell_type": "code",
   "execution_count": 130,
   "id": "6d0d3b2f",
   "metadata": {
    "scrolled": false
   },
   "outputs": [
    {
     "name": "stdout",
     "output_type": "stream",
     "text": [
      "List of 186\n",
      " $ KEGG_ABC_TRANSPORTERS                                          : chr [1:44] \"ABCA1\" \"ABCA10\" \"ABCA12\" \"ABCA13\" ...\n",
      " $ KEGG_ACUTE_MYELOID_LEUKEMIA                                    : chr [1:57] \"AKT1\" \"AKT2\" \"AKT3\" \"ARAF\" ...\n",
      " $ KEGG_ADHERENS_JUNCTION                                         : chr [1:73] \"ACP1\" \"ACTB\" \"ACTG1\" \"ACTN1\" ...\n",
      " $ KEGG_ADIPOCYTOKINE_SIGNALING_PATHWAY                           : chr [1:67] \"ACACB\" \"ACSL1\" \"ACSL3\" \"ACSL4\" ...\n",
      " $ KEGG_ALANINE_ASPARTATE_AND_GLUTAMATE_METABOLISM                : chr [1:32] \"ABAT\" \"ACY3\" \"ADSL\" \"ADSS1\" ...\n",
      " $ KEGG_ALDOSTERONE_REGULATED_SODIUM_REABSORPTION                 : chr [1:42] \"ATP1A1\" \"ATP1A2\" \"ATP1A3\" \"ATP1A4\" ...\n",
      " $ KEGG_ALLOGRAFT_REJECTION                                       : chr [1:37] \"CD28\" \"CD40\" \"CD40LG\" \"CD80\" ...\n",
      " $ KEGG_ALPHA_LINOLENIC_ACID_METABOLISM                           : chr [1:19] \"ACOX1\" \"ACOX3\" \"FADS2\" \"JMJD7-PLA2G4B\" ...\n",
      " $ KEGG_ALZHEIMERS_DISEASE                                        : chr [1:166] \"ADAM10\" \"ADAM17\" \"APAF1\" \"APBB1\" ...\n",
      " $ KEGG_AMINO_SUGAR_AND_NUCLEOTIDE_SUGAR_METABOLISM               : chr [1:44] \"AMDHD2\" \"CHIA\" \"CHIT1\" \"CMAS\" ...\n",
      " $ KEGG_AMINOACYL_TRNA_BIOSYNTHESIS                               : chr [1:41] \"AARS1\" \"AARS2\" \"CARS1\" \"CARS2\" ...\n",
      " $ KEGG_AMYOTROPHIC_LATERAL_SCLEROSIS_ALS                         : chr [1:53] \"ALS2\" \"APAF1\" \"BAD\" \"BAX\" ...\n",
      " $ KEGG_ANTIGEN_PROCESSING_AND_PRESENTATION                       : chr [1:88] \"B2M\" \"CALR\" \"CANX\" \"CD4\" ...\n",
      " $ KEGG_APOPTOSIS                                                 : chr [1:87] \"AIFM1\" \"AKT1\" \"AKT2\" \"AKT3\" ...\n",
      " $ KEGG_ARACHIDONIC_ACID_METABOLISM                               : chr [1:58] \"AKR1C3\" \"ALOX12\" \"ALOX12B\" \"ALOX15\" ...\n",
      " $ KEGG_ARGININE_AND_PROLINE_METABOLISM                           : chr [1:54] \"ACY1\" \"AGMAT\" \"ALDH18A1\" \"ALDH1B1\" ...\n",
      " $ KEGG_ARRHYTHMOGENIC_RIGHT_VENTRICULAR_CARDIOMYOPATHY_ARVC      : chr [1:74] \"ACTB\" \"ACTG1\" \"ACTN1\" \"ACTN2\" ...\n",
      " $ KEGG_ASCORBATE_AND_ALDARATE_METABOLISM                         : chr [1:25] \"ALDH1B1\" \"ALDH2\" \"ALDH3A2\" \"ALDH7A1\" ...\n",
      " $ KEGG_ASTHMA                                                    : chr [1:30] \"CCL11\" \"CD40\" \"CD40LG\" \"EPX\" ...\n",
      " $ KEGG_AUTOIMMUNE_THYROID_DISEASE                                : chr [1:52] \"CD28\" \"CD40\" \"CD40LG\" \"CD80\" ...\n",
      " $ KEGG_AXON_GUIDANCE                                             : chr [1:129] \"ABL1\" \"ABLIM1\" \"ABLIM2\" \"ABLIM3\" ...\n",
      " $ KEGG_B_CELL_RECEPTOR_SIGNALING_PATHWAY                         : chr [1:75] \"AKT1\" \"AKT2\" \"AKT3\" \"BCL10\" ...\n",
      " $ KEGG_BASAL_CELL_CARCINOMA                                      : chr [1:55] \"APC\" \"APC2\" \"AXIN1\" \"AXIN2\" ...\n",
      " $ KEGG_BASAL_TRANSCRIPTION_FACTORS                               : chr [1:35] \"GTF2A1\" \"GTF2A1L\" \"GTF2A2\" \"GTF2B\" ...\n",
      " $ KEGG_BASE_EXCISION_REPAIR                                      : chr [1:35] \"APEX1\" \"APEX2\" \"FEN1\" \"HMGB1\" ...\n",
      " $ KEGG_BETA_ALANINE_METABOLISM                                   : chr [1:22] \"ABAT\" \"ACADM\" \"ALDH1B1\" \"ALDH2\" ...\n",
      " $ KEGG_BIOSYNTHESIS_OF_UNSATURATED_FATTY_ACIDS                   : chr [1:22] \"ACAA1\" \"ACOT1\" \"ACOT2\" \"ACOT4\" ...\n",
      " $ KEGG_BLADDER_CANCER                                            : chr [1:42] \"ARAF\" \"BRAF\" \"CCND1\" \"CDH1\" ...\n",
      " $ KEGG_BUTANOATE_METABOLISM                                      : chr [1:34] \"AACS\" \"ABAT\" \"ACADS\" \"ACAT1\" ...\n",
      " $ KEGG_CALCIUM_SIGNALING_PATHWAY                                 : chr [1:178] \"ADCY1\" \"ADCY2\" \"ADCY3\" \"ADCY4\" ...\n",
      " $ KEGG_CARDIAC_MUSCLE_CONTRACTION                                : chr [1:79] \"ACTC1\" \"ATP1A1\" \"ATP1A2\" \"ATP1A3\" ...\n",
      " $ KEGG_CELL_ADHESION_MOLECULES_CAMS                              : chr [1:133] \"ALCAM\" \"CADM1\" \"CADM3\" \"CD2\" ...\n",
      " $ KEGG_CELL_CYCLE                                                : chr [1:125] \"ABL1\" \"ANAPC1\" \"ANAPC10\" \"ANAPC11\" ...\n",
      " $ KEGG_CHEMOKINE_SIGNALING_PATHWAY                               : chr [1:189] \"ADCY1\" \"ADCY2\" \"ADCY3\" \"ADCY4\" ...\n",
      " $ KEGG_CHRONIC_MYELOID_LEUKEMIA                                  : chr [1:73] \"ABL1\" \"AKT1\" \"AKT2\" \"AKT3\" ...\n",
      " $ KEGG_CIRCADIAN_RHYTHM_MAMMAL                                   : chr [1:13] \"ARNTL\" \"BHLHE40\" \"BHLHE41\" \"CLOCK\" ...\n",
      " $ KEGG_CITRATE_CYCLE_TCA_CYCLE                                   : chr [1:31] \"ACLY\" \"ACO1\" \"ACO2\" \"CS\" ...\n",
      " $ KEGG_COLORECTAL_CANCER                                         : chr [1:62] \"AKT1\" \"AKT2\" \"AKT3\" \"APC\" ...\n",
      " $ KEGG_COMPLEMENT_AND_COAGULATION_CASCADES                       : chr [1:69] \"A2M\" \"BDKRB1\" \"BDKRB2\" \"C1QA\" ...\n",
      " $ KEGG_CYSTEINE_AND_METHIONINE_METABOLISM                        : chr [1:34] \"ADI1\" \"AHCY\" \"AHCYL1\" \"AHCYL2\" ...\n",
      " $ KEGG_CYTOKINE_CYTOKINE_RECEPTOR_INTERACTION                    : chr [1:265] \"ACVR1\" \"ACVR1B\" \"ACVR2A\" \"ACVR2B\" ...\n",
      " $ KEGG_CYTOSOLIC_DNA_SENSING_PATHWAY                             : chr [1:55] \"ADAR\" \"AIM2\" \"CASP1\" \"CCL4\" ...\n",
      " $ KEGG_DILATED_CARDIOMYOPATHY                                    : chr [1:90] \"ACTB\" \"ACTC1\" \"ACTG1\" \"ADCY1\" ...\n",
      " $ KEGG_DNA_REPLICATION                                           : chr [1:36] \"DNA2\" \"FEN1\" \"LIG1\" \"MCM2\" ...\n",
      " $ KEGG_DORSO_VENTRAL_AXIS_FORMATION                              : chr [1:24] \"CPEB1\" \"EGFR\" \"ETS1\" \"ETS2\" ...\n",
      " $ KEGG_DRUG_METABOLISM_CYTOCHROME_P450                           : chr [1:72] \"ADH1A\" \"ADH1B\" \"ADH1C\" \"ADH4\" ...\n",
      " $ KEGG_DRUG_METABOLISM_OTHER_ENZYMES                             : chr [1:51] \"CDA\" \"CES1\" \"CES2\" \"CES5A\" ...\n",
      " $ KEGG_ECM_RECEPTOR_INTERACTION                                  : chr [1:84] \"AGRN\" \"CD36\" \"CD44\" \"CD47\" ...\n",
      " $ KEGG_ENDOCYTOSIS                                               : chr [1:181] \"ACAP1\" \"ACAP2\" \"ACAP3\" \"ADRB1\" ...\n",
      " $ KEGG_ENDOMETRIAL_CANCER                                        : chr [1:52] \"AKT1\" \"AKT2\" \"AKT3\" \"APC\" ...\n",
      " $ KEGG_EPITHELIAL_CELL_SIGNALING_IN_HELICOBACTER_PYLORI_INFECTION: chr [1:68] \"ADAM10\" \"ADAM17\" \"ATP6AP1\" \"ATP6V0A1\" ...\n",
      " $ KEGG_ERBB_SIGNALING_PATHWAY                                    : chr [1:87] \"ABL1\" \"ABL2\" \"AKT1\" \"AKT2\" ...\n",
      " $ KEGG_ETHER_LIPID_METABOLISM                                    : chr [1:33] \"AGPS\" \"CHPT1\" \"ENPP2\" \"ENPP6\" ...\n",
      " $ KEGG_FATTY_ACID_METABOLISM                                     : chr [1:42] \"ACAA1\" \"ACAA2\" \"ACADL\" \"ACADM\" ...\n",
      " $ KEGG_FC_EPSILON_RI_SIGNALING_PATHWAY                           : chr [1:79] \"AKT1\" \"AKT2\" \"AKT3\" \"BTK\" ...\n",
      " $ KEGG_FC_GAMMA_R_MEDIATED_PHAGOCYTOSIS                          : chr [1:96] \"AKT1\" \"AKT2\" \"AKT3\" \"AMPH\" ...\n",
      " $ KEGG_FOCAL_ADHESION                                            : chr [1:199] \"ACTB\" \"ACTG1\" \"ACTN1\" \"ACTN2\" ...\n",
      " $ KEGG_FOLATE_BIOSYNTHESIS                                       : chr [1:11] \"ALPG\" \"ALPI\" \"ALPL\" \"ALPP\" ...\n",
      " $ KEGG_FRUCTOSE_AND_MANNOSE_METABOLISM                           : chr [1:34] \"AKR1B1\" \"AKR1B10\" \"ALDOA\" \"ALDOB\" ...\n",
      " $ KEGG_GALACTOSE_METABOLISM                                      : chr [1:26] \"AKR1B1\" \"B4GALT1\" \"B4GALT2\" \"G6PC\" ...\n",
      " $ KEGG_GAP_JUNCTION                                              : chr [1:90] \"ADCY1\" \"ADCY2\" \"ADCY3\" \"ADCY4\" ...\n",
      " $ KEGG_GLIOMA                                                    : chr [1:65] \"AKT1\" \"AKT2\" \"AKT3\" \"ARAF\" ...\n",
      " $ KEGG_GLUTATHIONE_METABOLISM                                    : chr [1:50] \"ANPEP\" \"G6PD\" \"GCLC\" \"GCLM\" ...\n",
      " $ KEGG_GLYCEROLIPID_METABOLISM                                   : chr [1:49] \"AGK\" \"AGPAT1\" \"AGPAT2\" \"AGPAT3\" ...\n",
      " $ KEGG_GLYCEROPHOSPHOLIPID_METABOLISM                            : chr [1:77] \"ACHE\" \"ADPRM\" \"AGPAT1\" \"AGPAT2\" ...\n",
      " $ KEGG_GLYCINE_SERINE_AND_THREONINE_METABOLISM                   : chr [1:31] \"AGXT\" \"AGXT2\" \"ALAS1\" \"ALAS2\" ...\n",
      " $ KEGG_GLYCOLYSIS_GLUCONEOGENESIS                                : chr [1:62] \"ACSS1\" \"ACSS2\" \"ADH1A\" \"ADH1B\" ...\n",
      " $ KEGG_GLYCOSAMINOGLYCAN_BIOSYNTHESIS_CHONDROITIN_SULFATE        : chr [1:22] \"B3GALT6\" \"B3GAT1\" \"B3GAT2\" \"B3GAT3\" ...\n",
      " $ KEGG_GLYCOSAMINOGLYCAN_BIOSYNTHESIS_HEPARAN_SULFATE            : chr [1:26] \"B3GALT6\" \"B3GAT1\" \"B3GAT2\" \"B3GAT3\" ...\n",
      " $ KEGG_GLYCOSAMINOGLYCAN_BIOSYNTHESIS_KERATAN_SULFATE            : chr [1:15] \"B3GNT2\" \"B3GNT7\" \"B4GALT1\" \"B4GALT2\" ...\n",
      " $ KEGG_GLYCOSAMINOGLYCAN_DEGRADATION                             : chr [1:21] \"ARSB\" \"GALNS\" \"GLB1\" \"GNS\" ...\n",
      " $ KEGG_GLYCOSPHINGOLIPID_BIOSYNTHESIS_GANGLIO_SERIES             : chr [1:15] \"B3GALT4\" \"B4GALNT1\" \"GLB1\" \"HEXA\" ...\n",
      " $ KEGG_GLYCOSPHINGOLIPID_BIOSYNTHESIS_GLOBO_SERIES               : chr [1:14] \"A4GALT\" \"B3GALNT1\" \"B3GALT5\" \"FUT1\" ...\n",
      " $ KEGG_GLYCOSPHINGOLIPID_BIOSYNTHESIS_LACTO_AND_NEOLACTO_SERIES  : chr [1:26] \"ABO\" \"B3GALT1\" \"B3GALT2\" \"B3GALT5\" ...\n",
      " $ KEGG_GLYCOSYLPHOSPHATIDYLINOSITOL_GPI_ANCHOR_BIOSYNTHESIS      : chr [1:25] \"DPM2\" \"GPAA1\" \"GPLD1\" \"PGAP1\" ...\n",
      " $ KEGG_GLYOXYLATE_AND_DICARBOXYLATE_METABOLISM                   : chr [1:16] \"ACO1\" \"ACO2\" \"AFMID\" \"CS\" ...\n",
      " $ KEGG_GNRH_SIGNALING_PATHWAY                                    : chr [1:101] \"ADCY1\" \"ADCY2\" \"ADCY3\" \"ADCY4\" ...\n",
      " $ KEGG_GRAFT_VERSUS_HOST_DISEASE                                 : chr [1:41] \"CD28\" \"CD80\" \"CD86\" \"FAS\" ...\n",
      " $ KEGG_HEDGEHOG_SIGNALING_PATHWAY                                : chr [1:56] \"BMP2\" \"BMP4\" \"BMP5\" \"BMP6\" ...\n",
      " $ KEGG_HEMATOPOIETIC_CELL_LINEAGE                                : chr [1:87] \"ANPEP\" \"CD14\" \"CD19\" \"CD1A\" ...\n",
      " $ KEGG_HISTIDINE_METABOLISM                                      : chr [1:29] \"ACY3\" \"ALDH1A3\" \"ALDH1B1\" \"ALDH2\" ...\n",
      " $ KEGG_HOMOLOGOUS_RECOMBINATION                                  : chr [1:28] \"BLM\" \"BRCA2\" \"EME1\" \"MRE11\" ...\n",
      " $ KEGG_HUNTINGTONS_DISEASE                                       : chr [1:182] \"AP2A1\" \"AP2A2\" \"AP2B1\" \"AP2M1\" ...\n",
      " $ KEGG_HYPERTROPHIC_CARDIOMYOPATHY_HCM                           : chr [1:83] \"ACE\" \"ACTB\" \"ACTC1\" \"ACTG1\" ...\n",
      " $ KEGG_INOSITOL_PHOSPHATE_METABOLISM                             : chr [1:54] \"ALDH6A1\" \"CDIPT\" \"IMPA1\" \"IMPA2\" ...\n",
      " $ KEGG_INSULIN_SIGNALING_PATHWAY                                 : chr [1:137] \"ACACA\" \"ACACB\" \"AKT1\" \"AKT2\" ...\n",
      " $ KEGG_INTESTINAL_IMMUNE_NETWORK_FOR_IGA_PRODUCTION              : chr [1:48] \"AICDA\" \"CCL25\" \"CCL27\" \"CCL28\" ...\n",
      " $ KEGG_JAK_STAT_SIGNALING_PATHWAY                                : chr [1:155] \"AKT1\" \"AKT2\" \"AKT3\" \"BCL2L1\" ...\n",
      " $ KEGG_LEISHMANIA_INFECTION                                      : chr [1:72] \"C3\" \"CR1\" \"CYBA\" \"ELK1\" ...\n",
      " $ KEGG_LEUKOCYTE_TRANSENDOTHELIAL_MIGRATION                      : chr [1:116] \"ACTB\" \"ACTG1\" \"ACTN1\" \"ACTN2\" ...\n",
      " $ KEGG_LIMONENE_AND_PINENE_DEGRADATION                           : chr [1:10] \"ALDH1B1\" \"ALDH2\" \"ALDH3A2\" \"ALDH7A1\" ...\n",
      " $ KEGG_LINOLEIC_ACID_METABOLISM                                  : chr [1:29] \"AKR1B10\" \"ALOX15\" \"CYP1A2\" \"CYP2C18\" ...\n",
      " $ KEGG_LONG_TERM_DEPRESSION                                      : chr [1:70] \"ARAF\" \"BRAF\" \"CACNA1A\" \"CRH\" ...\n",
      " $ KEGG_LONG_TERM_POTENTIATION                                    : chr [1:70] \"ADCY1\" \"ADCY8\" \"ARAF\" \"ATF4\" ...\n",
      " $ KEGG_LYSINE_DEGRADATION                                        : chr [1:44] \"AADAT\" \"AASDH\" \"AASDHPPT\" \"AASS\" ...\n",
      " $ KEGG_LYSOSOME                                                  : chr [1:121] \"ABCA2\" \"ABCB9\" \"ACP2\" \"ACP5\" ...\n",
      " $ KEGG_MAPK_SIGNALING_PATHWAY                                    : chr [1:267] \"AKT1\" \"AKT2\" \"AKT3\" \"ARRB1\" ...\n",
      " $ KEGG_MATURITY_ONSET_DIABETES_OF_THE_YOUNG                      : chr [1:25] \"BHLHA15\" \"FOXA2\" \"FOXA3\" \"GCK\" ...\n",
      " $ KEGG_MELANOGENESIS                                             : chr [1:101] \"ADCY1\" \"ADCY2\" \"ADCY3\" \"ADCY4\" ...\n",
      "  [list output truncated]\n"
     ]
    },
    {
     "data": {
      "text/plain": [
       "NULL"
      ]
     },
     "metadata": {},
     "output_type": "display_data"
    }
   ],
   "source": [
    "# get gene set for pathways\n",
    "genesetfile <- tempfile()\n",
    "geneset <- list()\n",
    "\n",
    "for(set in get_sets) {\n",
    "    x <- httr::GET('http://www.gsea-msigdb.org/gsea/msigdb/download_geneset.jsp',\n",
    "        query=list(\n",
    "            geneSetName = set,\n",
    "            fileType = 'txt'\n",
    "        ),\n",
    "        httr::write_disk(genesetfile, overwrite = TRUE)\n",
    "    )\n",
    "    suppressMessages(geneset1 <- readr::read_tsv(genesetfile))\n",
    "    geneset[set] <- as.list(geneset1)\n",
    "    Sys.sleep(0.5) # give the website a break so we don't wear out our welcome\n",
    "}\n",
    "# first element in each geneset is a descriptor\n",
    "geneset <- lapply(geneset, function(x) x[-1])\n",
    "str(geneset,1)"
   ]
  },
  {
   "cell_type": "markdown",
   "id": "4423f639",
   "metadata": {},
   "source": [
    "## ssGSEA scores"
   ]
  },
  {
   "cell_type": "code",
   "execution_count": 103,
   "id": "0a7e5f93",
   "metadata": {
    "scrolled": false
   },
   "outputs": [
    {
     "name": "stdout",
     "output_type": "stream",
     "text": [
      "Estimating ssGSEA scores for 4 gene sets.\n",
      "  |                                                                      |   0%Using parallel with 8 cores\n",
      "  |======================================================================| 100%\n"
     ]
    },
    {
     "data": {
      "text/html": [
       "<table>\n",
       "<thead><tr><th></th><th scope=col>CTG-0009</th><th scope=col>CTG-0012</th><th scope=col>CTG-0017</th><th scope=col>CTG-0018</th><th scope=col>CTG-0019</th><th scope=col>CTG-0033</th><th scope=col>CTG-0052</th><th scope=col>CTG-0201</th><th scope=col>CTG-0202</th><th scope=col>CTG-0204</th><th scope=col>...</th><th scope=col>CTG-3498</th><th scope=col>CTG-3500</th><th scope=col>CTG-3501</th><th scope=col>CTG-3502</th><th scope=col>CTG-3503</th><th scope=col>CTG-3533</th><th scope=col>CTG-3537</th><th scope=col>CTG-3570</th><th scope=col>CTG-3581</th><th scope=col>CTG-3610</th></tr></thead>\n",
       "<tbody>\n",
       "\t<tr><th scope=row>KEGG_ENDOCYTOSIS</th><td>-0.013696399</td><td>0.16661062  </td><td>0.1127873   </td><td>-0.1329063  </td><td>-0.03146803 </td><td> 0.04713409 </td><td>0.2544416   </td><td>-0.01818897 </td><td>-0.03838594 </td><td>-0.03660919 </td><td>...         </td><td>0.03570144  </td><td>0.04185779  </td><td>0.14033395  </td><td> 0.002500086</td><td>-0.03195896 </td><td> 0.18299056 </td><td> 0.06764119 </td><td>0.001165897 </td><td> 0.14448638 </td><td>-0.200139200</td></tr>\n",
       "\t<tr><th scope=row>KEGG_FOCAL_ADHESION</th><td> 0.160342510</td><td>0.41598675  </td><td>0.2738396   </td><td>-0.1262938  </td><td>-0.16903475 </td><td>-0.08983858 </td><td>0.3149048   </td><td> 0.29856033 </td><td> 0.38790018 </td><td> 0.18811588 </td><td>...         </td><td>0.37996325  </td><td>0.09591346  </td><td>0.16876891  </td><td> 0.251115756</td><td>-0.03251614 </td><td>-0.26322671 </td><td>-0.20763891 </td><td>0.424770716 </td><td> 0.02052189 </td><td>-0.001545799</td></tr>\n",
       "\t<tr><th scope=row>KEGG_PATHWAYS_IN_CANCER</th><td> 0.149187001</td><td>0.26005221  </td><td>0.1446066   </td><td>-0.3711191  </td><td> 0.01617304 </td><td>-0.10333749 </td><td>0.2198859   </td><td> 0.10979964 </td><td> 0.15949044 </td><td> 0.07639285 </td><td>...         </td><td>0.18356986  </td><td>0.10181424  </td><td>0.07523724  </td><td>-0.049833494</td><td> 0.03203449 </td><td> 0.09142723 </td><td> 0.07598851 </td><td>0.180064351 </td><td>-0.01190224 </td><td> 0.069583165</td></tr>\n",
       "\t<tr><th scope=row>KEGG_REGULATION_OF_ACTIN_CYTOSKELETON</th><td> 0.005913819</td><td>0.09199468  </td><td>0.2080648   </td><td>-0.2272912  </td><td> 0.05944449 </td><td>-0.02312019 </td><td>0.2759348   </td><td>-0.01856954 </td><td> 0.10803574 </td><td> 0.12737931 </td><td>...         </td><td>0.10010841  </td><td>0.04818373  </td><td>0.21643349  </td><td> 0.075111983</td><td> 0.03550157 </td><td> 0.30515004 </td><td>-0.03024186 </td><td>0.107809348 </td><td> 0.17359573 </td><td> 0.066135840</td></tr>\n",
       "</tbody>\n",
       "</table>\n"
      ],
      "text/latex": [
       "\\begin{tabular}{r|lllllllllllllllllllllllllllllllllllllllllllllllllllllllllllllllllllllllllllllllllllllllllllllllllllllllllllllllllllllllllllllllllllllllllllllllllllllllllllllllllllllllllllllllllllllllllllllllllllllllllllllll}\n",
       "  & CTG-0009 & CTG-0012 & CTG-0017 & CTG-0018 & CTG-0019 & CTG-0033 & CTG-0052 & CTG-0201 & CTG-0202 & CTG-0204 & ... & CTG-3498 & CTG-3500 & CTG-3501 & CTG-3502 & CTG-3503 & CTG-3533 & CTG-3537 & CTG-3570 & CTG-3581 & CTG-3610\\\\\n",
       "\\hline\n",
       "\tKEGG\\_ENDOCYTOSIS & -0.013696399 & 0.16661062   & 0.1127873    & -0.1329063   & -0.03146803  &  0.04713409  & 0.2544416    & -0.01818897  & -0.03838594  & -0.03660919  & ...          & 0.03570144   & 0.04185779   & 0.14033395   &  0.002500086 & -0.03195896  &  0.18299056  &  0.06764119  & 0.001165897  &  0.14448638  & -0.200139200\\\\\n",
       "\tKEGG\\_FOCAL\\_ADHESION &  0.160342510 & 0.41598675   & 0.2738396    & -0.1262938   & -0.16903475  & -0.08983858  & 0.3149048    &  0.29856033  &  0.38790018  &  0.18811588  & ...          & 0.37996325   & 0.09591346   & 0.16876891   &  0.251115756 & -0.03251614  & -0.26322671  & -0.20763891  & 0.424770716  &  0.02052189  & -0.001545799\\\\\n",
       "\tKEGG\\_PATHWAYS\\_IN\\_CANCER &  0.149187001 & 0.26005221   & 0.1446066    & -0.3711191   &  0.01617304  & -0.10333749  & 0.2198859    &  0.10979964  &  0.15949044  &  0.07639285  & ...          & 0.18356986   & 0.10181424   & 0.07523724   & -0.049833494 &  0.03203449  &  0.09142723  &  0.07598851  & 0.180064351  & -0.01190224  &  0.069583165\\\\\n",
       "\tKEGG\\_REGULATION\\_OF\\_ACTIN\\_CYTOSKELETON &  0.005913819 & 0.09199468   & 0.2080648    & -0.2272912   &  0.05944449  & -0.02312019  & 0.2759348    & -0.01856954  &  0.10803574  &  0.12737931  & ...          & 0.10010841   & 0.04818373   & 0.21643349   &  0.075111983 &  0.03550157  &  0.30515004  & -0.03024186  & 0.107809348  &  0.17359573  &  0.066135840\\\\\n",
       "\\end{tabular}\n"
      ],
      "text/markdown": [
       "\n",
       "| <!--/--> | CTG-0009 | CTG-0012 | CTG-0017 | CTG-0018 | CTG-0019 | CTG-0033 | CTG-0052 | CTG-0201 | CTG-0202 | CTG-0204 | ... | CTG-3498 | CTG-3500 | CTG-3501 | CTG-3502 | CTG-3503 | CTG-3533 | CTG-3537 | CTG-3570 | CTG-3581 | CTG-3610 |\n",
       "|---|---|---|---|---|---|---|---|---|---|---|---|---|---|---|---|---|---|---|---|---|---|\n",
       "| KEGG_ENDOCYTOSIS | -0.013696399 | 0.16661062   | 0.1127873    | -0.1329063   | -0.03146803  |  0.04713409  | 0.2544416    | -0.01818897  | -0.03838594  | -0.03660919  | ...          | 0.03570144   | 0.04185779   | 0.14033395   |  0.002500086 | -0.03195896  |  0.18299056  |  0.06764119  | 0.001165897  |  0.14448638  | -0.200139200 |\n",
       "| KEGG_FOCAL_ADHESION |  0.160342510 | 0.41598675   | 0.2738396    | -0.1262938   | -0.16903475  | -0.08983858  | 0.3149048    |  0.29856033  |  0.38790018  |  0.18811588  | ...          | 0.37996325   | 0.09591346   | 0.16876891   |  0.251115756 | -0.03251614  | -0.26322671  | -0.20763891  | 0.424770716  |  0.02052189  | -0.001545799 |\n",
       "| KEGG_PATHWAYS_IN_CANCER |  0.149187001 | 0.26005221   | 0.1446066    | -0.3711191   |  0.01617304  | -0.10333749  | 0.2198859    |  0.10979964  |  0.15949044  |  0.07639285  | ...          | 0.18356986   | 0.10181424   | 0.07523724   | -0.049833494 |  0.03203449  |  0.09142723  |  0.07598851  | 0.180064351  | -0.01190224  |  0.069583165 |\n",
       "| KEGG_REGULATION_OF_ACTIN_CYTOSKELETON |  0.005913819 | 0.09199468   | 0.2080648    | -0.2272912   |  0.05944449  | -0.02312019  | 0.2759348    | -0.01856954  |  0.10803574  |  0.12737931  | ...          | 0.10010841   | 0.04818373   | 0.21643349   |  0.075111983 |  0.03550157  |  0.30515004  | -0.03024186  | 0.107809348  |  0.17359573  |  0.066135840 |\n",
       "\n"
      ],
      "text/plain": [
       "                                      CTG-0009     CTG-0012   CTG-0017 \n",
       "KEGG_ENDOCYTOSIS                      -0.013696399 0.16661062 0.1127873\n",
       "KEGG_FOCAL_ADHESION                    0.160342510 0.41598675 0.2738396\n",
       "KEGG_PATHWAYS_IN_CANCER                0.149187001 0.26005221 0.1446066\n",
       "KEGG_REGULATION_OF_ACTIN_CYTOSKELETON  0.005913819 0.09199468 0.2080648\n",
       "                                      CTG-0018   CTG-0019    CTG-0033   \n",
       "KEGG_ENDOCYTOSIS                      -0.1329063 -0.03146803  0.04713409\n",
       "KEGG_FOCAL_ADHESION                   -0.1262938 -0.16903475 -0.08983858\n",
       "KEGG_PATHWAYS_IN_CANCER               -0.3711191  0.01617304 -0.10333749\n",
       "KEGG_REGULATION_OF_ACTIN_CYTOSKELETON -0.2272912  0.05944449 -0.02312019\n",
       "                                      CTG-0052  CTG-0201    CTG-0202   \n",
       "KEGG_ENDOCYTOSIS                      0.2544416 -0.01818897 -0.03838594\n",
       "KEGG_FOCAL_ADHESION                   0.3149048  0.29856033  0.38790018\n",
       "KEGG_PATHWAYS_IN_CANCER               0.2198859  0.10979964  0.15949044\n",
       "KEGG_REGULATION_OF_ACTIN_CYTOSKELETON 0.2759348 -0.01856954  0.10803574\n",
       "                                      CTG-0204    ... CTG-3498   CTG-3500  \n",
       "KEGG_ENDOCYTOSIS                      -0.03660919 ... 0.03570144 0.04185779\n",
       "KEGG_FOCAL_ADHESION                    0.18811588 ... 0.37996325 0.09591346\n",
       "KEGG_PATHWAYS_IN_CANCER                0.07639285 ... 0.18356986 0.10181424\n",
       "KEGG_REGULATION_OF_ACTIN_CYTOSKELETON  0.12737931 ... 0.10010841 0.04818373\n",
       "                                      CTG-3501   CTG-3502     CTG-3503   \n",
       "KEGG_ENDOCYTOSIS                      0.14033395  0.002500086 -0.03195896\n",
       "KEGG_FOCAL_ADHESION                   0.16876891  0.251115756 -0.03251614\n",
       "KEGG_PATHWAYS_IN_CANCER               0.07523724 -0.049833494  0.03203449\n",
       "KEGG_REGULATION_OF_ACTIN_CYTOSKELETON 0.21643349  0.075111983  0.03550157\n",
       "                                      CTG-3533    CTG-3537    CTG-3570   \n",
       "KEGG_ENDOCYTOSIS                       0.18299056  0.06764119 0.001165897\n",
       "KEGG_FOCAL_ADHESION                   -0.26322671 -0.20763891 0.424770716\n",
       "KEGG_PATHWAYS_IN_CANCER                0.09142723  0.07598851 0.180064351\n",
       "KEGG_REGULATION_OF_ACTIN_CYTOSKELETON  0.30515004 -0.03024186 0.107809348\n",
       "                                      CTG-3581    CTG-3610    \n",
       "KEGG_ENDOCYTOSIS                       0.14448638 -0.200139200\n",
       "KEGG_FOCAL_ADHESION                    0.02052189 -0.001545799\n",
       "KEGG_PATHWAYS_IN_CANCER               -0.01190224  0.069583165\n",
       "KEGG_REGULATION_OF_ACTIN_CYTOSKELETON  0.17359573  0.066135840"
      ]
     },
     "metadata": {},
     "output_type": "display_data"
    },
    {
     "name": "stdout",
     "output_type": "stream",
     "text": [
      "[1]   4 207\n"
     ]
    }
   ],
   "source": [
    "pdx_gsva <- GSVA::gsva(as.matrix(pdx_mat), geneset, \n",
    "                       min.sz=10, max.sz=500, method='ssgsea')\n",
    "# not a bad idea to save this for later\n",
    "# save(pdx_mat, pdx_gsva, pdx_orig, geneset, genes, file=\"gsva.RData\")\n",
    "pdx_gsva\n",
    "print(dim(pdx_gsva))"
   ]
  },
  {
   "cell_type": "code",
   "execution_count": 120,
   "id": "c34b3adf",
   "metadata": {
    "scrolled": false
   },
   "outputs": [
    {
     "data": {
      "image/png": "[encoded data removed]",
      "text/plain": [
       "plot without title"
      ]
     },
     "metadata": {},
     "output_type": "display_data"
    }
   ],
   "source": [
    "pdx_dat <- df %>% \n",
    "    select(c('gene', 'model_name', 'tumor_type', 'z'))\n",
    "cancertype <- unique(pdx_dat[c('model_name', 'tumor_type')])\n",
    "cancertype <- cancertype[order(cancertype[,'tumor_type']),]\n",
    "cancertype <- cancertype[cancertype[,'model_name'] %in% colnames(pdx_gsva),]\n",
    "cancertype[,'tumor_type'] <- as.factor(cancertype[,'tumor_type'])\n",
    "# cluster gene sets\n",
    "rw_d <- dist(pdx_gsva)\n",
    "rw_cl <- hclust(rw_d)\n",
    "pdx_gsva <- pdx_gsva[rw_cl$order, ] \n",
    "# Change plot size\n",
    "options(repr.plot.width=14, repr.plot.height=6)\n",
    "layout(matrix(c(1,2)), heights=c(1,12))\n",
    "par(mar=c(0,15,2,0)+0.1)\n",
    "image(\n",
    "    matrix(as.numeric(factor(cancertype[,'tumor_type']))), \n",
    "    axes=FALSE, \n",
    "    ann=FALSE, \n",
    "    main=NA, \n",
    "    col=hcl.colors(length(unique(cancertype$tumor_type)), \"viridis\")\n",
    ")\n",
    "#axis(side=3)\n",
    "mtext(side=3, text=unique(cancertype[,'tumor_type']), at=c(0.01, 0.2, 0.4, 0.6), cex=0.7)\n",
    "par(mar=c(0,15,0,0)+0.1)\n",
    "image(t(pdx_gsva[,cancertype[,'model_name']]), axes=FALSE, ann=FALSE)\n",
    "mtext(side=2, text=rownames(pdx_gsva), \n",
    "      at=seq(0, 1, length.out=nrow(pdx_gsva)), line=1, las=2, cex=0.4)"
   ]
  }
 ],
 "metadata": {
  "kernelspec": {
   "display_name": "R",
   "language": "R",
   "name": "ir"
  },
  "language_info": {
   "codemirror_mode": "r",
   "file_extension": ".r",
   "mimetype": "text/x-r-source",
   "name": "R",
   "pygments_lexer": "r",
   "version": "3.6.1"
  }
 },
 "nbformat": 4,
 "nbformat_minor": 5
}
