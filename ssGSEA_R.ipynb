{
 "cells": [
  {
   "cell_type": "markdown",
   "id": "f441d1d9",
   "metadata": {},
   "source": [
    "# ssGSEA\n",
    "\n",
    "Single sample GSEA (ssGSEA) is a non-parametric method that calculates a gene set enrichment score per sample as the normalized difference in empirical cumulative distribution functions (CDFs) of gene expression ranks inside and outside the gene set.\n",
    "\n",
    "+ Author: Margaret Paiva \n",
    "+ Date:   2021-12-09  "
   ]
  },
  {
   "cell_type": "code",
   "execution_count": 62,
   "id": "1d792784",
   "metadata": {
    "scrolled": true
   },
   "outputs": [],
   "source": [
    "suppressWarnings(require('pkgmaker',quietly = T))\n",
    "require('plyr',quietly = T)\n",
    "l_ply(c('dplyr',\n",
    "        'data.table',\n",
    "        'tidyr',  \n",
    "        'tibble',\n",
    "        'jsonlite', \n",
    "        'rjson',\n",
    "        'httr',\n",
    "        'GSVA', \n",
    "        'limma', \n",
    "        'gridExtra'), function(pkg) {\n",
    "          invisible(capture.output(irequire(pkg, quiet = T, autoinstall = T)))\n",
    "        })"
   ]
  },
  {
   "cell_type": "markdown",
   "id": "866de5fe",
   "metadata": {},
   "source": [
    "## Expression data\n",
    "\n",
    "Uncomment the following code to download a set of data."
   ]
  },
  {
   "cell_type": "code",
   "execution_count": 6,
   "id": "c77f7198",
   "metadata": {},
   "outputs": [],
   "source": [
    "# # In \"gene_list.csv\", define a list of genes of interest\n",
    "# gene_list  <- as.list(read.csv(\"gene_list.csv\")$x)"
   ]
  },
  {
   "cell_type": "code",
   "execution_count": 5,
   "id": "f1e9c2ba",
   "metadata": {},
   "outputs": [],
   "source": [
    "# # Define the data to query from API\n",
    "# data  <- list(\"request_data_type\" = \"expression\",\n",
    "#               # If only pathway enrichment analysis is needed, you may request only one cancer type\n",
    "#               # to see what pathways are enriched for a specific cancer type\n",
    "#   \"request_cancer_type\" = c(\"Renal cell carcinoma\", \"Prostate\", \"Adenoid cystic carcinoma\", \"Breast\", \n",
    "#                             \"Thyroid\", \"Testicular\", \"Hepatocellular carcinoma\", \"Melanoma\"),\n",
    "# #   \"request_genes\" = c(\"ATM\", \"BRCA1\", \"BRCA2\", \"BRIP1\", \"CDK12\", \"FANCA\", \"HDAC2\", \"KRAS\", \n",
    "# #                       \"PALB2\", \"SRY\", \"TP53\", \"NOTCH1\", \"CCND1\", \"BARD1\", \"FBLN2\", \"CDKN1B\", \n",
    "# #                       \"RB1\", \"CHEK2\", \"APOBEC3B\", \"PALB2\"),  # to define a list of genes here\n",
    "#   \"request_genes\" = gene_list,  # if a list of genes is defined in a file\n",
    "#   \"request_dataset\" = \"PDX\",\n",
    "#   \"request_key\" = \"---\",  # enter your token here\n",
    "#   \"request_client\" = 99,\n",
    "#   \"request_user\" = 1234,  # enter your user id here\n",
    "#   \"request_workspace_id\" = \"1234-99\",  # enter your user id \"XXXX-99\"\n",
    "#   \"request_mode\" = 'true')"
   ]
  },
  {
   "cell_type": "code",
   "execution_count": null,
   "id": "56877c9b",
   "metadata": {},
   "outputs": [],
   "source": [
    "# # Request data from API - this may take some time\n",
    "# request  <-  POST(url = 'https://lumin-fast-api.championsoncology.com/WS', \n",
    "#                   body = data, encode = 'json')\n",
    "# request\n",
    "# # A successful request will give \"Status: 200\""
   ]
  },
  {
   "cell_type": "code",
   "execution_count": null,
   "id": "a70474aa",
   "metadata": {},
   "outputs": [],
   "source": [
    "# # This will save the data file as a .json file in your root directory\n",
    "# response <- content(request)\n",
    "# response"
   ]
  },
  {
   "cell_type": "markdown",
   "id": "df17fff8",
   "metadata": {},
   "source": [
    "After downloading the data, use the following to read them in."
   ]
  },
  {
   "cell_type": "code",
   "execution_count": 2,
   "id": "9c99eeb7",
   "metadata": {},
   "outputs": [],
   "source": [
    "# Enter the file name of the .json file in your root directory below\n",
    "lt  <-  fromJSON(file = \"./data/requested_data---19-10-2021---20_44_20.json\")"
   ]
  },
  {
   "cell_type": "code",
   "execution_count": 3,
   "id": "ffe718aa",
   "metadata": {},
   "outputs": [
    {
     "data": {
      "text/html": [
       "<table>\n",
       "<thead><tr><th scope=col>v1</th><th scope=col>gene_id</th><th scope=col>log.rsem.rpkm</th><th scope=col>log.tpm</th><th scope=col>z</th><th scope=col>fold</th><th scope=col>trans</th><th scope=col>model</th><th scope=col>sort_key</th><th scope=col>gene</th><th scope=col>model_name</th><th scope=col>tumor_type</th></tr></thead>\n",
       "<tbody>\n",
       "\t<tr><td>19463231                                                                                   </td><td>ENSG00000005187                                                                            </td><td>2.03154538924124                                                                           </td><td>2.74114899170484                                                                           </td><td>-0.1693172                                                                                 </td><td>0.876569685689051                                                                          </td><td>ENST00000440284:49.26% ENST00000567387:17.78% ENST00000501740:11.52% ENST00000289416:10.09%</td><td>CTG-3501                                                                                   </td><td>CTG-3501_Expression_1                                                                      </td><td>ACSM3                                                                                      </td><td>CTG-3501                                                                                   </td><td>Breast                                                                                     </td></tr>\n",
       "\t<tr><td>19463234                                    </td><td>ENSG00000005243                             </td><td>0.43494348437293                            </td><td>0.799599647207579                           </td><td>-0.9946150                                  </td><td>0.185174375597962                           </td><td>ENST00000006101:78.76% ENST00000579263:20.8%</td><td>CTG-3501                                    </td><td>CTG-3501_Expression_1                       </td><td>COPZ2                                       </td><td>CTG-3501                                    </td><td>Breast                                      </td></tr>\n",
       "</tbody>\n",
       "</table>\n"
      ],
      "text/latex": [
       "\\begin{tabular}{r|llllllllllll}\n",
       " v1 & gene\\_id & log.rsem.rpkm & log.tpm & z & fold & trans & model & sort\\_key & gene & model\\_name & tumor\\_type\\\\\n",
       "\\hline\n",
       "\t 19463231                                                                                            & ENSG00000005187                                                                                     & 2.03154538924124                                                                                    & 2.74114899170484                                                                                    & -0.1693172                                                                                          & 0.876569685689051                                                                                   & ENST00000440284:49.26\\% ENST00000567387:17.78\\% ENST00000501740:11.52\\% ENST00000289416:10.09\\% & CTG-3501                                                                                            & CTG-3501\\_Expression\\_1                                                                           & ACSM3                                                                                               & CTG-3501                                                                                            & Breast                                                                                             \\\\\n",
       "\t 19463234                                         & ENSG00000005243                                  & 0.43494348437293                                 & 0.799599647207579                                & -0.9946150                                       & 0.185174375597962                                & ENST00000006101:78.76\\% ENST00000579263:20.8\\% & CTG-3501                                         & CTG-3501\\_Expression\\_1                        & COPZ2                                            & CTG-3501                                         & Breast                                          \\\\\n",
       "\\end{tabular}\n"
      ],
      "text/markdown": [
       "\n",
       "| v1 | gene_id | log.rsem.rpkm | log.tpm | z | fold | trans | model | sort_key | gene | model_name | tumor_type |\n",
       "|---|---|---|---|---|---|---|---|---|---|---|---|\n",
       "| 19463231                                                                                    | ENSG00000005187                                                                             | 2.03154538924124                                                                            | 2.74114899170484                                                                            | -0.1693172                                                                                  | 0.876569685689051                                                                           | ENST00000440284:49.26% ENST00000567387:17.78% ENST00000501740:11.52% ENST00000289416:10.09% | CTG-3501                                                                                    | CTG-3501_Expression_1                                                                       | ACSM3                                                                                       | CTG-3501                                                                                    | Breast                                                                                      |\n",
       "| 19463234                                     | ENSG00000005243                              | 0.43494348437293                             | 0.799599647207579                            | -0.9946150                                   | 0.185174375597962                            | ENST00000006101:78.76% ENST00000579263:20.8% | CTG-3501                                     | CTG-3501_Expression_1                        | COPZ2                                        | CTG-3501                                     | Breast                                       |\n",
       "\n"
      ],
      "text/plain": [
       "  v1       gene_id         log.rsem.rpkm    log.tpm           z         \n",
       "1 19463231 ENSG00000005187 2.03154538924124 2.74114899170484  -0.1693172\n",
       "2 19463234 ENSG00000005243 0.43494348437293 0.799599647207579 -0.9946150\n",
       "  fold             \n",
       "1 0.876569685689051\n",
       "2 0.185174375597962\n",
       "  trans                                                                                      \n",
       "1 ENST00000440284:49.26% ENST00000567387:17.78% ENST00000501740:11.52% ENST00000289416:10.09%\n",
       "2 ENST00000006101:78.76% ENST00000579263:20.8%                                               \n",
       "  model    sort_key              gene  model_name tumor_type\n",
       "1 CTG-3501 CTG-3501_Expression_1 ACSM3 CTG-3501   Breast    \n",
       "2 CTG-3501 CTG-3501_Expression_1 COPZ2 CTG-3501   Breast    "
      ]
     },
     "metadata": {},
     "output_type": "display_data"
    },
    {
     "name": "stdout",
     "output_type": "stream",
     "text": [
      "[1] 82800    12\n"
     ]
    }
   ],
   "source": [
    "# Create a dataframe from the data\n",
    "df  <- do.call(rbind, lapply(lt, rbind))\n",
    "df  <- as.data.frame(df)\n",
    "df$gene  <- as.character(df$gene)  # each column is a list - specify data type\n",
    "df$model_name  <- as.character(df$model_name)\n",
    "df$tumor_type  <- as.character(df$tumor_type)\n",
    "df$z  <- as.numeric(df$z)\n",
    "head(df, 2)\n",
    "print(dim(df))"
   ]
  },
  {
   "cell_type": "code",
   "execution_count": 4,
   "id": "8e635f08",
   "metadata": {},
   "outputs": [
    {
     "data": {
      "text/html": [
       "<table>\n",
       "<thead><tr><th></th><th scope=col>CTG-0009</th><th scope=col>CTG-0012</th><th scope=col>CTG-0017</th><th scope=col>CTG-0018</th><th scope=col>CTG-0019</th><th scope=col>CTG-0033</th><th scope=col>CTG-0052</th><th scope=col>CTG-0201</th><th scope=col>CTG-0202</th><th scope=col>CTG-0204</th></tr></thead>\n",
       "<tbody>\n",
       "\t<tr><th scope=row>A1BG</th><td>-0.1974841 </td><td> 1.5956165 </td><td>-0.3505304 </td><td>1.322318   </td><td>-0.1104276 </td><td> 1.005638  </td><td>3.475155843</td><td> 1.438267  </td><td> 1.3566904 </td><td> 1.272317  </td></tr>\n",
       "\t<tr><th scope=row>A4GALT</th><td> 0.1475000 </td><td>-0.2895858 </td><td>-0.6772011 </td><td>0.793181   </td><td>-0.8565299 </td><td>-1.109234  </td><td>0.009585649</td><td>-1.058551  </td><td>-0.8210548 </td><td>-1.082000  </td></tr>\n",
       "</tbody>\n",
       "</table>\n"
      ],
      "text/latex": [
       "\\begin{tabular}{r|llllllllll}\n",
       "  & CTG-0009 & CTG-0012 & CTG-0017 & CTG-0018 & CTG-0019 & CTG-0033 & CTG-0052 & CTG-0201 & CTG-0202 & CTG-0204\\\\\n",
       "\\hline\n",
       "\tA1BG & -0.1974841  &  1.5956165  & -0.3505304  & 1.322318    & -0.1104276  &  1.005638   & 3.475155843 &  1.438267   &  1.3566904  &  1.272317  \\\\\n",
       "\tA4GALT &  0.1475000  & -0.2895858  & -0.6772011  & 0.793181    & -0.8565299  & -1.109234   & 0.009585649 & -1.058551   & -0.8210548  & -1.082000  \\\\\n",
       "\\end{tabular}\n"
      ],
      "text/markdown": [
       "\n",
       "| <!--/--> | CTG-0009 | CTG-0012 | CTG-0017 | CTG-0018 | CTG-0019 | CTG-0033 | CTG-0052 | CTG-0201 | CTG-0202 | CTG-0204 |\n",
       "|---|---|---|---|---|---|---|---|---|---|---|\n",
       "| A1BG | -0.1974841  |  1.5956165  | -0.3505304  | 1.322318    | -0.1104276  |  1.005638   | 3.475155843 |  1.438267   |  1.3566904  |  1.272317   |\n",
       "| A4GALT |  0.1475000  | -0.2895858  | -0.6772011  | 0.793181    | -0.8565299  | -1.109234   | 0.009585649 | -1.058551   | -0.8210548  | -1.082000   |\n",
       "\n"
      ],
      "text/plain": [
       "       CTG-0009   CTG-0012   CTG-0017   CTG-0018 CTG-0019   CTG-0033 \n",
       "A1BG   -0.1974841  1.5956165 -0.3505304 1.322318 -0.1104276  1.005638\n",
       "A4GALT  0.1475000 -0.2895858 -0.6772011 0.793181 -0.8565299 -1.109234\n",
       "       CTG-0052    CTG-0201  CTG-0202   CTG-0204 \n",
       "A1BG   3.475155843  1.438267  1.3566904  1.272317\n",
       "A4GALT 0.009585649 -1.058551 -0.8210548 -1.082000"
      ]
     },
     "metadata": {},
     "output_type": "display_data"
    },
    {
     "name": "stdout",
     "output_type": "stream",
     "text": [
      "[1] 400 207\n"
     ]
    }
   ],
   "source": [
    "# Pivot the data to have 'gene' as rows, 'model' as colomns, and 'log.tpm' as values\n",
    "# pdx_mat <- df %>% \n",
    "#     select(c('gene', 'model', 'log.tpm'))  %>% \n",
    "#     pivot_wider(names_from = model, values_from = log.tpm)  %>% \n",
    "#     column_to_rownames('gene')\n",
    "# pdx_mat  <- pdx_mat[complete.cases(pdx_mat),]  # remove rows with missing values\n",
    "\n",
    "pdx_dat <- df %>% \n",
    "    select(c('gene', 'model_name', 'tumor_type', 'z'))\n",
    "pdx_dat$z <- as.numeric(pdx_dat$z)\n",
    "pdx_dat <- aggregate(pdx_dat['z'], by=pdx_dat[c('gene', 'model_name')], FUN=mean)\n",
    "pdx_mat <- tidyr::pivot_wider(pdx_dat[c('z', 'gene', 'model_name')], \n",
    "                              names_from='model_name', values_from='z')\n",
    "pdx_mat <- as.data.frame(pdx_mat)\n",
    "rownames(pdx_mat) <- pdx_mat$gene\n",
    "pdx_mat <- as.matrix(pdx_mat[-1])\n",
    "pdx_mat[1:2, 1:10]\n",
    "print(dim(pdx_mat))"
   ]
  },
  {
   "cell_type": "markdown",
   "id": "a4988573",
   "metadata": {},
   "source": [
    "## Gene sets from pathways"
   ]
  },
  {
   "cell_type": "code",
   "execution_count": 6,
   "id": "e1842ec0",
   "metadata": {},
   "outputs": [],
   "source": [
    "# This loads the variable `get_sets`\n",
    "load(\"./requests/kegg_gene_sets.RData\")"
   ]
  },
  {
   "cell_type": "code",
   "execution_count": 7,
   "id": "6d0d3b2f",
   "metadata": {
    "scrolled": false
   },
   "outputs": [],
   "source": [
    "# get gene set for pathways\n",
    "genesetfile <- tempfile()\n",
    "geneset <- list()\n",
    "\n",
    "for(set in get_sets) {\n",
    "    x <- httr::GET('http://www.gsea-msigdb.org/gsea/msigdb/download_geneset.jsp',\n",
    "        query=list(\n",
    "            geneSetName = set,\n",
    "            fileType = 'txt'\n",
    "        ),\n",
    "        httr::write_disk(genesetfile, overwrite = TRUE)\n",
    "    )\n",
    "    suppressMessages(geneset1 <- readr::read_tsv(genesetfile))\n",
    "    geneset[set] <- as.list(geneset1)\n",
    "#     Sys.sleep(0.5) # give the website a break\n",
    "}\n",
    "# first element in each geneset is a descriptor\n",
    "geneset <- lapply(geneset, function(x) x[-1])"
   ]
  },
  {
   "cell_type": "code",
   "execution_count": 12,
   "id": "c99aeebf",
   "metadata": {},
   "outputs": [
    {
     "data": {
      "text/html": [
       "<strong>$KEGG_ABC_TRANSPORTERS</strong> = <ol class=list-inline>\n",
       "\t<li>'ABCA1'</li>\n",
       "\t<li>'ABCA10'</li>\n",
       "\t<li>'ABCA12'</li>\n",
       "\t<li>'ABCA13'</li>\n",
       "\t<li>'ABCA2'</li>\n",
       "\t<li>'ABCA3'</li>\n",
       "\t<li>'ABCA4'</li>\n",
       "\t<li>'ABCA5'</li>\n",
       "\t<li>'ABCA6'</li>\n",
       "\t<li>'ABCA7'</li>\n",
       "\t<li>'ABCA8'</li>\n",
       "\t<li>'ABCA9'</li>\n",
       "\t<li>'ABCB1'</li>\n",
       "\t<li>'ABCB10'</li>\n",
       "\t<li>'ABCB11'</li>\n",
       "\t<li>'ABCB4'</li>\n",
       "\t<li>'ABCB5'</li>\n",
       "\t<li>'ABCB6'</li>\n",
       "\t<li>'ABCB7'</li>\n",
       "\t<li>'ABCB8'</li>\n",
       "\t<li>'ABCB9'</li>\n",
       "\t<li>'ABCC1'</li>\n",
       "\t<li>'ABCC10'</li>\n",
       "\t<li>'ABCC11'</li>\n",
       "\t<li>'ABCC12'</li>\n",
       "\t<li>'ABCC2'</li>\n",
       "\t<li>'ABCC3'</li>\n",
       "\t<li>'ABCC4'</li>\n",
       "\t<li>'ABCC5'</li>\n",
       "\t<li>'ABCC6'</li>\n",
       "\t<li>'ABCC8'</li>\n",
       "\t<li>'ABCC9'</li>\n",
       "\t<li>'ABCD1'</li>\n",
       "\t<li>'ABCD2'</li>\n",
       "\t<li>'ABCD3'</li>\n",
       "\t<li>'ABCD4'</li>\n",
       "\t<li>'ABCG1'</li>\n",
       "\t<li>'ABCG2'</li>\n",
       "\t<li>'ABCG4'</li>\n",
       "\t<li>'ABCG5'</li>\n",
       "\t<li>'ABCG8'</li>\n",
       "\t<li>'CFTR'</li>\n",
       "\t<li>'TAP1'</li>\n",
       "\t<li>'TAP2'</li>\n",
       "</ol>\n"
      ],
      "text/latex": [
       "\\textbf{\\$KEGG\\_ABC\\_TRANSPORTERS} = \\begin{enumerate*}\n",
       "\\item 'ABCA1'\n",
       "\\item 'ABCA10'\n",
       "\\item 'ABCA12'\n",
       "\\item 'ABCA13'\n",
       "\\item 'ABCA2'\n",
       "\\item 'ABCA3'\n",
       "\\item 'ABCA4'\n",
       "\\item 'ABCA5'\n",
       "\\item 'ABCA6'\n",
       "\\item 'ABCA7'\n",
       "\\item 'ABCA8'\n",
       "\\item 'ABCA9'\n",
       "\\item 'ABCB1'\n",
       "\\item 'ABCB10'\n",
       "\\item 'ABCB11'\n",
       "\\item 'ABCB4'\n",
       "\\item 'ABCB5'\n",
       "\\item 'ABCB6'\n",
       "\\item 'ABCB7'\n",
       "\\item 'ABCB8'\n",
       "\\item 'ABCB9'\n",
       "\\item 'ABCC1'\n",
       "\\item 'ABCC10'\n",
       "\\item 'ABCC11'\n",
       "\\item 'ABCC12'\n",
       "\\item 'ABCC2'\n",
       "\\item 'ABCC3'\n",
       "\\item 'ABCC4'\n",
       "\\item 'ABCC5'\n",
       "\\item 'ABCC6'\n",
       "\\item 'ABCC8'\n",
       "\\item 'ABCC9'\n",
       "\\item 'ABCD1'\n",
       "\\item 'ABCD2'\n",
       "\\item 'ABCD3'\n",
       "\\item 'ABCD4'\n",
       "\\item 'ABCG1'\n",
       "\\item 'ABCG2'\n",
       "\\item 'ABCG4'\n",
       "\\item 'ABCG5'\n",
       "\\item 'ABCG8'\n",
       "\\item 'CFTR'\n",
       "\\item 'TAP1'\n",
       "\\item 'TAP2'\n",
       "\\end{enumerate*}\n"
      ],
      "text/markdown": [
       "**$KEGG_ABC_TRANSPORTERS** = 1. 'ABCA1'\n",
       "2. 'ABCA10'\n",
       "3. 'ABCA12'\n",
       "4. 'ABCA13'\n",
       "5. 'ABCA2'\n",
       "6. 'ABCA3'\n",
       "7. 'ABCA4'\n",
       "8. 'ABCA5'\n",
       "9. 'ABCA6'\n",
       "10. 'ABCA7'\n",
       "11. 'ABCA8'\n",
       "12. 'ABCA9'\n",
       "13. 'ABCB1'\n",
       "14. 'ABCB10'\n",
       "15. 'ABCB11'\n",
       "16. 'ABCB4'\n",
       "17. 'ABCB5'\n",
       "18. 'ABCB6'\n",
       "19. 'ABCB7'\n",
       "20. 'ABCB8'\n",
       "21. 'ABCB9'\n",
       "22. 'ABCC1'\n",
       "23. 'ABCC10'\n",
       "24. 'ABCC11'\n",
       "25. 'ABCC12'\n",
       "26. 'ABCC2'\n",
       "27. 'ABCC3'\n",
       "28. 'ABCC4'\n",
       "29. 'ABCC5'\n",
       "30. 'ABCC6'\n",
       "31. 'ABCC8'\n",
       "32. 'ABCC9'\n",
       "33. 'ABCD1'\n",
       "34. 'ABCD2'\n",
       "35. 'ABCD3'\n",
       "36. 'ABCD4'\n",
       "37. 'ABCG1'\n",
       "38. 'ABCG2'\n",
       "39. 'ABCG4'\n",
       "40. 'ABCG5'\n",
       "41. 'ABCG8'\n",
       "42. 'CFTR'\n",
       "43. 'TAP1'\n",
       "44. 'TAP2'\n",
       "\n",
       "\n"
      ],
      "text/plain": [
       "$KEGG_ABC_TRANSPORTERS\n",
       " [1] \"ABCA1\"  \"ABCA10\" \"ABCA12\" \"ABCA13\" \"ABCA2\"  \"ABCA3\"  \"ABCA4\"  \"ABCA5\" \n",
       " [9] \"ABCA6\"  \"ABCA7\"  \"ABCA8\"  \"ABCA9\"  \"ABCB1\"  \"ABCB10\" \"ABCB11\" \"ABCB4\" \n",
       "[17] \"ABCB5\"  \"ABCB6\"  \"ABCB7\"  \"ABCB8\"  \"ABCB9\"  \"ABCC1\"  \"ABCC10\" \"ABCC11\"\n",
       "[25] \"ABCC12\" \"ABCC2\"  \"ABCC3\"  \"ABCC4\"  \"ABCC5\"  \"ABCC6\"  \"ABCC8\"  \"ABCC9\" \n",
       "[33] \"ABCD1\"  \"ABCD2\"  \"ABCD3\"  \"ABCD4\"  \"ABCG1\"  \"ABCG2\"  \"ABCG4\"  \"ABCG5\" \n",
       "[41] \"ABCG8\"  \"CFTR\"   \"TAP1\"   \"TAP2\"  \n"
      ]
     },
     "metadata": {},
     "output_type": "display_data"
    }
   ],
   "source": [
    "head(geneset, 1)"
   ]
  },
  {
   "cell_type": "markdown",
   "id": "4423f639",
   "metadata": {},
   "source": [
    "## ssGSEA scores"
   ]
  },
  {
   "cell_type": "code",
   "execution_count": 238,
   "id": "0a7e5f93",
   "metadata": {
    "scrolled": false
   },
   "outputs": [
    {
     "name": "stdout",
     "output_type": "stream",
     "text": [
      "Estimating ssGSEA scores for 4 gene sets.\n",
      "  |                                                                      |   0%Using parallel with 8 cores\n",
      "  |======================================================================| 100%\n"
     ]
    },
    {
     "data": {
      "text/html": [
       "<table>\n",
       "<thead><tr><th></th><th scope=col>CTG-0009</th><th scope=col>CTG-0012</th><th scope=col>CTG-0017</th><th scope=col>CTG-0018</th><th scope=col>CTG-0019</th><th scope=col>CTG-0033</th><th scope=col>CTG-0052</th><th scope=col>CTG-0201</th><th scope=col>CTG-0202</th><th scope=col>CTG-0204</th><th scope=col>...</th><th scope=col>CTG-3498</th><th scope=col>CTG-3500</th><th scope=col>CTG-3501</th><th scope=col>CTG-3502</th><th scope=col>CTG-3503</th><th scope=col>CTG-3533</th><th scope=col>CTG-3537</th><th scope=col>CTG-3570</th><th scope=col>CTG-3581</th><th scope=col>CTG-3610</th></tr></thead>\n",
       "<tbody>\n",
       "\t<tr><th scope=row>KEGG_ENDOCYTOSIS</th><td>-0.013696399</td><td>0.16661062  </td><td>0.1127873   </td><td>-0.1329063  </td><td>-0.03146803 </td><td> 0.04713409 </td><td>0.2544416   </td><td>-0.01818897 </td><td>-0.03838594 </td><td>-0.03660919 </td><td>...         </td><td>0.03570144  </td><td>0.04185779  </td><td>0.14033395  </td><td> 0.002500086</td><td>-0.03195896 </td><td> 0.18299056 </td><td> 0.06764119 </td><td>0.001165897 </td><td> 0.14448638 </td><td>-0.200139200</td></tr>\n",
       "\t<tr><th scope=row>KEGG_FOCAL_ADHESION</th><td> 0.160342510</td><td>0.41598675  </td><td>0.2738396   </td><td>-0.1262938  </td><td>-0.16903475 </td><td>-0.08983858 </td><td>0.3149048   </td><td> 0.29856033 </td><td> 0.38790018 </td><td> 0.18811588 </td><td>...         </td><td>0.37996325  </td><td>0.09591346  </td><td>0.16876891  </td><td> 0.251115756</td><td>-0.03251614 </td><td>-0.26322671 </td><td>-0.20763891 </td><td>0.424770716 </td><td> 0.02052189 </td><td>-0.001545799</td></tr>\n",
       "\t<tr><th scope=row>KEGG_PATHWAYS_IN_CANCER</th><td> 0.149187001</td><td>0.26005221  </td><td>0.1446066   </td><td>-0.3711191  </td><td> 0.01617304 </td><td>-0.10333749 </td><td>0.2198859   </td><td> 0.10979964 </td><td> 0.15949044 </td><td> 0.07639285 </td><td>...         </td><td>0.18356986  </td><td>0.10181424  </td><td>0.07523724  </td><td>-0.049833494</td><td> 0.03203449 </td><td> 0.09142723 </td><td> 0.07598851 </td><td>0.180064351 </td><td>-0.01190224 </td><td> 0.069583165</td></tr>\n",
       "\t<tr><th scope=row>KEGG_REGULATION_OF_ACTIN_CYTOSKELETON</th><td> 0.005913819</td><td>0.09199468  </td><td>0.2080648   </td><td>-0.2272912  </td><td> 0.05944449 </td><td>-0.02312019 </td><td>0.2759348   </td><td>-0.01856954 </td><td> 0.10803574 </td><td> 0.12737931 </td><td>...         </td><td>0.10010841  </td><td>0.04818373  </td><td>0.21643349  </td><td> 0.075111983</td><td> 0.03550157 </td><td> 0.30515004 </td><td>-0.03024186 </td><td>0.107809348 </td><td> 0.17359573 </td><td> 0.066135840</td></tr>\n",
       "</tbody>\n",
       "</table>\n"
      ],
      "text/latex": [
       "\\begin{tabular}{r|lllllllllllllllllllllllllllllllllllllllllllllllllllllllllllllllllllllllllllllllllllllllllllllllllllllllllllllllllllllllllllllllllllllllllllllllllllllllllllllllllllllllllllllllllllllllllllllllllllllllllllllll}\n",
       "  & CTG-0009 & CTG-0012 & CTG-0017 & CTG-0018 & CTG-0019 & CTG-0033 & CTG-0052 & CTG-0201 & CTG-0202 & CTG-0204 & ... & CTG-3498 & CTG-3500 & CTG-3501 & CTG-3502 & CTG-3503 & CTG-3533 & CTG-3537 & CTG-3570 & CTG-3581 & CTG-3610\\\\\n",
       "\\hline\n",
       "\tKEGG\\_ENDOCYTOSIS & -0.013696399 & 0.16661062   & 0.1127873    & -0.1329063   & -0.03146803  &  0.04713409  & 0.2544416    & -0.01818897  & -0.03838594  & -0.03660919  & ...          & 0.03570144   & 0.04185779   & 0.14033395   &  0.002500086 & -0.03195896  &  0.18299056  &  0.06764119  & 0.001165897  &  0.14448638  & -0.200139200\\\\\n",
       "\tKEGG\\_FOCAL\\_ADHESION &  0.160342510 & 0.41598675   & 0.2738396    & -0.1262938   & -0.16903475  & -0.08983858  & 0.3149048    &  0.29856033  &  0.38790018  &  0.18811588  & ...          & 0.37996325   & 0.09591346   & 0.16876891   &  0.251115756 & -0.03251614  & -0.26322671  & -0.20763891  & 0.424770716  &  0.02052189  & -0.001545799\\\\\n",
       "\tKEGG\\_PATHWAYS\\_IN\\_CANCER &  0.149187001 & 0.26005221   & 0.1446066    & -0.3711191   &  0.01617304  & -0.10333749  & 0.2198859    &  0.10979964  &  0.15949044  &  0.07639285  & ...          & 0.18356986   & 0.10181424   & 0.07523724   & -0.049833494 &  0.03203449  &  0.09142723  &  0.07598851  & 0.180064351  & -0.01190224  &  0.069583165\\\\\n",
       "\tKEGG\\_REGULATION\\_OF\\_ACTIN\\_CYTOSKELETON &  0.005913819 & 0.09199468   & 0.2080648    & -0.2272912   &  0.05944449  & -0.02312019  & 0.2759348    & -0.01856954  &  0.10803574  &  0.12737931  & ...          & 0.10010841   & 0.04818373   & 0.21643349   &  0.075111983 &  0.03550157  &  0.30515004  & -0.03024186  & 0.107809348  &  0.17359573  &  0.066135840\\\\\n",
       "\\end{tabular}\n"
      ],
      "text/markdown": [
       "\n",
       "| <!--/--> | CTG-0009 | CTG-0012 | CTG-0017 | CTG-0018 | CTG-0019 | CTG-0033 | CTG-0052 | CTG-0201 | CTG-0202 | CTG-0204 | ... | CTG-3498 | CTG-3500 | CTG-3501 | CTG-3502 | CTG-3503 | CTG-3533 | CTG-3537 | CTG-3570 | CTG-3581 | CTG-3610 |\n",
       "|---|---|---|---|---|---|---|---|---|---|---|---|---|---|---|---|---|---|---|---|---|---|\n",
       "| KEGG_ENDOCYTOSIS | -0.013696399 | 0.16661062   | 0.1127873    | -0.1329063   | -0.03146803  |  0.04713409  | 0.2544416    | -0.01818897  | -0.03838594  | -0.03660919  | ...          | 0.03570144   | 0.04185779   | 0.14033395   |  0.002500086 | -0.03195896  |  0.18299056  |  0.06764119  | 0.001165897  |  0.14448638  | -0.200139200 |\n",
       "| KEGG_FOCAL_ADHESION |  0.160342510 | 0.41598675   | 0.2738396    | -0.1262938   | -0.16903475  | -0.08983858  | 0.3149048    |  0.29856033  |  0.38790018  |  0.18811588  | ...          | 0.37996325   | 0.09591346   | 0.16876891   |  0.251115756 | -0.03251614  | -0.26322671  | -0.20763891  | 0.424770716  |  0.02052189  | -0.001545799 |\n",
       "| KEGG_PATHWAYS_IN_CANCER |  0.149187001 | 0.26005221   | 0.1446066    | -0.3711191   |  0.01617304  | -0.10333749  | 0.2198859    |  0.10979964  |  0.15949044  |  0.07639285  | ...          | 0.18356986   | 0.10181424   | 0.07523724   | -0.049833494 |  0.03203449  |  0.09142723  |  0.07598851  | 0.180064351  | -0.01190224  |  0.069583165 |\n",
       "| KEGG_REGULATION_OF_ACTIN_CYTOSKELETON |  0.005913819 | 0.09199468   | 0.2080648    | -0.2272912   |  0.05944449  | -0.02312019  | 0.2759348    | -0.01856954  |  0.10803574  |  0.12737931  | ...          | 0.10010841   | 0.04818373   | 0.21643349   |  0.075111983 |  0.03550157  |  0.30515004  | -0.03024186  | 0.107809348  |  0.17359573  |  0.066135840 |\n",
       "\n"
      ],
      "text/plain": [
       "                                      CTG-0009     CTG-0012   CTG-0017 \n",
       "KEGG_ENDOCYTOSIS                      -0.013696399 0.16661062 0.1127873\n",
       "KEGG_FOCAL_ADHESION                    0.160342510 0.41598675 0.2738396\n",
       "KEGG_PATHWAYS_IN_CANCER                0.149187001 0.26005221 0.1446066\n",
       "KEGG_REGULATION_OF_ACTIN_CYTOSKELETON  0.005913819 0.09199468 0.2080648\n",
       "                                      CTG-0018   CTG-0019    CTG-0033   \n",
       "KEGG_ENDOCYTOSIS                      -0.1329063 -0.03146803  0.04713409\n",
       "KEGG_FOCAL_ADHESION                   -0.1262938 -0.16903475 -0.08983858\n",
       "KEGG_PATHWAYS_IN_CANCER               -0.3711191  0.01617304 -0.10333749\n",
       "KEGG_REGULATION_OF_ACTIN_CYTOSKELETON -0.2272912  0.05944449 -0.02312019\n",
       "                                      CTG-0052  CTG-0201    CTG-0202   \n",
       "KEGG_ENDOCYTOSIS                      0.2544416 -0.01818897 -0.03838594\n",
       "KEGG_FOCAL_ADHESION                   0.3149048  0.29856033  0.38790018\n",
       "KEGG_PATHWAYS_IN_CANCER               0.2198859  0.10979964  0.15949044\n",
       "KEGG_REGULATION_OF_ACTIN_CYTOSKELETON 0.2759348 -0.01856954  0.10803574\n",
       "                                      CTG-0204    ... CTG-3498   CTG-3500  \n",
       "KEGG_ENDOCYTOSIS                      -0.03660919 ... 0.03570144 0.04185779\n",
       "KEGG_FOCAL_ADHESION                    0.18811588 ... 0.37996325 0.09591346\n",
       "KEGG_PATHWAYS_IN_CANCER                0.07639285 ... 0.18356986 0.10181424\n",
       "KEGG_REGULATION_OF_ACTIN_CYTOSKELETON  0.12737931 ... 0.10010841 0.04818373\n",
       "                                      CTG-3501   CTG-3502     CTG-3503   \n",
       "KEGG_ENDOCYTOSIS                      0.14033395  0.002500086 -0.03195896\n",
       "KEGG_FOCAL_ADHESION                   0.16876891  0.251115756 -0.03251614\n",
       "KEGG_PATHWAYS_IN_CANCER               0.07523724 -0.049833494  0.03203449\n",
       "KEGG_REGULATION_OF_ACTIN_CYTOSKELETON 0.21643349  0.075111983  0.03550157\n",
       "                                      CTG-3533    CTG-3537    CTG-3570   \n",
       "KEGG_ENDOCYTOSIS                       0.18299056  0.06764119 0.001165897\n",
       "KEGG_FOCAL_ADHESION                   -0.26322671 -0.20763891 0.424770716\n",
       "KEGG_PATHWAYS_IN_CANCER                0.09142723  0.07598851 0.180064351\n",
       "KEGG_REGULATION_OF_ACTIN_CYTOSKELETON  0.30515004 -0.03024186 0.107809348\n",
       "                                      CTG-3581    CTG-3610    \n",
       "KEGG_ENDOCYTOSIS                       0.14448638 -0.200139200\n",
       "KEGG_FOCAL_ADHESION                    0.02052189 -0.001545799\n",
       "KEGG_PATHWAYS_IN_CANCER               -0.01190224  0.069583165\n",
       "KEGG_REGULATION_OF_ACTIN_CYTOSKELETON  0.17359573  0.066135840"
      ]
     },
     "metadata": {},
     "output_type": "display_data"
    },
    {
     "name": "stdout",
     "output_type": "stream",
     "text": [
      "[1]   4 207\n"
     ]
    }
   ],
   "source": [
    "pdx_gsva <- GSVA::gsva(as.matrix(pdx_mat), geneset, \n",
    "                       min.sz=10, max.sz=500, method='ssgsea')\n",
    "pdx_gsva\n",
    "print(dim(pdx_gsva))"
   ]
  },
  {
   "cell_type": "markdown",
   "id": "59491e84",
   "metadata": {},
   "source": [
    "## Plotting"
   ]
  },
  {
   "cell_type": "code",
   "execution_count": 239,
   "id": "52a0eba3",
   "metadata": {},
   "outputs": [],
   "source": [
    "pdx_dat <- df %>% \n",
    "    select(c('gene', 'model_name', 'tumor_type', 'z'))\n",
    "cancertype <- unique(pdx_dat[c('model_name', 'tumor_type')])\n",
    "cancertype <- cancertype[order(cancertype[,'tumor_type']),]\n",
    "cancertype <- cancertype[cancertype[,'model_name'] %in% colnames(pdx_gsva),]\n",
    "cancertype[,'tumor_type'] <- as.factor(cancertype[,'tumor_type'])\n",
    "pdx_gsva <- pdx_gsva[, cancertype$model_name] # sort pdx_gsva to have the same order as cancertype for models\n",
    "pdx_cl <- copy(pdx_gsva)"
   ]
  },
  {
   "cell_type": "code",
   "execution_count": 250,
   "id": "25cf57a0",
   "metadata": {
    "scrolled": false
   },
   "outputs": [
    {
     "data": {
      "image/png": "[encoded data removed]",
      "text/plain": [
       "plot without title"
      ]
     },
     "metadata": {},
     "output_type": "display_data"
    }
   ],
   "source": [
    "# Change plot size\n",
    "options(repr.plot.width=10, repr.plot.height=4, repr.plot.res=300)\n",
    "# layout our plot\n",
    "graphics::layout(\n",
    "    matrix(c(1, 1, 2, 2, 2, 2, 2), nrow = 7))\n",
    "\n",
    "colorLegend <- hcl.colors(length(unique(cancertype$tumor_type)), \"viridis\")\n",
    "par(mar=c(0,17,3,1)+0.1)\n",
    "p1 <- image(\n",
    "    matrix(as.numeric(cancertype[,'tumor_type'])), \n",
    "    axes=FALSE, \n",
    "    ann=FALSE, \n",
    "    main=NA, \n",
    "    col=colorLegend\n",
    ")\n",
    "names(colorLegend) <- unique(cancertype$tumor_type)\n",
    "legend(\"top\", legend=names(colorLegend), fill=colorLegend, \n",
    "       ncol=ceiling(length(unique(cancertype$tumor_type))/2), cex=0.801, \n",
    "       y.intersp=2, x.intersp=0.1)\n",
    "\n",
    "par(mar=c(6,17,0,1)+0.1)\n",
    "# par(mar=c(0,0,0,0)+0.1)\n",
    "p2 <- image(x=0:ncol(pdx_cl), y=0:nrow(pdx_cl), z=t(pdx_cl), axes=FALSE, xlab=NA, ylab=NA)\n",
    "axis(2, at=1:nrow(pdx_cl)-0.5, labels=rownames(pdx_cl), las=2, cex.axis=0.8)\n",
    "axis(1, at=1:ncol(pdx_cl)-0.5, labels=colnames(pdx_cl), las=3, cex.axis=0.6)"
   ]
  }
 ],
 "metadata": {
  "kernelspec": {
   "display_name": "R",
   "language": "R",
   "name": "ir"
  },
  "language_info": {
   "codemirror_mode": "r",
   "file_extension": ".r",
   "mimetype": "text/x-r-source",
   "name": "R",
   "pygments_lexer": "r",
   "version": "3.6.1"
  }
 },
 "nbformat": 4,
 "nbformat_minor": 5
}
