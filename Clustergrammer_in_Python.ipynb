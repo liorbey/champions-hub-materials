{
 "cells": [
  {
   "cell_type": "markdown",
   "metadata": {},
   "source": [
    "# 1.0 Running Clustergrammer2\n",
    "This notebook demonstrates how Clustergrammer2 can be used to visualize two simple datasets. "
   ]
  },
  {
   "cell_type": "code",
   "execution_count": 1,
   "metadata": {},
   "outputs": [
    {
     "name": "stdout",
     "output_type": "stream",
     "text": [
      ">> clustergrammer2 backend version 0.16.0\n"
     ]
    }
   ],
   "source": [
    "import numpy as np\n",
    "import pandas as pd\n",
    "from clustergrammer2 import net, Network, CGM2\n",
    "import warnings\n",
    "warnings.filterwarnings('ignore')"
   ]
  },
  {
   "cell_type": "markdown",
   "metadata": {},
   "source": [
    "## Load Dataset \n",
    "Try replacing this dataset with your own, by uploading data through Jupyter Lab."
   ]
  },
  {
   "cell_type": "code",
   "execution_count": 2,
   "metadata": {},
   "outputs": [],
   "source": [
    "df = {}\n",
    "df['clean'] = pd.read_csv('../data/rc_two_cat_clean.csv', index_col=0)\n",
    "df['meta_col'] = pd.read_csv('../data/meta_col.csv', index_col=0)\n",
    "df['meta_cat'] = pd.read_csv('../data/meta_cat_col.csv', index_col=0)"
   ]
  },
  {
   "cell_type": "markdown",
   "metadata": {},
   "source": [
    "# View Toy Dataset"
   ]
  },
  {
   "cell_type": "code",
   "execution_count": 3,
   "metadata": {},
   "outputs": [
    {
     "data": {
      "application/vnd.jupyter.widget-view+json": {
       "model_id": "d0cf94fb1e904f21838f991ad716d43a",
       "version_major": 2,
       "version_minor": 0
      },
      "text/plain": [
       "CGM2(manual_cat='{\"col\": {\"col_cat_colors\": {\"Category: five\": \"#393b79\", \"Category: four\": \"#ff7f0e\", \"Catego…"
      ]
     },
     "metadata": {},
     "output_type": "display_data"
    }
   ],
   "source": [
    "net.load_df(df['clean'], meta_col=df['meta_col'])\n",
    "net.set_manual_category(col='Category', preferred_cats=df['meta_cat'])\n",
    "net.widget()"
   ]
  },
  {
   "cell_type": "markdown",
   "metadata": {},
   "source": [
    "## Generate Random Matrix"
   ]
  },
  {
   "cell_type": "code",
   "execution_count": 4,
   "metadata": {},
   "outputs": [
    {
     "data": {
      "text/plain": [
       "(50, 1000)"
      ]
     },
     "execution_count": 4,
     "metadata": {},
     "output_type": "execute_result"
    }
   ],
   "source": [
    "# generate random matrix\n",
    "num_cols = 1000\n",
    "num_rows = 50\n",
    "\n",
    "np.random.seed(seed=100)\n",
    "mat = np.random.rand(num_rows, num_cols)\n",
    "\n",
    "# make row and col labels\n",
    "rows = range(num_rows)\n",
    "cols = range(num_cols)\n",
    "rows = [str(i) for i in rows]\n",
    "cols = [str(i) for i in cols]\n",
    "\n",
    "# make dataframe \n",
    "df['rand'] = pd.DataFrame(data=mat, columns=cols, index=rows)\n",
    "df['rand'].shape"
   ]
  },
  {
   "cell_type": "code",
   "execution_count": 5,
   "metadata": {},
   "outputs": [
    {
     "data": {
      "application/vnd.jupyter.widget-view+json": {
       "model_id": "dd6cbad73b164847819b03851e3537b9",
       "version_major": 2,
       "version_minor": 0
      },
      "text/plain": [
       "CGM2(network='{\"row_nodes\": [{\"name\": \"0\", \"ini\": 50, \"clust\": 32, \"rank\": 19, \"rankvar\": 10}, {\"name\": \"1\", \"…"
      ]
     },
     "metadata": {},
     "output_type": "display_data"
    }
   ],
   "source": [
    "n2 = Network(CGM2)\n",
    "n2.load_df(df['rand'])\n",
    "n2.cluster()\n",
    "n2.widget()"
   ]
  },
  {
   "cell_type": "code",
   "execution_count": null,
   "metadata": {},
   "outputs": [],
   "source": []
  },
  {
   "cell_type": "code",
   "execution_count": null,
   "metadata": {},
   "outputs": [],
   "source": []
  },
  {
   "cell_type": "code",
   "execution_count": null,
   "metadata": {},
   "outputs": [],
   "source": []
  }
 ],
 "metadata": {
  "kernelspec": {
   "display_name": "Python 3",
   "language": "python",
   "name": "python3"
  },
  "language_info": {
   "codemirror_mode": {
    "name": "ipython",
    "version": 3
   },
   "file_extension": ".py",
   "mimetype": "text/x-python",
   "name": "python",
   "nbconvert_exporter": "python",
   "pygments_lexer": "ipython3",
   "version": "3.6.5"
  },
  "widgets": {
   "application/vnd.jupyter.widget-state+json": {
    "state": {
     "14cce5cffbd44e6bba4be9e49bf76abc": {
      "model_module": "@jupyter-widgets/base",
      "model_module_version": "1.2.0",
      "model_name": "LayoutModel",
      "state": {}
     },
     "28f458db0bdf4671aefcfdc0b331a1b8": {
      "model_module": "clustergrammer2",
      "model_module_version": "0.16.0",
      "model_name": "ExampleModel",
      "state": {
       "layout": "IPY_MODEL_2bdfd3ded9ad408fb1e0379a486effc9",
       "manual_cat": "{\"col\":\"\", \"row\":\"\"}",
       "mat_string": "ini_mat_string",
       "network": "{\"row_nodes\": [], \"col_nodes\": [], \"links\": [], \"mat\": [], \"cat_colors\": {\"row\": {}, \"col\": {}}, \"global_cat_colors\": {}, \"matrix_colors\": {\"pos\": \"red\", \"neg\": \"blue\"}, \"linkage\": {}, \"views\": []}",
       "value": "Hello World!"
      }
     }
    },
    "version_major": 2,
    "version_minor": 0
   }
  }
 },
 "nbformat": 4,
 "nbformat_minor": 4
}
