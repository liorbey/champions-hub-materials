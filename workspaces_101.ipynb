{
 "cells": [
  {
   "cell_type": "markdown",
   "metadata": {},
   "source": [
    "To install new Python dependencies use the ! command before running a pip install"
   ]
  },
  {
   "cell_type": "code",
   "execution_count": null,
   "metadata": {
    "pycharm": {
     "name": "#%%\n"
    }
   },
   "outputs": [],
   "source": [
    "# For example\n",
    "!pip install pandas"
   ]
  },
  {
   "cell_type": "markdown",
   "metadata": {},
   "source": [
    "Use the following cheat sheet for shortcut commands\n",
    "\n",
    "Command Mode (press Esc to enable)\n",
    "- Press 'Enter' to enter edit mode\n",
    "- Press 'Shift + Enter' to run a selected cell\n",
    "- Press 'Ctrl + Enter' to run cell\n",
    "Edit Mode (press Enter to enable)\n",
    "- Press 'Tab' for code completion or indent\n",
    "- Press 'Shift + Tab' for a\ttooltip\n",
    "- Press 'Ctrl + ]'\tfor indent"
   ]
  },
  {
   "cell_type": "code",
   "execution_count": null,
   "metadata": {
    "pycharm": {
     "name": "#%%\n"
    }
   },
   "outputs": [],
   "source": [
    "## free space to try these commands"
   ]
  },
  {
   "cell_type": "markdown",
   "metadata": {
    "pycharm": {
     "name": "#%% md\n"
    }
   },
   "source": [
    "You may upload, download or create any file in the filesystem. Use the Champions workstation as your bioinformatics tool to explore all the datasets offered by Champions. While ready to go enviornments are provided to you, feel free to download any packages you may need."
   ]
  }
 ],
 "metadata": {
  "kernelspec": {
   "display_name": "Python 3 (ipykernel)",
   "language": "python",
   "name": "python3"
  },
  "language_info": {
   "codemirror_mode": {
    "name": "ipython",
    "version": 3
   },
   "file_extension": ".py",
   "mimetype": "text/x-python",
   "name": "python",
   "nbconvert_exporter": "python",
   "pygments_lexer": "ipython3",
   "version": "3.8.12"
  }
 },
 "nbformat": 4,
 "nbformat_minor": 1
}
