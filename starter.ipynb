{
 "cells": [
  {
   "cell_type": "markdown",
   "metadata": {
    "pycharm": {
     "name": "#%% md\n"
    }
   },
   "source": [
    "To run a query on the champions database use the following scheme"
   ]
  },
  {
   "cell_type": "code",
   "execution_count": null,
   "metadata": {
    "pycharm": {
     "name": "#%%\n"
    }
   },
   "outputs": [],
   "source": [
    "import requests"
   ]
  },
  {
   "cell_type": "markdown",
   "metadata": {},
   "source": [
    "Request the data from the champions API available over the workstation network"
   ]
  },
  {
   "cell_type": "code",
   "execution_count": null,
   "metadata": {
    "pycharm": {
     "name": "#%%\n"
    }
   },
   "outputs": [],
   "source": [
    "data = {\n",
    "  \"request_data_type\": \"expression\",\n",
    "  \"request_cancer_type\": [\"all\"],\n",
    "  \"request_genes\": [\"AKT1\"],\n",
    "  \"request_models\": [\"CTG-0009\"],\n",
    "  \"request_dataset\": \"PDX\",\n",
    "  \"request_key\": \"your generated key\",\n",
    "  \"request_mode\": 'true'\n",
    "}\n",
    "response = requests.post('https://lumin-fast-api.championsoncology.com/workstation',json=data)"
   ]
  },
  {
   "cell_type": "markdown",
   "metadata": {},
   "source": [
    "The full set of models, cancer types, and genes are available within the requests folder."
   ]
  },
  {
   "cell_type": "markdown",
   "metadata": {},
   "source": [
    "An example of a request you could run:"
   ]
  },
  {
   "cell_type": "code",
   "execution_count": null,
   "metadata": {
    "pycharm": {
     "name": "#%%\n"
    }
   },
   "outputs": [],
   "source": [
    "data = {\n",
    "  \"request_data_type\": \"expression\",\n",
    "  \"request_cancer_type\": [\"all\"],\n",
    "  \"request_genes\": [\"AKT1\"],\n",
    "  \"request_models\": [\"CTG-0009\"],\n",
    "  \"request_dataset\": \"PDX\",\n",
    "  \"request_key\": \"<fill in your key here>\",\n",
    "  \"request_mode\": 'true'\n",
    "}\n",
    "response = requests.post('https://lumin-fast-api.championsoncology.com/workstation',json=data)"
   ]
  },
  {
   "cell_type": "code",
   "execution_count": null,
   "metadata": {
    "pycharm": {
     "name": "#%%\n"
    }
   },
   "outputs": [],
   "source": [
    "print(response.json())"
   ]
  },
  {
   "cell_type": "markdown",
   "metadata": {},
   "source": [
    "The response object will be returned as json and is generated into your root folder structure"
   ]
  },
  {
   "cell_type": "code",
   "execution_count": null,
   "metadata": {
    "pycharm": {
     "name": "#%%\n"
    }
   },
   "outputs": [],
   "source": [
    "[{\"v1\":12542076,\"gene_id\":\"ENSG00000142208\",\"log.rsem.rpkm\":\"5.92682228739914\",\"log.tpm\":\"6.50015325228395\",\"z\":\"0.06432156228114\",\"fold\":\"1.00825623784295\",\"trans\":\"ENST00000407796:92%\",\"model\":\"CTG-2067\",\"sort_key\":\"CTG-2067_Expression_1\",\"gene\":\"AKT1\",\"partition_0\":\"CTG-2067\"},{\"v1\":2946545,\"gene_id\":\"ENSG00000142208\",\"log.rsem.rpkm\":\"6.00143443992071\",\"log.tpm\":\"6.96288606798328\",\"z\":\"0.163207143461503\",\"fold\":\"1.02094907129583\",\"trans\":\"ENST00000407796:57.93%\",\"model\":\"CTG-0436\",\"sort_key\":\"CTG-0436_Expression_1\",\"gene\":\"AKT1\"}]"
   ]
  },
  {
   "cell_type": "markdown",
   "metadata": {},
   "source": [
    "Import the pandas library"
   ]
  },
  {
   "cell_type": "code",
   "execution_count": null,
   "metadata": {
    "pycharm": {
     "name": "#%%\n"
    }
   },
   "outputs": [],
   "source": [
    "import pandas as pd"
   ]
  },
  {
   "cell_type": "markdown",
   "metadata": {
    "pycharm": {
     "name": "#%% md\n"
    }
   },
   "source": [
    "Load your data into a pandas dataframe"
   ]
  },
  {
   "cell_type": "code",
   "execution_count": null,
   "metadata": {
    "pycharm": {
     "name": "#%%\n"
    }
   },
   "outputs": [],
   "source": [
    "#df = pd.read_json('../<requested data file name>')\n",
    "\n",
    "sample_json = [{\"v1\":12542076,\"gene_id\":\"ENSG00000142208\",\"log.rsem.rpkm\":\"5.92682228739914\",\"log.tpm\":\"6.50015325228395\",\"z\":\"0.06432156228114\",\"fold\":\"1.00825623784295\",\"trans\":\"ENST00000407796:92%\",\"model\":\"CTG-2067\",\"sort_key\":\"CTG-2067_Expression_1\",\"gene\":\"AKT1\",\"partition_0\":\"CTG-2067\"},{\"v1\":2946545,\"gene_id\":\"ENSG00000142208\",\"log.rsem.rpkm\":\"6.00143443992071\",\"log.tpm\":\"6.96288606798328\",\"z\":\"0.163207143461503\",\"fold\":\"1.02094907129583\",\"trans\":\"ENST00000407796:57.93%\",\"model\":\"CTG-0436\",\"sort_key\":\"CTG-0436_Expression_1\",\"gene\":\"AKT1\"}]\n",
    "\n",
    "df2 = pd.read_json(sample_json)\n",
    "\n",
    "print(df2)"
   ]
  }
 ],
 "metadata": {
  "kernelspec": {
   "display_name": "Python 3 (ipykernel)",
   "language": "python",
   "name": "python3"
  },
  "language_info": {
   "codemirror_mode": {
    "name": "ipython",
    "version": 3
   },
   "file_extension": ".py",
   "mimetype": "text/x-python",
   "name": "python",
   "nbconvert_exporter": "python",
   "pygments_lexer": "ipython3",
   "version": "3.9.6"
  }
 },
 "nbformat": 4,
 "nbformat_minor": 1
}
