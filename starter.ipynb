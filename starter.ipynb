{
 "cells": [
  {
   "cell_type": "code",
   "execution_count": null,
   "metadata": {
    "collapsed": true
   },
   "outputs": [],
   "source": [
    "#To run a query on the champions database use the following scheme:\n",
    "import requests\n",
    "\n",
    "response = requests.get('https://<luminapi>.com',params={\n",
    "    'request_data_type': 'Choose from expression/mutation/..',\n",
    "    'request_cancer_type': 'Choose a cancer type',\n",
    "    'request_genes': '[Choose a list of genes]',\n",
    "    'request_models': '[Choose a list of models]',\n",
    "    'request_dataset': 'Choose from champions PDX or any of our public dataset offeirngs CPTAC/GEO/TCGA',\n",
    "    'request_key': 'Enter your private champions API key',\n",
    "    'request_mode': 'Boolean, choose True/False based off whether you would like to get charged for the query and recieve the full set of data'\n",
    "})\n",
    "\n",
    "#A sample request looks like so:\n",
    "\n",
    "response = requests.get('https://<luminapi>.com',params={\n",
    "    'request_data_type': 'expression',\n",
    "    'request_cancer_type': 'lung',\n",
    "    'request_genes': '[AKT1,BRCA1]',\n",
    "    'request_models': '[CTG-0009]',\n",
    "    'request_dataset': 'PDX',\n",
    "    'request_key': 'your_private_key',\n",
    "    'request_mode': True\n",
    "})\n",
    "\n",
    "#The response object will look like so:\n"
   ]
  }
 ],
 "metadata": {
  "kernelspec": {
   "display_name": "Python 2",
   "language": "python",
   "name": "python2"
  },
  "language_info": {
   "codemirror_mode": {
    "name": "ipython",
    "version": 2
   },
   "file_extension": ".py",
   "mimetype": "text/x-python",
   "name": "python",
   "nbconvert_exporter": "python",
   "pygments_lexer": "ipython2",
   "version": "2.7.6"
  }
 },
 "nbformat": 4,
 "nbformat_minor": 0
}