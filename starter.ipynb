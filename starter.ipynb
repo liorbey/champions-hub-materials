{
 "cells": [
  {
   "cell_type": "code",
   "execution_count": null,
   "metadata": {
    "collapsed": true
   },
   "outputs": [],
   "source": []
  },
  {
   "cell_type": "markdown",
   "source": [
    "To run a query on the champions database use the following scheme"
   ],
   "metadata": {
    "collapsed": false,
    "pycharm": {
     "name": "#%% md\n"
    }
   }
  },
  {
   "cell_type": "code",
   "execution_count": null,
   "outputs": [],
   "source": [
    "import requests"
   ],
   "metadata": {
    "collapsed": false,
    "pycharm": {
     "name": "#%%\n"
    }
   }
  },
  {
   "cell_type": "markdown",
   "source": [
    "Request the data from the champions API available over the workstation network"
   ],
   "metadata": {
    "collapsed": false
   }
  },
  {
   "cell_type": "code",
   "execution_count": null,
   "outputs": [],
   "source": [
    "response = requests.get('https://<luminapi>.com',params={\n",
    "    'request_data_type': 'Choose from expression/mutation/..',\n",
    "    'request_cancer_type': 'Choose a cancer type',\n",
    "    'request_genes': '[Choose a list of genes]',\n",
    "    'request_models': '[Choose a list of models]',\n",
    "    'request_dataset': 'Choose from champions PDX or any of our public dataset offeirngs CPTAC/GEO/TCGA',\n",
    "    'request_key': 'Enter your API key generated from the token page on the workstation',\n",
    "    'request_mode': 'Boolean, choose True/False based off whether you would like to get charged for the query and recieve the full set of data'\n",
    "})"
   ],
   "metadata": {
    "collapsed": false,
    "pycharm": {
     "name": "#%%\n"
    }
   }
  },
  {
   "cell_type": "markdown",
   "source": [
    "An example of a request you could run:"
   ],
   "metadata": {
    "collapsed": false
   }
  },
  {
   "cell_type": "code",
   "execution_count": null,
   "outputs": [],
   "source": [
    "response = requests.get('https://<luminapi>.com',params={\n",
    "    'request_data_type': 'expression',\n",
    "    'request_cancer_type': 'lung',\n",
    "    'request_genes': '[AKT1]',\n",
    "    'request_models': '[CTG-0009]',\n",
    "    'request_dataset': 'PDX',\n",
    "    'request_key': 'your_private_key',\n",
    "    'request_mode': True\n",
    "})"
   ],
   "metadata": {
    "collapsed": false,
    "pycharm": {
     "name": "#%%\n"
    }
   }
  },
  {
   "cell_type": "markdown",
   "source": [
    "The response object will be returned as json and is generated into your root folder structure"
   ],
   "metadata": {
    "collapsed": false
   }
  },
  {
   "cell_type": "code",
   "execution_count": null,
   "outputs": [],
   "source": [
    "[{\"v1\":12542076,\"gene_id\":\"ENSG00000142208\",\"log.rsem.rpkm\":\"5.92682228739914\",\"log.tpm\":\"6.50015325228395\",\"z\":\"0.06432156228114\",\"fold\":\"1.00825623784295\",\"trans\":\"ENST00000407796:92%\",\"model\":\"CTG-2067\",\"sort_key\":\"CTG-2067_Expression_1\",\"gene\":\"AKT1\",\"partition_0\":\"CTG-2067\"},{\"v1\":2946545,\"gene_id\":\"ENSG00000142208\",\"log.rsem.rpkm\":\"6.00143443992071\",\"log.tpm\":\"6.96288606798328\",\"z\":\"0.163207143461503\",\"fold\":\"1.02094907129583\",\"trans\":\"ENST00000407796:57.93%\",\"model\":\"CTG-0436\",\"sort_key\":\"CTG-0436_Expression_1\",\"gene\":\"AKT1\"}]"
   ],
   "metadata": {
    "collapsed": false,
    "pycharm": {
     "name": "#%%\n"
    }
   }
  },
  {
   "cell_type": "markdown",
   "source": [
    "Load your data into a pandas dataframe"
   ],
   "metadata": {
    "collapsed": false,
    "pycharm": {
     "name": "#%% md\n"
    }
   }
  },
  {
   "cell_type": "code",
   "execution_count": null,
   "outputs": [],
   "source": [
    "df = pd.read_json('./requested_data.json')\n",
    "\n",
    "sample_json = [{\"v1\":12542076,\"gene_id\":\"ENSG00000142208\",\"log.rsem.rpkm\":\"5.92682228739914\",\"log.tpm\":\"6.50015325228395\",\"z\":\"0.06432156228114\",\"fold\":\"1.00825623784295\",\"trans\":\"ENST00000407796:92%\",\"model\":\"CTG-2067\",\"sort_key\":\"CTG-2067_Expression_1\",\"gene\":\"AKT1\",\"partition_0\":\"CTG-2067\"},{\"v1\":2946545,\"gene_id\":\"ENSG00000142208\",\"log.rsem.rpkm\":\"6.00143443992071\",\"log.tpm\":\"6.96288606798328\",\"z\":\"0.163207143461503\",\"fold\":\"1.02094907129583\",\"trans\":\"ENST00000407796:57.93%\",\"model\":\"CTG-0436\",\"sort_key\":\"CTG-0436_Expression_1\",\"gene\":\"AKT1\"}]\n",
    "\n",
    "df2 = pd.read_json(sample_json)"
   ],
   "metadata": {
    "collapsed": false,
    "pycharm": {
     "name": "#%%\n"
    }
   }
  }
 ],
 "metadata": {
  "kernelspec": {
   "display_name": "Python 2",
   "language": "python",
   "name": "python2"
  },
  "language_info": {
   "codemirror_mode": {
    "name": "ipython",
    "version": 2
   },
   "file_extension": ".py",
   "mimetype": "text/x-python",
   "name": "python",
   "nbconvert_exporter": "python",
   "pygments_lexer": "ipython2",
   "version": "2.7.6"
  }
 },
 "nbformat": 4,
 "nbformat_minor": 0
}