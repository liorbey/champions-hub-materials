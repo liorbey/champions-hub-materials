{
 "cells": [
  {
   "cell_type": "markdown",
   "id": "118c0412",
   "metadata": {},
   "source": [
    "- title: \"Differential Protein Expression\"\n",
    "- author: \"Margaret Paiva\"\n",
    "- author: \"Gilad Silberberg\"\n",
    "- date: \"2021/12/21\"\n",
    "- output: R notebook"
   ]
  },
  {
   "cell_type": "code",
   "execution_count": 14,
   "id": "4213d51f",
   "metadata": {},
   "outputs": [],
   "source": [
    "# cran packages\n",
    "x <- c('dplyr',\n",
    "       'data.table',\n",
    "       'tidyr',   \n",
    "       'tidyverse', \n",
    "       'ggplot2', \n",
    "       'viridis')\n",
    "# bioconductor packages\n",
    "y <- c('DEP', \n",
    "       'SummarizedExperiment')"
   ]
  },
  {
   "cell_type": "code",
   "execution_count": 47,
   "id": "21b58119",
   "metadata": {},
   "outputs": [],
   "source": [
    "# # install bioconductor packages\n",
    "# if (!requireNamespace(\"BiocManager\", quietly=TRUE))\n",
    "#     install.packages(\"BiocManager\")\n",
    "# BiocManager::install(y)"
   ]
  },
  {
   "cell_type": "code",
   "execution_count": 14,
   "id": "0aa4af72",
   "metadata": {},
   "outputs": [],
   "source": [
    "# # install cran packages\n",
    "# for (pkg in x) {\n",
    "#     if (!pkg %in% rownames(installed.packages())) {install.packages(pkg)}\n",
    "# }"
   ]
  },
  {
   "cell_type": "code",
   "execution_count": 17,
   "id": "3f8faeef",
   "metadata": {},
   "outputs": [],
   "source": [
    "# load packages\n",
    "load_lib <- function(x) {\n",
    "    suppressPackageStartupMessages(library(x, character.only = TRUE))\n",
    "}\n",
    "invisible(lapply(c(x, y), load_lib)) # remove invisible() to see which packages are loaded"
   ]
  },
  {
   "cell_type": "markdown",
   "id": "63292a23",
   "metadata": {},
   "source": [
    "## Data\n",
    "\n",
    "The SummarizedExperiment object has a couple of specifications. The log2-transformed assay data and the specified rowData and colData columns are prerequisites for the subsequent analysis steps.\n",
    "- The assay data is log2-transformed. \n",
    "- Its rownames depict the protein/gene names. The rowData contains, amongst others, the ‘name’ and ‘ID’ columns.\n",
    "- The colData contains the experimental design and thereby the sample annotation. Thereby the colData includes the ‘label’, ‘condition’ and ‘replicate’ columns as well as a newly generated ‘ID’ column.  "
   ]
  },
  {
   "cell_type": "code",
   "execution_count": 74,
   "id": "dc72f4b0",
   "metadata": {},
   "outputs": [],
   "source": [
    "data <- readRDS('./data/AMLproteomics_imp_norm_se_list2021-04-06.rds')\n",
    "data <- data$conservative  # choose conservative or lenient\n",
    "colData(data) <- subset(colData(data), select = -c(condition, replicate)) \n",
    "names(colData(data))[names(colData(data)) == 'Treatment.history'] <- 'condition'\n",
    "colData(data)$replicate <- colData(data)$ID   "
   ]
  },
  {
   "cell_type": "code",
   "execution_count": 75,
   "id": "44c42ea5",
   "metadata": {},
   "outputs": [
    {
     "data": {
      "text/plain": [
       "class: SummarizedExperiment \n",
       "dim: 2885 46 \n",
       "metadata(0):\n",
       "assays(1): ''\n",
       "rownames(2885): A2M A8MWD9 ... ZW10 ZYX\n",
       "rowData names(6): hgnc_symbol ProteinGroupId ... imputed num_NAs\n",
       "colnames(46): CTG_2226 CTG_2227 ... CTG_3679 CTG_3680\n",
       "colData names(25): ID model_id ... label replicate"
      ]
     },
     "metadata": {},
     "output_type": "display_data"
    }
   ],
   "source": [
    "# This is the annotated data formate (SummarizedExperiment object) in R\n",
    "# equivalent to AnnData in Python\n",
    "data"
   ]
  },
  {
   "cell_type": "code",
   "execution_count": 76,
   "id": "ac980f7a",
   "metadata": {},
   "outputs": [
    {
     "data": {
      "text/html": [
       "<style>\n",
       ".list-inline {list-style: none; margin:0; padding: 0}\n",
       ".list-inline>li {display: inline-block}\n",
       ".list-inline>li:not(:last-child)::after {content: \"\\00b7\"; padding: 0 .5ex}\n",
       "</style>\n",
       "<ol class=list-inline><li>2885</li><li>46</li></ol>\n"
      ],
      "text/latex": [
       "\\begin{enumerate*}\n",
       "\\item 2885\n",
       "\\item 46\n",
       "\\end{enumerate*}\n"
      ],
      "text/markdown": [
       "1. 2885\n",
       "2. 46\n",
       "\n",
       "\n"
      ],
      "text/plain": [
       "[1] 2885   46"
      ]
     },
     "metadata": {},
     "output_type": "display_data"
    },
    {
     "data": {
      "text/html": [
       "<table class=\"dataframe\">\n",
       "<caption>A matrix: 2 × 46 of type dbl</caption>\n",
       "<thead>\n",
       "\t<tr><th></th><th scope=col>CTG_2226</th><th scope=col>CTG_2227</th><th scope=col>CTG_2228</th><th scope=col>CTG_2229</th><th scope=col>CTG_2232</th><th scope=col>CTG_2233</th><th scope=col>CTG_2234</th><th scope=col>CTG_2235</th><th scope=col>CTG_2236</th><th scope=col>CTG_2238</th><th scope=col>...</th><th scope=col>CTG_3659</th><th scope=col>CTG_3660</th><th scope=col>CTG_3661</th><th scope=col>CTG_3663</th><th scope=col>CTG_3667</th><th scope=col>CTG_3670</th><th scope=col>CTG_3673</th><th scope=col>CTG_3674</th><th scope=col>CTG_3679</th><th scope=col>CTG_3680</th></tr>\n",
       "</thead>\n",
       "<tbody>\n",
       "\t<tr><th scope=row>A2M</th><td>15.386</td><td>15.65601</td><td>16.38401</td><td>14.84999</td><td>15.84399</td><td>13.96596</td><td>13.74704</td><td>12.77808</td><td>14.961</td><td>16.10501</td><td>...</td><td>14.16703</td><td>14.633</td><td>14.19599</td><td>14.85599</td><td>18.291</td><td>16.511</td><td>16.103</td><td>13.30307</td><td>16.764</td><td>14.975</td></tr>\n",
       "\t<tr><th scope=row>A8MWD9</th><td>18.122</td><td>18.84500</td><td>18.90100</td><td>19.04300</td><td>18.11900</td><td>18.30000</td><td>18.77900</td><td>18.71000</td><td>19.251</td><td>18.82300</td><td>...</td><td>18.22900</td><td>18.100</td><td>18.99500</td><td>18.63300</td><td>18.498</td><td>18.798</td><td>18.729</td><td>18.82300</td><td>18.432</td><td>18.730</td></tr>\n",
       "</tbody>\n",
       "</table>\n"
      ],
      "text/latex": [
       "A matrix: 2 × 46 of type dbl\n",
       "\\begin{tabular}{r|lllllllllllllllllllll}\n",
       "  & CTG\\_2226 & CTG\\_2227 & CTG\\_2228 & CTG\\_2229 & CTG\\_2232 & CTG\\_2233 & CTG\\_2234 & CTG\\_2235 & CTG\\_2236 & CTG\\_2238 & ... & CTG\\_3659 & CTG\\_3660 & CTG\\_3661 & CTG\\_3663 & CTG\\_3667 & CTG\\_3670 & CTG\\_3673 & CTG\\_3674 & CTG\\_3679 & CTG\\_3680\\\\\n",
       "\\hline\n",
       "\tA2M & 15.386 & 15.65601 & 16.38401 & 14.84999 & 15.84399 & 13.96596 & 13.74704 & 12.77808 & 14.961 & 16.10501 & ... & 14.16703 & 14.633 & 14.19599 & 14.85599 & 18.291 & 16.511 & 16.103 & 13.30307 & 16.764 & 14.975\\\\\n",
       "\tA8MWD9 & 18.122 & 18.84500 & 18.90100 & 19.04300 & 18.11900 & 18.30000 & 18.77900 & 18.71000 & 19.251 & 18.82300 & ... & 18.22900 & 18.100 & 18.99500 & 18.63300 & 18.498 & 18.798 & 18.729 & 18.82300 & 18.432 & 18.730\\\\\n",
       "\\end{tabular}\n"
      ],
      "text/markdown": [
       "\n",
       "A matrix: 2 × 46 of type dbl\n",
       "\n",
       "| <!--/--> | CTG_2226 | CTG_2227 | CTG_2228 | CTG_2229 | CTG_2232 | CTG_2233 | CTG_2234 | CTG_2235 | CTG_2236 | CTG_2238 | ... | CTG_3659 | CTG_3660 | CTG_3661 | CTG_3663 | CTG_3667 | CTG_3670 | CTG_3673 | CTG_3674 | CTG_3679 | CTG_3680 |\n",
       "|---|---|---|---|---|---|---|---|---|---|---|---|---|---|---|---|---|---|---|---|---|---|\n",
       "| A2M | 15.386 | 15.65601 | 16.38401 | 14.84999 | 15.84399 | 13.96596 | 13.74704 | 12.77808 | 14.961 | 16.10501 | ... | 14.16703 | 14.633 | 14.19599 | 14.85599 | 18.291 | 16.511 | 16.103 | 13.30307 | 16.764 | 14.975 |\n",
       "| A8MWD9 | 18.122 | 18.84500 | 18.90100 | 19.04300 | 18.11900 | 18.30000 | 18.77900 | 18.71000 | 19.251 | 18.82300 | ... | 18.22900 | 18.100 | 18.99500 | 18.63300 | 18.498 | 18.798 | 18.729 | 18.82300 | 18.432 | 18.730 |\n",
       "\n"
      ],
      "text/plain": [
       "       CTG_2226 CTG_2227 CTG_2228 CTG_2229 CTG_2232 CTG_2233 CTG_2234 CTG_2235\n",
       "A2M    15.386   15.65601 16.38401 14.84999 15.84399 13.96596 13.74704 12.77808\n",
       "A8MWD9 18.122   18.84500 18.90100 19.04300 18.11900 18.30000 18.77900 18.71000\n",
       "       CTG_2236 CTG_2238 ... CTG_3659 CTG_3660 CTG_3661 CTG_3663 CTG_3667\n",
       "A2M    14.961   16.10501 ... 14.16703 14.633   14.19599 14.85599 18.291  \n",
       "A8MWD9 19.251   18.82300 ... 18.22900 18.100   18.99500 18.63300 18.498  \n",
       "       CTG_3670 CTG_3673 CTG_3674 CTG_3679 CTG_3680\n",
       "A2M    16.511   16.103   13.30307 16.764   14.975  \n",
       "A8MWD9 18.798   18.729   18.82300 18.432   18.730  "
      ]
     },
     "metadata": {},
     "output_type": "display_data"
    }
   ],
   "source": [
    "# assay data\n",
    "dim(assay(data))\n",
    "head(assay(data), 2)"
   ]
  },
  {
   "cell_type": "code",
   "execution_count": 77,
   "id": "3dc42b8d",
   "metadata": {},
   "outputs": [
    {
     "data": {
      "text/html": [
       "<style>\n",
       ".list-inline {list-style: none; margin:0; padding: 0}\n",
       ".list-inline>li {display: inline-block}\n",
       ".list-inline>li:not(:last-child)::after {content: \"\\00b7\"; padding: 0 .5ex}\n",
       "</style>\n",
       "<ol class=list-inline><li>2885</li><li>6</li></ol>\n"
      ],
      "text/latex": [
       "\\begin{enumerate*}\n",
       "\\item 2885\n",
       "\\item 6\n",
       "\\end{enumerate*}\n"
      ],
      "text/markdown": [
       "1. 2885\n",
       "2. 6\n",
       "\n",
       "\n"
      ],
      "text/plain": [
       "[1] 2885    6"
      ]
     },
     "metadata": {},
     "output_type": "display_data"
    },
    {
     "data": {
      "text/html": [
       "<table class=\"dataframe\">\n",
       "<caption>A data.frame: 1 × 6</caption>\n",
       "<thead>\n",
       "\t<tr><th></th><th scope=col>hgnc_symbol</th><th scope=col>ProteinGroupId</th><th scope=col>ID</th><th scope=col>name</th><th scope=col>imputed</th><th scope=col>num_NAs</th></tr>\n",
       "\t<tr><th></th><th scope=col>&lt;chr&gt;</th><th scope=col>&lt;chr&gt;</th><th scope=col>&lt;chr&gt;</th><th scope=col>&lt;chr&gt;</th><th scope=col>&lt;lgl&gt;</th><th scope=col>&lt;dbl&gt;</th></tr>\n",
       "</thead>\n",
       "<tbody>\n",
       "\t<tr><th scope=row>A2M</th><td>A2M</td><td>P01023</td><td>P01023</td><td>A2M</td><td>FALSE</td><td>0</td></tr>\n",
       "</tbody>\n",
       "</table>\n"
      ],
      "text/latex": [
       "A data.frame: 1 × 6\n",
       "\\begin{tabular}{r|llllll}\n",
       "  & hgnc\\_symbol & ProteinGroupId & ID & name & imputed & num\\_NAs\\\\\n",
       "  & <chr> & <chr> & <chr> & <chr> & <lgl> & <dbl>\\\\\n",
       "\\hline\n",
       "\tA2M & A2M & P01023 & P01023 & A2M & FALSE & 0\\\\\n",
       "\\end{tabular}\n"
      ],
      "text/markdown": [
       "\n",
       "A data.frame: 1 × 6\n",
       "\n",
       "| <!--/--> | hgnc_symbol &lt;chr&gt; | ProteinGroupId &lt;chr&gt; | ID &lt;chr&gt; | name &lt;chr&gt; | imputed &lt;lgl&gt; | num_NAs &lt;dbl&gt; |\n",
       "|---|---|---|---|---|---|---|\n",
       "| A2M | A2M | P01023 | P01023 | A2M | FALSE | 0 |\n",
       "\n"
      ],
      "text/plain": [
       "    hgnc_symbol ProteinGroupId ID     name imputed num_NAs\n",
       "A2M A2M         P01023         P01023 A2M  FALSE   0      "
      ]
     },
     "metadata": {},
     "output_type": "display_data"
    }
   ],
   "source": [
    "# row info\n",
    "dim(rowData(data))\n",
    "head(as.data.frame(rowData(data)), 1)"
   ]
  },
  {
   "cell_type": "code",
   "execution_count": 78,
   "id": "2f67322e",
   "metadata": {
    "scrolled": false
   },
   "outputs": [
    {
     "data": {
      "text/html": [
       "<style>\n",
       ".list-inline {list-style: none; margin:0; padding: 0}\n",
       ".list-inline>li {display: inline-block}\n",
       ".list-inline>li:not(:last-child)::after {content: \"\\00b7\"; padding: 0 .5ex}\n",
       "</style>\n",
       "<ol class=list-inline><li>46</li><li>25</li></ol>\n"
      ],
      "text/latex": [
       "\\begin{enumerate*}\n",
       "\\item 46\n",
       "\\item 25\n",
       "\\end{enumerate*}\n"
      ],
      "text/markdown": [
       "1. 46\n",
       "2. 25\n",
       "\n",
       "\n"
      ],
      "text/plain": [
       "[1] 46 25"
      ]
     },
     "metadata": {},
     "output_type": "display_data"
    },
    {
     "data": {
      "text/html": [
       "<table class=\"dataframe\">\n",
       "<caption>A data.frame: 1 × 25</caption>\n",
       "<thead>\n",
       "\t<tr><th></th><th scope=col>ID</th><th scope=col>model_id</th><th scope=col>Age</th><th scope=col>BCR.ABL.status</th><th scope=col>CD34.status</th><th scope=col>Cytogenetics</th><th scope=col>Diagnosis</th><th scope=col>Ethnicity</th><th scope=col>FAB.classification.WHO.subtype</th><th scope=col>FLT3.status</th><th scope=col>...</th><th scope=col>Model.status</th><th scope=col>NPM.status</th><th scope=col>Platelet.count..x103.ml.</th><th scope=col>Sample.source</th><th scope=col>condition</th><th scope=col>Tumor.type</th><th scope=col>TumorGraft.ID</th><th scope=col>White.blood.cell.count..x109.L.</th><th scope=col>label</th><th scope=col>replicate</th></tr>\n",
       "\t<tr><th></th><th scope=col>&lt;chr&gt;</th><th scope=col>&lt;fct&gt;</th><th scope=col>&lt;dbl&gt;</th><th scope=col>&lt;fct&gt;</th><th scope=col>&lt;fct&gt;</th><th scope=col>&lt;fct&gt;</th><th scope=col>&lt;fct&gt;</th><th scope=col>&lt;chr&gt;</th><th scope=col>&lt;fct&gt;</th><th scope=col>&lt;fct&gt;</th><th scope=col>...</th><th scope=col>&lt;fct&gt;</th><th scope=col>&lt;chr&gt;</th><th scope=col>&lt;fct&gt;</th><th scope=col>&lt;fct&gt;</th><th scope=col>&lt;chr&gt;</th><th scope=col>&lt;fct&gt;</th><th scope=col>&lt;fct&gt;</th><th scope=col>&lt;dbl&gt;</th><th scope=col>&lt;chr&gt;</th><th scope=col>&lt;chr&gt;</th></tr>\n",
       "</thead>\n",
       "<tbody>\n",
       "\t<tr><th scope=row>CTG_2226</th><td>CTG_2226</td><td>2226</td><td>52</td><td>NA</td><td>CD34-</td><td>46, XY, ADD(6)(P21), DEL(8)(P21), ADD(12)(Q24.1) [13]/46, XY, DEL(1)(Q32), DEL(7)(Q22Q32), DER(6;12)(Q10;P10), ADD(22)(Q11.2), +MAR [3]/45, XY, T(1;2)(P22;Q11.2), -21 [1]/46, XY [3]</td><td>REFRACTORY</td><td>CAUCASIAN</td><td>M4 (MYELOMONOCYTIC)</td><td>ITD MUTANT</td><td>...</td><td>ESTABLISHED</td><td>WILD TYPE</td><td>23</td><td>LEUKAPHERESIS</td><td>PRETREATED</td><td>ACUTE MYELOID LEUKEMIA (AML)</td><td>NA</td><td>113</td><td>CTG_2226</td><td>CTG_2226</td></tr>\n",
       "</tbody>\n",
       "</table>\n"
      ],
      "text/latex": [
       "A data.frame: 1 × 25\n",
       "\\begin{tabular}{r|lllllllllllllllllllll}\n",
       "  & ID & model\\_id & Age & BCR.ABL.status & CD34.status & Cytogenetics & Diagnosis & Ethnicity & FAB.classification.WHO.subtype & FLT3.status & ... & Model.status & NPM.status & Platelet.count..x103.ml. & Sample.source & condition & Tumor.type & TumorGraft.ID & White.blood.cell.count..x109.L. & label & replicate\\\\\n",
       "  & <chr> & <fct> & <dbl> & <fct> & <fct> & <fct> & <fct> & <chr> & <fct> & <fct> & ... & <fct> & <chr> & <fct> & <fct> & <chr> & <fct> & <fct> & <dbl> & <chr> & <chr>\\\\\n",
       "\\hline\n",
       "\tCTG\\_2226 & CTG\\_2226 & 2226 & 52 & NA & CD34- & 46, XY, ADD(6)(P21), DEL(8)(P21), ADD(12)(Q24.1) {[}13{]}/46, XY, DEL(1)(Q32), DEL(7)(Q22Q32), DER(6;12)(Q10;P10), ADD(22)(Q11.2), +MAR {[}3{]}/45, XY, T(1;2)(P22;Q11.2), -21 {[}1{]}/46, XY {[}3{]} & REFRACTORY & CAUCASIAN & M4 (MYELOMONOCYTIC) & ITD MUTANT & ... & ESTABLISHED & WILD TYPE & 23 & LEUKAPHERESIS & PRETREATED & ACUTE MYELOID LEUKEMIA (AML) & NA & 113 & CTG\\_2226 & CTG\\_2226\\\\\n",
       "\\end{tabular}\n"
      ],
      "text/markdown": [
       "\n",
       "A data.frame: 1 × 25\n",
       "\n",
       "| <!--/--> | ID &lt;chr&gt; | model_id &lt;fct&gt; | Age &lt;dbl&gt; | BCR.ABL.status &lt;fct&gt; | CD34.status &lt;fct&gt; | Cytogenetics &lt;fct&gt; | Diagnosis &lt;fct&gt; | Ethnicity &lt;chr&gt; | FAB.classification.WHO.subtype &lt;fct&gt; | FLT3.status &lt;fct&gt; | ... ... | Model.status &lt;fct&gt; | NPM.status &lt;chr&gt; | Platelet.count..x103.ml. &lt;fct&gt; | Sample.source &lt;fct&gt; | condition &lt;chr&gt; | Tumor.type &lt;fct&gt; | TumorGraft.ID &lt;fct&gt; | White.blood.cell.count..x109.L. &lt;dbl&gt; | label &lt;chr&gt; | replicate &lt;chr&gt; |\n",
       "|---|---|---|---|---|---|---|---|---|---|---|---|---|---|---|---|---|---|---|---|---|---|\n",
       "| CTG_2226 | CTG_2226 | 2226 | 52 | NA | CD34- | 46, XY, ADD(6)(P21), DEL(8)(P21), ADD(12)(Q24.1) [13]/46, XY, DEL(1)(Q32), DEL(7)(Q22Q32), DER(6;12)(Q10;P10), ADD(22)(Q11.2), +MAR [3]/45, XY, T(1;2)(P22;Q11.2), -21 [1]/46, XY [3] | REFRACTORY | CAUCASIAN | M4 (MYELOMONOCYTIC) | ITD MUTANT | ... | ESTABLISHED | WILD TYPE | 23 | LEUKAPHERESIS | PRETREATED | ACUTE MYELOID LEUKEMIA (AML) | NA | 113 | CTG_2226 | CTG_2226 |\n",
       "\n"
      ],
      "text/plain": [
       "         ID       model_id Age BCR.ABL.status CD34.status\n",
       "CTG_2226 CTG_2226 2226     52  NA             CD34-      \n",
       "         Cytogenetics                                                                                                                                                                         \n",
       "CTG_2226 46, XY, ADD(6)(P21), DEL(8)(P21), ADD(12)(Q24.1) [13]/46, XY, DEL(1)(Q32), DEL(7)(Q22Q32), DER(6;12)(Q10;P10), ADD(22)(Q11.2), +MAR [3]/45, XY, T(1;2)(P22;Q11.2), -21 [1]/46, XY [3]\n",
       "         Diagnosis  Ethnicity FAB.classification.WHO.subtype FLT3.status ...\n",
       "CTG_2226 REFRACTORY CAUCASIAN M4 (MYELOMONOCYTIC)            ITD MUTANT  ...\n",
       "         Model.status NPM.status Platelet.count..x103.ml. Sample.source\n",
       "CTG_2226 ESTABLISHED  WILD TYPE  23                       LEUKAPHERESIS\n",
       "         condition  Tumor.type                   TumorGraft.ID\n",
       "CTG_2226 PRETREATED ACUTE MYELOID LEUKEMIA (AML) NA           \n",
       "         White.blood.cell.count..x109.L. label    replicate\n",
       "CTG_2226 113                             CTG_2226 CTG_2226 "
      ]
     },
     "metadata": {},
     "output_type": "display_data"
    }
   ],
   "source": [
    "# col info\n",
    "dim(colData(data))\n",
    "head(as.data.frame(colData(data)), 1)"
   ]
  },
  {
   "cell_type": "code",
   "execution_count": 79,
   "id": "b3056f4d",
   "metadata": {},
   "outputs": [
    {
     "data": {
      "text/plain": [
       "\n",
       "     NAIVE PRETREATED       <NA> \n",
       "        15         29          2 "
      ]
     },
     "metadata": {},
     "output_type": "display_data"
    }
   ],
   "source": [
    "# summary of pretreated vs. naive\n",
    "table(colData(data)$condition, useNA = \"always\")"
   ]
  },
  {
   "cell_type": "markdown",
   "id": "9e9f32be",
   "metadata": {},
   "source": [
    "## Processing"
   ]
  },
  {
   "cell_type": "code",
   "execution_count": 80,
   "id": "0805263a",
   "metadata": {},
   "outputs": [
    {
     "data": {
      "image/png": "[encoded data removed]",
      "text/plain": [
       "plot without title"
      ]
     },
     "metadata": {
      "image/png": {
       "height": 420,
       "width": 420
      }
     },
     "output_type": "display_data"
    }
   ],
   "source": [
    "# Plot a barplot of the number of identified proteins per samples\n",
    "plot_numbers(data)"
   ]
  },
  {
   "cell_type": "code",
   "execution_count": 81,
   "id": "653050c0",
   "metadata": {},
   "outputs": [],
   "source": [
    "# Normalize the data\n",
    "data_norm <- normalize_vsn(data)"
   ]
  },
  {
   "cell_type": "code",
   "execution_count": 82,
   "id": "869d4d97",
   "metadata": {},
   "outputs": [
    {
     "data": {
      "image/png": "[encoded data removed]",
      "text/plain": [
       "plot without title"
      ]
     },
     "metadata": {
      "image/png": {
       "height": 420,
       "width": 420
      }
     },
     "output_type": "display_data"
    }
   ],
   "source": [
    "# Visualize normalization by boxplots for all samples before and after normalization\n",
    "plot_normalization(data, data_norm)"
   ]
  },
  {
   "cell_type": "markdown",
   "id": "07d0a634",
   "metadata": {},
   "source": [
    "After normalization, the data are median centered. "
   ]
  },
  {
   "cell_type": "markdown",
   "id": "408929cc",
   "metadata": {},
   "source": [
    "## Differential enrichment analysis"
   ]
  },
  {
   "cell_type": "code",
   "execution_count": null,
   "id": "4e3e1c43",
   "metadata": {},
   "outputs": [],
   "source": []
  },
  {
   "cell_type": "markdown",
   "id": "48291484",
   "metadata": {},
   "source": [
    "## Example"
   ]
  },
  {
   "cell_type": "code",
   "execution_count": 27,
   "id": "0a620845",
   "metadata": {
    "scrolled": true
   },
   "outputs": [
    {
     "data": {
      "text/html": [
       "<table class=\"dataframe\">\n",
       "<caption>A data.frame: 2 × 23</caption>\n",
       "<thead>\n",
       "\t<tr><th></th><th scope=col>Protein.IDs</th><th scope=col>Majority.protein.IDs</th><th scope=col>Protein.names</th><th scope=col>Gene.names</th><th scope=col>Fasta.headers</th><th scope=col>Peptides</th><th scope=col>Razor...unique.peptides</th><th scope=col>Unique.peptides</th><th scope=col>LFQ.intensity.Ubi4_1</th><th scope=col>LFQ.intensity.Ubi4_2</th><th scope=col>...</th><th scope=col>LFQ.intensity.Ubi6_3</th><th scope=col>LFQ.intensity.Ctrl_1</th><th scope=col>LFQ.intensity.Ctrl_2</th><th scope=col>LFQ.intensity.Ctrl_3</th><th scope=col>LFQ.intensity.Ubi1_1</th><th scope=col>LFQ.intensity.Ubi1_2</th><th scope=col>LFQ.intensity.Ubi1_3</th><th scope=col>Only.identified.by.site</th><th scope=col>Reverse</th><th scope=col>Potential.contaminant</th></tr>\n",
       "\t<tr><th></th><th scope=col>&lt;chr&gt;</th><th scope=col>&lt;chr&gt;</th><th scope=col>&lt;chr&gt;</th><th scope=col>&lt;chr&gt;</th><th scope=col>&lt;chr&gt;</th><th scope=col>&lt;int&gt;</th><th scope=col>&lt;int&gt;</th><th scope=col>&lt;int&gt;</th><th scope=col>&lt;dbl&gt;</th><th scope=col>&lt;dbl&gt;</th><th scope=col>...</th><th scope=col>&lt;dbl&gt;</th><th scope=col>&lt;dbl&gt;</th><th scope=col>&lt;dbl&gt;</th><th scope=col>&lt;dbl&gt;</th><th scope=col>&lt;dbl&gt;</th><th scope=col>&lt;dbl&gt;</th><th scope=col>&lt;dbl&gt;</th><th scope=col>&lt;chr&gt;</th><th scope=col>&lt;chr&gt;</th><th scope=col>&lt;chr&gt;</th></tr>\n",
       "</thead>\n",
       "<tbody>\n",
       "\t<tr><th scope=row>1</th><td>A0AV96-2;B7Z8Z7;A0AV96;D6R9D6;D6RBS9;D6REZ6;D6R9M7;D6RCT1;D6RBP6;D6RA49;D6RFL5;Q5T0W7;Q8TBY0-2;Q8TBY0-3;Q9NQ94-5;Q8TBY0;Q9NQ94-6;Q9NQ94-3;Q9NQ94-2;F8W9F8;Q9NQ94-4;Q9NQ94</td><td>A0AV96-2;B7Z8Z7;A0AV96;D6R9D6;D6RBS9</td><td><span style=white-space:pre-wrap>RNA-binding protein 47                     </span></td><td>RBM47</td><td>&gt;sp|A0AV96-2|RBM47_HUMAN Isoform 2 of RNA-binding protein 47 OS=Homo sapiens GN=RBM47;&gt;tr|B7Z8Z7|B7Z8Z7_HUMAN RNA-binding protein 47 OS=Homo sapiens GN=RBM47 PE=2 SV=1;&gt;sp|A0AV96|RBM47_HUMAN RNA-binding protein 47 OS=Homo sapiens GN=RBM47 PE=1 SV=2;&gt;tr|D6R</td><td>7</td><td>7</td><td>7</td><td>35787000</td><td>24701000</td><td>...</td><td>32705000</td><td>25898000</td><td>31275000</td><td>23076000</td><td>27664000</td><td>32314000</td><td>31097000</td><td></td><td></td><td></td></tr>\n",
       "\t<tr><th scope=row>2</th><td><span style=white-space:pre-wrap>A0AVT1;A0AVT1-2;H0Y8S8;A0AVT1-4;A0AVT1-3                                                                                                                                 </span></td><td><span style=white-space:pre-wrap>A0AVT1;A0AVT1-2                     </span></td><td>Ubiquitin-like modifier-activating enzyme 6</td><td>UBA6 </td><td><span style=white-space:pre-wrap>&gt;sp|A0AVT1|UBA6_HUMAN Ubiquitin-like modifier-activating enzyme 6 OS=Homo sapiens GN=UBA6 PE=1 SV=1;&gt;sp|A0AVT1-2|UBA6_HUMAN Isoform 2 of Ubiquitin-like modifier-activating enzyme 6 OS=Homo sapiens GN=UBA6                                                    </span></td><td>6</td><td>6</td><td>6</td><td><span style=white-space:pre-wrap>       0</span></td><td><span style=white-space:pre-wrap>       0</span></td><td>...</td><td><span style=white-space:pre-wrap>       0</span></td><td> 7260800</td><td> 8612300</td><td> 7816000</td><td> 9907700</td><td>12387000</td><td> 9023800</td><td></td><td></td><td></td></tr>\n",
       "</tbody>\n",
       "</table>\n"
      ],
      "text/latex": [
       "A data.frame: 2 × 23\n",
       "\\begin{tabular}{r|lllllllllllllllllllll}\n",
       "  & Protein.IDs & Majority.protein.IDs & Protein.names & Gene.names & Fasta.headers & Peptides & Razor...unique.peptides & Unique.peptides & LFQ.intensity.Ubi4\\_1 & LFQ.intensity.Ubi4\\_2 & ... & LFQ.intensity.Ubi6\\_3 & LFQ.intensity.Ctrl\\_1 & LFQ.intensity.Ctrl\\_2 & LFQ.intensity.Ctrl\\_3 & LFQ.intensity.Ubi1\\_1 & LFQ.intensity.Ubi1\\_2 & LFQ.intensity.Ubi1\\_3 & Only.identified.by.site & Reverse & Potential.contaminant\\\\\n",
       "  & <chr> & <chr> & <chr> & <chr> & <chr> & <int> & <int> & <int> & <dbl> & <dbl> & ... & <dbl> & <dbl> & <dbl> & <dbl> & <dbl> & <dbl> & <dbl> & <chr> & <chr> & <chr>\\\\\n",
       "\\hline\n",
       "\t1 & A0AV96-2;B7Z8Z7;A0AV96;D6R9D6;D6RBS9;D6REZ6;D6R9M7;D6RCT1;D6RBP6;D6RA49;D6RFL5;Q5T0W7;Q8TBY0-2;Q8TBY0-3;Q9NQ94-5;Q8TBY0;Q9NQ94-6;Q9NQ94-3;Q9NQ94-2;F8W9F8;Q9NQ94-4;Q9NQ94 & A0AV96-2;B7Z8Z7;A0AV96;D6R9D6;D6RBS9 & RNA-binding protein 47                      & RBM47 & >sp\\textbar{}A0AV96-2\\textbar{}RBM47\\_HUMAN Isoform 2 of RNA-binding protein 47 OS=Homo sapiens GN=RBM47;>tr\\textbar{}B7Z8Z7\\textbar{}B7Z8Z7\\_HUMAN RNA-binding protein 47 OS=Homo sapiens GN=RBM47 PE=2 SV=1;>sp\\textbar{}A0AV96\\textbar{}RBM47\\_HUMAN RNA-binding protein 47 OS=Homo sapiens GN=RBM47 PE=1 SV=2;>tr\\textbar{}D6R & 7 & 7 & 7 & 35787000 & 24701000 & ... & 32705000 & 25898000 & 31275000 & 23076000 & 27664000 & 32314000 & 31097000 &  &  & \\\\\n",
       "\t2 & A0AVT1;A0AVT1-2;H0Y8S8;A0AVT1-4;A0AVT1-3                                                                                                                                  & A0AVT1;A0AVT1-2                      & Ubiquitin-like modifier-activating enzyme 6 & UBA6  & >sp\\textbar{}A0AVT1\\textbar{}UBA6\\_HUMAN Ubiquitin-like modifier-activating enzyme 6 OS=Homo sapiens GN=UBA6 PE=1 SV=1;>sp\\textbar{}A0AVT1-2\\textbar{}UBA6\\_HUMAN Isoform 2 of Ubiquitin-like modifier-activating enzyme 6 OS=Homo sapiens GN=UBA6                                                     & 6 & 6 & 6 &        0 &        0 & ... &        0 &  7260800 &  8612300 &  7816000 &  9907700 & 12387000 &  9023800 &  &  & \\\\\n",
       "\\end{tabular}\n"
      ],
      "text/markdown": [
       "\n",
       "A data.frame: 2 × 23\n",
       "\n",
       "| <!--/--> | Protein.IDs &lt;chr&gt; | Majority.protein.IDs &lt;chr&gt; | Protein.names &lt;chr&gt; | Gene.names &lt;chr&gt; | Fasta.headers &lt;chr&gt; | Peptides &lt;int&gt; | Razor...unique.peptides &lt;int&gt; | Unique.peptides &lt;int&gt; | LFQ.intensity.Ubi4_1 &lt;dbl&gt; | LFQ.intensity.Ubi4_2 &lt;dbl&gt; | ... ... | LFQ.intensity.Ubi6_3 &lt;dbl&gt; | LFQ.intensity.Ctrl_1 &lt;dbl&gt; | LFQ.intensity.Ctrl_2 &lt;dbl&gt; | LFQ.intensity.Ctrl_3 &lt;dbl&gt; | LFQ.intensity.Ubi1_1 &lt;dbl&gt; | LFQ.intensity.Ubi1_2 &lt;dbl&gt; | LFQ.intensity.Ubi1_3 &lt;dbl&gt; | Only.identified.by.site &lt;chr&gt; | Reverse &lt;chr&gt; | Potential.contaminant &lt;chr&gt; |\n",
       "|---|---|---|---|---|---|---|---|---|---|---|---|---|---|---|---|---|---|---|---|---|---|\n",
       "| 1 | A0AV96-2;B7Z8Z7;A0AV96;D6R9D6;D6RBS9;D6REZ6;D6R9M7;D6RCT1;D6RBP6;D6RA49;D6RFL5;Q5T0W7;Q8TBY0-2;Q8TBY0-3;Q9NQ94-5;Q8TBY0;Q9NQ94-6;Q9NQ94-3;Q9NQ94-2;F8W9F8;Q9NQ94-4;Q9NQ94 | A0AV96-2;B7Z8Z7;A0AV96;D6R9D6;D6RBS9 | RNA-binding protein 47                      | RBM47 | &gt;sp|A0AV96-2|RBM47_HUMAN Isoform 2 of RNA-binding protein 47 OS=Homo sapiens GN=RBM47;&gt;tr|B7Z8Z7|B7Z8Z7_HUMAN RNA-binding protein 47 OS=Homo sapiens GN=RBM47 PE=2 SV=1;&gt;sp|A0AV96|RBM47_HUMAN RNA-binding protein 47 OS=Homo sapiens GN=RBM47 PE=1 SV=2;&gt;tr|D6R | 7 | 7 | 7 | 35787000 | 24701000 | ... | 32705000 | 25898000 | 31275000 | 23076000 | 27664000 | 32314000 | 31097000 | <!----> | <!----> | <!----> |\n",
       "| 2 | A0AVT1;A0AVT1-2;H0Y8S8;A0AVT1-4;A0AVT1-3                                                                                                                                  | A0AVT1;A0AVT1-2                      | Ubiquitin-like modifier-activating enzyme 6 | UBA6  | &gt;sp|A0AVT1|UBA6_HUMAN Ubiquitin-like modifier-activating enzyme 6 OS=Homo sapiens GN=UBA6 PE=1 SV=1;&gt;sp|A0AVT1-2|UBA6_HUMAN Isoform 2 of Ubiquitin-like modifier-activating enzyme 6 OS=Homo sapiens GN=UBA6                                                     | 6 | 6 | 6 |        0 |        0 | ... |        0 |  7260800 |  8612300 |  7816000 |  9907700 | 12387000 |  9023800 | <!----> | <!----> | <!----> |\n",
       "\n"
      ],
      "text/plain": [
       "  Protein.IDs                                                                                                                                                              \n",
       "1 A0AV96-2;B7Z8Z7;A0AV96;D6R9D6;D6RBS9;D6REZ6;D6R9M7;D6RCT1;D6RBP6;D6RA49;D6RFL5;Q5T0W7;Q8TBY0-2;Q8TBY0-3;Q9NQ94-5;Q8TBY0;Q9NQ94-6;Q9NQ94-3;Q9NQ94-2;F8W9F8;Q9NQ94-4;Q9NQ94\n",
       "2 A0AVT1;A0AVT1-2;H0Y8S8;A0AVT1-4;A0AVT1-3                                                                                                                                 \n",
       "  Majority.protein.IDs                \n",
       "1 A0AV96-2;B7Z8Z7;A0AV96;D6R9D6;D6RBS9\n",
       "2 A0AVT1;A0AVT1-2                     \n",
       "  Protein.names                               Gene.names\n",
       "1 RNA-binding protein 47                      RBM47     \n",
       "2 Ubiquitin-like modifier-activating enzyme 6 UBA6      \n",
       "  Fasta.headers                                                                                                                                                                                                                                                   \n",
       "1 >sp|A0AV96-2|RBM47_HUMAN Isoform 2 of RNA-binding protein 47 OS=Homo sapiens GN=RBM47;>tr|B7Z8Z7|B7Z8Z7_HUMAN RNA-binding protein 47 OS=Homo sapiens GN=RBM47 PE=2 SV=1;>sp|A0AV96|RBM47_HUMAN RNA-binding protein 47 OS=Homo sapiens GN=RBM47 PE=1 SV=2;>tr|D6R\n",
       "2 >sp|A0AVT1|UBA6_HUMAN Ubiquitin-like modifier-activating enzyme 6 OS=Homo sapiens GN=UBA6 PE=1 SV=1;>sp|A0AVT1-2|UBA6_HUMAN Isoform 2 of Ubiquitin-like modifier-activating enzyme 6 OS=Homo sapiens GN=UBA6                                                    \n",
       "  Peptides Razor...unique.peptides Unique.peptides LFQ.intensity.Ubi4_1\n",
       "1 7        7                       7               35787000            \n",
       "2 6        6                       6                      0            \n",
       "  LFQ.intensity.Ubi4_2 ... LFQ.intensity.Ubi6_3 LFQ.intensity.Ctrl_1\n",
       "1 24701000             ... 32705000             25898000            \n",
       "2        0             ...        0              7260800            \n",
       "  LFQ.intensity.Ctrl_2 LFQ.intensity.Ctrl_3 LFQ.intensity.Ubi1_1\n",
       "1 31275000             23076000             27664000            \n",
       "2  8612300              7816000              9907700            \n",
       "  LFQ.intensity.Ubi1_2 LFQ.intensity.Ubi1_3 Only.identified.by.site Reverse\n",
       "1 32314000             31097000                                            \n",
       "2 12387000              9023800                                            \n",
       "  Potential.contaminant\n",
       "1                      \n",
       "2                      "
      ]
     },
     "metadata": {},
     "output_type": "display_data"
    }
   ],
   "source": [
    "data <- UbiLength\n",
    "# We filter for contaminant proteins and decoy database hits, \n",
    "# which are indicated by \"+\" in the columns \"Potential.contaminants\" and \"Reverse\", respectively. \n",
    "data <- filter(data, Reverse != \"+\", Potential.contaminant != \"+\")\n",
    "head(data, 2)"
   ]
  },
  {
   "cell_type": "code",
   "execution_count": 48,
   "id": "072f3ebf",
   "metadata": {},
   "outputs": [],
   "source": [
    "# data %>% group_by(Gene.names) %>% summarize(frequency = n()) %>% \n",
    "#   arrange(desc(frequency)) %>% filter(frequency > 1)"
   ]
  },
  {
   "cell_type": "code",
   "execution_count": 49,
   "id": "ce2cf840",
   "metadata": {},
   "outputs": [],
   "source": [
    "# data"
   ]
  },
  {
   "cell_type": "code",
   "execution_count": 30,
   "id": "3768b20c",
   "metadata": {},
   "outputs": [
    {
     "data": {
      "text/html": [
       "<table class=\"dataframe\">\n",
       "<caption>A data.frame: 2 × 25</caption>\n",
       "<thead>\n",
       "\t<tr><th></th><th scope=col>Protein.IDs</th><th scope=col>Majority.protein.IDs</th><th scope=col>Protein.names</th><th scope=col>Gene.names</th><th scope=col>Fasta.headers</th><th scope=col>Peptides</th><th scope=col>Razor...unique.peptides</th><th scope=col>Unique.peptides</th><th scope=col>LFQ.intensity.Ubi4_1</th><th scope=col>LFQ.intensity.Ubi4_2</th><th scope=col>...</th><th scope=col>LFQ.intensity.Ctrl_2</th><th scope=col>LFQ.intensity.Ctrl_3</th><th scope=col>LFQ.intensity.Ubi1_1</th><th scope=col>LFQ.intensity.Ubi1_2</th><th scope=col>LFQ.intensity.Ubi1_3</th><th scope=col>Only.identified.by.site</th><th scope=col>Reverse</th><th scope=col>Potential.contaminant</th><th scope=col>name</th><th scope=col>ID</th></tr>\n",
       "\t<tr><th></th><th scope=col>&lt;chr&gt;</th><th scope=col>&lt;chr&gt;</th><th scope=col>&lt;chr&gt;</th><th scope=col>&lt;chr&gt;</th><th scope=col>&lt;chr&gt;</th><th scope=col>&lt;int&gt;</th><th scope=col>&lt;int&gt;</th><th scope=col>&lt;int&gt;</th><th scope=col>&lt;dbl&gt;</th><th scope=col>&lt;dbl&gt;</th><th scope=col>...</th><th scope=col>&lt;dbl&gt;</th><th scope=col>&lt;dbl&gt;</th><th scope=col>&lt;dbl&gt;</th><th scope=col>&lt;dbl&gt;</th><th scope=col>&lt;dbl&gt;</th><th scope=col>&lt;chr&gt;</th><th scope=col>&lt;chr&gt;</th><th scope=col>&lt;chr&gt;</th><th scope=col>&lt;chr&gt;</th><th scope=col>&lt;chr&gt;</th></tr>\n",
       "</thead>\n",
       "<tbody>\n",
       "\t<tr><th scope=row>1</th><td>A0AV96-2;B7Z8Z7;A0AV96;D6R9D6;D6RBS9;D6REZ6;D6R9M7;D6RCT1;D6RBP6;D6RA49;D6RFL5;Q5T0W7;Q8TBY0-2;Q8TBY0-3;Q9NQ94-5;Q8TBY0;Q9NQ94-6;Q9NQ94-3;Q9NQ94-2;F8W9F8;Q9NQ94-4;Q9NQ94</td><td>A0AV96-2;B7Z8Z7;A0AV96;D6R9D6;D6RBS9</td><td><span style=white-space:pre-wrap>RNA-binding protein 47                     </span></td><td>RBM47</td><td>&gt;sp|A0AV96-2|RBM47_HUMAN Isoform 2 of RNA-binding protein 47 OS=Homo sapiens GN=RBM47;&gt;tr|B7Z8Z7|B7Z8Z7_HUMAN RNA-binding protein 47 OS=Homo sapiens GN=RBM47 PE=2 SV=1;&gt;sp|A0AV96|RBM47_HUMAN RNA-binding protein 47 OS=Homo sapiens GN=RBM47 PE=1 SV=2;&gt;tr|D6R</td><td>7</td><td>7</td><td>7</td><td>35787000</td><td>24701000</td><td>...</td><td>31275000</td><td>23076000</td><td>27664000</td><td>32314000</td><td>31097000</td><td></td><td></td><td></td><td>RBM47</td><td>A0AV96-2</td></tr>\n",
       "\t<tr><th scope=row>2</th><td><span style=white-space:pre-wrap>A0AVT1;A0AVT1-2;H0Y8S8;A0AVT1-4;A0AVT1-3                                                                                                                                 </span></td><td><span style=white-space:pre-wrap>A0AVT1;A0AVT1-2                     </span></td><td>Ubiquitin-like modifier-activating enzyme 6</td><td>UBA6 </td><td><span style=white-space:pre-wrap>&gt;sp|A0AVT1|UBA6_HUMAN Ubiquitin-like modifier-activating enzyme 6 OS=Homo sapiens GN=UBA6 PE=1 SV=1;&gt;sp|A0AVT1-2|UBA6_HUMAN Isoform 2 of Ubiquitin-like modifier-activating enzyme 6 OS=Homo sapiens GN=UBA6                                                    </span></td><td>6</td><td>6</td><td>6</td><td><span style=white-space:pre-wrap>       0</span></td><td><span style=white-space:pre-wrap>       0</span></td><td>...</td><td> 8612300</td><td> 7816000</td><td> 9907700</td><td>12387000</td><td> 9023800</td><td></td><td></td><td></td><td>UBA6 </td><td><span style=white-space:pre-wrap>A0AVT1  </span></td></tr>\n",
       "</tbody>\n",
       "</table>\n"
      ],
      "text/latex": [
       "A data.frame: 2 × 25\n",
       "\\begin{tabular}{r|lllllllllllllllllllll}\n",
       "  & Protein.IDs & Majority.protein.IDs & Protein.names & Gene.names & Fasta.headers & Peptides & Razor...unique.peptides & Unique.peptides & LFQ.intensity.Ubi4\\_1 & LFQ.intensity.Ubi4\\_2 & ... & LFQ.intensity.Ctrl\\_2 & LFQ.intensity.Ctrl\\_3 & LFQ.intensity.Ubi1\\_1 & LFQ.intensity.Ubi1\\_2 & LFQ.intensity.Ubi1\\_3 & Only.identified.by.site & Reverse & Potential.contaminant & name & ID\\\\\n",
       "  & <chr> & <chr> & <chr> & <chr> & <chr> & <int> & <int> & <int> & <dbl> & <dbl> & ... & <dbl> & <dbl> & <dbl> & <dbl> & <dbl> & <chr> & <chr> & <chr> & <chr> & <chr>\\\\\n",
       "\\hline\n",
       "\t1 & A0AV96-2;B7Z8Z7;A0AV96;D6R9D6;D6RBS9;D6REZ6;D6R9M7;D6RCT1;D6RBP6;D6RA49;D6RFL5;Q5T0W7;Q8TBY0-2;Q8TBY0-3;Q9NQ94-5;Q8TBY0;Q9NQ94-6;Q9NQ94-3;Q9NQ94-2;F8W9F8;Q9NQ94-4;Q9NQ94 & A0AV96-2;B7Z8Z7;A0AV96;D6R9D6;D6RBS9 & RNA-binding protein 47                      & RBM47 & >sp\\textbar{}A0AV96-2\\textbar{}RBM47\\_HUMAN Isoform 2 of RNA-binding protein 47 OS=Homo sapiens GN=RBM47;>tr\\textbar{}B7Z8Z7\\textbar{}B7Z8Z7\\_HUMAN RNA-binding protein 47 OS=Homo sapiens GN=RBM47 PE=2 SV=1;>sp\\textbar{}A0AV96\\textbar{}RBM47\\_HUMAN RNA-binding protein 47 OS=Homo sapiens GN=RBM47 PE=1 SV=2;>tr\\textbar{}D6R & 7 & 7 & 7 & 35787000 & 24701000 & ... & 31275000 & 23076000 & 27664000 & 32314000 & 31097000 &  &  &  & RBM47 & A0AV96-2\\\\\n",
       "\t2 & A0AVT1;A0AVT1-2;H0Y8S8;A0AVT1-4;A0AVT1-3                                                                                                                                  & A0AVT1;A0AVT1-2                      & Ubiquitin-like modifier-activating enzyme 6 & UBA6  & >sp\\textbar{}A0AVT1\\textbar{}UBA6\\_HUMAN Ubiquitin-like modifier-activating enzyme 6 OS=Homo sapiens GN=UBA6 PE=1 SV=1;>sp\\textbar{}A0AVT1-2\\textbar{}UBA6\\_HUMAN Isoform 2 of Ubiquitin-like modifier-activating enzyme 6 OS=Homo sapiens GN=UBA6                                                     & 6 & 6 & 6 &        0 &        0 & ... &  8612300 &  7816000 &  9907700 & 12387000 &  9023800 &  &  &  & UBA6  & A0AVT1  \\\\\n",
       "\\end{tabular}\n"
      ],
      "text/markdown": [
       "\n",
       "A data.frame: 2 × 25\n",
       "\n",
       "| <!--/--> | Protein.IDs &lt;chr&gt; | Majority.protein.IDs &lt;chr&gt; | Protein.names &lt;chr&gt; | Gene.names &lt;chr&gt; | Fasta.headers &lt;chr&gt; | Peptides &lt;int&gt; | Razor...unique.peptides &lt;int&gt; | Unique.peptides &lt;int&gt; | LFQ.intensity.Ubi4_1 &lt;dbl&gt; | LFQ.intensity.Ubi4_2 &lt;dbl&gt; | ... ... | LFQ.intensity.Ctrl_2 &lt;dbl&gt; | LFQ.intensity.Ctrl_3 &lt;dbl&gt; | LFQ.intensity.Ubi1_1 &lt;dbl&gt; | LFQ.intensity.Ubi1_2 &lt;dbl&gt; | LFQ.intensity.Ubi1_3 &lt;dbl&gt; | Only.identified.by.site &lt;chr&gt; | Reverse &lt;chr&gt; | Potential.contaminant &lt;chr&gt; | name &lt;chr&gt; | ID &lt;chr&gt; |\n",
       "|---|---|---|---|---|---|---|---|---|---|---|---|---|---|---|---|---|---|---|---|---|---|\n",
       "| 1 | A0AV96-2;B7Z8Z7;A0AV96;D6R9D6;D6RBS9;D6REZ6;D6R9M7;D6RCT1;D6RBP6;D6RA49;D6RFL5;Q5T0W7;Q8TBY0-2;Q8TBY0-3;Q9NQ94-5;Q8TBY0;Q9NQ94-6;Q9NQ94-3;Q9NQ94-2;F8W9F8;Q9NQ94-4;Q9NQ94 | A0AV96-2;B7Z8Z7;A0AV96;D6R9D6;D6RBS9 | RNA-binding protein 47                      | RBM47 | &gt;sp|A0AV96-2|RBM47_HUMAN Isoform 2 of RNA-binding protein 47 OS=Homo sapiens GN=RBM47;&gt;tr|B7Z8Z7|B7Z8Z7_HUMAN RNA-binding protein 47 OS=Homo sapiens GN=RBM47 PE=2 SV=1;&gt;sp|A0AV96|RBM47_HUMAN RNA-binding protein 47 OS=Homo sapiens GN=RBM47 PE=1 SV=2;&gt;tr|D6R | 7 | 7 | 7 | 35787000 | 24701000 | ... | 31275000 | 23076000 | 27664000 | 32314000 | 31097000 | <!----> | <!----> | <!----> | RBM47 | A0AV96-2 |\n",
       "| 2 | A0AVT1;A0AVT1-2;H0Y8S8;A0AVT1-4;A0AVT1-3                                                                                                                                  | A0AVT1;A0AVT1-2                      | Ubiquitin-like modifier-activating enzyme 6 | UBA6  | &gt;sp|A0AVT1|UBA6_HUMAN Ubiquitin-like modifier-activating enzyme 6 OS=Homo sapiens GN=UBA6 PE=1 SV=1;&gt;sp|A0AVT1-2|UBA6_HUMAN Isoform 2 of Ubiquitin-like modifier-activating enzyme 6 OS=Homo sapiens GN=UBA6                                                     | 6 | 6 | 6 |        0 |        0 | ... |  8612300 |  7816000 |  9907700 | 12387000 |  9023800 | <!----> | <!----> | <!----> | UBA6  | A0AVT1   |\n",
       "\n"
      ],
      "text/plain": [
       "  Protein.IDs                                                                                                                                                              \n",
       "1 A0AV96-2;B7Z8Z7;A0AV96;D6R9D6;D6RBS9;D6REZ6;D6R9M7;D6RCT1;D6RBP6;D6RA49;D6RFL5;Q5T0W7;Q8TBY0-2;Q8TBY0-3;Q9NQ94-5;Q8TBY0;Q9NQ94-6;Q9NQ94-3;Q9NQ94-2;F8W9F8;Q9NQ94-4;Q9NQ94\n",
       "2 A0AVT1;A0AVT1-2;H0Y8S8;A0AVT1-4;A0AVT1-3                                                                                                                                 \n",
       "  Majority.protein.IDs                \n",
       "1 A0AV96-2;B7Z8Z7;A0AV96;D6R9D6;D6RBS9\n",
       "2 A0AVT1;A0AVT1-2                     \n",
       "  Protein.names                               Gene.names\n",
       "1 RNA-binding protein 47                      RBM47     \n",
       "2 Ubiquitin-like modifier-activating enzyme 6 UBA6      \n",
       "  Fasta.headers                                                                                                                                                                                                                                                   \n",
       "1 >sp|A0AV96-2|RBM47_HUMAN Isoform 2 of RNA-binding protein 47 OS=Homo sapiens GN=RBM47;>tr|B7Z8Z7|B7Z8Z7_HUMAN RNA-binding protein 47 OS=Homo sapiens GN=RBM47 PE=2 SV=1;>sp|A0AV96|RBM47_HUMAN RNA-binding protein 47 OS=Homo sapiens GN=RBM47 PE=1 SV=2;>tr|D6R\n",
       "2 >sp|A0AVT1|UBA6_HUMAN Ubiquitin-like modifier-activating enzyme 6 OS=Homo sapiens GN=UBA6 PE=1 SV=1;>sp|A0AVT1-2|UBA6_HUMAN Isoform 2 of Ubiquitin-like modifier-activating enzyme 6 OS=Homo sapiens GN=UBA6                                                    \n",
       "  Peptides Razor...unique.peptides Unique.peptides LFQ.intensity.Ubi4_1\n",
       "1 7        7                       7               35787000            \n",
       "2 6        6                       6                      0            \n",
       "  LFQ.intensity.Ubi4_2 ... LFQ.intensity.Ctrl_2 LFQ.intensity.Ctrl_3\n",
       "1 24701000             ... 31275000             23076000            \n",
       "2        0             ...  8612300              7816000            \n",
       "  LFQ.intensity.Ubi1_1 LFQ.intensity.Ubi1_2 LFQ.intensity.Ubi1_3\n",
       "1 27664000             32314000             31097000            \n",
       "2  9907700             12387000              9023800            \n",
       "  Only.identified.by.site Reverse Potential.contaminant name  ID      \n",
       "1                                                       RBM47 A0AV96-2\n",
       "2                                                       UBA6  A0AVT1  "
      ]
     },
     "metadata": {},
     "output_type": "display_data"
    }
   ],
   "source": [
    "# Make unique names using the annotation in the \"Gene.names\" column \n",
    "# as primary names and the annotation in \"Protein.IDs\" as name \n",
    "# for those that do not have an gene name.\n",
    "data_unique <- make_unique(data, \"Gene.names\", \"Protein.IDs\", delim = \";\")\n",
    "head(data_unique, 2)"
   ]
  },
  {
   "cell_type": "code",
   "execution_count": 31,
   "id": "d8b2860d",
   "metadata": {},
   "outputs": [
    {
     "data": {
      "text/plain": [
       "class: SummarizedExperiment \n",
       "dim: 2941 12 \n",
       "metadata(0):\n",
       "assays(1): ''\n",
       "rownames(2941): RBM47 UBA6 ... ATXN2.3 X6RHB9\n",
       "rowData names(13): Protein.IDs Majority.protein.IDs ... name ID\n",
       "colnames(12): Ubi4_1 Ubi4_2 ... Ubi1_2 Ubi1_3\n",
       "colData names(4): label ID condition replicate"
      ]
     },
     "metadata": {},
     "output_type": "display_data"
    }
   ],
   "source": [
    "# Generate a SummarizedExperiment object using an experimental design\n",
    "LFQ_columns <- grep(\"LFQ.\", colnames(data_unique)) # get LFQ column numbers\n",
    "experimental_design <- UbiLength_ExpDesign\n",
    "data_se <- make_se(data_unique, LFQ_columns, experimental_design)\n",
    "\n",
    "# Generate a SummarizedExperiment object by parsing condition information from the column names\n",
    "LFQ_columns <- grep(\"LFQ.\", colnames(data_unique)) # get LFQ column numbers\n",
    "data_se_parsed <- make_se_parse(data_unique, LFQ_columns)\n",
    "\n",
    "# Let's have a look at the SummarizedExperiment object\n",
    "data_se"
   ]
  },
  {
   "cell_type": "code",
   "execution_count": 50,
   "id": "e2c25fb1",
   "metadata": {
    "scrolled": true
   },
   "outputs": [
    {
     "data": {
      "text/html": [
       "<table class=\"dataframe\">\n",
       "<caption>A data.frame: 2 × 13</caption>\n",
       "<thead>\n",
       "\t<tr><th></th><th scope=col>Protein.IDs</th><th scope=col>Majority.protein.IDs</th><th scope=col>Protein.names</th><th scope=col>Gene.names</th><th scope=col>Fasta.headers</th><th scope=col>Peptides</th><th scope=col>Razor...unique.peptides</th><th scope=col>Unique.peptides</th><th scope=col>Only.identified.by.site</th><th scope=col>Reverse</th><th scope=col>Potential.contaminant</th><th scope=col>name</th><th scope=col>ID</th></tr>\n",
       "\t<tr><th></th><th scope=col>&lt;chr&gt;</th><th scope=col>&lt;chr&gt;</th><th scope=col>&lt;chr&gt;</th><th scope=col>&lt;chr&gt;</th><th scope=col>&lt;chr&gt;</th><th scope=col>&lt;int&gt;</th><th scope=col>&lt;int&gt;</th><th scope=col>&lt;int&gt;</th><th scope=col>&lt;chr&gt;</th><th scope=col>&lt;chr&gt;</th><th scope=col>&lt;chr&gt;</th><th scope=col>&lt;chr&gt;</th><th scope=col>&lt;chr&gt;</th></tr>\n",
       "</thead>\n",
       "<tbody>\n",
       "\t<tr><th scope=row>RBM47</th><td>A0AV96-2;B7Z8Z7;A0AV96;D6R9D6;D6RBS9;D6REZ6;D6R9M7;D6RCT1;D6RBP6;D6RA49;D6RFL5;Q5T0W7;Q8TBY0-2;Q8TBY0-3;Q9NQ94-5;Q8TBY0;Q9NQ94-6;Q9NQ94-3;Q9NQ94-2;F8W9F8;Q9NQ94-4;Q9NQ94</td><td>A0AV96-2;B7Z8Z7;A0AV96;D6R9D6;D6RBS9</td><td><span style=white-space:pre-wrap>RNA-binding protein 47                     </span></td><td>RBM47</td><td>&gt;sp|A0AV96-2|RBM47_HUMAN Isoform 2 of RNA-binding protein 47 OS=Homo sapiens GN=RBM47;&gt;tr|B7Z8Z7|B7Z8Z7_HUMAN RNA-binding protein 47 OS=Homo sapiens GN=RBM47 PE=2 SV=1;&gt;sp|A0AV96|RBM47_HUMAN RNA-binding protein 47 OS=Homo sapiens GN=RBM47 PE=1 SV=2;&gt;tr|D6R</td><td>7</td><td>7</td><td>7</td><td></td><td></td><td></td><td>RBM47</td><td>A0AV96-2</td></tr>\n",
       "\t<tr><th scope=row>UBA6</th><td><span style=white-space:pre-wrap>A0AVT1;A0AVT1-2;H0Y8S8;A0AVT1-4;A0AVT1-3                                                                                                                                 </span></td><td><span style=white-space:pre-wrap>A0AVT1;A0AVT1-2                     </span></td><td>Ubiquitin-like modifier-activating enzyme 6</td><td>UBA6 </td><td><span style=white-space:pre-wrap>&gt;sp|A0AVT1|UBA6_HUMAN Ubiquitin-like modifier-activating enzyme 6 OS=Homo sapiens GN=UBA6 PE=1 SV=1;&gt;sp|A0AVT1-2|UBA6_HUMAN Isoform 2 of Ubiquitin-like modifier-activating enzyme 6 OS=Homo sapiens GN=UBA6                                                    </span></td><td>6</td><td>6</td><td>6</td><td></td><td></td><td></td><td>UBA6 </td><td><span style=white-space:pre-wrap>A0AVT1  </span></td></tr>\n",
       "</tbody>\n",
       "</table>\n"
      ],
      "text/latex": [
       "A data.frame: 2 × 13\n",
       "\\begin{tabular}{r|lllllllllllll}\n",
       "  & Protein.IDs & Majority.protein.IDs & Protein.names & Gene.names & Fasta.headers & Peptides & Razor...unique.peptides & Unique.peptides & Only.identified.by.site & Reverse & Potential.contaminant & name & ID\\\\\n",
       "  & <chr> & <chr> & <chr> & <chr> & <chr> & <int> & <int> & <int> & <chr> & <chr> & <chr> & <chr> & <chr>\\\\\n",
       "\\hline\n",
       "\tRBM47 & A0AV96-2;B7Z8Z7;A0AV96;D6R9D6;D6RBS9;D6REZ6;D6R9M7;D6RCT1;D6RBP6;D6RA49;D6RFL5;Q5T0W7;Q8TBY0-2;Q8TBY0-3;Q9NQ94-5;Q8TBY0;Q9NQ94-6;Q9NQ94-3;Q9NQ94-2;F8W9F8;Q9NQ94-4;Q9NQ94 & A0AV96-2;B7Z8Z7;A0AV96;D6R9D6;D6RBS9 & RNA-binding protein 47                      & RBM47 & >sp\\textbar{}A0AV96-2\\textbar{}RBM47\\_HUMAN Isoform 2 of RNA-binding protein 47 OS=Homo sapiens GN=RBM47;>tr\\textbar{}B7Z8Z7\\textbar{}B7Z8Z7\\_HUMAN RNA-binding protein 47 OS=Homo sapiens GN=RBM47 PE=2 SV=1;>sp\\textbar{}A0AV96\\textbar{}RBM47\\_HUMAN RNA-binding protein 47 OS=Homo sapiens GN=RBM47 PE=1 SV=2;>tr\\textbar{}D6R & 7 & 7 & 7 &  &  &  & RBM47 & A0AV96-2\\\\\n",
       "\tUBA6 & A0AVT1;A0AVT1-2;H0Y8S8;A0AVT1-4;A0AVT1-3                                                                                                                                  & A0AVT1;A0AVT1-2                      & Ubiquitin-like modifier-activating enzyme 6 & UBA6  & >sp\\textbar{}A0AVT1\\textbar{}UBA6\\_HUMAN Ubiquitin-like modifier-activating enzyme 6 OS=Homo sapiens GN=UBA6 PE=1 SV=1;>sp\\textbar{}A0AVT1-2\\textbar{}UBA6\\_HUMAN Isoform 2 of Ubiquitin-like modifier-activating enzyme 6 OS=Homo sapiens GN=UBA6                                                     & 6 & 6 & 6 &  &  &  & UBA6  & A0AVT1  \\\\\n",
       "\\end{tabular}\n"
      ],
      "text/markdown": [
       "\n",
       "A data.frame: 2 × 13\n",
       "\n",
       "| <!--/--> | Protein.IDs &lt;chr&gt; | Majority.protein.IDs &lt;chr&gt; | Protein.names &lt;chr&gt; | Gene.names &lt;chr&gt; | Fasta.headers &lt;chr&gt; | Peptides &lt;int&gt; | Razor...unique.peptides &lt;int&gt; | Unique.peptides &lt;int&gt; | Only.identified.by.site &lt;chr&gt; | Reverse &lt;chr&gt; | Potential.contaminant &lt;chr&gt; | name &lt;chr&gt; | ID &lt;chr&gt; |\n",
       "|---|---|---|---|---|---|---|---|---|---|---|---|---|---|\n",
       "| RBM47 | A0AV96-2;B7Z8Z7;A0AV96;D6R9D6;D6RBS9;D6REZ6;D6R9M7;D6RCT1;D6RBP6;D6RA49;D6RFL5;Q5T0W7;Q8TBY0-2;Q8TBY0-3;Q9NQ94-5;Q8TBY0;Q9NQ94-6;Q9NQ94-3;Q9NQ94-2;F8W9F8;Q9NQ94-4;Q9NQ94 | A0AV96-2;B7Z8Z7;A0AV96;D6R9D6;D6RBS9 | RNA-binding protein 47                      | RBM47 | &gt;sp|A0AV96-2|RBM47_HUMAN Isoform 2 of RNA-binding protein 47 OS=Homo sapiens GN=RBM47;&gt;tr|B7Z8Z7|B7Z8Z7_HUMAN RNA-binding protein 47 OS=Homo sapiens GN=RBM47 PE=2 SV=1;&gt;sp|A0AV96|RBM47_HUMAN RNA-binding protein 47 OS=Homo sapiens GN=RBM47 PE=1 SV=2;&gt;tr|D6R | 7 | 7 | 7 | <!----> | <!----> | <!----> | RBM47 | A0AV96-2 |\n",
       "| UBA6 | A0AVT1;A0AVT1-2;H0Y8S8;A0AVT1-4;A0AVT1-3                                                                                                                                  | A0AVT1;A0AVT1-2                      | Ubiquitin-like modifier-activating enzyme 6 | UBA6  | &gt;sp|A0AVT1|UBA6_HUMAN Ubiquitin-like modifier-activating enzyme 6 OS=Homo sapiens GN=UBA6 PE=1 SV=1;&gt;sp|A0AVT1-2|UBA6_HUMAN Isoform 2 of Ubiquitin-like modifier-activating enzyme 6 OS=Homo sapiens GN=UBA6                                                     | 6 | 6 | 6 | <!----> | <!----> | <!----> | UBA6  | A0AVT1   |\n",
       "\n"
      ],
      "text/plain": [
       "      Protein.IDs                                                                                                                                                              \n",
       "RBM47 A0AV96-2;B7Z8Z7;A0AV96;D6R9D6;D6RBS9;D6REZ6;D6R9M7;D6RCT1;D6RBP6;D6RA49;D6RFL5;Q5T0W7;Q8TBY0-2;Q8TBY0-3;Q9NQ94-5;Q8TBY0;Q9NQ94-6;Q9NQ94-3;Q9NQ94-2;F8W9F8;Q9NQ94-4;Q9NQ94\n",
       "UBA6  A0AVT1;A0AVT1-2;H0Y8S8;A0AVT1-4;A0AVT1-3                                                                                                                                 \n",
       "      Majority.protein.IDs                \n",
       "RBM47 A0AV96-2;B7Z8Z7;A0AV96;D6R9D6;D6RBS9\n",
       "UBA6  A0AVT1;A0AVT1-2                     \n",
       "      Protein.names                               Gene.names\n",
       "RBM47 RNA-binding protein 47                      RBM47     \n",
       "UBA6  Ubiquitin-like modifier-activating enzyme 6 UBA6      \n",
       "      Fasta.headers                                                                                                                                                                                                                                                   \n",
       "RBM47 >sp|A0AV96-2|RBM47_HUMAN Isoform 2 of RNA-binding protein 47 OS=Homo sapiens GN=RBM47;>tr|B7Z8Z7|B7Z8Z7_HUMAN RNA-binding protein 47 OS=Homo sapiens GN=RBM47 PE=2 SV=1;>sp|A0AV96|RBM47_HUMAN RNA-binding protein 47 OS=Homo sapiens GN=RBM47 PE=1 SV=2;>tr|D6R\n",
       "UBA6  >sp|A0AVT1|UBA6_HUMAN Ubiquitin-like modifier-activating enzyme 6 OS=Homo sapiens GN=UBA6 PE=1 SV=1;>sp|A0AVT1-2|UBA6_HUMAN Isoform 2 of Ubiquitin-like modifier-activating enzyme 6 OS=Homo sapiens GN=UBA6                                                    \n",
       "      Peptides Razor...unique.peptides Unique.peptides Only.identified.by.site\n",
       "RBM47 7        7                       7                                      \n",
       "UBA6  6        6                       6                                      \n",
       "      Reverse Potential.contaminant name  ID      \n",
       "RBM47                               RBM47 A0AV96-2\n",
       "UBA6                                UBA6  A0AVT1  "
      ]
     },
     "metadata": {},
     "output_type": "display_data"
    }
   ],
   "source": [
    "head(as.data.frame(rowData(data_se)), 2)"
   ]
  },
  {
   "cell_type": "code",
   "execution_count": 35,
   "id": "b6d087db",
   "metadata": {},
   "outputs": [
    {
     "data": {
      "text/html": [
       "<table class=\"dataframe\">\n",
       "<caption>A data.frame: 12 × 4</caption>\n",
       "<thead>\n",
       "\t<tr><th></th><th scope=col>label</th><th scope=col>ID</th><th scope=col>condition</th><th scope=col>replicate</th></tr>\n",
       "\t<tr><th></th><th scope=col>&lt;chr&gt;</th><th scope=col>&lt;chr&gt;</th><th scope=col>&lt;chr&gt;</th><th scope=col>&lt;dbl&gt;</th></tr>\n",
       "</thead>\n",
       "<tbody>\n",
       "\t<tr><th scope=row>Ubi4_1</th><td>Ubi4_1</td><td>Ubi4_1</td><td>Ubi4</td><td>1</td></tr>\n",
       "\t<tr><th scope=row>Ubi4_2</th><td>Ubi4_2</td><td>Ubi4_2</td><td>Ubi4</td><td>2</td></tr>\n",
       "\t<tr><th scope=row>Ubi4_3</th><td>Ubi4_3</td><td>Ubi4_3</td><td>Ubi4</td><td>3</td></tr>\n",
       "\t<tr><th scope=row>Ubi6_1</th><td>Ubi6_1</td><td>Ubi6_1</td><td>Ubi6</td><td>1</td></tr>\n",
       "\t<tr><th scope=row>Ubi6_2</th><td>Ubi6_2</td><td>Ubi6_2</td><td>Ubi6</td><td>2</td></tr>\n",
       "\t<tr><th scope=row>Ubi6_3</th><td>Ubi6_3</td><td>Ubi6_3</td><td>Ubi6</td><td>3</td></tr>\n",
       "\t<tr><th scope=row>Ctrl_1</th><td>Ctrl_1</td><td>Ctrl_1</td><td>Ctrl</td><td>1</td></tr>\n",
       "\t<tr><th scope=row>Ctrl_2</th><td>Ctrl_2</td><td>Ctrl_2</td><td>Ctrl</td><td>2</td></tr>\n",
       "\t<tr><th scope=row>Ctrl_3</th><td>Ctrl_3</td><td>Ctrl_3</td><td>Ctrl</td><td>3</td></tr>\n",
       "\t<tr><th scope=row>Ubi1_1</th><td>Ubi1_1</td><td>Ubi1_1</td><td>Ubi1</td><td>1</td></tr>\n",
       "\t<tr><th scope=row>Ubi1_2</th><td>Ubi1_2</td><td>Ubi1_2</td><td>Ubi1</td><td>2</td></tr>\n",
       "\t<tr><th scope=row>Ubi1_3</th><td>Ubi1_3</td><td>Ubi1_3</td><td>Ubi1</td><td>3</td></tr>\n",
       "</tbody>\n",
       "</table>\n"
      ],
      "text/latex": [
       "A data.frame: 12 × 4\n",
       "\\begin{tabular}{r|llll}\n",
       "  & label & ID & condition & replicate\\\\\n",
       "  & <chr> & <chr> & <chr> & <dbl>\\\\\n",
       "\\hline\n",
       "\tUbi4\\_1 & Ubi4\\_1 & Ubi4\\_1 & Ubi4 & 1\\\\\n",
       "\tUbi4\\_2 & Ubi4\\_2 & Ubi4\\_2 & Ubi4 & 2\\\\\n",
       "\tUbi4\\_3 & Ubi4\\_3 & Ubi4\\_3 & Ubi4 & 3\\\\\n",
       "\tUbi6\\_1 & Ubi6\\_1 & Ubi6\\_1 & Ubi6 & 1\\\\\n",
       "\tUbi6\\_2 & Ubi6\\_2 & Ubi6\\_2 & Ubi6 & 2\\\\\n",
       "\tUbi6\\_3 & Ubi6\\_3 & Ubi6\\_3 & Ubi6 & 3\\\\\n",
       "\tCtrl\\_1 & Ctrl\\_1 & Ctrl\\_1 & Ctrl & 1\\\\\n",
       "\tCtrl\\_2 & Ctrl\\_2 & Ctrl\\_2 & Ctrl & 2\\\\\n",
       "\tCtrl\\_3 & Ctrl\\_3 & Ctrl\\_3 & Ctrl & 3\\\\\n",
       "\tUbi1\\_1 & Ubi1\\_1 & Ubi1\\_1 & Ubi1 & 1\\\\\n",
       "\tUbi1\\_2 & Ubi1\\_2 & Ubi1\\_2 & Ubi1 & 2\\\\\n",
       "\tUbi1\\_3 & Ubi1\\_3 & Ubi1\\_3 & Ubi1 & 3\\\\\n",
       "\\end{tabular}\n"
      ],
      "text/markdown": [
       "\n",
       "A data.frame: 12 × 4\n",
       "\n",
       "| <!--/--> | label &lt;chr&gt; | ID &lt;chr&gt; | condition &lt;chr&gt; | replicate &lt;dbl&gt; |\n",
       "|---|---|---|---|---|\n",
       "| Ubi4_1 | Ubi4_1 | Ubi4_1 | Ubi4 | 1 |\n",
       "| Ubi4_2 | Ubi4_2 | Ubi4_2 | Ubi4 | 2 |\n",
       "| Ubi4_3 | Ubi4_3 | Ubi4_3 | Ubi4 | 3 |\n",
       "| Ubi6_1 | Ubi6_1 | Ubi6_1 | Ubi6 | 1 |\n",
       "| Ubi6_2 | Ubi6_2 | Ubi6_2 | Ubi6 | 2 |\n",
       "| Ubi6_3 | Ubi6_3 | Ubi6_3 | Ubi6 | 3 |\n",
       "| Ctrl_1 | Ctrl_1 | Ctrl_1 | Ctrl | 1 |\n",
       "| Ctrl_2 | Ctrl_2 | Ctrl_2 | Ctrl | 2 |\n",
       "| Ctrl_3 | Ctrl_3 | Ctrl_3 | Ctrl | 3 |\n",
       "| Ubi1_1 | Ubi1_1 | Ubi1_1 | Ubi1 | 1 |\n",
       "| Ubi1_2 | Ubi1_2 | Ubi1_2 | Ubi1 | 2 |\n",
       "| Ubi1_3 | Ubi1_3 | Ubi1_3 | Ubi1 | 3 |\n",
       "\n"
      ],
      "text/plain": [
       "       label  ID     condition replicate\n",
       "Ubi4_1 Ubi4_1 Ubi4_1 Ubi4      1        \n",
       "Ubi4_2 Ubi4_2 Ubi4_2 Ubi4      2        \n",
       "Ubi4_3 Ubi4_3 Ubi4_3 Ubi4      3        \n",
       "Ubi6_1 Ubi6_1 Ubi6_1 Ubi6      1        \n",
       "Ubi6_2 Ubi6_2 Ubi6_2 Ubi6      2        \n",
       "Ubi6_3 Ubi6_3 Ubi6_3 Ubi6      3        \n",
       "Ctrl_1 Ctrl_1 Ctrl_1 Ctrl      1        \n",
       "Ctrl_2 Ctrl_2 Ctrl_2 Ctrl      2        \n",
       "Ctrl_3 Ctrl_3 Ctrl_3 Ctrl      3        \n",
       "Ubi1_1 Ubi1_1 Ubi1_1 Ubi1      1        \n",
       "Ubi1_2 Ubi1_2 Ubi1_2 Ubi1      2        \n",
       "Ubi1_3 Ubi1_3 Ubi1_3 Ubi1      3        "
      ]
     },
     "metadata": {},
     "output_type": "display_data"
    }
   ],
   "source": [
    "as.data.frame(colData(data_se))"
   ]
  }
 ],
 "metadata": {
  "kernelspec": {
   "display_name": "R",
   "language": "R",
   "name": "ir"
  },
  "language_info": {
   "codemirror_mode": "r",
   "file_extension": ".r",
   "mimetype": "text/x-r-source",
   "name": "R",
   "pygments_lexer": "r",
   "version": "4.1.2"
  }
 },
 "nbformat": 4,
 "nbformat_minor": 5
}
