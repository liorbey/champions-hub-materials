{
 "cells": [
  {
   "cell_type": "markdown",
   "id": "118c0412",
   "metadata": {},
   "source": [
    "- title: \"Differential Protein Expression\"\n",
    "- author: \"Margaret Paiva\"\n",
    "- author: \"Gilad Silberberg\"\n",
    "- date: \"2021/12/17\"\n",
    "- output: R notebook"
   ]
  },
  {
   "cell_type": "code",
   "execution_count": 10,
   "id": "4213d51f",
   "metadata": {},
   "outputs": [],
   "source": [
    "# cran packages\n",
    "x <- c('dplyr',\n",
    "       'data.table',\n",
    "       'tidyr',   \n",
    "       'tidyverse', \n",
    "       'ggplot2', \n",
    "       'viridis')\n",
    "# bioconductor packages\n",
    "y <- c('DEP')"
   ]
  },
  {
   "cell_type": "code",
   "execution_count": 12,
   "id": "21b58119",
   "metadata": {},
   "outputs": [],
   "source": [
    "# # install bioconductor packages\n",
    "# if (!requireNamespace(\"BiocManager\", quietly=TRUE))\n",
    "#     install.packages(\"BiocManager\")\n",
    "# BiocManager::install(y)"
   ]
  },
  {
   "cell_type": "code",
   "execution_count": 14,
   "id": "0aa4af72",
   "metadata": {},
   "outputs": [],
   "source": [
    "# # install cran packages\n",
    "# for (pkg in x) {\n",
    "#     if (!pkg %in% rownames(installed.packages())) {install.packages(pkg)}\n",
    "# }"
   ]
  },
  {
   "cell_type": "code",
   "execution_count": 15,
   "id": "3f8faeef",
   "metadata": {},
   "outputs": [],
   "source": [
    "# load packages\n",
    "load_lib <- function(x) {\n",
    "    suppressPackageStartupMessages(library(x, character.only = TRUE))\n",
    "}\n",
    "invisible(lapply(c(x, y), load_lib))"
   ]
  },
  {
   "cell_type": "markdown",
   "id": "63292a23",
   "metadata": {},
   "source": [
    "## Data"
   ]
  },
  {
   "cell_type": "code",
   "execution_count": 16,
   "id": "0a620845",
   "metadata": {},
   "outputs": [
    {
     "data": {
      "text/html": [
       "<table class=\"dataframe\">\n",
       "<caption>A data.frame: 2 × 23</caption>\n",
       "<thead>\n",
       "\t<tr><th></th><th scope=col>Protein.IDs</th><th scope=col>Majority.protein.IDs</th><th scope=col>Protein.names</th><th scope=col>Gene.names</th><th scope=col>Fasta.headers</th><th scope=col>Peptides</th><th scope=col>Razor...unique.peptides</th><th scope=col>Unique.peptides</th><th scope=col>LFQ.intensity.Ubi4_1</th><th scope=col>LFQ.intensity.Ubi4_2</th><th scope=col>...</th><th scope=col>LFQ.intensity.Ubi6_3</th><th scope=col>LFQ.intensity.Ctrl_1</th><th scope=col>LFQ.intensity.Ctrl_2</th><th scope=col>LFQ.intensity.Ctrl_3</th><th scope=col>LFQ.intensity.Ubi1_1</th><th scope=col>LFQ.intensity.Ubi1_2</th><th scope=col>LFQ.intensity.Ubi1_3</th><th scope=col>Only.identified.by.site</th><th scope=col>Reverse</th><th scope=col>Potential.contaminant</th></tr>\n",
       "\t<tr><th></th><th scope=col>&lt;chr&gt;</th><th scope=col>&lt;chr&gt;</th><th scope=col>&lt;chr&gt;</th><th scope=col>&lt;chr&gt;</th><th scope=col>&lt;chr&gt;</th><th scope=col>&lt;int&gt;</th><th scope=col>&lt;int&gt;</th><th scope=col>&lt;int&gt;</th><th scope=col>&lt;dbl&gt;</th><th scope=col>&lt;dbl&gt;</th><th scope=col>...</th><th scope=col>&lt;dbl&gt;</th><th scope=col>&lt;dbl&gt;</th><th scope=col>&lt;dbl&gt;</th><th scope=col>&lt;dbl&gt;</th><th scope=col>&lt;dbl&gt;</th><th scope=col>&lt;dbl&gt;</th><th scope=col>&lt;dbl&gt;</th><th scope=col>&lt;chr&gt;</th><th scope=col>&lt;chr&gt;</th><th scope=col>&lt;chr&gt;</th></tr>\n",
       "</thead>\n",
       "<tbody>\n",
       "\t<tr><th scope=row>1</th><td>A0AV96-2;B7Z8Z7;A0AV96;D6R9D6;D6RBS9;D6REZ6;D6R9M7;D6RCT1;D6RBP6;D6RA49;D6RFL5;Q5T0W7;Q8TBY0-2;Q8TBY0-3;Q9NQ94-5;Q8TBY0;Q9NQ94-6;Q9NQ94-3;Q9NQ94-2;F8W9F8;Q9NQ94-4;Q9NQ94</td><td>A0AV96-2;B7Z8Z7;A0AV96;D6R9D6;D6RBS9</td><td><span style=white-space:pre-wrap>RNA-binding protein 47                     </span></td><td>RBM47</td><td>&gt;sp|A0AV96-2|RBM47_HUMAN Isoform 2 of RNA-binding protein 47 OS=Homo sapiens GN=RBM47;&gt;tr|B7Z8Z7|B7Z8Z7_HUMAN RNA-binding protein 47 OS=Homo sapiens GN=RBM47 PE=2 SV=1;&gt;sp|A0AV96|RBM47_HUMAN RNA-binding protein 47 OS=Homo sapiens GN=RBM47 PE=1 SV=2;&gt;tr|D6R</td><td>7</td><td>7</td><td>7</td><td>35787000</td><td>24701000</td><td>...</td><td>32705000</td><td>25898000</td><td>31275000</td><td>23076000</td><td>27664000</td><td>32314000</td><td>31097000</td><td></td><td></td><td></td></tr>\n",
       "\t<tr><th scope=row>2</th><td><span style=white-space:pre-wrap>A0AVT1;A0AVT1-2;H0Y8S8;A0AVT1-4;A0AVT1-3                                                                                                                                 </span></td><td><span style=white-space:pre-wrap>A0AVT1;A0AVT1-2                     </span></td><td>Ubiquitin-like modifier-activating enzyme 6</td><td>UBA6 </td><td><span style=white-space:pre-wrap>&gt;sp|A0AVT1|UBA6_HUMAN Ubiquitin-like modifier-activating enzyme 6 OS=Homo sapiens GN=UBA6 PE=1 SV=1;&gt;sp|A0AVT1-2|UBA6_HUMAN Isoform 2 of Ubiquitin-like modifier-activating enzyme 6 OS=Homo sapiens GN=UBA6                                                    </span></td><td>6</td><td>6</td><td>6</td><td><span style=white-space:pre-wrap>       0</span></td><td><span style=white-space:pre-wrap>       0</span></td><td>...</td><td><span style=white-space:pre-wrap>       0</span></td><td> 7260800</td><td> 8612300</td><td> 7816000</td><td> 9907700</td><td>12387000</td><td> 9023800</td><td></td><td></td><td></td></tr>\n",
       "</tbody>\n",
       "</table>\n"
      ],
      "text/latex": [
       "A data.frame: 2 × 23\n",
       "\\begin{tabular}{r|lllllllllllllllllllll}\n",
       "  & Protein.IDs & Majority.protein.IDs & Protein.names & Gene.names & Fasta.headers & Peptides & Razor...unique.peptides & Unique.peptides & LFQ.intensity.Ubi4\\_1 & LFQ.intensity.Ubi4\\_2 & ... & LFQ.intensity.Ubi6\\_3 & LFQ.intensity.Ctrl\\_1 & LFQ.intensity.Ctrl\\_2 & LFQ.intensity.Ctrl\\_3 & LFQ.intensity.Ubi1\\_1 & LFQ.intensity.Ubi1\\_2 & LFQ.intensity.Ubi1\\_3 & Only.identified.by.site & Reverse & Potential.contaminant\\\\\n",
       "  & <chr> & <chr> & <chr> & <chr> & <chr> & <int> & <int> & <int> & <dbl> & <dbl> & ... & <dbl> & <dbl> & <dbl> & <dbl> & <dbl> & <dbl> & <dbl> & <chr> & <chr> & <chr>\\\\\n",
       "\\hline\n",
       "\t1 & A0AV96-2;B7Z8Z7;A0AV96;D6R9D6;D6RBS9;D6REZ6;D6R9M7;D6RCT1;D6RBP6;D6RA49;D6RFL5;Q5T0W7;Q8TBY0-2;Q8TBY0-3;Q9NQ94-5;Q8TBY0;Q9NQ94-6;Q9NQ94-3;Q9NQ94-2;F8W9F8;Q9NQ94-4;Q9NQ94 & A0AV96-2;B7Z8Z7;A0AV96;D6R9D6;D6RBS9 & RNA-binding protein 47                      & RBM47 & >sp\\textbar{}A0AV96-2\\textbar{}RBM47\\_HUMAN Isoform 2 of RNA-binding protein 47 OS=Homo sapiens GN=RBM47;>tr\\textbar{}B7Z8Z7\\textbar{}B7Z8Z7\\_HUMAN RNA-binding protein 47 OS=Homo sapiens GN=RBM47 PE=2 SV=1;>sp\\textbar{}A0AV96\\textbar{}RBM47\\_HUMAN RNA-binding protein 47 OS=Homo sapiens GN=RBM47 PE=1 SV=2;>tr\\textbar{}D6R & 7 & 7 & 7 & 35787000 & 24701000 & ... & 32705000 & 25898000 & 31275000 & 23076000 & 27664000 & 32314000 & 31097000 &  &  & \\\\\n",
       "\t2 & A0AVT1;A0AVT1-2;H0Y8S8;A0AVT1-4;A0AVT1-3                                                                                                                                  & A0AVT1;A0AVT1-2                      & Ubiquitin-like modifier-activating enzyme 6 & UBA6  & >sp\\textbar{}A0AVT1\\textbar{}UBA6\\_HUMAN Ubiquitin-like modifier-activating enzyme 6 OS=Homo sapiens GN=UBA6 PE=1 SV=1;>sp\\textbar{}A0AVT1-2\\textbar{}UBA6\\_HUMAN Isoform 2 of Ubiquitin-like modifier-activating enzyme 6 OS=Homo sapiens GN=UBA6                                                     & 6 & 6 & 6 &        0 &        0 & ... &        0 &  7260800 &  8612300 &  7816000 &  9907700 & 12387000 &  9023800 &  &  & \\\\\n",
       "\\end{tabular}\n"
      ],
      "text/markdown": [
       "\n",
       "A data.frame: 2 × 23\n",
       "\n",
       "| <!--/--> | Protein.IDs &lt;chr&gt; | Majority.protein.IDs &lt;chr&gt; | Protein.names &lt;chr&gt; | Gene.names &lt;chr&gt; | Fasta.headers &lt;chr&gt; | Peptides &lt;int&gt; | Razor...unique.peptides &lt;int&gt; | Unique.peptides &lt;int&gt; | LFQ.intensity.Ubi4_1 &lt;dbl&gt; | LFQ.intensity.Ubi4_2 &lt;dbl&gt; | ... ... | LFQ.intensity.Ubi6_3 &lt;dbl&gt; | LFQ.intensity.Ctrl_1 &lt;dbl&gt; | LFQ.intensity.Ctrl_2 &lt;dbl&gt; | LFQ.intensity.Ctrl_3 &lt;dbl&gt; | LFQ.intensity.Ubi1_1 &lt;dbl&gt; | LFQ.intensity.Ubi1_2 &lt;dbl&gt; | LFQ.intensity.Ubi1_3 &lt;dbl&gt; | Only.identified.by.site &lt;chr&gt; | Reverse &lt;chr&gt; | Potential.contaminant &lt;chr&gt; |\n",
       "|---|---|---|---|---|---|---|---|---|---|---|---|---|---|---|---|---|---|---|---|---|---|\n",
       "| 1 | A0AV96-2;B7Z8Z7;A0AV96;D6R9D6;D6RBS9;D6REZ6;D6R9M7;D6RCT1;D6RBP6;D6RA49;D6RFL5;Q5T0W7;Q8TBY0-2;Q8TBY0-3;Q9NQ94-5;Q8TBY0;Q9NQ94-6;Q9NQ94-3;Q9NQ94-2;F8W9F8;Q9NQ94-4;Q9NQ94 | A0AV96-2;B7Z8Z7;A0AV96;D6R9D6;D6RBS9 | RNA-binding protein 47                      | RBM47 | &gt;sp|A0AV96-2|RBM47_HUMAN Isoform 2 of RNA-binding protein 47 OS=Homo sapiens GN=RBM47;&gt;tr|B7Z8Z7|B7Z8Z7_HUMAN RNA-binding protein 47 OS=Homo sapiens GN=RBM47 PE=2 SV=1;&gt;sp|A0AV96|RBM47_HUMAN RNA-binding protein 47 OS=Homo sapiens GN=RBM47 PE=1 SV=2;&gt;tr|D6R | 7 | 7 | 7 | 35787000 | 24701000 | ... | 32705000 | 25898000 | 31275000 | 23076000 | 27664000 | 32314000 | 31097000 | <!----> | <!----> | <!----> |\n",
       "| 2 | A0AVT1;A0AVT1-2;H0Y8S8;A0AVT1-4;A0AVT1-3                                                                                                                                  | A0AVT1;A0AVT1-2                      | Ubiquitin-like modifier-activating enzyme 6 | UBA6  | &gt;sp|A0AVT1|UBA6_HUMAN Ubiquitin-like modifier-activating enzyme 6 OS=Homo sapiens GN=UBA6 PE=1 SV=1;&gt;sp|A0AVT1-2|UBA6_HUMAN Isoform 2 of Ubiquitin-like modifier-activating enzyme 6 OS=Homo sapiens GN=UBA6                                                     | 6 | 6 | 6 |        0 |        0 | ... |        0 |  7260800 |  8612300 |  7816000 |  9907700 | 12387000 |  9023800 | <!----> | <!----> | <!----> |\n",
       "\n"
      ],
      "text/plain": [
       "  Protein.IDs                                                                                                                                                              \n",
       "1 A0AV96-2;B7Z8Z7;A0AV96;D6R9D6;D6RBS9;D6REZ6;D6R9M7;D6RCT1;D6RBP6;D6RA49;D6RFL5;Q5T0W7;Q8TBY0-2;Q8TBY0-3;Q9NQ94-5;Q8TBY0;Q9NQ94-6;Q9NQ94-3;Q9NQ94-2;F8W9F8;Q9NQ94-4;Q9NQ94\n",
       "2 A0AVT1;A0AVT1-2;H0Y8S8;A0AVT1-4;A0AVT1-3                                                                                                                                 \n",
       "  Majority.protein.IDs                \n",
       "1 A0AV96-2;B7Z8Z7;A0AV96;D6R9D6;D6RBS9\n",
       "2 A0AVT1;A0AVT1-2                     \n",
       "  Protein.names                               Gene.names\n",
       "1 RNA-binding protein 47                      RBM47     \n",
       "2 Ubiquitin-like modifier-activating enzyme 6 UBA6      \n",
       "  Fasta.headers                                                                                                                                                                                                                                                   \n",
       "1 >sp|A0AV96-2|RBM47_HUMAN Isoform 2 of RNA-binding protein 47 OS=Homo sapiens GN=RBM47;>tr|B7Z8Z7|B7Z8Z7_HUMAN RNA-binding protein 47 OS=Homo sapiens GN=RBM47 PE=2 SV=1;>sp|A0AV96|RBM47_HUMAN RNA-binding protein 47 OS=Homo sapiens GN=RBM47 PE=1 SV=2;>tr|D6R\n",
       "2 >sp|A0AVT1|UBA6_HUMAN Ubiquitin-like modifier-activating enzyme 6 OS=Homo sapiens GN=UBA6 PE=1 SV=1;>sp|A0AVT1-2|UBA6_HUMAN Isoform 2 of Ubiquitin-like modifier-activating enzyme 6 OS=Homo sapiens GN=UBA6                                                    \n",
       "  Peptides Razor...unique.peptides Unique.peptides LFQ.intensity.Ubi4_1\n",
       "1 7        7                       7               35787000            \n",
       "2 6        6                       6                      0            \n",
       "  LFQ.intensity.Ubi4_2 ... LFQ.intensity.Ubi6_3 LFQ.intensity.Ctrl_1\n",
       "1 24701000             ... 32705000             25898000            \n",
       "2        0             ...        0              7260800            \n",
       "  LFQ.intensity.Ctrl_2 LFQ.intensity.Ctrl_3 LFQ.intensity.Ubi1_1\n",
       "1 31275000             23076000             27664000            \n",
       "2  8612300              7816000              9907700            \n",
       "  LFQ.intensity.Ubi1_2 LFQ.intensity.Ubi1_3 Only.identified.by.site Reverse\n",
       "1 32314000             31097000                                            \n",
       "2 12387000              9023800                                            \n",
       "  Potential.contaminant\n",
       "1                      \n",
       "2                      "
      ]
     },
     "metadata": {},
     "output_type": "display_data"
    }
   ],
   "source": [
    "data <- UbiLength\n",
    "# We filter for contaminant proteins and decoy database hits, \n",
    "# which are indicated by \"+\" in the columns \"Potential.contaminants\" and \"Reverse\", respectively. \n",
    "data <- filter(data, Reverse != \"+\", Potential.contaminant != \"+\")\n",
    "head(data, 2)"
   ]
  },
  {
   "cell_type": "code",
   "execution_count": 17,
   "id": "3768b20c",
   "metadata": {},
   "outputs": [
    {
     "data": {
      "text/html": [
       "<table class=\"dataframe\">\n",
       "<caption>A data.frame: 2 × 25</caption>\n",
       "<thead>\n",
       "\t<tr><th></th><th scope=col>Protein.IDs</th><th scope=col>Majority.protein.IDs</th><th scope=col>Protein.names</th><th scope=col>Gene.names</th><th scope=col>Fasta.headers</th><th scope=col>Peptides</th><th scope=col>Razor...unique.peptides</th><th scope=col>Unique.peptides</th><th scope=col>LFQ.intensity.Ubi4_1</th><th scope=col>LFQ.intensity.Ubi4_2</th><th scope=col>...</th><th scope=col>LFQ.intensity.Ctrl_2</th><th scope=col>LFQ.intensity.Ctrl_3</th><th scope=col>LFQ.intensity.Ubi1_1</th><th scope=col>LFQ.intensity.Ubi1_2</th><th scope=col>LFQ.intensity.Ubi1_3</th><th scope=col>Only.identified.by.site</th><th scope=col>Reverse</th><th scope=col>Potential.contaminant</th><th scope=col>name</th><th scope=col>ID</th></tr>\n",
       "\t<tr><th></th><th scope=col>&lt;chr&gt;</th><th scope=col>&lt;chr&gt;</th><th scope=col>&lt;chr&gt;</th><th scope=col>&lt;chr&gt;</th><th scope=col>&lt;chr&gt;</th><th scope=col>&lt;int&gt;</th><th scope=col>&lt;int&gt;</th><th scope=col>&lt;int&gt;</th><th scope=col>&lt;dbl&gt;</th><th scope=col>&lt;dbl&gt;</th><th scope=col>...</th><th scope=col>&lt;dbl&gt;</th><th scope=col>&lt;dbl&gt;</th><th scope=col>&lt;dbl&gt;</th><th scope=col>&lt;dbl&gt;</th><th scope=col>&lt;dbl&gt;</th><th scope=col>&lt;chr&gt;</th><th scope=col>&lt;chr&gt;</th><th scope=col>&lt;chr&gt;</th><th scope=col>&lt;chr&gt;</th><th scope=col>&lt;chr&gt;</th></tr>\n",
       "</thead>\n",
       "<tbody>\n",
       "\t<tr><th scope=row>1</th><td>A0AV96-2;B7Z8Z7;A0AV96;D6R9D6;D6RBS9;D6REZ6;D6R9M7;D6RCT1;D6RBP6;D6RA49;D6RFL5;Q5T0W7;Q8TBY0-2;Q8TBY0-3;Q9NQ94-5;Q8TBY0;Q9NQ94-6;Q9NQ94-3;Q9NQ94-2;F8W9F8;Q9NQ94-4;Q9NQ94</td><td>A0AV96-2;B7Z8Z7;A0AV96;D6R9D6;D6RBS9</td><td><span style=white-space:pre-wrap>RNA-binding protein 47                     </span></td><td>RBM47</td><td>&gt;sp|A0AV96-2|RBM47_HUMAN Isoform 2 of RNA-binding protein 47 OS=Homo sapiens GN=RBM47;&gt;tr|B7Z8Z7|B7Z8Z7_HUMAN RNA-binding protein 47 OS=Homo sapiens GN=RBM47 PE=2 SV=1;&gt;sp|A0AV96|RBM47_HUMAN RNA-binding protein 47 OS=Homo sapiens GN=RBM47 PE=1 SV=2;&gt;tr|D6R</td><td>7</td><td>7</td><td>7</td><td>35787000</td><td>24701000</td><td>...</td><td>31275000</td><td>23076000</td><td>27664000</td><td>32314000</td><td>31097000</td><td></td><td></td><td></td><td>RBM47</td><td>A0AV96-2</td></tr>\n",
       "\t<tr><th scope=row>2</th><td><span style=white-space:pre-wrap>A0AVT1;A0AVT1-2;H0Y8S8;A0AVT1-4;A0AVT1-3                                                                                                                                 </span></td><td><span style=white-space:pre-wrap>A0AVT1;A0AVT1-2                     </span></td><td>Ubiquitin-like modifier-activating enzyme 6</td><td>UBA6 </td><td><span style=white-space:pre-wrap>&gt;sp|A0AVT1|UBA6_HUMAN Ubiquitin-like modifier-activating enzyme 6 OS=Homo sapiens GN=UBA6 PE=1 SV=1;&gt;sp|A0AVT1-2|UBA6_HUMAN Isoform 2 of Ubiquitin-like modifier-activating enzyme 6 OS=Homo sapiens GN=UBA6                                                    </span></td><td>6</td><td>6</td><td>6</td><td><span style=white-space:pre-wrap>       0</span></td><td><span style=white-space:pre-wrap>       0</span></td><td>...</td><td> 8612300</td><td> 7816000</td><td> 9907700</td><td>12387000</td><td> 9023800</td><td></td><td></td><td></td><td>UBA6 </td><td><span style=white-space:pre-wrap>A0AVT1  </span></td></tr>\n",
       "</tbody>\n",
       "</table>\n"
      ],
      "text/latex": [
       "A data.frame: 2 × 25\n",
       "\\begin{tabular}{r|lllllllllllllllllllll}\n",
       "  & Protein.IDs & Majority.protein.IDs & Protein.names & Gene.names & Fasta.headers & Peptides & Razor...unique.peptides & Unique.peptides & LFQ.intensity.Ubi4\\_1 & LFQ.intensity.Ubi4\\_2 & ... & LFQ.intensity.Ctrl\\_2 & LFQ.intensity.Ctrl\\_3 & LFQ.intensity.Ubi1\\_1 & LFQ.intensity.Ubi1\\_2 & LFQ.intensity.Ubi1\\_3 & Only.identified.by.site & Reverse & Potential.contaminant & name & ID\\\\\n",
       "  & <chr> & <chr> & <chr> & <chr> & <chr> & <int> & <int> & <int> & <dbl> & <dbl> & ... & <dbl> & <dbl> & <dbl> & <dbl> & <dbl> & <chr> & <chr> & <chr> & <chr> & <chr>\\\\\n",
       "\\hline\n",
       "\t1 & A0AV96-2;B7Z8Z7;A0AV96;D6R9D6;D6RBS9;D6REZ6;D6R9M7;D6RCT1;D6RBP6;D6RA49;D6RFL5;Q5T0W7;Q8TBY0-2;Q8TBY0-3;Q9NQ94-5;Q8TBY0;Q9NQ94-6;Q9NQ94-3;Q9NQ94-2;F8W9F8;Q9NQ94-4;Q9NQ94 & A0AV96-2;B7Z8Z7;A0AV96;D6R9D6;D6RBS9 & RNA-binding protein 47                      & RBM47 & >sp\\textbar{}A0AV96-2\\textbar{}RBM47\\_HUMAN Isoform 2 of RNA-binding protein 47 OS=Homo sapiens GN=RBM47;>tr\\textbar{}B7Z8Z7\\textbar{}B7Z8Z7\\_HUMAN RNA-binding protein 47 OS=Homo sapiens GN=RBM47 PE=2 SV=1;>sp\\textbar{}A0AV96\\textbar{}RBM47\\_HUMAN RNA-binding protein 47 OS=Homo sapiens GN=RBM47 PE=1 SV=2;>tr\\textbar{}D6R & 7 & 7 & 7 & 35787000 & 24701000 & ... & 31275000 & 23076000 & 27664000 & 32314000 & 31097000 &  &  &  & RBM47 & A0AV96-2\\\\\n",
       "\t2 & A0AVT1;A0AVT1-2;H0Y8S8;A0AVT1-4;A0AVT1-3                                                                                                                                  & A0AVT1;A0AVT1-2                      & Ubiquitin-like modifier-activating enzyme 6 & UBA6  & >sp\\textbar{}A0AVT1\\textbar{}UBA6\\_HUMAN Ubiquitin-like modifier-activating enzyme 6 OS=Homo sapiens GN=UBA6 PE=1 SV=1;>sp\\textbar{}A0AVT1-2\\textbar{}UBA6\\_HUMAN Isoform 2 of Ubiquitin-like modifier-activating enzyme 6 OS=Homo sapiens GN=UBA6                                                     & 6 & 6 & 6 &        0 &        0 & ... &  8612300 &  7816000 &  9907700 & 12387000 &  9023800 &  &  &  & UBA6  & A0AVT1  \\\\\n",
       "\\end{tabular}\n"
      ],
      "text/markdown": [
       "\n",
       "A data.frame: 2 × 25\n",
       "\n",
       "| <!--/--> | Protein.IDs &lt;chr&gt; | Majority.protein.IDs &lt;chr&gt; | Protein.names &lt;chr&gt; | Gene.names &lt;chr&gt; | Fasta.headers &lt;chr&gt; | Peptides &lt;int&gt; | Razor...unique.peptides &lt;int&gt; | Unique.peptides &lt;int&gt; | LFQ.intensity.Ubi4_1 &lt;dbl&gt; | LFQ.intensity.Ubi4_2 &lt;dbl&gt; | ... ... | LFQ.intensity.Ctrl_2 &lt;dbl&gt; | LFQ.intensity.Ctrl_3 &lt;dbl&gt; | LFQ.intensity.Ubi1_1 &lt;dbl&gt; | LFQ.intensity.Ubi1_2 &lt;dbl&gt; | LFQ.intensity.Ubi1_3 &lt;dbl&gt; | Only.identified.by.site &lt;chr&gt; | Reverse &lt;chr&gt; | Potential.contaminant &lt;chr&gt; | name &lt;chr&gt; | ID &lt;chr&gt; |\n",
       "|---|---|---|---|---|---|---|---|---|---|---|---|---|---|---|---|---|---|---|---|---|---|\n",
       "| 1 | A0AV96-2;B7Z8Z7;A0AV96;D6R9D6;D6RBS9;D6REZ6;D6R9M7;D6RCT1;D6RBP6;D6RA49;D6RFL5;Q5T0W7;Q8TBY0-2;Q8TBY0-3;Q9NQ94-5;Q8TBY0;Q9NQ94-6;Q9NQ94-3;Q9NQ94-2;F8W9F8;Q9NQ94-4;Q9NQ94 | A0AV96-2;B7Z8Z7;A0AV96;D6R9D6;D6RBS9 | RNA-binding protein 47                      | RBM47 | &gt;sp|A0AV96-2|RBM47_HUMAN Isoform 2 of RNA-binding protein 47 OS=Homo sapiens GN=RBM47;&gt;tr|B7Z8Z7|B7Z8Z7_HUMAN RNA-binding protein 47 OS=Homo sapiens GN=RBM47 PE=2 SV=1;&gt;sp|A0AV96|RBM47_HUMAN RNA-binding protein 47 OS=Homo sapiens GN=RBM47 PE=1 SV=2;&gt;tr|D6R | 7 | 7 | 7 | 35787000 | 24701000 | ... | 31275000 | 23076000 | 27664000 | 32314000 | 31097000 | <!----> | <!----> | <!----> | RBM47 | A0AV96-2 |\n",
       "| 2 | A0AVT1;A0AVT1-2;H0Y8S8;A0AVT1-4;A0AVT1-3                                                                                                                                  | A0AVT1;A0AVT1-2                      | Ubiquitin-like modifier-activating enzyme 6 | UBA6  | &gt;sp|A0AVT1|UBA6_HUMAN Ubiquitin-like modifier-activating enzyme 6 OS=Homo sapiens GN=UBA6 PE=1 SV=1;&gt;sp|A0AVT1-2|UBA6_HUMAN Isoform 2 of Ubiquitin-like modifier-activating enzyme 6 OS=Homo sapiens GN=UBA6                                                     | 6 | 6 | 6 |        0 |        0 | ... |  8612300 |  7816000 |  9907700 | 12387000 |  9023800 | <!----> | <!----> | <!----> | UBA6  | A0AVT1   |\n",
       "\n"
      ],
      "text/plain": [
       "  Protein.IDs                                                                                                                                                              \n",
       "1 A0AV96-2;B7Z8Z7;A0AV96;D6R9D6;D6RBS9;D6REZ6;D6R9M7;D6RCT1;D6RBP6;D6RA49;D6RFL5;Q5T0W7;Q8TBY0-2;Q8TBY0-3;Q9NQ94-5;Q8TBY0;Q9NQ94-6;Q9NQ94-3;Q9NQ94-2;F8W9F8;Q9NQ94-4;Q9NQ94\n",
       "2 A0AVT1;A0AVT1-2;H0Y8S8;A0AVT1-4;A0AVT1-3                                                                                                                                 \n",
       "  Majority.protein.IDs                \n",
       "1 A0AV96-2;B7Z8Z7;A0AV96;D6R9D6;D6RBS9\n",
       "2 A0AVT1;A0AVT1-2                     \n",
       "  Protein.names                               Gene.names\n",
       "1 RNA-binding protein 47                      RBM47     \n",
       "2 Ubiquitin-like modifier-activating enzyme 6 UBA6      \n",
       "  Fasta.headers                                                                                                                                                                                                                                                   \n",
       "1 >sp|A0AV96-2|RBM47_HUMAN Isoform 2 of RNA-binding protein 47 OS=Homo sapiens GN=RBM47;>tr|B7Z8Z7|B7Z8Z7_HUMAN RNA-binding protein 47 OS=Homo sapiens GN=RBM47 PE=2 SV=1;>sp|A0AV96|RBM47_HUMAN RNA-binding protein 47 OS=Homo sapiens GN=RBM47 PE=1 SV=2;>tr|D6R\n",
       "2 >sp|A0AVT1|UBA6_HUMAN Ubiquitin-like modifier-activating enzyme 6 OS=Homo sapiens GN=UBA6 PE=1 SV=1;>sp|A0AVT1-2|UBA6_HUMAN Isoform 2 of Ubiquitin-like modifier-activating enzyme 6 OS=Homo sapiens GN=UBA6                                                    \n",
       "  Peptides Razor...unique.peptides Unique.peptides LFQ.intensity.Ubi4_1\n",
       "1 7        7                       7               35787000            \n",
       "2 6        6                       6                      0            \n",
       "  LFQ.intensity.Ubi4_2 ... LFQ.intensity.Ctrl_2 LFQ.intensity.Ctrl_3\n",
       "1 24701000             ... 31275000             23076000            \n",
       "2        0             ...  8612300              7816000            \n",
       "  LFQ.intensity.Ubi1_1 LFQ.intensity.Ubi1_2 LFQ.intensity.Ubi1_3\n",
       "1 27664000             32314000             31097000            \n",
       "2  9907700             12387000              9023800            \n",
       "  Only.identified.by.site Reverse Potential.contaminant name  ID      \n",
       "1                                                       RBM47 A0AV96-2\n",
       "2                                                       UBA6  A0AVT1  "
      ]
     },
     "metadata": {},
     "output_type": "display_data"
    }
   ],
   "source": [
    "# Make unique names using the annotation in the \"Gene.names\" column \n",
    "# as primary names and the annotation in \"Protein.IDs\" as name \n",
    "# for those that do not have an gene name.\n",
    "data_unique <- make_unique(data, \"Gene.names\", \"Protein.IDs\", delim = \";\")\n",
    "head(data_unique, 2)"
   ]
  }
 ],
 "metadata": {
  "kernelspec": {
   "display_name": "R",
   "language": "R",
   "name": "ir"
  },
  "language_info": {
   "codemirror_mode": "r",
   "file_extension": ".r",
   "mimetype": "text/x-r-source",
   "name": "R",
   "pygments_lexer": "r",
   "version": "4.1.2"
  }
 },
 "nbformat": 4,
 "nbformat_minor": 5
}
